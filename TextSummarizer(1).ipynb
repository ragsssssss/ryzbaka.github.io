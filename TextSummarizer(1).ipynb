{
  "nbformat": 4,
  "nbformat_minor": 0,
  "metadata": {
    "colab": {
      "name": "TextSummarizer.ipynb",
      "provenance": [],
      "collapsed_sections": []
    },
    "kernelspec": {
      "name": "python3",
      "display_name": "Python 3"
    },
    "accelerator": "GPU"
  },
  "cells": [
    {
      "cell_type": "code",
      "metadata": {
        "id": "zP_9T05t4S_Z",
        "colab_type": "code",
        "colab": {}
      },
      "source": [
        "from pandas import read_csv\n",
        "import numpy as np"
      ],
      "execution_count": 0,
      "outputs": []
    },
    {
      "cell_type": "code",
      "metadata": {
        "id": "0Z8Ut9LJMGyH",
        "colab_type": "code",
        "colab": {
          "base_uri": "https://localhost:8080/",
          "height": 35
        },
        "outputId": "a2e877a9-3d79-43b3-9c9b-2f2c00154bec"
      },
      "source": [
        "from tensorflow.test import gpu_device_name\n",
        "gpu_device_name()"
      ],
      "execution_count": 3,
      "outputs": [
        {
          "output_type": "execute_result",
          "data": {
            "text/plain": [
              "'/device:GPU:0'"
            ]
          },
          "metadata": {
            "tags": []
          },
          "execution_count": 3
        }
      ]
    },
    {
      "cell_type": "code",
      "metadata": {
        "id": "pGiCyNRc4Zzt",
        "colab_type": "code",
        "colab": {}
      },
      "source": [
        "oo=read_csv('FINALFINALREVIEW.csv')"
      ],
      "execution_count": 0,
      "outputs": []
    },
    {
      "cell_type": "code",
      "metadata": {
        "id": "qHMsbzjz-0GZ",
        "colab_type": "code",
        "colab": {
          "base_uri": "https://localhost:8080/",
          "height": 206
        },
        "outputId": "1f3598d0-8218-4ddb-af16-a8ef74d06ab4"
      },
      "source": [
        "oo.head()"
      ],
      "execution_count": 5,
      "outputs": [
        {
          "output_type": "execute_result",
          "data": {
            "text/html": [
              "<div>\n",
              "<style scoped>\n",
              "    .dataframe tbody tr th:only-of-type {\n",
              "        vertical-align: middle;\n",
              "    }\n",
              "\n",
              "    .dataframe tbody tr th {\n",
              "        vertical-align: top;\n",
              "    }\n",
              "\n",
              "    .dataframe thead th {\n",
              "        text-align: right;\n",
              "    }\n",
              "</style>\n",
              "<table border=\"1\" class=\"dataframe\">\n",
              "  <thead>\n",
              "    <tr style=\"text-align: right;\">\n",
              "      <th></th>\n",
              "      <th>Unnamed: 0</th>\n",
              "      <th>Summary</th>\n",
              "      <th>Text</th>\n",
              "    </tr>\n",
              "  </thead>\n",
              "  <tbody>\n",
              "    <tr>\n",
              "      <th>0</th>\n",
              "      <td>0</td>\n",
              "      <td>&lt;alpha&gt; good quality dog food &lt;omega&gt;</td>\n",
              "      <td>i have bought several of the vitality canned d...</td>\n",
              "    </tr>\n",
              "    <tr>\n",
              "      <th>1</th>\n",
              "      <td>1</td>\n",
              "      <td>&lt;alpha&gt; not as advertised &lt;omega&gt;</td>\n",
              "      <td>product arrived labeled as jumbo salted peanut...</td>\n",
              "    </tr>\n",
              "    <tr>\n",
              "      <th>2</th>\n",
              "      <td>2</td>\n",
              "      <td>&lt;alpha&gt; delight says it all &lt;omega&gt;</td>\n",
              "      <td>this is a confection that has been around a fe...</td>\n",
              "    </tr>\n",
              "    <tr>\n",
              "      <th>3</th>\n",
              "      <td>3</td>\n",
              "      <td>&lt;alpha&gt; cough medicine &lt;omega&gt;</td>\n",
              "      <td>if you are looking for the secret ingredient i...</td>\n",
              "    </tr>\n",
              "    <tr>\n",
              "      <th>4</th>\n",
              "      <td>4</td>\n",
              "      <td>&lt;alpha&gt; great taffy &lt;omega&gt;</td>\n",
              "      <td>great taffy at a great price there was a wide ...</td>\n",
              "    </tr>\n",
              "  </tbody>\n",
              "</table>\n",
              "</div>"
            ],
            "text/plain": [
              "   Unnamed: 0  ...                                               Text\n",
              "0           0  ...  i have bought several of the vitality canned d...\n",
              "1           1  ...  product arrived labeled as jumbo salted peanut...\n",
              "2           2  ...  this is a confection that has been around a fe...\n",
              "3           3  ...  if you are looking for the secret ingredient i...\n",
              "4           4  ...  great taffy at a great price there was a wide ...\n",
              "\n",
              "[5 rows x 3 columns]"
            ]
          },
          "metadata": {
            "tags": []
          },
          "execution_count": 5
        }
      ]
    },
    {
      "cell_type": "code",
      "metadata": {
        "id": "FaSUH2yZ-1KP",
        "colab_type": "code",
        "colab": {}
      },
      "source": [
        "oo=oo.drop(labels=['Unnamed: 0'],axis=1)"
      ],
      "execution_count": 0,
      "outputs": []
    },
    {
      "cell_type": "code",
      "metadata": {
        "id": "Wo-8s0Yx_BxP",
        "colab_type": "code",
        "colab": {
          "base_uri": "https://localhost:8080/",
          "height": 206
        },
        "outputId": "b2516cf4-3871-4348-93e5-eaa2727becae"
      },
      "source": [
        "oo.head()"
      ],
      "execution_count": 7,
      "outputs": [
        {
          "output_type": "execute_result",
          "data": {
            "text/html": [
              "<div>\n",
              "<style scoped>\n",
              "    .dataframe tbody tr th:only-of-type {\n",
              "        vertical-align: middle;\n",
              "    }\n",
              "\n",
              "    .dataframe tbody tr th {\n",
              "        vertical-align: top;\n",
              "    }\n",
              "\n",
              "    .dataframe thead th {\n",
              "        text-align: right;\n",
              "    }\n",
              "</style>\n",
              "<table border=\"1\" class=\"dataframe\">\n",
              "  <thead>\n",
              "    <tr style=\"text-align: right;\">\n",
              "      <th></th>\n",
              "      <th>Summary</th>\n",
              "      <th>Text</th>\n",
              "    </tr>\n",
              "  </thead>\n",
              "  <tbody>\n",
              "    <tr>\n",
              "      <th>0</th>\n",
              "      <td>&lt;alpha&gt; good quality dog food &lt;omega&gt;</td>\n",
              "      <td>i have bought several of the vitality canned d...</td>\n",
              "    </tr>\n",
              "    <tr>\n",
              "      <th>1</th>\n",
              "      <td>&lt;alpha&gt; not as advertised &lt;omega&gt;</td>\n",
              "      <td>product arrived labeled as jumbo salted peanut...</td>\n",
              "    </tr>\n",
              "    <tr>\n",
              "      <th>2</th>\n",
              "      <td>&lt;alpha&gt; delight says it all &lt;omega&gt;</td>\n",
              "      <td>this is a confection that has been around a fe...</td>\n",
              "    </tr>\n",
              "    <tr>\n",
              "      <th>3</th>\n",
              "      <td>&lt;alpha&gt; cough medicine &lt;omega&gt;</td>\n",
              "      <td>if you are looking for the secret ingredient i...</td>\n",
              "    </tr>\n",
              "    <tr>\n",
              "      <th>4</th>\n",
              "      <td>&lt;alpha&gt; great taffy &lt;omega&gt;</td>\n",
              "      <td>great taffy at a great price there was a wide ...</td>\n",
              "    </tr>\n",
              "  </tbody>\n",
              "</table>\n",
              "</div>"
            ],
            "text/plain": [
              "                                 Summary                                               Text\n",
              "0  <alpha> good quality dog food <omega>  i have bought several of the vitality canned d...\n",
              "1      <alpha> not as advertised <omega>  product arrived labeled as jumbo salted peanut...\n",
              "2    <alpha> delight says it all <omega>  this is a confection that has been around a fe...\n",
              "3         <alpha> cough medicine <omega>  if you are looking for the secret ingredient i...\n",
              "4            <alpha> great taffy <omega>  great taffy at a great price there was a wide ..."
            ]
          },
          "metadata": {
            "tags": []
          },
          "execution_count": 7
        }
      ]
    },
    {
      "cell_type": "code",
      "metadata": {
        "id": "06SgSWLqL4lb",
        "colab_type": "code",
        "colab": {}
      },
      "source": [
        "oo.Summary=oo.Summary.apply(lambda x: str(x))\n",
        "oo.Text=oo.Text.apply(lambda x: str(x))"
      ],
      "execution_count": 0,
      "outputs": []
    },
    {
      "cell_type": "code",
      "metadata": {
        "id": "4nlrb9VqBdmV",
        "colab_type": "code",
        "colab": {}
      },
      "source": [
        "oo['text_length']=oo.Text.apply(lambda x: len(x))"
      ],
      "execution_count": 0,
      "outputs": []
    },
    {
      "cell_type": "code",
      "metadata": {
        "id": "V_P5GWOjBjfH",
        "colab_type": "code",
        "colab": {
          "base_uri": "https://localhost:8080/",
          "height": 355
        },
        "outputId": "fdec3bd9-adb5-44f7-a734-b5fec21b3f77"
      },
      "source": [
        "import seaborn as sns\n",
        "sns.distplot(oo[oo.text_length<=500].text_length)"
      ],
      "execution_count": 10,
      "outputs": [
        {
          "output_type": "stream",
          "text": [
            "/usr/local/lib/python3.6/dist-packages/statsmodels/tools/_testing.py:19: FutureWarning: pandas.util.testing is deprecated. Use the functions in the public API at pandas.testing instead.\n",
            "  import pandas.util.testing as tm\n"
          ],
          "name": "stderr"
        },
        {
          "output_type": "execute_result",
          "data": {
            "text/plain": [
              "<matplotlib.axes._subplots.AxesSubplot at 0x7f7c119a66a0>"
            ]
          },
          "metadata": {
            "tags": []
          },
          "execution_count": 10
        },
        {
          "output_type": "display_data",
          "data": {
            "image/png": "[encoded data removed]",
            "text/plain": [
              "<Figure size 432x288 with 1 Axes>"
            ]
          },
          "metadata": {
            "tags": [],
            "needs_background": "light"
          }
        }
      ]
    },
    {
      "cell_type": "code",
      "metadata": {
        "id": "sRfWSm2KMW6g",
        "colab_type": "code",
        "colab": {}
      },
      "source": [
        "oo=oo[oo.text_length<=500]"
      ],
      "execution_count": 0,
      "outputs": []
    },
    {
      "cell_type": "code",
      "metadata": {
        "id": "3LEjE6ooCgoK",
        "colab_type": "code",
        "colab": {
          "base_uri": "https://localhost:8080/",
          "height": 206
        },
        "outputId": "ba49b2d0-7420-4dc4-c109-1fbc4d82cc9b"
      },
      "source": [
        "oo.head()"
      ],
      "execution_count": 12,
      "outputs": [
        {
          "output_type": "execute_result",
          "data": {
            "text/html": [
              "<div>\n",
              "<style scoped>\n",
              "    .dataframe tbody tr th:only-of-type {\n",
              "        vertical-align: middle;\n",
              "    }\n",
              "\n",
              "    .dataframe tbody tr th {\n",
              "        vertical-align: top;\n",
              "    }\n",
              "\n",
              "    .dataframe thead th {\n",
              "        text-align: right;\n",
              "    }\n",
              "</style>\n",
              "<table border=\"1\" class=\"dataframe\">\n",
              "  <thead>\n",
              "    <tr style=\"text-align: right;\">\n",
              "      <th></th>\n",
              "      <th>Summary</th>\n",
              "      <th>Text</th>\n",
              "      <th>text_length</th>\n",
              "    </tr>\n",
              "  </thead>\n",
              "  <tbody>\n",
              "    <tr>\n",
              "      <th>0</th>\n",
              "      <td>&lt;alpha&gt; good quality dog food &lt;omega&gt;</td>\n",
              "      <td>i have bought several of the vitality canned d...</td>\n",
              "      <td>259</td>\n",
              "    </tr>\n",
              "    <tr>\n",
              "      <th>1</th>\n",
              "      <td>&lt;alpha&gt; not as advertised &lt;omega&gt;</td>\n",
              "      <td>product arrived labeled as jumbo salted peanut...</td>\n",
              "      <td>184</td>\n",
              "    </tr>\n",
              "    <tr>\n",
              "      <th>2</th>\n",
              "      <td>&lt;alpha&gt; delight says it all &lt;omega&gt;</td>\n",
              "      <td>this is a confection that has been around a fe...</td>\n",
              "      <td>485</td>\n",
              "    </tr>\n",
              "    <tr>\n",
              "      <th>3</th>\n",
              "      <td>&lt;alpha&gt; cough medicine &lt;omega&gt;</td>\n",
              "      <td>if you are looking for the secret ingredient i...</td>\n",
              "      <td>212</td>\n",
              "    </tr>\n",
              "    <tr>\n",
              "      <th>4</th>\n",
              "      <td>&lt;alpha&gt; great taffy &lt;omega&gt;</td>\n",
              "      <td>great taffy at a great price there was a wide ...</td>\n",
              "      <td>132</td>\n",
              "    </tr>\n",
              "  </tbody>\n",
              "</table>\n",
              "</div>"
            ],
            "text/plain": [
              "                                 Summary  ... text_length\n",
              "0  <alpha> good quality dog food <omega>  ...         259\n",
              "1      <alpha> not as advertised <omega>  ...         184\n",
              "2    <alpha> delight says it all <omega>  ...         485\n",
              "3         <alpha> cough medicine <omega>  ...         212\n",
              "4            <alpha> great taffy <omega>  ...         132\n",
              "\n",
              "[5 rows x 3 columns]"
            ]
          },
          "metadata": {
            "tags": []
          },
          "execution_count": 12
        }
      ]
    },
    {
      "cell_type": "code",
      "metadata": {
        "id": "6ZHZDaj_C5QN",
        "colab_type": "code",
        "colab": {
          "base_uri": "https://localhost:8080/",
          "height": 35
        },
        "outputId": "94e632c8-8c0f-4bf7-8558-067a654cef72"
      },
      "source": [
        "x_maxlen=max([len(s) for s in oo.Text])\n",
        "x_maxlen"
      ],
      "execution_count": 13,
      "outputs": [
        {
          "output_type": "execute_result",
          "data": {
            "text/plain": [
              "500"
            ]
          },
          "metadata": {
            "tags": []
          },
          "execution_count": 13
        }
      ]
    },
    {
      "cell_type": "code",
      "metadata": {
        "id": "UCOG7rWDDEF-",
        "colab_type": "code",
        "colab": {
          "base_uri": "https://localhost:8080/",
          "height": 35
        },
        "outputId": "13da1c22-2713-41f2-9b16-3fbb247c7d4b"
      },
      "source": [
        "y_maxlen=max([len(s) for s in oo.Summary])\n",
        "y_maxlen"
      ],
      "execution_count": 14,
      "outputs": [
        {
          "output_type": "execute_result",
          "data": {
            "text/plain": [
              "141"
            ]
          },
          "metadata": {
            "tags": []
          },
          "execution_count": 14
        }
      ]
    },
    {
      "cell_type": "code",
      "metadata": {
        "id": "rOehPZ2HDLC3",
        "colab_type": "code",
        "colab": {}
      },
      "source": [
        "from tensorflow.keras.preprocessing.text import Tokenizer\n",
        "from tensorflow.keras.preprocessing.sequence import pad_sequences\n",
        "\n",
        "x_tokenizer=Tokenizer()\n",
        "x_tokenizer.fit_on_texts(oo.Text)\n",
        "X=x_tokenizer.texts_to_sequences(oo.Text)\n",
        "X=pad_sequences(X,maxlen=x_maxlen,padding='post')\n",
        "\n",
        "y_tokenizer=Tokenizer()\n",
        "y_tokenizer.fit_on_texts(oo.Summary)\n",
        "y=y_tokenizer.texts_to_sequences(oo.Summary)\n",
        "y=pad_sequences(y,maxlen=y_maxlen,padding='post')"
      ],
      "execution_count": 0,
      "outputs": []
    },
    {
      "cell_type": "code",
      "metadata": {
        "id": "vmwdr2tTECHP",
        "colab_type": "code",
        "colab": {
          "base_uri": "https://localhost:8080/",
          "height": 35
        },
        "outputId": "c59e3cd7-f004-4fa1-f020-f28a7b0d5c2c"
      },
      "source": [
        "X.shape"
      ],
      "execution_count": 16,
      "outputs": [
        {
          "output_type": "execute_result",
          "data": {
            "text/plain": [
              "(45846, 500)"
            ]
          },
          "metadata": {
            "tags": []
          },
          "execution_count": 16
        }
      ]
    },
    {
      "cell_type": "code",
      "metadata": {
        "id": "C02ex4ykEFEX",
        "colab_type": "code",
        "colab": {
          "base_uri": "https://localhost:8080/",
          "height": 35
        },
        "outputId": "f5c65805-9cd3-4f0e-e1a2-10097063f38f"
      },
      "source": [
        "y.shape"
      ],
      "execution_count": 17,
      "outputs": [
        {
          "output_type": "execute_result",
          "data": {
            "text/plain": [
              "(45846, 141)"
            ]
          },
          "metadata": {
            "tags": []
          },
          "execution_count": 17
        }
      ]
    },
    {
      "cell_type": "code",
      "metadata": {
        "id": "5KQ6zxJZEF9s",
        "colab_type": "code",
        "colab": {}
      },
      "source": [
        "from tensorflow.keras.layers import Input,Embedding,LSTM,Concatenate,TimeDistributed,Dense\n",
        "from tensorflow.keras.models import Model"
      ],
      "execution_count": 0,
      "outputs": []
    },
    {
      "cell_type": "code",
      "metadata": {
        "id": "c1LVvk6CEm2t",
        "colab_type": "code",
        "colab": {}
      },
      "source": [
        "from attention import AttentionLayer"
      ],
      "execution_count": 0,
      "outputs": []
    },
    {
      "cell_type": "code",
      "metadata": {
        "id": "DJ3ZhzJ4Eph-",
        "colab_type": "code",
        "colab": {
          "base_uri": "https://localhost:8080/",
          "height": 645
        },
        "outputId": "073ccf96-7f3a-4760-8646-65bbda994edd"
      },
      "source": [
        "latent_dim=500\n",
        "x_voc_size=len(x_tokenizer.word_index)\n",
        "y_voc_size=len(y_tokenizer.word_index)\n",
        "# Encoder \n",
        "encoder_inputs = Input(shape=(x_maxlen,)) \n",
        "enc_emb = Embedding(x_voc_size, latent_dim,trainable=True)(encoder_inputs) \n",
        "\n",
        "#LSTM 1 \n",
        "encoder_lstm1 = LSTM(latent_dim,return_sequences=True,return_state=True) \n",
        "encoder_output1, state_h1, state_c1 = encoder_lstm1(enc_emb) \n",
        "\n",
        "#LSTM 2 \n",
        "encoder_lstm2 = LSTM(latent_dim,return_sequences=True,return_state=True) \n",
        "encoder_output2, state_h2, state_c2 = encoder_lstm2(encoder_output1) \n",
        "\n",
        "#LSTM 3 \n",
        "encoder_lstm3=LSTM(latent_dim, return_state=True, return_sequences=True) \n",
        "encoder_outputs, state_h, state_c= encoder_lstm3(encoder_output2) \n",
        "\n",
        "# Set up the decoder. \n",
        "decoder_inputs = Input(shape=(None,)) \n",
        "dec_emb_layer = Embedding(y_voc_size, latent_dim,trainable=True) \n",
        "dec_emb = dec_emb_layer(decoder_inputs) \n",
        "\n",
        "#LSTM using encoder_states as initial state\n",
        "decoder_lstm = LSTM(latent_dim, return_sequences=True, return_state=True) \n",
        "decoder_outputs,decoder_fwd_state, decoder_back_state = decoder_lstm(dec_emb,initial_state=[state_h, state_c]) \n",
        "\n",
        "#Attention Layer\n",
        "attn_layer = AttentionLayer(name='attention_layer') \n",
        "attn_out, attn_states = attn_layer([encoder_outputs, decoder_outputs]) \n",
        "\n",
        "# Concat attention output and decoder LSTM output \n",
        "decoder_concat_input = Concatenate(axis=-1, name='concat_layer')([decoder_outputs, attn_out])\n",
        "\n",
        "#Dense layer\n",
        "decoder_dense = TimeDistributed(Dense(y_voc_size, activation='softmax')) \n",
        "decoder_outputs = decoder_dense(decoder_concat_input) \n",
        "\n",
        "# Define the model\n",
        "model = Model([encoder_inputs, decoder_inputs], decoder_outputs) \n",
        "model.summary()"
      ],
      "execution_count": 22,
      "outputs": [
        {
          "output_type": "stream",
          "text": [
            "Model: \"model\"\n",
            "__________________________________________________________________________________________________\n",
            "Layer (type)                    Output Shape         Param #     Connected to                     \n",
            "==================================================================================================\n",
            "input_2 (InputLayer)            [(None, 500)]        0                                            \n",
            "__________________________________________________________________________________________________\n",
            "embedding (Embedding)           (None, 500, 500)     13785000    input_2[0][0]                    \n",
            "__________________________________________________________________________________________________\n",
            "lstm (LSTM)                     [(None, 500, 500), ( 2002000     embedding[0][0]                  \n",
            "__________________________________________________________________________________________________\n",
            "input_3 (InputLayer)            [(None, None)]       0                                            \n",
            "__________________________________________________________________________________________________\n",
            "lstm_1 (LSTM)                   [(None, 500, 500), ( 2002000     lstm[0][0]                       \n",
            "__________________________________________________________________________________________________\n",
            "embedding_1 (Embedding)         (None, None, 500)    4755500     input_3[0][0]                    \n",
            "__________________________________________________________________________________________________\n",
            "lstm_2 (LSTM)                   [(None, 500, 500), ( 2002000     lstm_1[0][0]                     \n",
            "__________________________________________________________________________________________________\n",
            "lstm_3 (LSTM)                   [(None, None, 500),  2002000     embedding_1[0][0]                \n",
            "                                                                 lstm_2[0][1]                     \n",
            "                                                                 lstm_2[0][2]                     \n",
            "__________________________________________________________________________________________________\n",
            "attention_layer (AttentionLayer ((None, None, 500),  500500      lstm_2[0][0]                     \n",
            "                                                                 lstm_3[0][0]                     \n",
            "__________________________________________________________________________________________________\n",
            "concat_layer (Concatenate)      (None, None, 1000)   0           lstm_3[0][0]                     \n",
            "                                                                 attention_layer[0][0]            \n",
            "__________________________________________________________________________________________________\n",
            "time_distributed (TimeDistribut (None, None, 9511)   9520511     concat_layer[0][0]               \n",
            "==================================================================================================\n",
            "Total params: 36,569,511\n",
            "Trainable params: 36,569,511\n",
            "Non-trainable params: 0\n",
            "__________________________________________________________________________________________________\n"
          ],
          "name": "stdout"
        }
      ]
    },
    {
      "cell_type": "code",
      "metadata": {
        "id": "j-EruHgtIAmI",
        "colab_type": "code",
        "colab": {}
      },
      "source": [
        "model.compile('rmsprop',loss='sparse_categorical_crossentropy')"
      ],
      "execution_count": 0,
      "outputs": []
    },
    {
      "cell_type": "code",
      "metadata": {
        "id": "Q4c8uPEiI7_Z",
        "colab_type": "code",
        "colab": {}
      },
      "source": [
        "encoder_input=X\n",
        "decoder_input=y[:,:-1]\n",
        "decoder_target=y.reshape(y.shape[0],y.shape[1],1)[:,1:]\n",
        "epochs=50"
      ],
      "execution_count": 0,
      "outputs": []
    },
    {
      "cell_type": "code",
      "metadata": {
        "id": "vdfdOiPhJhYP",
        "colab_type": "code",
        "colab": {
          "base_uri": "https://localhost:8080/",
          "height": 35
        },
        "outputId": "c873341c-9671-4c01-bd8b-b3dd04c6ff11"
      },
      "source": [
        "decoder_input.shape"
      ],
      "execution_count": 25,
      "outputs": [
        {
          "output_type": "execute_result",
          "data": {
            "text/plain": [
              "(45846, 140)"
            ]
          },
          "metadata": {
            "tags": []
          },
          "execution_count": 25
        }
      ]
    },
    {
      "cell_type": "code",
      "metadata": {
        "id": "GXWHQR1WJjxT",
        "colab_type": "code",
        "colab": {
          "base_uri": "https://localhost:8080/",
          "height": 35
        },
        "outputId": "5ce5318b-9fb0-4314-90f2-06593f10ec5f"
      },
      "source": [
        "decoder_target.shape"
      ],
      "execution_count": 26,
      "outputs": [
        {
          "output_type": "execute_result",
          "data": {
            "text/plain": [
              "(45846, 140, 1)"
            ]
          },
          "metadata": {
            "tags": []
          },
          "execution_count": 26
        }
      ]
    },
    {
      "cell_type": "code",
      "metadata": {
        "id": "2hajlWv3Jlfs",
        "colab_type": "code",
        "colab": {
          "base_uri": "https://localhost:8080/",
          "height": 202
        },
        "outputId": "15cff402-c167-4c4a-cc0a-6c27cef67b86"
      },
      "source": [
        "history=model.fit([encoder_input[:10000],decoder_input[:10000]],decoder_target[:10000],epochs=5)"
      ],
      "execution_count": 31,
      "outputs": [
        {
          "output_type": "stream",
          "text": [
            "Epoch 1/5\n",
            "313/313 [==============================] - 371s 1s/step - loss: 0.1487\n",
            "Epoch 2/5\n",
            "313/313 [==============================] - 372s 1s/step - loss: 0.1386\n",
            "Epoch 3/5\n",
            "313/313 [==============================] - 371s 1s/step - loss: 0.1303\n",
            "Epoch 4/5\n",
            "313/313 [==============================] - 373s 1s/step - loss: 0.1224\n",
            "Epoch 5/5\n",
            "313/313 [==============================] - 374s 1s/step - loss: 0.1146\n"
          ],
          "name": "stdout"
        }
      ]
    },
    {
      "cell_type": "code",
      "metadata": {
        "id": "4jGi6ORbJ12H",
        "colab_type": "code",
        "colab": {}
      },
      "source": [
        "max_len_text=500\n",
        "max_len_summary=140\n",
        "reverse_target_word_index=y_tokenizer.index_word \n",
        "reverse_source_word_index=x_tokenizer.index_word \n",
        "target_word_index=y_tokenizer.word_index\n",
        "encoder_model = Model(inputs=encoder_inputs,outputs=[encoder_outputs, state_h, state_c])\n",
        "decoder_state_input_h = Input(shape=(latent_dim,))\n",
        "decoder_state_input_c = Input(shape=(latent_dim,))\n",
        "decoder_hidden_state_input = Input(shape=(max_len_text,latent_dim))\n",
        "dec_emb2= dec_emb_layer(decoder_inputs)\n",
        "decoder_outputs2, state_h2, state_c2 = decoder_lstm(dec_emb2, initial_state=[decoder_state_input_h, decoder_state_input_c])\n",
        "attn_out_inf, attn_states_inf = attn_layer([decoder_hidden_state_input, decoder_outputs2])\n",
        "decoder_inf_concat = Concatenate(axis=-1, name='concat')([decoder_outputs2, attn_out_inf])\n",
        "decoder_outputs2 = decoder_dense(decoder_inf_concat)\n",
        "decoder_model = Model(\n",
        "[decoder_inputs] + [decoder_hidden_state_input,decoder_state_input_h, decoder_state_input_c],\n",
        "[decoder_outputs2] + [state_h2, state_c2])"
      ],
      "execution_count": 0,
      "outputs": []
    },
    {
      "cell_type": "code",
      "metadata": {
        "id": "UV0GJuROc2Zh",
        "colab_type": "code",
        "colab": {}
      },
      "source": [
        "def decode_sequence(input_seq):\n",
        "    e_out, e_h, e_c = encoder_model.predict(input_seq)\n",
        "\n",
        "    # Generate empty target sequence of length 1.\n",
        "    target_seq = np.zeros((1,1))\n",
        "\n",
        "    target_seq[0, 0] = target_word_index['alpha']\n",
        "\n",
        "    stop_condition = False\n",
        "    decoded_sentence = ''\n",
        "    while not stop_condition:\n",
        "        output_tokens, h, c = decoder_model.predict([target_seq] + [e_out, e_h, e_c])\n",
        "\n",
        "\n",
        "        sampled_token_index = np.argmax(output_tokens[0, -1, :])\n",
        "        sampled_token = reverse_target_word_index[sampled_token_index]\n",
        "\n",
        "        if(sampled_token!='omega'):\n",
        "            decoded_sentence += ' '+sampled_token\n",
        "            if len(decoded_sentence)>=max_len_summary:\n",
        "              stop_condition=True\n",
        "        else:\n",
        "          stop_condition=True\n",
        "\n",
        "        target_seq = np.zeros((1,1))\n",
        "        target_seq[0, 0] = sampled_token_index\n",
        "        e_h, e_c = h, c\n",
        "\n",
        "    return decoded_sentence"
      ],
      "execution_count": 0,
      "outputs": []
    },
    {
      "cell_type": "code",
      "metadata": {
        "id": "tN0n1b4vc67g",
        "colab_type": "code",
        "colab": {}
      },
      "source": [
        "def seq2summary(input_seq):\n",
        "    newString=''\n",
        "    for i in input_seq:\n",
        "      if((i!=0 and i!=target_word_index['alpha']) and i!=target_word_index['omega']):\n",
        "        newString=newString+reverse_target_word_index[i]+' '\n",
        "    return newString\n",
        "\n",
        "def seq2text(input_seq):\n",
        "    newString=''\n",
        "    for i in input_seq:\n",
        "      if(i!=0):\n",
        "        newString=newString+reverse_source_word_index[i]+' '\n",
        "    return newString"
      ],
      "execution_count": 0,
      "outputs": []
    },
    {
      "cell_type": "code",
      "metadata": {
        "id": "hD44Fmcic8T0",
        "colab_type": "code",
        "colab": {
          "base_uri": "https://localhost:8080/",
          "height": 1000
        },
        "outputId": "ab885d76-d64d-4507-8adf-9e3f5e5c3476"
      },
      "source": [
        "for i in range(len(X)):\n",
        "  print(\"Review:\",seq2text(X[i]))\n",
        "  print(\"Original summary:\",seq2summary(y[i]))\n",
        "  print(\"Predicted summary:\",decode_sequence(X[i].reshape(1,max_len_text)))\n",
        "  print(\"\\n\")"
      ],
      "execution_count": 74,
      "outputs": [
        {
          "output_type": "stream",
          "text": [
            "Review: i have bought several of the vitality canned dog food products and have found them all to be of good quality the product looks more like a stew than a processed meat and it smells better my labrador is finicky and she appreciates this product better than most \n",
            "Original summary: good quality dog food \n",
            "Predicted summary:  great dog food\n",
            "\n",
            "\n",
            "Review: product arrived labeled as jumbo salted peanuts the peanuts were actually small sized unsalted not sure if this was an error or if the vendor intended to represent the product as jumbo \n",
            "Original summary: not as advertised \n",
            "Predicted summary:  not as good as other canned s\n",
            "\n",
            "\n",
            "Review: this is a confection that has been around a few centuries it is a light pillowy citrus gelatin with nuts in this case filberts and it is cut into tiny squares and then liberally coated with powdered sugar and it is a tiny mouthful of heaven not too chewy and very flavorful i highly recommend this yummy treat if you are familiar with the story of c s lewis the lion the witch and the wardrobe this is the treat that seduces edmund into selling out his brother and sisters to the witch \n",
            "Original summary: delight says it all \n",
            "Predicted summary:  great taste but a little expensive\n",
            "\n",
            "\n",
            "Review: if you are looking for the secret ingredient in robitussin i believe i have found it i got this in addition to the root beer extract i ordered which was good and made some cherry soda the flavor is very medicinal \n",
            "Original summary: cough medicine \n",
            "Predicted summary:  not so good\n",
            "\n",
            "\n",
            "Review: great taffy at a great price there was a wide assortment of yummy taffy delivery was very quick if your a taffy lover this is a deal \n",
            "Original summary: great taffy \n",
            "Predicted summary:  great product\n",
            "\n",
            "\n",
            "Review: i got a wild hair for taffy and ordered this five pound bag the taffy was all very enjoyable with many flavors watermelon root beer melon peppermint grape etc my only complaint is there was a bit too much red black licorice flavored pieces just not my particular favorites between me my kids and my husband this lasted only two weeks i would recommend this brand of taffy it was a delightful treat \n",
            "Original summary: nice taffy \n",
            "Predicted summary:  not so good\n",
            "\n",
            "\n",
            "Review: this saltwater taffy had great flavors and was very soft and chewy each candy was individually wrapped well none of the candies were stuck together which did happen in the expensive version fralinger s would highly recommend this candy i served it at a beach themed party and everyone loved it \n",
            "Original summary: great just as good as the expensive brands \n",
            "Predicted summary:  great taste but a little expensive\n",
            "\n",
            "\n",
            "Review: this taffy is so good it is very soft and chewy the flavors are amazing i would definitely recommend you buying it very satisfying \n",
            "Original summary: wonderful tasty taffy \n",
            "Predicted summary:  delicious\n",
            "\n",
            "\n",
            "Review: right now i m mostly just sprouting this so my cats can eat the grass they love it i rotate it around with wheatgrass and rye too \n",
            "Original summary: yay barley \n",
            "Predicted summary:  cat loves it\n",
            "\n",
            "\n",
            "Review: this is a very healthy dog food good for their digestion also good for small puppies my dog eats her required amount at every feeding \n",
            "Original summary: healthy dog food \n",
            "Predicted summary:  great dog food\n",
            "\n",
            "\n",
            "Review: one of my boys needed to lose some weight and the other didn t i put this food on the floor for the chubby guy and the protein rich no by product food up higher where only my skinny boy can jump the higher food sits going stale they both really go for this food and my chubby boy has been losing about an ounce a week \n",
            "Original summary: my cats love this diet food better than their regular food \n",
            "Predicted summary:  my dog s favorite\n",
            "\n",
            "\n",
            "Review: my cats have been happily eating felidae platinum for more than two years i just got a new bag and the shape of the food is different they tried the new food when i first put it in their bowls and now the bowls sit full and the kitties will not touch the food i ve noticed similar reviews related to formula changes in the past unfortunately i now need to find a new food that my cats will eat \n",
            "Original summary: my cats are not fans of the new food \n",
            "Predicted summary:  cat food\n",
            "\n",
            "\n",
            "Review: good flavor these came securely packed they were fresh and delicious i love these twizzlers \n",
            "Original summary: fresh and greasy \n",
            "Predicted summary:  yummy\n",
            "\n",
            "\n",
            "Review: the strawberry twizzlers are my guilty pleasure yummy six pounds will be around for a while with my son and i \n",
            "Original summary: strawberry twizzlers yummy \n",
            "Predicted summary:  great\n",
            "\n",
            "\n",
            "Review: my daughter loves twizzlers and this shipment of six pounds really hit the spot it s exactly what you would expect six packages of strawberry twizzlers \n",
            "Original summary: lots of twizzlers just what you expect \n",
            "Predicted summary:  great product\n",
            "\n",
            "\n",
            "Review: i love eating them and they are good for watching tv and looking at movies it is not too sweet i like to transfer them to a zip lock baggie so they stay fresh so i can take my time eating them \n",
            "Original summary: poor taste \n",
            "Predicted summary:  delicious\n",
            "\n",
            "\n",
            "Review: i am very satisfied with my twizzler purchase i shared these with others and we have all enjoyed them i will definitely be ordering more \n",
            "Original summary: love it \n",
            "Predicted summary:  great\n",
            "\n",
            "\n",
            "Review: candy was delivered very fast and was purchased at a reasonable price i was home bound and unable to get to a store so this was perfect for me \n",
            "Original summary: home delivered twizlers \n",
            "Predicted summary:  great\n",
            "\n",
            "\n",
            "Review: my husband is a twizzlers addict we ve bought these many times from amazon because we re government employees living overseas and can t get them in the country we are assigned to they ve always been fresh and tasty packed well and arrive in a timely manner \n",
            "Original summary: always fresh \n",
            "Predicted summary:  great product\n",
            "\n",
            "\n",
            "Review: i bought these for my husband who is currently overseas he loves these and apparently his staff likes them also br there are generous amounts of twizzlers in each ounce bag and this was well worth the price a href http www amazon com gp product b gvisjm twizzlers strawberry ounce bags pack of a \n",
            "Original summary: twizzlers \n",
            "Predicted summary:  great product\n",
            "\n",
            "\n",
            "Review: i can remember buying this candy as a kid and the quality hasn t dropped in all these years still a superb product you won t be disappointed with \n",
            "Original summary: delicious product \n",
            "Predicted summary:  great candy\n",
            "\n",
            "\n",
            "Review: i love this candy after weight watchers i had to cut back but still have a craving for it \n",
            "Original summary: twizzlers \n"
          ],
          "name": "stdout"
        },
        {
          "output_type": "stream",
          "text": [
            "ERROR:root:Internal Python error in the inspect module.\n",
            "Below is the traceback from this internal error.\n",
            "\n"
          ],
          "name": "stderr"
        },
        {
          "output_type": "stream",
          "text": [
            "Predicted summary:  great candy\n",
            "\n",
            "\n",
            "Review: i have lived out of the us for over yrs now and i so miss my twizzlers when i go back to visit or someone visits me i always stock up all i can say is yum br sell these in mexico and you will have a faithful buyer more often than i m able to buy them right now \n",
            "Original summary: please sell these in mexico \n",
            "Traceback (most recent call last):\n",
            "  File \"/usr/local/lib/python3.6/dist-packages/IPython/core/interactiveshell.py\", line 2882, in run_code\n",
            "    exec(code_obj, self.user_global_ns, self.user_ns)\n",
            "  File \"<ipython-input-74-4b9650bb7d1b>\", line 4, in <module>\n",
            "    print(\"Predicted summary:\",decode_sequence(X[i].reshape(1,max_len_text)))\n",
            "  File \"<ipython-input-71-5993b93d3bd3>\", line 14, in decode_sequence\n",
            "    output_tokens, h, c = decoder_model.predict([target_seq] + [e_out, e_h, e_c])\n",
            "  File \"/usr/local/lib/python3.6/dist-packages/tensorflow/python/keras/engine/training.py\", line 88, in _method_wrapper\n",
            "    return method(self, *args, **kwargs)\n",
            "  File \"/usr/local/lib/python3.6/dist-packages/tensorflow/python/keras/engine/training.py\", line 1186, in predict\n",
            "    model=self)\n",
            "  File \"/usr/local/lib/python3.6/dist-packages/tensorflow/python/keras/engine/data_adapter.py\", line 1112, in __init__\n",
            "    model=model)\n",
            "  File \"/usr/local/lib/python3.6/dist-packages/tensorflow/python/keras/engine/data_adapter.py\", line 362, in __init__\n",
            "    indices_dataset = indices_dataset.flat_map(slice_batch_indices)\n",
            "  File \"/usr/local/lib/python3.6/dist-packages/tensorflow/python/data/ops/dataset_ops.py\", line 1652, in flat_map\n",
            "    return FlatMapDataset(self, map_func)\n",
            "  File \"/usr/local/lib/python3.6/dist-packages/tensorflow/python/data/ops/dataset_ops.py\", line 4064, in __init__\n",
            "    map_func, self._transformation_name(), dataset=input_dataset)\n",
            "  File \"/usr/local/lib/python3.6/dist-packages/tensorflow/python/data/ops/dataset_ops.py\", line 3221, in __init__\n",
            "    self._function = wrapper_fn.get_concrete_function()\n",
            "  File \"/usr/local/lib/python3.6/dist-packages/tensorflow/python/eager/function.py\", line 2532, in get_concrete_function\n",
            "    *args, **kwargs)\n",
            "  File \"/usr/local/lib/python3.6/dist-packages/tensorflow/python/eager/function.py\", line 2496, in _get_concrete_function_garbage_collected\n",
            "    graph_function, args, kwargs = self._maybe_define_function(args, kwargs)\n",
            "  File \"/usr/local/lib/python3.6/dist-packages/tensorflow/python/eager/function.py\", line 2777, in _maybe_define_function\n",
            "    graph_function = self._create_graph_function(args, kwargs)\n",
            "  File \"/usr/local/lib/python3.6/dist-packages/tensorflow/python/eager/function.py\", line 2667, in _create_graph_function\n",
            "    capture_by_value=self._capture_by_value),\n",
            "  File \"/usr/local/lib/python3.6/dist-packages/tensorflow/python/framework/func_graph.py\", line 981, in func_graph_from_py_func\n",
            "    func_outputs = python_func(*func_args, **func_kwargs)\n",
            "  File \"/usr/local/lib/python3.6/dist-packages/tensorflow/python/data/ops/dataset_ops.py\", line 3214, in wrapper_fn\n",
            "    ret = _wrapper_helper(*args)\n",
            "  File \"/usr/local/lib/python3.6/dist-packages/tensorflow/python/data/ops/dataset_ops.py\", line 3156, in _wrapper_helper\n",
            "    ret = autograph.tf_convert(func, ag_ctx)(*nested_args)\n",
            "  File \"/usr/local/lib/python3.6/dist-packages/tensorflow/python/autograph/impl/api.py\", line 262, in wrapper\n",
            "    return converted_call(f, args, kwargs, options=options)\n",
            "  File \"/usr/local/lib/python3.6/dist-packages/tensorflow/python/autograph/impl/api.py\", line 492, in converted_call\n",
            "    return _call_unconverted(f, args, kwargs, options)\n",
            "  File \"/usr/local/lib/python3.6/dist-packages/tensorflow/python/autograph/impl/api.py\", line 346, in _call_unconverted\n",
            "    return f(*args, **kwargs)\n",
            "  File \"/usr/local/lib/python3.6/dist-packages/tensorflow/python/keras/engine/data_adapter.py\", line 354, in slice_batch_indices\n",
            "    indices, [num_in_full_batch], [self._partial_batch_size]))\n",
            "  File \"/usr/local/lib/python3.6/dist-packages/tensorflow/python/ops/array_ops.py\", line 1037, in slice\n",
            "    return gen_array_ops._slice(input_, begin, size, name=name)\n",
            "  File \"/usr/local/lib/python3.6/dist-packages/tensorflow/python/ops/gen_array_ops.py\", line 9095, in _slice\n",
            "    \"Slice\", input=input, begin=begin, size=size, name=name)\n",
            "  File \"/usr/local/lib/python3.6/dist-packages/tensorflow/python/framework/op_def_library.py\", line 470, in _apply_op_helper\n",
            "    preferred_dtype=default_dtype)\n",
            "  File \"/usr/local/lib/python3.6/dist-packages/tensorflow/python/framework/ops.py\", line 1341, in convert_to_tensor\n",
            "    ret = conversion_func(value, dtype=dtype, name=name, as_ref=as_ref)\n",
            "  File \"/usr/local/lib/python3.6/dist-packages/tensorflow/python/framework/constant_op.py\", line 321, in _constant_tensor_conversion_function\n",
            "    return constant(v, dtype=dtype, name=name)\n",
            "  File \"/usr/local/lib/python3.6/dist-packages/tensorflow/python/framework/constant_op.py\", line 262, in constant\n",
            "    allow_broadcast=True)\n",
            "  File \"/usr/local/lib/python3.6/dist-packages/tensorflow/python/framework/constant_op.py\", line 306, in _constant_impl\n",
            "    name=name).outputs[0]\n",
            "  File \"/usr/local/lib/python3.6/dist-packages/tensorflow/python/framework/func_graph.py\", line 595, in _create_op_internal\n",
            "    compute_device)\n",
            "  File \"/usr/local/lib/python3.6/dist-packages/tensorflow/python/framework/ops.py\", line 3314, in _create_op_internal\n",
            "    input_ops = set(t.op for t in inputs)\n",
            "KeyboardInterrupt\n",
            "\n",
            "During handling of the above exception, another exception occurred:\n",
            "\n",
            "Traceback (most recent call last):\n",
            "  File \"/usr/local/lib/python3.6/dist-packages/IPython/core/interactiveshell.py\", line 1823, in showtraceback\n",
            "    stb = value._render_traceback_()\n",
            "AttributeError: 'KeyboardInterrupt' object has no attribute '_render_traceback_'\n",
            "\n",
            "During handling of the above exception, another exception occurred:\n",
            "\n",
            "Traceback (most recent call last):\n",
            "  File \"/usr/local/lib/python3.6/dist-packages/IPython/core/ultratb.py\", line 1132, in get_records\n",
            "    return _fixed_getinnerframes(etb, number_of_lines_of_context, tb_offset)\n",
            "  File \"/usr/local/lib/python3.6/dist-packages/IPython/core/ultratb.py\", line 313, in wrapped\n",
            "    return f(*args, **kwargs)\n",
            "  File \"/usr/local/lib/python3.6/dist-packages/IPython/core/ultratb.py\", line 358, in _fixed_getinnerframes\n",
            "    records = fix_frame_records_filenames(inspect.getinnerframes(etb, context))\n",
            "  File \"/usr/lib/python3.6/inspect.py\", line 1490, in getinnerframes\n",
            "    frameinfo = (tb.tb_frame,) + getframeinfo(tb, context)\n",
            "  File \"/usr/lib/python3.6/inspect.py\", line 1448, in getframeinfo\n",
            "    filename = getsourcefile(frame) or getfile(frame)\n",
            "  File \"/usr/lib/python3.6/inspect.py\", line 696, in getsourcefile\n",
            "    if getattr(getmodule(object, filename), '__loader__', None) is not None:\n",
            "  File \"/usr/lib/python3.6/inspect.py\", line 732, in getmodule\n",
            "    for modname, module in list(sys.modules.items()):\n",
            "KeyboardInterrupt\n"
          ],
          "name": "stdout"
        },
        {
          "output_type": "error",
          "ename": "KeyboardInterrupt",
          "evalue": "ignored",
          "traceback": [
            "\u001b[0;31m---------------------------------------------------------------------------\u001b[0m"
          ]
        }
      ]
    },
    {
      "cell_type": "code",
      "metadata": {
        "id": "hrwr7H7mkBvi",
        "colab_type": "code",
        "colab": {}
      },
      "source": [
        "reverse_target_word_index=y_tokenizer.index_word"
      ],
      "execution_count": 0,
      "outputs": []
    },
    {
      "cell_type": "code",
      "metadata": {
        "id": "yrCnR6zrlaz2",
        "colab_type": "code",
        "colab": {
          "base_uri": "https://localhost:8080/",
          "height": 35
        },
        "outputId": "9182440e-d11e-4922-de09-6ca46471ef7c"
      },
      "source": [
        "reverse_target_word_index[0]"
      ],
      "execution_count": 69,
      "outputs": [
        {
          "output_type": "execute_result",
          "data": {
            "text/plain": [
              "'omega'"
            ]
          },
          "metadata": {
            "tags": []
          },
          "execution_count": 69
        }
      ]
    }
  ]
}