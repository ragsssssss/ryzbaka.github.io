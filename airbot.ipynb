{
  "nbformat": 4,
  "nbformat_minor": 0,
  "metadata": {
    "colab": {
      "name": "airbot.ipynb",
      "provenance": []
    },
    "kernelspec": {
      "name": "python3",
      "display_name": "Python 3"
    }
  },
  "cells": [
    {
      "cell_type": "code",
      "metadata": {
        "id": "K2rXOmaWGrxo",
        "colab_type": "code",
        "colab": {}
      },
      "source": [
        "from cdqa.utils.filters import filter_paragraphs\n",
        "from cdqa.utils.download import download_model"
      ],
      "execution_count": 0,
      "outputs": []
    },
    {
      "cell_type": "code",
      "metadata": {
        "id": "ENMjaL_4Hf_a",
        "colab_type": "code",
        "colab": {}
      },
      "source": [
        "import pandas as pd"
      ],
      "execution_count": 0,
      "outputs": []
    },
    {
      "cell_type": "markdown",
      "metadata": {
        "id": "SVE7eSGMO48F",
        "colab_type": "text"
      },
      "source": [
        "## Training the Model on Dataset 1"
      ]
    },
    {
      "cell_type": "code",
      "metadata": {
        "id": "4LGC2Th5GV-8",
        "colab_type": "code",
        "colab": {}
      },
      "source": [
        "oo=pd.read_csv('airbus1.csv')"
      ],
      "execution_count": 0,
      "outputs": []
    },
    {
      "cell_type": "code",
      "metadata": {
        "id": "lzKgsfDGHk3m",
        "colab_type": "code",
        "colab": {
          "base_uri": "https://localhost:8080/",
          "height": 206
        },
        "outputId": "997a485e-63ed-4d99-f6ee-6effcf9d8daf"
      },
      "source": [
        "oo.head()"
      ],
      "execution_count": 7,
      "outputs": [
        {
          "output_type": "execute_result",
          "data": {
            "text/html": [
              "<div>\n",
              "<style scoped>\n",
              "    .dataframe tbody tr th:only-of-type {\n",
              "        vertical-align: middle;\n",
              "    }\n",
              "\n",
              "    .dataframe tbody tr th {\n",
              "        vertical-align: top;\n",
              "    }\n",
              "\n",
              "    .dataframe thead th {\n",
              "        text-align: right;\n",
              "    }\n",
              "</style>\n",
              "<table border=\"1\" class=\"dataframe\">\n",
              "  <thead>\n",
              "    <tr style=\"text-align: right;\">\n",
              "      <th></th>\n",
              "      <th>Unnamed: 0</th>\n",
              "      <th>title</th>\n",
              "      <th>num_paras</th>\n",
              "      <th>string_para</th>\n",
              "    </tr>\n",
              "  </thead>\n",
              "  <tbody>\n",
              "    <tr>\n",
              "      <th>0</th>\n",
              "      <td>0</td>\n",
              "      <td>Aircraft</td>\n",
              "      <td>71</td>\n",
              "      <td>['', 'An aircraft is a vehicle that is able to...</td>\n",
              "    </tr>\n",
              "    <tr>\n",
              "      <th>1</th>\n",
              "      <td>1</td>\n",
              "      <td>Powered aircraft</td>\n",
              "      <td>29</td>\n",
              "      <td>['A powered aircraft is an aircraft that uses ...</td>\n",
              "    </tr>\n",
              "    <tr>\n",
              "      <th>2</th>\n",
              "      <td>2</td>\n",
              "      <td>Helicopter</td>\n",
              "      <td>85</td>\n",
              "      <td>['', '', '', 'A helicopter  sometimes referred...</td>\n",
              "    </tr>\n",
              "    <tr>\n",
              "      <th>3</th>\n",
              "      <td>3</td>\n",
              "      <td>Airbus A380</td>\n",
              "      <td>133</td>\n",
              "      <td>['', 'The Airbus A380 is the world s largest p...</td>\n",
              "    </tr>\n",
              "    <tr>\n",
              "      <th>4</th>\n",
              "      <td>4</td>\n",
              "      <td>Airbus A330</td>\n",
              "      <td>92</td>\n",
              "      <td>['', 'The Airbus A330 is a wide body airliner ...</td>\n",
              "    </tr>\n",
              "  </tbody>\n",
              "</table>\n",
              "</div>"
            ],
            "text/plain": [
              "   Unnamed: 0  ...                                        string_para\n",
              "0           0  ...  ['', 'An aircraft is a vehicle that is able to...\n",
              "1           1  ...  ['A powered aircraft is an aircraft that uses ...\n",
              "2           2  ...  ['', '', '', 'A helicopter  sometimes referred...\n",
              "3           3  ...  ['', 'The Airbus A380 is the world s largest p...\n",
              "4           4  ...  ['', 'The Airbus A330 is a wide body airliner ...\n",
              "\n",
              "[5 rows x 4 columns]"
            ]
          },
          "metadata": {
            "tags": []
          },
          "execution_count": 7
        }
      ]
    },
    {
      "cell_type": "code",
      "metadata": {
        "id": "hHE9HUepITeT",
        "colab_type": "code",
        "colab": {
          "base_uri": "https://localhost:8080/",
          "height": 206
        },
        "outputId": "9bac0c7c-1c06-4858-9e55-5699c5b1195d"
      },
      "source": [
        "oo.head()"
      ],
      "execution_count": 9,
      "outputs": [
        {
          "output_type": "execute_result",
          "data": {
            "text/html": [
              "<div>\n",
              "<style scoped>\n",
              "    .dataframe tbody tr th:only-of-type {\n",
              "        vertical-align: middle;\n",
              "    }\n",
              "\n",
              "    .dataframe tbody tr th {\n",
              "        vertical-align: top;\n",
              "    }\n",
              "\n",
              "    .dataframe thead th {\n",
              "        text-align: right;\n",
              "    }\n",
              "</style>\n",
              "<table border=\"1\" class=\"dataframe\">\n",
              "  <thead>\n",
              "    <tr style=\"text-align: right;\">\n",
              "      <th></th>\n",
              "      <th>Unnamed: 0</th>\n",
              "      <th>title</th>\n",
              "      <th>num_paras</th>\n",
              "      <th>string_para</th>\n",
              "    </tr>\n",
              "  </thead>\n",
              "  <tbody>\n",
              "    <tr>\n",
              "      <th>0</th>\n",
              "      <td>0</td>\n",
              "      <td>Aircraft</td>\n",
              "      <td>71</td>\n",
              "      <td>['', 'An aircraft is a vehicle that is able to...</td>\n",
              "    </tr>\n",
              "    <tr>\n",
              "      <th>1</th>\n",
              "      <td>1</td>\n",
              "      <td>Powered aircraft</td>\n",
              "      <td>29</td>\n",
              "      <td>['A powered aircraft is an aircraft that uses ...</td>\n",
              "    </tr>\n",
              "    <tr>\n",
              "      <th>2</th>\n",
              "      <td>2</td>\n",
              "      <td>Helicopter</td>\n",
              "      <td>85</td>\n",
              "      <td>['', '', '', 'A helicopter  sometimes referred...</td>\n",
              "    </tr>\n",
              "    <tr>\n",
              "      <th>3</th>\n",
              "      <td>3</td>\n",
              "      <td>Airbus A380</td>\n",
              "      <td>133</td>\n",
              "      <td>['', 'The Airbus A380 is the world s largest p...</td>\n",
              "    </tr>\n",
              "    <tr>\n",
              "      <th>4</th>\n",
              "      <td>4</td>\n",
              "      <td>Airbus A330</td>\n",
              "      <td>92</td>\n",
              "      <td>['', 'The Airbus A330 is a wide body airliner ...</td>\n",
              "    </tr>\n",
              "  </tbody>\n",
              "</table>\n",
              "</div>"
            ],
            "text/plain": [
              "   Unnamed: 0  ...                                        string_para\n",
              "0           0  ...  ['', 'An aircraft is a vehicle that is able to...\n",
              "1           1  ...  ['A powered aircraft is an aircraft that uses ...\n",
              "2           2  ...  ['', '', '', 'A helicopter  sometimes referred...\n",
              "3           3  ...  ['', 'The Airbus A380 is the world s largest p...\n",
              "4           4  ...  ['', 'The Airbus A330 is a wide body airliner ...\n",
              "\n",
              "[5 rows x 4 columns]"
            ]
          },
          "metadata": {
            "tags": []
          },
          "execution_count": 9
        }
      ]
    },
    {
      "cell_type": "code",
      "metadata": {
        "id": "xLd6td4WIquJ",
        "colab_type": "code",
        "colab": {}
      },
      "source": [
        "from ast import literal_eval"
      ],
      "execution_count": 0,
      "outputs": []
    },
    {
      "cell_type": "code",
      "metadata": {
        "id": "4MncEdbQItQh",
        "colab_type": "code",
        "colab": {}
      },
      "source": [
        "oo['paragraphs']=oo.string_para.apply(literal_eval)"
      ],
      "execution_count": 0,
      "outputs": []
    },
    {
      "cell_type": "code",
      "metadata": {
        "id": "lkOCAvurI4gl",
        "colab_type": "code",
        "colab": {
          "base_uri": "https://localhost:8080/",
          "height": 206
        },
        "outputId": "ffd5daf7-4b61-4750-92f7-d9e5bdbe18d3"
      },
      "source": [
        "oo.head()"
      ],
      "execution_count": 12,
      "outputs": [
        {
          "output_type": "execute_result",
          "data": {
            "text/html": [
              "<div>\n",
              "<style scoped>\n",
              "    .dataframe tbody tr th:only-of-type {\n",
              "        vertical-align: middle;\n",
              "    }\n",
              "\n",
              "    .dataframe tbody tr th {\n",
              "        vertical-align: top;\n",
              "    }\n",
              "\n",
              "    .dataframe thead th {\n",
              "        text-align: right;\n",
              "    }\n",
              "</style>\n",
              "<table border=\"1\" class=\"dataframe\">\n",
              "  <thead>\n",
              "    <tr style=\"text-align: right;\">\n",
              "      <th></th>\n",
              "      <th>Unnamed: 0</th>\n",
              "      <th>title</th>\n",
              "      <th>num_paras</th>\n",
              "      <th>string_para</th>\n",
              "      <th>paragraphs</th>\n",
              "    </tr>\n",
              "  </thead>\n",
              "  <tbody>\n",
              "    <tr>\n",
              "      <th>0</th>\n",
              "      <td>0</td>\n",
              "      <td>Aircraft</td>\n",
              "      <td>71</td>\n",
              "      <td>['', 'An aircraft is a vehicle that is able to...</td>\n",
              "      <td>[, An aircraft is a vehicle that is able to fl...</td>\n",
              "    </tr>\n",
              "    <tr>\n",
              "      <th>1</th>\n",
              "      <td>1</td>\n",
              "      <td>Powered aircraft</td>\n",
              "      <td>29</td>\n",
              "      <td>['A powered aircraft is an aircraft that uses ...</td>\n",
              "      <td>[A powered aircraft is an aircraft that uses o...</td>\n",
              "    </tr>\n",
              "    <tr>\n",
              "      <th>2</th>\n",
              "      <td>2</td>\n",
              "      <td>Helicopter</td>\n",
              "      <td>85</td>\n",
              "      <td>['', '', '', 'A helicopter  sometimes referred...</td>\n",
              "      <td>[, , , A helicopter  sometimes referred to in ...</td>\n",
              "    </tr>\n",
              "    <tr>\n",
              "      <th>3</th>\n",
              "      <td>3</td>\n",
              "      <td>Airbus A380</td>\n",
              "      <td>133</td>\n",
              "      <td>['', 'The Airbus A380 is the world s largest p...</td>\n",
              "      <td>[, The Airbus A380 is the world s largest pass...</td>\n",
              "    </tr>\n",
              "    <tr>\n",
              "      <th>4</th>\n",
              "      <td>4</td>\n",
              "      <td>Airbus A330</td>\n",
              "      <td>92</td>\n",
              "      <td>['', 'The Airbus A330 is a wide body airliner ...</td>\n",
              "      <td>[, The Airbus A330 is a wide body airliner mad...</td>\n",
              "    </tr>\n",
              "  </tbody>\n",
              "</table>\n",
              "</div>"
            ],
            "text/plain": [
              "   Unnamed: 0  ...                                         paragraphs\n",
              "0           0  ...  [, An aircraft is a vehicle that is able to fl...\n",
              "1           1  ...  [A powered aircraft is an aircraft that uses o...\n",
              "2           2  ...  [, , , A helicopter  sometimes referred to in ...\n",
              "3           3  ...  [, The Airbus A380 is the world s largest pass...\n",
              "4           4  ...  [, The Airbus A330 is a wide body airliner mad...\n",
              "\n",
              "[5 rows x 5 columns]"
            ]
          },
          "metadata": {
            "tags": []
          },
          "execution_count": 12
        }
      ]
    },
    {
      "cell_type": "code",
      "metadata": {
        "id": "Ob9uSowUI5oG",
        "colab_type": "code",
        "colab": {}
      },
      "source": [
        "from cdqa.utils.filters import filter_paragraphs"
      ],
      "execution_count": 0,
      "outputs": []
    },
    {
      "cell_type": "code",
      "metadata": {
        "id": "Jh353oKRI-sC",
        "colab_type": "code",
        "colab": {}
      },
      "source": [
        "oo=filter_paragraphs(oo)"
      ],
      "execution_count": 0,
      "outputs": []
    },
    {
      "cell_type": "code",
      "metadata": {
        "id": "CMOvkgq7JCPN",
        "colab_type": "code",
        "colab": {
          "base_uri": "https://localhost:8080/",
          "height": 575
        },
        "outputId": "78cde309-d574-4496-91db-754ef8f3ca9f"
      },
      "source": [
        "oo"
      ],
      "execution_count": 15,
      "outputs": [
        {
          "output_type": "execute_result",
          "data": {
            "text/html": [
              "<div>\n",
              "<style scoped>\n",
              "    .dataframe tbody tr th:only-of-type {\n",
              "        vertical-align: middle;\n",
              "    }\n",
              "\n",
              "    .dataframe tbody tr th {\n",
              "        vertical-align: top;\n",
              "    }\n",
              "\n",
              "    .dataframe thead th {\n",
              "        text-align: right;\n",
              "    }\n",
              "</style>\n",
              "<table border=\"1\" class=\"dataframe\">\n",
              "  <thead>\n",
              "    <tr style=\"text-align: right;\">\n",
              "      <th></th>\n",
              "      <th>Unnamed: 0</th>\n",
              "      <th>title</th>\n",
              "      <th>num_paras</th>\n",
              "      <th>string_para</th>\n",
              "      <th>paragraphs</th>\n",
              "    </tr>\n",
              "  </thead>\n",
              "  <tbody>\n",
              "    <tr>\n",
              "      <th>0</th>\n",
              "      <td>0</td>\n",
              "      <td>Aircraft</td>\n",
              "      <td>71</td>\n",
              "      <td>['', 'An aircraft is a vehicle that is able to...</td>\n",
              "      <td>[An aircraft is a vehicle that is able to fly ...</td>\n",
              "    </tr>\n",
              "    <tr>\n",
              "      <th>1</th>\n",
              "      <td>1</td>\n",
              "      <td>Powered aircraft</td>\n",
              "      <td>29</td>\n",
              "      <td>['A powered aircraft is an aircraft that uses ...</td>\n",
              "      <td>[A propeller or airscrew comprises a set of sm...</td>\n",
              "    </tr>\n",
              "    <tr>\n",
              "      <th>2</th>\n",
              "      <td>2</td>\n",
              "      <td>Helicopter</td>\n",
              "      <td>85</td>\n",
              "      <td>['', '', '', 'A helicopter  sometimes referred...</td>\n",
              "      <td>[A helicopter  sometimes referred to in slang ...</td>\n",
              "    </tr>\n",
              "    <tr>\n",
              "      <th>3</th>\n",
              "      <td>3</td>\n",
              "      <td>Airbus A380</td>\n",
              "      <td>133</td>\n",
              "      <td>['', 'The Airbus A380 is the world s largest p...</td>\n",
              "      <td>[The Airbus A380 is the world s largest passen...</td>\n",
              "    </tr>\n",
              "    <tr>\n",
              "      <th>4</th>\n",
              "      <td>4</td>\n",
              "      <td>Airbus A330</td>\n",
              "      <td>92</td>\n",
              "      <td>['', 'The Airbus A330 is a wide body airliner ...</td>\n",
              "      <td>[The Airbus A330 is a wide body airliner made ...</td>\n",
              "    </tr>\n",
              "    <tr>\n",
              "      <th>5</th>\n",
              "      <td>5</td>\n",
              "      <td>Airbus A320 family</td>\n",
              "      <td>88</td>\n",
              "      <td>['', 'The Airbus A320 family are narrow body a...</td>\n",
              "      <td>[The Airbus A320 family are narrow body airlin...</td>\n",
              "    </tr>\n",
              "    <tr>\n",
              "      <th>6</th>\n",
              "      <td>6</td>\n",
              "      <td>Airbus A340</td>\n",
              "      <td>72</td>\n",
              "      <td>['', 'The Airbus A340 is a long range  wide bo...</td>\n",
              "      <td>[The Airbus A340 is a long range  wide body co...</td>\n",
              "    </tr>\n",
              "    <tr>\n",
              "      <th>7</th>\n",
              "      <td>7</td>\n",
              "      <td>Airbus A220</td>\n",
              "      <td>108</td>\n",
              "      <td>['', 'The Airbus A220 is a family of narrow bo...</td>\n",
              "      <td>[The Airbus A220 is a family of narrow body  t...</td>\n",
              "    </tr>\n",
              "    <tr>\n",
              "      <th>8</th>\n",
              "      <td>8</td>\n",
              "      <td>Airbus A350 XWB</td>\n",
              "      <td>99</td>\n",
              "      <td>['', 'The Airbus A350 XWB is a family of long ...</td>\n",
              "      <td>[The Airbus A350 XWB is a family of long range...</td>\n",
              "    </tr>\n",
              "    <tr>\n",
              "      <th>9</th>\n",
              "      <td>9</td>\n",
              "      <td>Airbus A321</td>\n",
              "      <td>22</td>\n",
              "      <td>['The Airbus A321 is a member of the Airbus A3...</td>\n",
              "      <td>[The Airbus A321 is a member of the Airbus A32...</td>\n",
              "    </tr>\n",
              "    <tr>\n",
              "      <th>10</th>\n",
              "      <td>10</td>\n",
              "      <td>Airbus A310</td>\n",
              "      <td>37</td>\n",
              "      <td>['', 'The Airbus A310 is a wide body airliner ...</td>\n",
              "      <td>[The Airbus A310 is a wide body airliner devel...</td>\n",
              "    </tr>\n",
              "    <tr>\n",
              "      <th>11</th>\n",
              "      <td>11</td>\n",
              "      <td>Airbus Helicopters</td>\n",
              "      <td>30</td>\n",
              "      <td>['', 'Airbus Helicopters SAS  formerly Eurocop...</td>\n",
              "      <td>[Airbus Helicopters SAS  formerly Eurocopter G...</td>\n",
              "    </tr>\n",
              "    <tr>\n",
              "      <th>12</th>\n",
              "      <td>12</td>\n",
              "      <td>Airbus Beluga</td>\n",
              "      <td>29</td>\n",
              "      <td>['The Airbus A300 600ST  Super Transporter  or...</td>\n",
              "      <td>[The Airbus A300 600ST  Super Transporter  or ...</td>\n",
              "    </tr>\n",
              "    <tr>\n",
              "      <th>13</th>\n",
              "      <td>13</td>\n",
              "      <td>Airbus A318</td>\n",
              "      <td>29</td>\n",
              "      <td>['', 'The Airbus A318 is the smallest airliner...</td>\n",
              "      <td>[The Airbus A318 is the smallest airliner in t...</td>\n",
              "    </tr>\n",
              "  </tbody>\n",
              "</table>\n",
              "</div>"
            ],
            "text/plain": [
              "    Unnamed: 0  ...                                         paragraphs\n",
              "0            0  ...  [An aircraft is a vehicle that is able to fly ...\n",
              "1            1  ...  [A propeller or airscrew comprises a set of sm...\n",
              "2            2  ...  [A helicopter  sometimes referred to in slang ...\n",
              "3            3  ...  [The Airbus A380 is the world s largest passen...\n",
              "4            4  ...  [The Airbus A330 is a wide body airliner made ...\n",
              "5            5  ...  [The Airbus A320 family are narrow body airlin...\n",
              "6            6  ...  [The Airbus A340 is a long range  wide body co...\n",
              "7            7  ...  [The Airbus A220 is a family of narrow body  t...\n",
              "8            8  ...  [The Airbus A350 XWB is a family of long range...\n",
              "9            9  ...  [The Airbus A321 is a member of the Airbus A32...\n",
              "10          10  ...  [The Airbus A310 is a wide body airliner devel...\n",
              "11          11  ...  [Airbus Helicopters SAS  formerly Eurocopter G...\n",
              "12          12  ...  [The Airbus A300 600ST  Super Transporter  or ...\n",
              "13          13  ...  [The Airbus A318 is the smallest airliner in t...\n",
              "\n",
              "[14 rows x 5 columns]"
            ]
          },
          "metadata": {
            "tags": []
          },
          "execution_count": 15
        }
      ]
    },
    {
      "cell_type": "code",
      "metadata": {
        "id": "7I-Sfd7CJCkf",
        "colab_type": "code",
        "colab": {}
      },
      "source": [
        "paras=list(oo.paragraphs)"
      ],
      "execution_count": 0,
      "outputs": []
    },
    {
      "cell_type": "code",
      "metadata": {
        "id": "DjDgjYGCJGkt",
        "colab_type": "code",
        "colab": {
          "base_uri": "https://localhost:8080/",
          "height": 1000
        },
        "outputId": "fb73f326-b89e-4e36-8073-b628f2222410"
      },
      "source": [
        "paras"
      ],
      "execution_count": 17,
      "outputs": [
        {
          "output_type": "execute_result",
          "data": {
            "text/plain": [
              "[['An aircraft is a vehicle that is able to fly by gaining support from the air  It counters the force of gravity by using either static lift or by using the dynamic lift of an airfoil  or in a few cases the downward thrust from jet engines  Common examples of aircraft include airplanes  helicopters  airships  including blimps  gliders  paramotors and hot air balloons',\n",
              "  'The human activity that surrounds aircraft is called aviation  The science of aviation  including designing and building aircraft  is called aeronautics  Crewed aircraft are flown by an onboard pilot  but unmanned aerial vehicles may be remotely controlled or self controlled by onboard computers  Aircraft may be classified by different criteria  such as lift type  aircraft propulsion  usage and others',\n",
              "  'Flying model craft and stories of manned flight go back many centuries  however  the first manned ascent  and safe descent  in modern times took place by larger hot air balloons developed in the 18th century  Each of the two World Wars led to great technical advances  Consequently  the history of aircraft can be divided into five eras',\n",
              "  'Aerostats use buoyancy to float in the air in much the same way that ships float on the water  They are characterized by one or more large cells or canopies  filled with a relatively low density gas such as helium  hydrogen  or hot air  which is less dense than the surrounding air  When the weight of this is added to the weight of the aircraft structure  it adds up to the same weight as the air that the craft displaces',\n",
              "  'Small hot air balloons  called sky lanterns  were first invented in ancient China prior to the 3rd century BC and used primarily in cultural celebrations  and were only the second type of aircraft to fly  the first being kites  which were first invented in ancient China over two thousand years ago   See Han Dynasty',\n",
              "  'A balloon was originally any aerostat  while the term airship was used for large  powered aircraft designs  usually fixed wing  In 1919 Frederick Handley Page was reported as referring to  ships of the air  with smaller passenger types as  Air yachts  In the 1930s  large intercontinental flying boats were also sometimes referred to as  ships of the air  or  flying ships  though none had yet been built  The advent of powered balloons  called dirigible balloons  and later of rigid hulls allowing a great increase in size  began to change the way these words were used  Huge powered aerostats  characterized by a rigid outer framework and separate aerodynamic skin surrounding the gas bags  were produced  the Zeppelins being the largest and most famous  There were still no fixed wing aircraft or non rigid balloons large enough to be called airships  so  airship  came to be synonymous with these aircraft  Then several accidents  such as the Hindenburg disaster in 1937  led to the demise of these airships  Nowadays a  balloon  is an unpowered aerostat and an  airship  is a powered one',\n",
              "  'A powered  steerable aerostat is called a dirigible  Sometimes this term is applied only to non rigid balloons  and sometimes dirigible balloon is regarded as the definition of an airship  which may then be rigid or non rigid  Non rigid dirigibles are characterized by a moderately aerodynamic gasbag with stabilizing fins at the back  These soon became known as blimps  During World War II  this shape was widely adopted for tethered balloons  in windy weather  this both reduces the strain on the tether and stabilizes the balloon  The nickname blimp was adopted along with the shape  In modern times  any small dirigible or airship is called a blimp  though a blimp may be unpowered as well as powered',\n",
              "  'Heavier than air aircraft  such as airplanes  must find some way to push air or gas downwards  so that a reaction occurs  by Newton s laws of motion  to push the aircraft upwards  This dynamic movement through the air is the origin of the term aerodyne  There are two ways to produce dynamic upthrust  aerodynamic lift  and powered lift in the form of engine thrust',\n",
              "  'Aerodynamic lift involving wings is the most common  with fixed wing aircraft being kept in the air by the forward movement of wings  and rotorcraft by spinning wing shaped rotors sometimes called rotary wings  A wing is a flat  horizontal surface  usually shaped in cross section as an aerofoil  To fly  air must flow over the wing and generate lift  A flexible wing is a wing made of fabric or thin sheet material  often stretched over a rigid frame  A kite is tethered to the ground and relies on the speed of the wind over its wings  which may be flexible or rigid  fixed  or rotary',\n",
              "  'A pure rocket is not usually regarded as an aerodyne  because it does not depend on the air for its lift  and can even fly into space  however  many aerodynamic lift vehicles have been powered or assisted by rocket motors  Rocket powered missiles that obtain aerodynamic lift at very high speed due to airflow over their bodies are a marginal case',\n",
              "  'The forerunner of the fixed wing aircraft is the kite  Whereas a fixed wing aircraft relies on its forward speed to create airflow over the wings  a kite is tethered to the ground and relies on the wind blowing over its wings to provide lift  Kites were the first kind of aircraft to fly  and were invented in China around 500 BC  Much aerodynamic research was done with kites before test aircraft  wind tunnels  and computer modelling programs became available',\n",
              "  'Wing in ground effect vehicles are not considered aircraft  They  fly  efficiently close to the surface of the ground or water  like conventional aircraft during takeoff  An example is the Russian ekranoplan  nicknamed the  Caspian Sea Monster  Man powered aircraft also rely on ground effect to remain airborne with a minimal pilot power  but this is only because they are so underpowered in fact  the airframe is capable of flying higher',\n",
              "  'Helicopters have a rotor turned by an engine driven shaft  The rotor pushes air downward to create lift  By tilting the rotor forward  the downward flow is tilted backward  producing thrust for forward flight  Some helicopters have more than one rotor and a few have rotors turned by gas jets at the tips',\n",
              "  'Autogyros have unpowered rotors  with a separate power plant to provide thrust  The rotor is tilted backward  As the autogyro moves forward  air blows upward across the rotor  making it spin  This spinning increases the speed of airflow over the rotor  to provide lift  Rotor kites are unpowered autogyros  which are towed to give them forward speed or tethered to a static anchor in high wind for kited flight',\n",
              "  'Compound rotorcraft have wings that provide some or all of the lift in forward flight  They are nowadays classified as powered lift types and not as rotorcraft  Tiltrotor aircraft  such as the Bell Boeing V 22 Osprey  tiltwing  tail sitter  and coleopter aircraft have their rotors propellers horizontal for vertical flight and vertical for forward flight',\n",
              "  'The largest aircraft by dimensions and volume  as of 2016  is the 302 foot long  about 95 meters  British Airlander 10  a hybrid blimp  with helicopter and fixed wing features  and reportedly capable of speeds up to 90 mph  about 150 km h  and an airborne endurance of two weeks with a payload of up to 22 050 pounds  11 tons',\n",
              "  'The largest aircraft by weight and largest regular fixed wing aircraft ever built  as of  is the Antonov An 225 Mriya  That Ukrainian built six engine Russian transport of the 1980s is 84 meters  276 feet  long  with an 88 meter  289 foot  wingspan  It holds the world payload record  after transporting 428 834 pounds  200 tons  of goods  and has recently flown 100 ton loads commercially  Weighing in at somewhere between 1 1 and 1 4 million pounds  550 700 tons  maximum loaded weight  it is also the heaviest aircraft to be built  to date  It can cruise at 500 mph',\n",
              "  'The largest military airplanes are the Ukrainian Russian Antonov An 124 Ruslan  world s second largest airplane  also used as a civilian transport  and American Lockheed C 5 Galaxy transport  weighing  loaded  over 765 000 pounds  over 380 tons  The 8 engine  piston propeller Hughes H 4 Hercules  Spruce Goose  an American World War II wooden flying boat transport with a greater wingspan  94 meters   260 feet  than any current aircraft and a tail height equal to the tallest  Airbus A380 800 at 24 1 meters   78 feet  flew only one short hop in the late 1940s and never flew out of ground effect',\n",
              "  'The largest civilian airplanes  apart from the above noted An 225 and An 124  are the Airbus Beluga cargo transport derivative of the Airbus A300 jet airliner  the Boeing Dreamlifter cargo transport derivative of the Boeing 747 jet airliner transport  the 747 200B was  at its creation in the 1960s  the heaviest aircraft ever built  with a maximum weight of 836 000 pounds  over 400 tons  and the double decker Airbus A380  super jumbo  jet airliner  the world s largest passenger airliner',\n",
              "  'The fastest recorded powered aircraft flight and fastest recorded aircraft flight of an air breathing powered aircraft was of the NASA X 43A Pegasus  a scramjet powered  hypersonic  lifting body experimental research aircraft  at Mach 9 6  nearly 7 000 mph  The X 43A set that new mark  and broke its own world record of Mach 6 3  nearly 5 000 mph  set in March 2004  on its third and final flight on 16 November 2004',\n",
              "  'Prior to the X 43A  the fastest recorded powered airplane flight  and still the record for the fastest manned  powered airplane   fastest manned  non spacecraft aircraft  was of the North American X 15A 2  rocket powered airplane at 4 520 mph  7 274 km h  Mach 6 72  on 3 October 1967  On one flight it reached an altitude of 354 300 feet',\n",
              "  'Gliders are heavier than air aircraft that do not employ propulsion once airborne  Take off may be by launching forward and downward from a high location  or by pulling into the air on a tow line  either by a ground based winch or vehicle  or by a powered  tug  aircraft  For a glider to maintain its forward air speed and lift  it must descend in relation to the air  but not necessarily in relation to the ground  Many gliders can  soar  i e  gain height from updrafts such as thermal currents  The first practical  controllable example was designed and built by the British scientist and pioneer George Cayley  whom many recognise as the first aeronautical engineer  Common examples of gliders are sailplanes  hang gliders and paragliders',\n",
              "  'Balloons drift with the wind  though normally the pilot can control the altitude  either by heating the air or by releasing ballast  giving some directional control  since the wind direction changes with altitude  A wing shaped hybrid balloon can glide directionally when rising or falling  but a spherically shaped balloon does not have such directional control',\n",
              "  'Kites are  that are tethered to the ground or other object  fixed or mobile  that maintains tension in the tether or kite line  they rely on virtual or real wind blowing over and under them to generate lift and drag  Kytoons are balloon kite hybrids that are shaped and tethered to obtain kiting deflections  and can be lighter than air  neutrally buoyant  or heavier than air',\n",
              "  'Powered aircraft have one or more onboard sources of mechanical power  typically aircraft engines although rubber and manpower have also been used  Most aircraft engines are either lightweight reciprocating engines or gas turbines  Engine fuel is stored in tanks  usually in the wings but larger aircraft also have additional fuel tanks in the fuselage',\n",
              "  'Many kinds of power plant have been used to drive propellers  Early airships used man power or steam engines  The more practical internal combustion piston engine was used for virtually all fixed wing aircraft until World War II and is still used in many smaller aircraft  Some types use turbine engines to drive a propeller in the form of a turboprop or propfan  Human powered flight has been achieved  but has not become a practical means of transport  Unmanned aircraft and models have also used power sources such as electric motors and rubber bands',\n",
              "  'Turbojet and turbofan engines use a spinning turbine to drive one or more fans  which provide additional thrust  An afterburner may be used to inject extra fuel into the hot exhaust  especially on military  fast jets  Use of a turbine is not absolutely necessary  other designs include the pulsejet and ramjet  These mechanically simple designs cannot work when stationary  so the aircraft must be launched to flying speed by some other method  Other variants have also been used  including the motorjet and hybrids such as the Pratt   Whitney J58  which can convert between turbojet and ramjet operation',\n",
              "  'Some rotorcraft  such as helicopters  have a powered rotary wing or rotor  where the rotor disc can be angled slightly forward so that a proportion of its lift is directed forwards  The rotor may  like a propeller  be powered by a variety of methods such as a piston engine or turbine  Experiments have also used jet nozzles at the rotor blade tips',\n",
              "  'The approach to structural design varies widely between different types of aircraft  Some  such as paragliders  comprise only flexible materials that act in tension and rely on aerodynamic pressure to hold their shape  A balloon similarly relies on internal gas pressure  but may have a rigid basket or gondola slung below it to carry its payload  Early aircraft  including airships  often employed flexible doped aircraft fabric covering to give a reasonably smooth aeroshell stretched over a rigid frame  Later aircraft employed semi monocoque techniques  where the skin of the aircraft is stiff enough to share much of the flight loads  In a true monocoque design there is no internal structure left',\n",
              "  'Heavier than air types are characterised by one or more wings and a central fuselage  The fuselage typically also carries a tail or empennage for stability and control  and an undercarriage for takeoff and landing  Engines may be located on the fuselage or wings  On a fixed wing aircraft the wings are rigidly attached to the fuselage  while on a rotorcraft the wings are attached to a rotating vertical shaft  Smaller designs sometimes use flexible materials for part or all of the structure  held in place either by a rigid frame or by air pressure  The fixed parts of the structure comprise the airframe',\n",
              "  'The flight envelope of an aircraft refers to its approved design capabilities in terms of airspeed  load factor and altitude  The term can also refer to other assessments of aircraft performance such as maneuverability  When an aircraft is abused  for instance by diving it at too high a speed  it is said to be flown outside the envelope  something considered foolhardy since it has been taken beyond the design limits which have been established by the manufacturer  Going beyond the envelope may have a known outcome such as flutter or entry to a non recoverable spin  possible reasons for the boundary',\n",
              "  'For an unpowered aircraft  the maximum flight time is limited by factors such as weather conditions and pilot endurance  Many aircraft types are restricted to daylight hours  while balloons are limited by their supply of lifting gas  The range can be seen as the average ground speed multiplied by the maximum time in the air',\n",
              "  'An aircraft that is unstable tends to diverge from its intended flight path and so is difficult to fly  A very stable aircraft tends to stay on its flight path and is difficult to maneuver  Therefore  it is important for any design to achieve the desired degree of stability  Since the widespread use of digital computers  it is increasingly common for designs to be inherently unstable and rely on computerised control systems to provide artificial stability',\n",
              "  'A fixed wing is typically unstable in  pitch  roll  and yaw  Pitch and yaw stabilities of conventional fixed wing designs require horizontal and vertical stabilisers  which act similarly to the feathers on an arrow  These stabilizing surfaces allow equilibrium of aerodynamic forces and to stabilise the flight dynamics of pitch and yaw  They are usually mounted on the tail section  empennage  although in the canard layout  the main aft wing replaces the canard foreplane as pitch stabilizer  Tandem wing and tailless aircraft rely on the same general rule to achieve stability  the aft surface being the stabilising one',\n",
              "  'Flight control surfaces enable the pilot to control an aircraft s flight attitude and are usually part of the wing or mounted on  or integral with  the associated stabilizing surface  Their development was a critical advance in the history of aircraft  which had until that point been uncontrollable in flight',\n",
              "  'Aerospace engineers develop control systems for a vehicle s orientation  attitude  about its center of mass  The control systems include actuators  which exert forces in various directions  and generate rotational forces or moments about the aerodynamic center of the aircraft  and thus rotate the aircraft in pitch  roll  or yaw  For example  a pitching moment is a vertical force applied at a distance forward or aft from the aerodynamic center of the aircraft  causing the aircraft to pitch up or down  Control systems are also sometimes used to increase or decrease drag  for example to slow the aircraft to a safe speed for landing',\n",
              "  'Aircraft permit long distance  high speed travel and may be a more fuel efficient mode of transportation in some circumstances  Aircraft have environmental and climate impacts beyond fuel efficiency considerations  however  They are also relatively noisy compared to other forms of travel and high altitude aircraft generate contrails  which experimental evidence suggests may alter weather patterns',\n",
              "  'Most military aircraft are powered heavier than air types  Other types  such as gliders and balloons  have also been used as military aircraft  for example  balloons were used for observation during the American Civil War and World War I  and military gliders were used during World War II to land troops',\n",
              "  'Commercial aircraft include types designed for scheduled and charter airline flights  carrying passengers  mail and other cargo  The larger passenger carrying types are the airliners  the largest of which are wide body aircraft  Some of the smaller types are also used in general aviation  and some of the larger types are used as VIP aircraft',\n",
              "  'General aviation is a catch all covering other kinds of private  where the pilot is not paid for time or expenses  and commercial use  and involving a wide range of aircraft types such as business jets  bizjets  trainers  homebuilt  gliders  warbirds and hot air balloons to name a few  The vast majority of aircraft today are general aviation types',\n",
              "  'An experimental aircraft is one that has not been fully proven in flight  or that carries a Special Airworthiness Certificate  called an Experimental Certificate in United States parlance  This often implies that the aircraft is testing new aerospace technologies  though the term also refers to amateur built and kit built aircraft  many of which are based on proven designs'],\n",
              " ['A propeller or airscrew comprises a set of small  wing like aerofoil blades set around a central hub which spins on an axis aligned in the direction of travel   The blades are set at a pitch angle to the airflow  which may be fixed or variable  such that spinning the propeller creates aerodynamic lift  or thrust  in a forward direction',\n",
              "  'From the first controlled powered fixed wing aircraft flight by the Wright brothers until World War II  propellers turned by the internal combustion piston engine were virtually the only type of propulsion system in use   The piston engine is still used in the majority of smaller aircraft produced  since it is efficient at the lower altitudes and slower speeds suited to propellers',\n",
              "  'Turbine engines need not be used as jets  see below  but may be geared to drive a propeller in the form of a turboprop  Modern helicopters also typically use turbine engines to power the rotor  Turbines provide more power for less weight than piston engines  and are better suited to small to medium size aircraft or larger  slow flying types  Some turboprop designs mount the propeller directly on an engine turbine shaft  and are called propfans',\n",
              "  'Rotorcraft have spinning blades called a rotor which spins in the horizontal plane to provide lift  Forward thrust is usually obtained by angling the rotor disc slightly forward so that a proportion of its lift is directed backwards  these are called helicopters  Other rotorcraft are compound helicopters and autogyros which sometimes use other means of propulsion  such as propellers and jets',\n",
              "  'The rotor of a helicopter may  like a propeller  be powered by a variety of methods such as an internal combustion engine or jet turbine  Tip jets  fed by gases passing along hollow rotor blades from a centrally mounted engine  have been experimented with  Attempts have even been made to mount engines directly on the rotor tips',\n",
              "  'Jet engines can provide much higher thrust than propellers  and are naturally efficient at higher altitudes  being able to operate above 40 000 ft  12 000 m  They are also much more fuel efficient at normal flight speeds than rockets  Consequently  nearly all high speed and high altitude aircraft use jet engines',\n",
              "  'Use of a turbine is not absolutely necessary  other designs include the crude pulse jet  high speed ramjet and the still experimental supersonic combustion ramjet or scramjet  These mechanically simple designs require an existing airflow to work and cannot work when stationary  so they must be launched by a catapult or rocket booster  or dropped from a mother ship',\n",
              "  'Rocket powered aircraft have been experimented with  and during the Second World War the Messerschmitt Komet fighter was developed and used operationally   Since then they have been restricted to specialised niches  such as the Bell X 1 which broke the sound barrier or the North American X 15 which was capable of flying at extremely high altitudes at the border with space as it was not dependent on atmospheric oxygen',\n",
              "  'Rockets have more often been used as a supplement to the main powerplant  typically in the case of rocket assisted take off to give more power for a heavily loaded aircraft or reduce the takeoff run  In a number of designs such as the prototype  mixed power  Saunders Roe SR 53 interceptor a rocket was used to provide high speed climb and speed to reach the target while a smaller turbojet provided a slower and more economical return to base',\n",
              "  'Working devices have been created for flight research and as prototypes  but the vertical oscillation of the fuselage  which tends to accompany the wing flapping  limits their usefulness  The only practical application is a flying model hawk used to freeze prey animals into stillness so that they can be captured'],\n",
              " ['A helicopter  sometimes referred to in slang as a  chopper  or  helo   United States military usage  pronounced with a long  e  is a type of rotorcraft in which lift and thrust are supplied by horizontally spinning rotors  This allows the helicopter to take off and land vertically  to hover  and to fly forward  backward  and laterally  These attributes allow helicopters to be used in congested or isolated areas where fixed wing aircraft and many forms of VTOL  Vertical TakeOff and Landing  aircraft cannot perform',\n",
              "  'Helicopters were developed and built during the first half century of flight  with the Focke Wulf Fw 61 being the first operational helicopter in 1936  Some helicopters reached limited production  but it was not until 1942 that a helicopter designed by Igor Sikorsky reached full scale production  with 131 aircraft built  Though most earlier designs used more than one main rotor  it is the single main rotor with anti torque tail rotor configuration that has become the most common helicopter configuration   Tandem rotor helicopters are also in widespread use due to their greater payload capacity   Coaxial helicopters  tiltrotor aircraft  and compound helicopters are all flying today   Quadcopter helicopters were pioneered as early as 1907 in France  and other types of multicopter have been developed for specialized applications such as unmanned drones',\n",
              "  'A helicopter  sometimes referred to in slang as a  chopper  is a type of rotorcraft in which lift and thrust are supplied by one or more horizontally spinning rotors  By contrast the autogyro  or gyroplane  and gyrodyne have a free spinning rotor for all or part of the flight envelope  relying on a separate thrust system to propel the craft forwards  so that the airflow sets the rotor spinning to provide lift  The compound helicopter also has a separate thrust system  but continues to supply power to the rotor throughout normal flight',\n",
              "  'The rotor system  or more simply rotor  is the rotating part of a helicopter that generates lift  A rotor system may be mounted horizontally  as main rotors are  providing lift vertically  or it may be mounted vertically  such as a tail rotor  to provide horizontal thrust to counteract torque from the main rotors  The rotor consists of a mast  hub and rotor blades',\n",
              "  'The mast is a cylindrical metal shaft that extends upwards from the transmission  At the top of the mast is the attachment point for the rotor blades called the hub  Main rotor systems are classified according to how the rotor blades are attached and move relative to the hub  There are three basic types  hingeless  fully articulated  and teetering  although some modern rotor systems use a combination of these',\n",
              "  'Most helicopters have a single main rotor  but torque created by its aerodynamic drag must be countered by an opposed torque  The design that Igor Sikorsky settled on for his VS 300 was a smaller tail rotor  The tail rotor pushes or pulls against the tail to counter the torque effect  and this has become the most common configuration for helicopter design  usually at the end of a tail boom',\n",
              "  'The use of two or more horizontal rotors turning in opposite directions is another configuration used to counteract the effects of torque on the aircraft without relying on an anti torque tail rotor  This allows the power normally required to drive the tail rotor to be applied to the main rotors  increasing the aircraft s lifting capacity  There are several common configurations that use the counter rotating effect to benefit the rotorcraft',\n",
              "  'The number  size and type of engine s  used on a helicopter determines the size  function and capability of that helicopter design  The earliest helicopter engines were simple mechanical devices  such as rubber bands or spindles  which relegated the size of helicopters to toys and small models  For a half century before the first airplane flight  steam engines were used to forward the development of the understanding of helicopter aerodynamics  but the limited power did not allow for manned flight  The introduction of the internal combustion engine at the end of the 19th century became the watershed for helicopter development as engines began to be developed and produced that were powerful enough to allow for helicopters able to lift humans needed',\n",
              "  'Early helicopter designs utilized custom built engines or rotary engines designed for airplanes  but these were soon replaced by more powerful automobile engines and radial engines  The single  most limiting factor of helicopter development during the first half of the 20th century was that the amount of power produced by an engine was not able to overcome the engine s weight in vertical flight  This was overcome in early successful helicopters by using the smallest engines available  When the compact  flat engine was developed  the helicopter industry found a lighter weight powerplant easily adapted to small helicopters  although radial engines continued to be used for larger helicopters needed',\n",
              "  'Turbine engines revolutionized the aviation industry  and the turboshaft engine for helicopter use  pioneered in December 1951 by the aforementioned Kaman K 225  finally gave helicopters an engine with a large amount of power and a low weight penalty  Turboshafts are also more reliable than piston engines  especially when producing the sustained high levels of power required by a helicopter  The turboshaft engine was able to be scaled to the size of the helicopter being designed  so that all but the lightest of helicopter models are powered by turbine engines today needed',\n",
              "  'Special jet engines developed to drive the rotor from the rotor tips are referred to as tip jets  Tip jets powered by a remote compressor are referred to as cold tip jets  while those powered by combustion exhaust are referred to as hot tip jets  An example of a cold jet helicopter is the Sud Ouest Djinn  and an example of the hot tip jet helicopter is the YH 32 Hornet needed',\n",
              "  'A helicopter has four flight control inputs  These are the cyclic  the collective  the anti torque pedals  and the throttle  The cyclic control is usually located between the pilot s legs and is commonly called the cyclic stick or just cyclic  On most helicopters  the cyclic is similar to a joystick  However  the Robinson R22 and Robinson R44 have a unique teetering bar cyclic control system and a few helicopters have a cyclic control that descends into the cockpit from overhead',\n",
              "  'The control is called the cyclic because it changes the pitch of the rotor blades cyclically  The result is to tilt the rotor disk in a particular direction  resulting in the helicopter moving in that direction  If the pilot pushes the cyclic forward  the rotor disk tilts forward  and the rotor produces a thrust in the forward direction  If the pilot pushes the cyclic to the side  the rotor disk tilts to that side and produces thrust in that direction  causing the helicopter to hover sideways',\n",
              "  'The collective pitch control or collective is located on the left side of the pilot s seat with a settable friction control to prevent inadvertent movement  The collective changes the pitch angle of all the main rotor blades collectively  i e  all at the same time  and independently of their position  Therefore  if a collective input is made  all the blades change equally  and the result is the helicopter increasing or decreasing in altitude',\n",
              "  'The anti torque pedals are located in the same position as the rudder pedals in a fixed wing aircraft  and serve a similar purpose  namely to control the direction in which the nose of the aircraft is pointed  Application of the pedal in a given direction changes the pitch of the tail rotor blades  increasing or reducing the thrust produced by the tail rotor and causing the nose to yaw in the direction of the applied pedal  The pedals mechanically change the pitch of the tail rotor altering the amount of thrust produced',\n",
              "  'Helicopter rotors are designed to operate in a narrow range of RPM  The throttle controls the power produced by the engine  which is connected to the rotor by a fixed ratio transmission  The purpose of the throttle is to maintain enough engine power to keep the rotor RPM within allowable limits so that the rotor produces enough lift for flight  In single engine helicopters  the throttle control is a motorcycle style twist grip mounted on the collective control  while dual engine helicopters have a power lever for each engine',\n",
              "  'A swashplate controls the collective and cyclic pitch of the main blades  The swashplate moves up and down  along the main shaft  to change the pitch of both blades  This causes the helicopter to push air downward or upward  depending on the angle of attack  The swashplate can also change its angle to move the blades angle forwards or backwards  or left and right  to make the helicopter move in those directions',\n",
              "  'A compound helicopter has an additional system for thrust and  typically  small stub fixed wings  This offloads the rotor in cruise  which allows its rotation to be slowed down  thus increasing the maximum speed of the aircraft  The Lockheed AH 56A Cheyenne diverted up to 90  of its engine power to a pusher propeller during forward flight',\n",
              "  'Hovering is the most challenging part of flying a helicopter  This is because a helicopter generates its own gusty air while in a hover  which acts against the fuselage and flight control surfaces  The end result is constant control inputs and corrections by the pilot to keep the helicopter where it is required to be  Despite the complexity of the task  the control inputs in a hover are simple  The cyclic is used to eliminate drift in the horizontal plane  that is to control forward and back  right and left  The collective is used to maintain altitude  The pedals are used to control nose direction or heading  It is the interaction of these controls that makes hovering so difficult  since an adjustment in any one control requires an adjustment of the other two  creating a cycle of constant correction',\n",
              "  'As a helicopter moves from hover to forward flight it enters a state called translational lift which provides extra lift without increasing power  This state  most typically  occurs when the airspeed reaches approximately 16 24 knots  30 44 km h  18 28 mph  and may be necessary for a helicopter to obtain flight',\n",
              "  'In forward flight a helicopter s flight controls behave more like those of a fixed wing aircraft  Displacing the cyclic forward will cause the nose to pitch down  with a resultant increase in airspeed and loss of altitude  Aft cyclic will cause the nose to pitch up  slowing the helicopter and causing it to climb  Increasing collective  power  while maintaining a constant airspeed will induce a climb while decreasing collective will cause a descent  Coordinating these two inputs  down collective plus aft cyclic or up collective plus forward cyclic  will result in airspeed changes while maintaining a constant altitude  The pedals serve the same function in both a helicopter and a fixed wing aircraft  to maintain balanced flight  This is done by applying a pedal input in whichever direction is necessary to center the ball in the turn and bank indicator',\n",
              "  'Due to the operating characteristics of the helicopter its ability to take off and land vertically  and to hover for extended periods of time  as well as the aircraft s handling properties under low airspeed conditions it has been chosen to conduct tasks that were previously not possible with other aircraft  or were time  or work intensive to accomplish on the ground  Today  helicopter uses include transportation of people and cargo  military uses  construction  firefighting  search and rescue  tourism  medical transport  law enforcement  agriculture  news and media  and aerial observation  among others They can be used for Reflection seismology or recreation',\n",
              "  'A helicopter used to carry loads connected to long cables or slings is called an aerial crane  Aerial cranes are used to place heavy equipment  like radio transmission towers and large air conditioning units  on the tops of tall buildings  or when an item must be raised up in a remote area  such as a radio tower raised on the top of a hill or mountain  Helicopters are used as aerial cranes in the logging industry to lift trees out of terrain where vehicles cannot travel and where environmental concerns prohibit the building of roads  These operations are referred to as longline because of the long  single sling line used to carry the load',\n",
              "  'Helitack  is the use of helicopters to combat wildland fires  The helicopters are used for aerial firefighting  water bombing  and may be fitted with tanks or carry helibuckets  Helibuckets  such as the Bambi bucket  are usually filled by submerging the bucket into lakes  rivers  reservoirs  or portable tanks  Tanks fitted onto helicopters are filled from a hose while the helicopter is on the ground or water is siphoned from lakes or reservoirs through a hanging snorkel as the helicopter hovers over the water source  Helitack helicopters are also used to deliver firefighters  who rappel down to inaccessible areas  and to resupply firefighters  Common firefighting helicopters include variants of the Bell 205 and the Erickson S 64 Aircrane helitanker',\n",
              "  'Helicopters are used as air ambulances for emergency medical assistance in situations when an ambulance cannot easily or quickly reach the scene  or cannot transport the patient to a medical facility in time  Helicopters are also used when patients need to be transported between medical facilities and air transportation is the most practical method  An air ambulance helicopter is equipped to stabilize and provide limited medical treatment to a patient while in flight  The use of helicopters as air ambulances is often referred to as  MEDEVAC  and patients are referred to as being  airlifted  or  medevaced  This use was pioneered in the Korean War  when time to reach a medical facility was reduced to three hours from the eight hours needed in World War II  and further reduced to two hours by the Vietnam War',\n",
              "  'Police departments and other law enforcement agencies use helicopters to pursue suspects  Since helicopters can achieve a unique aerial view  they are often used in conjunction with police on the ground to report on suspects  locations and movements  They are often mounted with lighting and heat sensing equipment for night pursuits',\n",
              "  'Military forces use attack helicopters to conduct aerial attacks on ground targets  Such helicopters are mounted with missile launchers and miniguns  Transport helicopters are used to ferry troops and supplies where the lack of an airstrip would make transport via fixed wing aircraft impossible  The use of transport helicopters to deliver troops as an attack force on an objective is referred to as  air assault  Unmanned aerial systems  UAS  helicopter systems of varying sizes are developed by companies for military reconnaissance and surveillance duties  Naval forces also use helicopters equipped with dipping sonar for anti submarine warfare  since they can operate from small ships',\n",
              "  'Oil companies charter helicopters to move workers and parts quickly to remote drilling sites located at sea or in remote locations  The speed advantage over boats makes the high operating cost of helicopters cost effective in ensuring that oil platforms continue to operate  Various companies specialize in this type of operation',\n",
              "  'NASA is developing the Mars Helicopter  a 1 8 kg  4 0 lb  helicopter to be launched to survey Mars  along with a rover  in 2020  Given that the Martian atmosphere is 100 times thinner than that of Earth s  its two blades will spin at close to 3 000 revolutions a minute  approximately 10 times faster than that of a terrestrial helicopter',\n",
              "  'By October 2018  the in service and stored helicopter fleet of 38 570 with civil or government operators was led Robinson Helicopter with 24 7  followed by Airbus Helicopters with 24 4  then Bell with 20 5 and Leonardo with 8 4  Russian Helicopters with 7 7  Sikorsky Aircraft with 7 2  MD Helicopters with 3 4  and other with 2 2 The most widespread model is the piston Robinson R44 with 5 600  then the H125 AS350 with 3 600 units  followed by the Bell 206 with 3 400 Most were in North America with 34 3  then in Europe with 28 0  followed by Asia Pacific with 18 6  Latin America with 11 6  Africa with 5 3  and Middle East with 1 7',\n",
              "  'The earliest references for vertical flight came from China  Since around 400 BC  Chinese children have played with bamboo flying toys  or Chinese top  This bamboo copter is spun by rolling a stick attached to a rotor  The spinning creates lift  and the toy flies when released  The 4th century AD Daoist book Baopuzi by Ge Hong    Master who Embraces Simplicity  reportedly describes some of the ideas inherent to rotary wing aircraft',\n",
              "  'It was not until the early 1480s  when Italian polymath Leonardo da Vinci created a design for a machine that could be described as an  aerial screw  that any recorded advancement was made towards vertical flight  His notes suggested that he built small flying models  but there were no indications for any provision to stop the rotor from making the craft rotate  As scientific knowledge increased and became more accepted  people continued to pursue the idea of vertical flight',\n",
              "  'In July 1754  Russian Mikhail Lomonosov had developed a small coaxial modeled after the Chinese top but powered by a wound up spring  and demonstrated it to the Russian Academy of Sciences  It was powered by a spring  and was suggested as a method to lift meteorological instruments  In 1783  Christian de Launoy  and his mechanic  Bienvenu  used a coaxial version of the Chinese top in a model consisting of contrarotating turkey flight  as rotor blades  and in 1784  demonstrated it to the French Academy of Sciences  Sir George Cayley  influenced by a childhood fascination with the Chinese flying top  developed a model of feathers  similar to that of Launoy and Bienvenu  but powered by rubber bands  By the end of the century  he had progressed to using sheets of tin for rotor blades and springs for power  His writings on his experiments and models would become influential on future aviation pioneers  Alphonse P naud would later develop coaxial rotor model helicopter toys in 1870  also powered by rubber bands  One of these toys  given as a gift by their father  would inspire the Wright brothers to pursue the dream of flight',\n",
              "  'In 1861  the word  helicopter  was coined by Gustave de Ponton d Am court  a French inventor who demonstrated a small steam powered model  While celebrated as an innovative use of a new metal  aluminum  the model never lifted off the ground  D Amecourt s linguistic contribution would survive to eventually describe the vertical flight he had envisioned  Steam power was popular with other inventors as well  In 1878 the Italian Enrico Forlanini s unmanned vehicle  also powered by a steam engine  rose to a height of 12 meters  39 feet  where it hovered for some 20 seconds after a vertical take off  Emmanuel Dieuaide s steam powered design featured counter rotating rotors powered through a hose from a boiler on the ground  In 1887 Parisian inventor  Gustave Trouv  built and flew a tethered electric model helicopter needed',\n",
              "  'In 1885  Thomas Edison was given US 1 000  equivalent to  28 000 today  by James Gordon Bennett  Jr  to conduct experiments towards developing flight  Edison built a helicopter and used the paper for a stock ticker to create guncotton  with which he attempted to power an internal combustion engine  The helicopter was damaged by explosions and one of his workers was badly burned  Edison reported that it would take a motor with a ratio of three to four pounds per horsepower produced to be successful  based on his experiments  J n Bah  a Slovak inventor  adapted the internal combustion engine to power his helicopter model that reached a height of 0 5 meters  1 6 feet  in 1901  On 5 May 1905  his helicopter reached 4 meters  13 feet  in altitude and flew for over 1 500 meters  4 900 feet  In 1908  Edison patented his own design for a helicopter powered by a gasoline engine with box kites attached to a mast by cables for a rotor  but it never flew',\n",
              "  'In 1906  two French brothers  Jacques and Louis Breguet  began experimenting with airfoils for helicopters  In 1907  those experiments resulted in the Gyroplane No 1  possibly as the earliest known example of a quadcopter  Although there is some uncertainty about the date  sometime between 14 August and 29 September 1907  the Gyroplane No  1 lifted its pilot into the air about 0 6 metres  2 ft  for a minute  The Gyroplane No 1 proved to be extremely unsteady and required a man at each corner of the airframe to hold it steady  For this reason  the flights of the Gyroplane No 1 are considered to be the first manned flight of a helicopter  but not a free or untethered flight',\n",
              "  'That same year  fellow French inventor Paul Cornu designed and built the Cornu helicopter which used two 6 1 metre  20 ft  counter rotating rotors driven by a 24 hp  18 kW  Antoinette engine  On 13 November 1907  it lifted its inventor to 0 3 metres  1 ft  and remained aloft for 20 seconds  Even though this flight did not surpass the flight of the Gyroplane No  1  it was reported to be the first truly free flight with a pilot 1  Cornu s helicopter completed a few more flights and achieved a height of nearly 2 0 metres  6 5 ft  but it proved to be unstable and was abandoned',\n",
              "  'The Danish inventor Jacob Ellehammer built the Ellehammer helicopter in 1912  It consisted of a frame equipped with two counter rotating discs  each of which was fitted with six vanes around its circumference  After indoor tests  the aircraft was demonstrated outdoors and made several free take offs  Experiments with the helicopter continued until September 1916  when it tipped over during take off  destroying its rotors',\n",
              "  'In the early 1920s  Argentine Ra l Pateras Pescara de Castelluccio  while working in Europe  demonstrated one of the first successful applications of cyclic pitch  Coaxial  contra rotating  biplane rotors could be warped to cyclically increase and decrease the lift they produced  The rotor hub could also be tilted forward a few degrees  allowing the aircraft to move forward without a separate propeller to push or pull it  Pateras Pescara was also able to demonstrate the principle of autorotation  By January 1924  Pescara s helicopter No 1 was tested but was found to be underpowered and could not lift its own weight  His 2F fared better and set a record  The British government funded further research by Pescara which resulted in helicopter No  3  powered by a 250 horsepower  190 kW  radial engine which could fly for up to ten minutes',\n",
              "  'On 14 April 1924  Frenchman  tienne Oehmichen set the first helicopter world record recognized by the F d ration A ronautique Internationale  FAI  flying his quadrotor helicopter 360 meters  1 180 ft  On 18 April 1924  Pescara beat Oemichen s record  flying for a distance of 736 meters  2 415 ft   nearly 0 80 kilometers or  5 miles  in 4 minutes and 11 seconds  about 13 km h or 8 mph  maintaining a height of 1 8 meters  6 feet  On 4 May  Oehmichen completed the first one kilometer  0 62 mi  closed circuit helicopter flight in 7 minutes 40 seconds with his No  2 machine',\n",
              "  'Albert Gillis von Baumhauer  a Dutch aeronautical engineer  began studying rotorcraft design in 1923  His first prototype  flew   hopped  and hovered in reality  on 24 September 1925  with Dutch Army Air arm Captain Floris Albert van Heijst at the controls  The controls that van Heijst used were von Baumhauer s inventions  the cyclic and collective  Patents were granted to von Baumhauer for his cyclic and collective controls by the British ministry of aviation on 31 January 1927  under patent number 265 272 needed',\n",
              "  'In 1927  Engelbert Zaschka from Germany built a helicopter  equipped with two rotors  in which a gyroscope was used to increase stability and serves as an energy accumulator for a gliding flight to make a landing  Zaschka s plane  the first helicopter  which ever worked so successfully in miniature  not only rises and descends vertically  but is able to remain stationary at any height',\n",
              "  'In 1930  the Italian engineer Corradino D Ascanio built his D AT3  a coaxial helicopter  His relatively large machine had two  two bladed  counter rotating rotors  Control was achieved by using auxiliary wings or servo tabs on the trailing edges of the blades  a concept that was later adopted by other helicopter designers  including Bleeker and Kaman  Three small propellers mounted to the airframe were used for additional pitch  roll  and yaw control  The D AT3 held modest FAI speed and altitude records for the time  including altitude  18 m or 59 ft  duration  8 minutes 45 seconds  and distance flown  1 078 m or 3 540 ft',\n",
              "  'In the Soviet Union  Boris N  Yuriev and Alexei M  Cheremukhin  two aeronautical engineers working at the Tsentralniy Aerogidrodinamicheskiy Institut  TsAGI or the Central Aerohydrodynamic Institute  constructed and flew the TsAGI 1 EA single lift rotor helicopter  which used an open tubing framework  a four blade main lift rotor  and twin sets of 1 8 meter  5 9 foot  diameter  two bladed anti torque rotors  one set of two at the nose and one set of two at the tail  Powered by two M 2 powerplants  up rated copies of the Gnome Monosoupape 9 Type B 2 100 CV output rotary engine of World War I  the TsAGI 1 EA made several low altitude flights  By 14 August 1932  Cheremukhin managed to get the 1 EA up to an unofficial altitude of 605 meters  1 985 feet  shattering d Ascanio s earlier achievement  As the Soviet Union was not yet a member of the FAI  however  Cheremukhin s record remained unrecognized',\n",
              "  'Nicolas Florine  a Russian engineer  built the first twin tandem rotor machine to perform a free flight  It flew in Sint Genesius Rode  at the Laboratoire A rotechnique de Belgique  now von Karman Institute  in April 1933  and attained an altitude of six meters  20 feet  and an endurance of eight minutes  Florine chose a co rotating configuration because the gyroscopic stability of the rotors would not cancel  Therefore  the rotors had to be tilted slightly in opposite directions to counter torque  Using hingeless rotors and co rotation also minimised the stress on the hull  At the time  it was one of the most stable helicopters in existence',\n",
              "  'The Br guet Dorand Gyroplane Laboratoire was built in 1933  It was a coaxial helicopter  contra rotating  After many ground tests and an accident  it first took flight on 26 June 1935  Within a short time  the aircraft was setting records with pilot Maurice Claisse at the controls  On 14 December 1935  he set a record for closed circuit flight with a 500 meter  1 600 foot  diameter  The next year  on 26 September 1936  Claisse set a height record of 158 meters  518 feet  And  finally  on 24 November 1936  he set a flight duration record of one hour  two minutes and 50  over a 44 kilometers  27 miles  closed circuit at 44 7 kilometers per hour  27 8 mph  The aircraft was destroyed in 1943 by an Allied airstrike at Villacoublay airport',\n",
              "  'American inventor Arthur M  Young started work on model helicopters in 1928 using converted electric hover motors to drive the rotor head  Young invented the stabilizer bar and patented it shortly after  A mutual friend introduced Young to Lawrence Dale  who once seeing his work asked him to join the Bell Aircraft company  When Young arrived at Bell in 1941  he signed his patent over and began work on the helicopter  His budget was US 250 000  equivalent to  4 3 million today  to build two working helicopters  In just six months they completed the first Bell Model 1  which spawned the Bell Model 30  later succeeded by the Bell 47',\n",
              "  'Heinrich Focke at Focke Wulf was licensed to produce the Cierva C 30 autogyro in 1933  Focke designed the world s first practical transverse twin rotor helicopter  the Focke Wulf Fw 61  which first flew on 26 June 1936  The Fw 61 broke all of the helicopter world records in 1937  demonstrating a flight envelope that had only previously been achieved by the autogyro',\n",
              "  'During World War II  Nazi Germany used helicopters in small numbers for observation  transport  and medical evacuation  The Flettner Fl 282 Kolibri synchropter using the same basic configuration as Anton Flettner s own pioneering Fl 265 was used in the Mediterranean  while the Focke Achgelis Fa 223 Drache twin rotor helicopter was used in Europe needed  Extensive bombing by the Allied forces prevented Germany from producing any helicopters in large quantities during the war',\n",
              "  'In the United States  Russian born engineer Igor Sikorsky and Wynn Laurence LePage competed to produce the U S  military s first helicopter  LePage received the patent rights to develop helicopters patterned after the Fw 61  and built the XR 1  Meanwhile  Sikorsky settled on a simpler  single rotor design  the VS 300  which turned out to be the first practical single lifting rotor helicopter design  After experimenting with configurations to counteract the torque produced by the single main rotor  Sikorsky settled on a single  smaller rotor mounted on the tail boom',\n",
              "  'Developed from the VS 300  Sikorsky s R 4 was the first large scale mass produced helicopter  with a production order for 100 aircraft  The R 4 was the only Allied helicopter to serve in World War II  when it was used primarily for search and rescue  by the USAAF 1st Air Commando Group  in Burma  in Alaska  and in other areas with harsh terrain  Total production reached 131 helicopters before the R 4 was replaced by other Sikorsky helicopters such as the R 5 and the R 6  In all  Sikorsky produced over 400 helicopters before the end of World War II',\n",
              "  'While LePage and Sikorsky built their helicopters for the military  Bell Aircraft hired Arthur Young to help build a helicopter using Young s two blade teetering rotor design  which used a weighted stabilizer bar placed at a 90  angle to the rotor blades  The subsequent Model 30 helicopter showed the design s simplicity and ease of use  The Model 30 was developed into the Bell 47  which became the first helicopter certified for civilian use in the United States  Produced in several countries  the Bell 47 was the most popular helicopter model for nearly 30 years',\n",
              "  'In 1951  at the urging of his contacts at the Department of the Navy  Charles Kaman modified his K 225 synchropter   a design for a twin rotor helicopter concept first pioneered by Anton Flettner in 1939  with the aforementioned Fl 265 piston engined design in Germany   with a new kind of engine  the turboshaft engine  This adaptation of the turbine engine provided a large amount of power to Kaman s helicopter with a lower weight penalty than piston engines  with their heavy engine blocks and auxiliary components  On 11 December 1951  the Kaman K 225 became the first turbine powered helicopter in the world  Two years later  on 26 March 1954  a modified Navy HTK 1  another Kaman helicopter  became the first twin turbine helicopter to fly  However  it was the Sud Aviation Alouette II that would become the first helicopter to be produced with a turbine engine',\n",
              "  'Reliable helicopters capable of stable hover flight were developed decades after fixed wing aircraft  This is largely due to higher engine power density requirements than fixed wing aircraft  Improvements in fuels and engines during the first half of the 20th century were a critical factor in helicopter development  The availability of lightweight turboshaft engines in the second half of the 20th century led to the development of larger  faster  and higher performance helicopters  While smaller and less expensive helicopters still use piston engines  turboshaft engines are the preferred powerplant for helicopters today',\n",
              "  'There are several reasons a helicopter cannot fly as fast as a fixed wing aircraft  When the helicopter is hovering  the outer tips of the rotor travel at a speed determined by the length of the blade and the rotational speed  In a moving helicopter  however  the speed of the blades relative to the air depends on the speed of the helicopter as well as on their rotational speed  The airspeed of the advancing rotor blade is much higher than that of the helicopter itself  It is possible for this blade to exceed the speed of sound  and thus produce vastly increased drag and vibration',\n",
              "  'At the same time  the advancing blade creates more lift traveling forward  the retreating blade produces less lift  If the aircraft were to accelerate to the air speed that the blade tips are spinning  the retreating blade passes through air moving at the same speed of the blade and produces no lift at all  resulting in very high torque stresses on the central shaft that can tip down the retreating blade side of the vehicle  and cause a loss of control  Dual counter rotating blades prevent this situation due to having two advancing and two retreating blades with balanced forces',\n",
              "  'Because the advancing blade has higher airspeed than the retreating blade and generates a dissymmetry of lift  rotor blades are designed to  flap  lift and twist in such a way that the advancing blade flaps up and develops a smaller angle of attack  Conversely  the retreating blade flaps down  develops a higher angle of attack  and generates more lift  At high speeds  the force on the rotors is such that they  flap  excessively  and the retreating blade can reach too high an angle and stall  For this reason  the maximum safe forward airspeed of a helicopter is given a design rating called VNE  velocity  never exceed  In addition  it is possible for the helicopter to fly at an airspeed where an excessive amount of the retreating blade stalls  which results in high vibration  pitch up  and roll into the retreating blade',\n",
              "  'During the closing years of the 20th century designers began working on helicopter noise reduction  Urban communities have often expressed great dislike of noisy aviation or noisy aircraft  and police and passenger helicopters can be unpopular because of the sound  The redesigns followed the closure of some city heliports and government action to constrain flight paths in national parks and other places of natural beauty',\n",
              "  'Helicopters also vibrate  an unadjusted helicopter can easily vibrate so much that it will shake itself apart  To reduce vibration  all helicopters have rotor adjustments for height and weight  Blade height is adjusted by changing the pitch of the blade  Weight is adjusted by adding or removing weights on the rotor head and or at the blade end caps  Most also have vibration dampers for height and pitch  Some also use mechanical feedback systems to sense and counter vibration  Usually the feedback system uses a mass as a  stable reference  and a linkage from the mass operates a flap to adjust the rotor s angle of attack to counter the vibration  Adjustment is difficult in part because measurement of the vibration is hard  usually requiring sophisticated accelerometers mounted throughout the airframe and gearboxes  The most common blade vibration adjustment measurement system is to use a stroboscopic flash lamp  and observe painted markings or coloured reflectors on the underside of the rotor blades  The traditional low tech system is to mount coloured chalk on the rotor tips  and see how they mark a linen sheet  Gearbox vibration most often requires a gearbox overhaul or replacement  Gearbox or drive train vibrations can be extremely harmful to a pilot  The most severe being pain  numbness  loss of tactile discrimination and dexterity',\n",
              "  'When the trailing vortices colliding with the tail rotor are rotating in the same direction  this causes a loss of thrust from the tail rotor  When the trailing vortices rotate in the opposite direction of the tail rotor  thrust is increased  Use of the foot pedals is required to adjust the tail rotor s angle of attack  to compensate for these instabilities',\n",
              "  'These issues are due to the exposed tail rotor cutting through open air around rear of the vehicle  This issue disappears when the tail is instead ducted  using an internal impeller enclosed in the tail and a jet of high pressure air sideways out of the tail  as the main rotor vortices can not impact the operation of an internal impeller',\n",
              "  'For a standard helicopter with a single main rotor  maintaining steady flight with a crosswind presents an additional flight control problem  where strong crosswinds from certain angles will increase or decrease lift from the main rotors  This effect is also triggered in a no wind condition when moving the craft diagonally in various directions  depending on the direction of main rotor rotation',\n",
              "  'Conventional rotary wing aircraft use a set of complex mechanical gearboxes to convert the high rotation speed of gas turbines into the low speed required to drive main and tail rotors  Unlike powerplants  mechanical gearboxes cannot be duplicated  for redundancy  and have always been a major weak point in helicopter reliability  In flight catastrophic gear failures often result in gearbox jamming and subsequent fatalities  whereas loss of lubrication can trigger onboard fire needed  Another weakness of mechanical gearboxes is their transient power limitation  due to structural fatigue limits  Recent EASA studies point to engines and transmissions as prime cause of crashes just after pilot errors',\n",
              "  'By contrast  electromagnetic transmissions do not use any parts in contact  hence lubrication can be drastically simplified  or eliminated  Their inherent redundancy offers good resilience to single point of failure  The absence of gears enables high power transient without impact on service life  The concept of electric propulsion applied to helicopter and electromagnetic drive was brought to reality by Pascal Chretien who designed  built and flew world s first man carrying  free flying electric helicopter  The concept was taken from the conceptual computer aided design model on 10 September 2010 to the first testing at 30  power on 1 March 2011   less than six months  The aircraft first flew on 12 August 2011  All development was conducted in Venelles  France'],\n",
              " ['The Airbus A380 is the world s largest passenger airliner  a wide body aircraft manufactured by Airbus Airbus studies started in 1988 and the project was announced in 1990 to challenge the dominance of the Boeing 747 in the long haul market The A3XX project was presented in 1994  Airbus launched the  9 5 billion  10 7 billion  A380 programme on 19 December 2000 The first prototype was unveiled in Toulouse on 18 January 2005 with its first flight on 27 April 2005   Difficulties in electrical wiring caused a two year delay and the development cost ballooned to  18 billion   It obtained its EASA and FAA type certificates on 12 December 2006',\n",
              "  'It was first delivered to Singapore Airlines on 15 October 2007 and entered service on 25 October Production peaked at 30 per year in 2012 and 2014  However  Airbus concedes that its  25 billion investment for the aircraft cannot be recouped On 14 February 2019  after Emirates reduced its last orders in favour of the A350 and the A330neo  Airbus announced that A380 production would end by 2021',\n",
              "  'The full length double deck aircraft has a typical seating capacity of 525  though it is certified for up to 853 passengers It is powered by four Engine Alliance GP7200 or Rolls Royce Trent 900 turbofans providing a range of 8 000 nmi  14 800 km As of December 2019  Airbus has received 251 firm orders and delivered 242 aircraft  Emirates is the biggest A380 customer with 123 ordered  of which 115 have been delivered',\n",
              "  'In mid 1988  Airbus engineers led by Jean Roeder began work in secret on the development of an ultra high capacity airliner  UHCA  both to complete its own range of products and to break the dominance that Boeing had enjoyed in this market segment since the early 1970s with its 747 7 McDonnell Douglas unsuccessfully offered its double deck MD 12 concept for sale  Lockheed was exploring the possibility for a Very Large Subsonic Transport  Roeder was given approval for further evaluations of the UHCA after a formal presentation to the President and CEO in June 1990',\n",
              "  'The megaproject was announced at the 1990 Farnborough Airshow  with the stated goal of 15  lower operating costs than the 747 400 16 17 Airbus organised four teams of designers  one from each of its partners  A rospatiale  British Aerospace  Deutsche Aerospace AG  CASA  to propose new technologies for its future aircraft designs  The designs were presented in 1992 and the most competitive designs were used 17 18 In January 1993  Boeing and several companies in the Airbus consortium started a joint feasibility study of a Very Large Commercial Transport  VLCT  aiming to form a partnership to share the limited market In June 1994  Airbus announced its plan to develop its own very large airliner  designated as A3XX  Airbus considered several designs  including an unusual side by side combination of two fuselages from its A340  the largest Airbus jet at the time 19 The A3XX was pitted against the VLCT study and Boeing s own New Large Aircraft successor to the 747',\n",
              "  'In July 1995  the joint study with Boeing was abandoned  as Boeing s interest had declined due to analysis that such a product was unlikely to cover the projected  15 billion development cost  Despite the fact that only two airlines had expressed public interest in purchasing such a plane  Airbus was already pursuing its own large plane project  Analysts suggested that Boeing would instead pursue stretching its 747 design  and that air travel was already moving away from the hub and spoke system that consolidated traffic into large planes  and toward more non stop routes that could be served by smaller planes',\n",
              "  'From 1997 to 2000  as the 1997 Asian financial crisis darkened the market outlook  Airbus refined its design  targeting a 15 20  reduction in operating costs over the existing Boeing 747 400  The A3XX design converged on a double decker layout that provided more passenger volume than a traditional single deck design  Airbus did so in line with traditional hub and spoke theory  as opposed to the point to point theory with the Boeing 777  after conducting an extensive market analysis with over 200 focus groups  Although early marketing of the huge cross section touted the possibility of duty free shops  restaurant like dining  gyms  casinos and beauty parlours on board  the realities of airline economics have kept such dreams grounded',\n",
              "  'On 19 December 2000  the supervisory board of newly restructured Airbus voted to launch an  9 5 billion  10 7 billion  project to build the A3XX  re designated as the A380  with 50 firm orders from six launch customers  The A380 designation was a break from previous Airbus families  which had progressed sequentially from A300 to A340  It was chosen because the number 8 resembles the double deck cross section  and is a lucky number in some Asian countries where the aircraft was being marketed  The aircraft configuration was finalised in early 2001  and manufacturing of the first A380 wing box component started on 23 January 2002  The development cost of the A380 had grown to  11 billion when the first aircraft was completed',\n",
              "  'In 2000  the projected development cost was  9 5 billion  In 2004 Airbus estimated that  1 5 billion  2 billion  would need to be added  totalling the developmental costs to  10 3 billion  12 7 billion  In 2006  Airbus stopped publishing its reported cost after reaching costs of  10 2 billion and then it provisioned another  4 9 billion  after the difficulties in electric cabling and two years delay for an estimated total of  18 billion',\n",
              "  'In 2014  the aircraft was estimated to have cost  25bn  16bn   18 9bn  to develop  In 2015  Airbus said development costs were  15 billion  11 4 billion   16 95 billion  though analysts believe the figure is likely to be at least  5bn  5 65 Bn  more for a  20 Bn  22 6 Bn  total  In 2016  The A380 development costs were estimated at  25 billion for 15 years   25 30 billion  or  25 billion  28 billion',\n",
              "  'To start the programme in 2000  the governments of Germany  France and the UK loaned Airbus 3 5 billion euros and refundable advances reached 5 9 billion euros  7 3 billion In February 2018  after an Emirates order secured production of the unprofitable programme for ten years  Airbus revised its deal with the three loan giving governments to save  1 4 billion  17  restructured terms  to lower the production rate from eight in 2019 to six per year',\n",
              "  'On 15 May 2018  in its EU appeal ruling  a WTO ruling concluded that the A380 received improper subsidies through  9 billion of launch aids  but Airbus acknowledges that the threat posed to Boeing by the A380 is so marginal with 330 orders since its 2000 launch that any U S  sanctions should be minimal  as previous rulings showed Boeing s exposure could be as little as  377 million',\n",
              "  'Major structural sections of the A380 are built in France  Germany  Spain  and the United Kingdom  Due to the sections  large size  traditional transportation methods proved unfeasible  so they are brought to the Jean Luc Lagard re Plant assembly hall in Toulouse  France  by specialised road and water transportation  though some parts are moved by the A300 600ST Beluga transport aircraft  A380 components are provided by suppliers from around the world  the four largest contributors  by value  are Rolls Royce  Safran  United Technologies and General Electric',\n",
              "  'For the surface movement of large A380 structural components  a complex route known as the Itin raire   Grand Gabarit was developed  This involved the construction of a fleet of roll on roll off  RORO  ships and barges  the construction of port facilities and the development of new and modified roads to accommodate oversized road convoys  The front and rear fuselage sections are shipped on one of three RORO ships from Hamburg in northern Germany to Saint Nazaire in France  The ship travels via Mostyn in the United Kingdom  where the wings are loaded  The wings are manufactured at Broughton in North Wales  then transported by barge to Mostyn docks for ship transport',\n",
              "  'In Saint Nazaire  the ship exchanges the fuselage sections from Hamburg for larger  assembled sections  some of which include the nose  The ship unloads in Bordeaux  The ship then picks up the belly and tail sections from Construcciones Aeron uticas SA in C diz in southern Spain  and delivers them to Bordeaux  From there  the A380 parts are transported by barge to Langon  and by oversize road convoys to the assembly hall in Toulouse  To avoid damage from direct handling  parts are secured in custom jigs carried on self powered wheeled vehicles',\n",
              "  'Five A380s were built for testing and demonstration purposes  The first A380  registered F WWOW  was unveiled in Toulouse 18 January 2005  It first flew on 27 April 2005  This plane  equipped with Rolls Royce Trent 900 engines  flew from Toulouse Blagnac Airport with a crew of six headed by chief test pilot Jacques Rosay  Rosay said flying the A380 had been  like handling a bicycle',\n",
              "  'On 1 December 2005  the A380 achieved its maximum design speed of Mach 0 96   its design cruise speed is Mach 0 85  in a shallow dive  In 2006  the A380 flew its first high altitude test at Addis Ababa Bole International Airport  It conducted its second high altitude test at the same airport in 2009  On 10 January 2006  it flew to Jos  Mar a C rdova International Airport in Colombia  accomplishing the transatlantic testing  and then it went to El Dorado International Airport to test the engine operation in high altitude airports  It arrived in North America on 6 February 2006  landing in Iqaluit  Nunavut in Canada for cold weather testing',\n",
              "  'On 14 February 2006  during the destructive wing strength certification test on MSN5000  the test wing of the A380 failed at 145  of the limit load  short of the required 150  level  Airbus announced modifications adding 30 kg  66 lb  to the wing to provide the required strength  On 26 March 2006  the A380 underwent evacuation certification in Hamburg  With 8 of the 16 exits arbitrarily blocked  853 mixed passengers and 20 crew exited the darkened aircraft in 78 seconds  less than the 90 seconds required for certification  Three days later  the A380 received European Aviation Safety Agency  EASA  and United States Federal Aviation Administration  FAA  approval to carry up to 853 passengers',\n",
              "  'The first A380 using GP7200 engines serial number MSN009 and registration F WWEA flew on 25 August 2006  On 4 September 2006  the first full passenger carrying flight test took place  The aircraft flew from Toulouse with 474 Airbus employees on board  in a test of passenger facilities and comfort  In November 2006  a further series of route proving flights demonstrated the aircraft s performance for 150 flight hours under typical airline operating conditions  As of  the A380 test aircraft continue to perform test procedures',\n",
              "  'Airbus obtained type certificates for the A380 841 and A380 842 model from the EASA and FAA on 12 December 2006 in a joint ceremony at the company s French headquarters  receiving the ICAO code A388  The A380 861 model was added to the type certificate on 14 December 2007',\n",
              "  'Initial production of the A380 was troubled by delays attributed to the 530 km  330 mi  of wiring in each aircraft  Airbus cited as underlying causes the complexity of the cabin wiring  98 000 wires and 40 000 connectors  its concurrent design and production  the high degree of customisation for each airline  and failures of configuration management and change control  The German and Spanish Airbus facilities continued to use CATIA version 4  while British and French sites migrated to version 5  This caused overall configuration management problems  at least in part because wire harnesses manufactured using aluminium rather than copper conductors necessitated special design rules including non standard dimensions and bend radii  these were not easily transferred between versions of the software',\n",
              "  'Airbus announced the first delay in June 2005 and notified airlines that deliveries would be delayed by six months  This reduced the total number of planned deliveries by the end of 2009 from about 120 to 90 100  On 13 June 2006  Airbus announced a second delay  with the delivery schedule slipping an additional six to seven months  Although the first delivery was still planned before the end of 2006  deliveries in 2007 would drop to only 9 aircraft  and deliveries by the end of 2009 would be cut to 70 80 aircraft  The announcement caused a 26  drop in the share price of Airbus  parent  EADS  and led to the departure of EADS CEO No l Forgeard  Airbus CEO Gustav Humbert  and A380 programme manager Charles Champion  On 3 October 2006  upon completion of a review of the A380 programme  Airbus CEO Christian Streiff announced a third delay  pushing the first delivery to October 2007  to be followed by 13 deliveries in 2008  25 in 2009  and the full production rate of 45 aircraft per year in 2010  The delay also increased the earnings shortfall projected by Airbus through 2010 to  4 8 billion',\n",
              "  'As Airbus prioritised the work on the A380 800 over the A380F  freighter orders were cancelled by  and United Parcel Service  or converted to A380 800 by Emirates and ILFC  Airbus suspended work on the freighter version  but said it remained on offer  albeit without a service entry date  For the passenger version Airbus negotiated a revised delivery schedule and compensation with the 13 customers  all of which retained their orders with some placing subsequent orders  including Emirates  Singapore Airlines  Qantas  Air France  Qatar Airways  and Korean Air',\n",
              "  'Beginning in 2007 the A380 was considered as a potential replacement for the existing Boeing VC 25 serving as Air Force One presidential transport  but in January 2009 EADS declared that they were not going to bid for the contract  as assembling only three planes in the US would not make financial sense',\n",
              "  'On 13 May 2008  Airbus announced reduced deliveries for the years 2008  12  and 2009  21  After further manufacturing setbacks  Airbus announced its plan to deliver 14 A380s in 2009  down from the previously revised target of 18  A total of 10 A380s were delivered in 2009  In 2010 Airbus delivered 18 of the expected 20 A380s  due to Rolls Royce engine availability problems  Airbus planned to deliver  between 20 and 25  A380s in 2011 before ramping up to three a month in 2012  In fact  Airbus delivered 26 units  thus outdoing its predicted output for the first time  As of July  production was 3 aircraft per month  Among the production problems are challenging interiors  interiors being installed sequentially rather than concurrently as in smaller planes  and union government objections to streamlining',\n",
              "  'Nicknamed Superjumbo  the first A380  MSN003  registered as 9V SKA  was delivered to Singapore Airlines on 15 October 2007 and entered service on 25 October 2007 with flight number SQ380 between Singapore and Sydney  Passengers bought seats in a charity online auction paying between  560 and  100 380  Two months later  Singapore Airlines CEO Chew Choong Seng stated the A380 was performing better than either the airline or Airbus had anticipated  burning 20  less fuel per seat mile than the airline s 747 400 fleet  Emirates  Tim Clark claimed that the A380 has better fuel economy at Mach 0 86 than at 0 83  and that its technical dispatch reliability is at 97  the same as Singapore Airlines  Airbus is committed to reach the industry standard of 98 5',\n",
              "  'In February 2009  the one millionth passenger was flown with Singapore  and by May of that year 1 500 000 passengers had flown on 4 200 flights  Air France received its first A380 in October 2009  Lufthansa received its first A380 in May 2010  By July 2010  the 31 A380s then in service had transported 6 million passengers on 17 000 flights between 20 international destinations',\n",
              "  'Airbus delivered the 100th A380 on 14 March 2013 to Malaysia Airlines  In June 2014  over 65 million passengers had flown the A380  and more than 100 million passengers  averaging 375 per flight  by September 2015  with an availability of 98 5  In 2014  Emirates stated that its A380 fleet had load factors of 90 100  and that the popularity of the aircraft with its passengers had not decreased in the past year',\n",
              "  'In 2010  Airbus announced a new A380 build standard  incorporating a strengthened airframe structure and a 1 5  increase in wing twist  Airbus will also offer  as an option  an improved maximum take off weight  thus providing a better payload range performance  Maximum take off weight is increased by 4 t  8 800 lb  to 573 t  1 263 000 lb  and the range is extended by 100 nautical miles  190 km  this is achieved by reducing flight loads  partly from optimising the fly by wire control laws  British Airways and Emirates are the first two customers to have received this new option in 2013  Emirates has asked for an update with new engines for the A380 to be competitive with the 777X around 2020  and Airbus is studying 11 abreast seating',\n",
              "  'In 2012  Airbus announced another increase in the A380 s maximum take off weight to 575 t  1 268 000 lb  a 6 t increase from the initial A380 variant and 2 t higher than the increased weight proposal of 2010  Its range will increase by some 150 nautical miles  280 km  taking its capability to around 8 350 nautical miles  15 460 km  at current payloads  The higher weight version was offered for introduction to service early in 2013',\n",
              "  'During repairs following the Qantas Flight 32 engine failure incident  cracks were discovered in wing fittings  As a result  the European Aviation Safety Agency issued an Airworthiness Directive in January 2012 which affected 20 A380 aircraft that had accumulated over 1 300 flights  A380s with under 1 800 flight hours were to be inspected within 6 weeks or 84 flights  aircraft with over 1 800 flight hours were to be examined within four days or 14 flights  Fittings found to be cracked were replaced  On 8 February 2012  the checks were extended to cover all 68 A380 aircraft in operation  The problem is considered to be minor and is not expected to affect operations  EADS acknowledged that the cost of repairs would be over  130 million  to be borne by Airbus  The company said the problem was traced to stress and material used for the fittings  Additionally  major airlines are seeking compensation from Airbus for revenue lost as a result of the cracks and subsequent grounding of fleets  Airbus has switched to a different type of aluminium alloy so aircraft delivered from 2014 onwards should not have this problem',\n",
              "  'At the July 2016 Farnborough Airshow Airbus announced that in a  prudent  proactive step  starting in 2018 it expected to deliver 12 A380 aircraft per year  down from 27 deliveries in 2015  The firm also warned production might slip back into red ink  be unprofitable  on each aircraft produced at that time  though it anticipated production would remain in the black  profitable  for 2016 and 2017   The company will continue to improve the efficiency of its industrial system to achieve breakeven at 20 aircraft in 2017 and targets additional cost reduction initiatives to lower breakeven further  Airbus expected that healthy demand for its other aircraft would allow it to avoid job losses from the cuts',\n",
              "  'As Airbus expected to build 15 airliners in 2017 and 12 in 2018  Airbus Commercial Aircraft president Fabrice Br gier said that  without orders in 2017  production would be reduced below one per month while remaining profitable per unit and allowing the programme to continue for 20 to 30 years In its 2017 half year report  Airbus adjusted 2019 deliveries to eight aircraft In November 2017  its chief executive Tom Enders was confident Airbus would still produce A380s in 2027 with more sales to come  and further develop it to keep it competitive beyond 2030 Airbus was profitable at a rate of 15 per year and is trying to drive breakeven down further but will take losses at eight per year',\n",
              "  'An order from Emirates for 36 A380s would have ensured production beyond 2020  but the airline wanted guarantees that production would be maintained for 10 years  until 2028  reducing output to six a year would help to bridge that period and would support second hand values while other buyers are approached  but the programme would still be unprofitable If it had failed to win the Emirates order  Airbus claimed that it was ready to phase out its production gradually as it fulfilled remaining orders until the early 2020s  In January 2018  Emirates confirmed the order for 36 A380s  but the deal was thrown back into question in October 2018 over a disagreement regarding engine fuel burn',\n",
              "  'To extend the programme  Airbus offered China a production role in early 2018 While state owned Chinese airlines could order A380s  it would not help their low yield as it lowers frequency  they do not need more volume as widebody aircraft are already used on domestic routes and using the A380 on its intended long haul missions would free only a few airport slots',\n",
              "  'After achieving efficiencies to sustain production at a lower level  in 2017 Airbus delivered 15 A380s and was  very close  to production breakeven  expecting to make additional savings as production was being further reduced  it planned to deliver 12 in 2018  eight in 2019 and six per year from 2020 with  digestible  losses As of February  Enders was confident the A380 would gain additional orders from existing or new operators  and saw opportunities in Asia and particularly in China where it is  under represented',\n",
              "  'In February 2019  Airbus announced it will end the A380 production by 2021  after its main customer  Emirates  agreed to drop an order for 39 of the aircraft  replacing it with 40 A330 900s and 30 A350 900s  Airbus will build 17 more A380s before closing the production line  14 for Emirates and three for All Nippon Airways  taking the total number of expected deliveries of the aircraft type to 251  Airbus would have needed more than  90 million from the price of each aircraft to cover the estimated  25 billion development cost of the programme  However  the  445 million price tag of each aircraft was not sufficient to even cover the production cost  so with Airbus losing money on each A380  and orders evaporating  it makes economic sense to shut down production  Enders stated on 14 February 2019   If you have a product that nobody wants anymore  or you can sell only below production cost  you have to stop it',\n",
              "  'One reason that the A380 did not achieve commercial viability for Airbus has been attributed to its extremely large capacity being optimised for a hub and spoke system  which was projected by Airbus to be thriving when the programme was conceived  However  airlines underwent a fundamental transition to a point to point system  which gets customers to their destination in one flight instead of two or three  The massive scale of the A380 design was able to achieve a very low cost for passenger seat distance  but efficiency here within the hub and spoke paradigm was not able to overcome the efficiency of fewer flights required in the point to point system  Furthermore  American carriers had been using a multihub strategy  that would only justify the need for a handful of VLAs  very large aircraft with more than 400 seats  such as the A380  and having too few VLAs meant that they could not get achieve economy of scale to spread out the enormous fixed cost of the VLA support infrastructure  Consequently  the orders for VLAs slowed in the mid 2010s  as widebody twin jets now offer similar range and greater fuel efficiency  giving airlines more flexibility at a lower upfront cost',\n",
              "  'The A380 800 s original configuration carried 555 passengers in a three class  or 853 passengers  538 on the main deck and 315 on the upper deck  in a single class economy configuration  Then in May 2007  Airbus began marketing a configuration with 30 fewer passengers  525 total in three classes traded for 200 nmi  370 km  more range to better reflect trends in premium class accommodation  The design range for the A380 800 model is 8 500 nmi  15 700 km  capable of flying from Hong Kong to New York or from Sydney to Istanbul non stop',\n",
              "  'The A380 is offered with the Rolls Royce Trent 900  A380 841 842  or the Engine Alliance GP7000  A380 861  turbofan engines The Trent 900 is a combination of the 3 m  118 in  fan and scaled IP compressor of the 777 200X 300X Trent 8104 technology demonstrator derived from the Boeing 777 s Trent 800  and the Airbus A340 500 600 s Trent 500 core The GP7200 HP core technology is derived from GE s GE90 and its LP sections are based on the PW4000 expertise At its launch in 2000  engine makers assured Airbus it was getting the best level of technology and they would be state of the art for the next decade  but three years later Boeing launched the 787 Dreamliner with game changing technology and 10  lower fuel burn than the previous generation  to the dismay of John Leahy',\n",
              "  'London Heathrow is a key destination for the A380 The aircraft is below the QC 2 departure and QC 0 5 arrival noise limits under the Quota Count system set by the airport Field measurements suggest the approach quota allocation for the A380 may be overly generous compared to the older Boeing 747  but still quieter Rolls Royce is supporting the CAA in understanding the relatively high A380 Trent 900 monitored noise levels Heathrow s landing charges having a noise component  the A380 is cheaper to land there than a Boeing 777 200 and  300 and it saves  4 300 to  5 200 per landing  or  15 3M to  18 8M of present value over 15 years  Tokyo Narita has a similar noise charge',\n",
              "  'The A380 s wings are sized for a maximum takeoff weight  MTOW  over 650 tonnes to accommodate these future versions  albeit with some internal strengthening required on the A380F freighter  The optimal wingspan for this weight is about 90 m  300 ft  but airport restrictions have limited it to less than 80 m  260 ft  thereby lowering the aspect ratio to 7 8 which reduces fuel  about 10  and increases operating costs a few percent  given that fuel costs constitute about 50  of the cost of long haul aeroplane operation',\n",
              "  'The common wing design approach sacrifices fuel efficiency on the A380 800 passenger model because of its weight  but Airbus estimates that the aircraft s size and advanced technology will provide lower operating costs per passenger than the 747 400  The wings incorporate wingtip fences that extend above and below the wing surface  similar to those on the A310 and A320  These increase fuel efficiency and range by reducing induced drag  The wingtip fences also reduce wake turbulence  which endangers following aircraft',\n",
              "  'While most of the fuselage is made of aluminium alloys  composite materials comprise more than 20  of the A380 s airframe  Carbon fibre reinforced plastic  glass fibre reinforced plastic and quartz fibre reinforced plastic are used extensively in wings  fuselage sections  such as the undercarriage and rear end of fuselage  tail surfaces  and doors  The A380 is the first commercial airliner to have a central wing box made of carbon fibre reinforced plastic  It is also the first to have a smoothly contoured wing cross section  The wings of other commercial airliners are partitioned span wise into sections  This flowing continuous cross section reduces aerodynamic drag  Thermoplastics are used in the leading edges of the slats',\n",
              "  'The hybrid fibre metal laminate material GLARE  glass laminate aluminium reinforced epoxy  is used in the upper fuselage and on the stabilisers  leading edges  This aluminium glass fibre laminate is lighter and has better corrosion and impact resistance than conventional aluminium alloys used in aviation  Unlike earlier composite materials  GLARE can be repaired using conventional aluminium repair techniques  The application of GLARE on the A380 has a long history  which shows the complex nature of innovations in the aircraft industry',\n",
              "  'Newer weldable aluminium alloys are used in the A380 s airframe  This enables the widespread use of laser beam welding manufacturing techniques  eliminating rows of rivets and resulting in a lighter  stronger structure  High strength aluminium  type 7449  reinforced with carbon fibre was used in the wing brackets of the first 120 A380s to reduce weight  but cracks have been discovered and new sets of the more critical brackets will be made of standard aluminium 7010  increasing weight by 90 kg  198 lb  Repair costs for earlier aircraft are expected to be around  500 million  US 629 million',\n",
              "  'The A380 employs an integrated modular avionics  IMA  architecture  first used in advanced military aircraft  such as the Lockheed Martin F 22 Raptor  Lockheed Martin F 35 Lightning II  and Dassault Rafale  The main IMA systems on the A380 were developed by the Thales Group  Designed and developed by Airbus  Thales and Diehl Aerospace  the IMA suite was first used on the A380  The suite is a technological innovation  with networked computing modules to support different applications  The data networks use Avionics Full Duplex Switched Ethernet  an implementation of ARINC 664  These are switched  full duplex  star topology and based on 100baseTX fast Ethernet  This reduces the amount of wiring required and minimises latency',\n",
              "  'Airbus used similar cockpit layout  procedures and handling characteristics to other Airbus aircraft  reducing crew training costs  The A380 has an improved glass cockpit  using fly by wire flight controls linked to side sticks  The cockpit has eight 15 by 20 cm  5 9 by 7 9 in  liquid crystal displays  all physically identical and interchangeable  comprising two primary flight displays  two navigation displays  one engine parameter display  one system display and two multi function displays  The MFDs were introduced on the A380 to provide an easy to use interface to the flight management system replacing three multifunction control and display units  They include QWERTY keyboards and trackballs  interfacing with a graphical  point and click  display system',\n",
              "  'The Network Systems Server  NSS  is the heart of A380s paperless cockpit  it eliminates bulky manuals and traditional charts  The NSS has enough inbuilt robustness to eliminate onboard backup paper documents  The A380s network and server system stores data and offers electronic documentation  providing a required equipment list  navigation charts  performance calculations  and an aircraft logbook  This is accessed through the MFDs and controlled via the keyboard interface',\n",
              "  'Power by wire flight control actuators have been used for the first time in civil aviation to back up primary hydraulic actuators  Also  during certain manoeuvres they augment the primary actuators  They have self contained hydraulic and electrical power supplies  Electro hydrostatic actuators  EHA  are used in the aileron and elevator  electric and hydraulic motors to drive the slats as well as electrical backup hydrostatic actuators  EBHA  for the rudder and some spoilers',\n",
              "  'The A380 s 350 bar  35 MPa or 5 000 psi  hydraulic system is a significant difference from the typical 210 bar  21 MPa or 3 000 psi  hydraulics used on most commercial aircraft since the 1940s  First used in military aircraft  high pressure hydraulics reduce the weight and size of pipelines  actuators and related components  The 350 bar pressure is generated by eight de clutchable hydraulic pumps  The hydraulic lines are typically made from titanium  the system features both fuel  and air cooled heat exchangers  Self contained electrically powered hydraulic power packs serve as backups for the primary systems  instead of a secondary hydraulic system  saving weight and reducing maintenance',\n",
              "  'The A380 uses four 150 kVA variable frequency electrical generators  eliminating constant speed drives and improving reliability  The A380 uses aluminium power cables instead of copper for weight reduction  The electrical power system is fully computerised and many contactors and breakers have been replaced by solid state devices for better performance and increased reliability',\n",
              "  'The auxiliary power comprises the Auxiliary Power Unit  APU  the electronic control box  ECB  and mounting hardware  The APU in use on the A380 is the PW 980A APU  The APU primarily provides air to power the Analysis Ground Station  AGS  on the ground and to start the engines  The AGS is a semi automatic analysis system of flight data that helps to optimise management of maintenance and reduce costs  The APU also powers electric generators that provide auxiliary electric power to the aircraft',\n",
              "  'The cabin has features to reduce traveller fatigue such as a quieter interior and higher pressurisation than previous generations of aircraft  the A380 is pressurised to the equivalent altitude of 1 520 m  5 000 ft  up to 12 000 m  39 000 ft 129 It has 50  less cabin noise  50  more cabin area and volume  larger windows  bigger overhead bins  and 60 cm  2 0 ft  extra headroom versus the 747 400  Seating options range from 3 room 12 m2  130 sq ft   residence  in first class to 11 across in economy  A380 economy seats are up to 48 cm  19 in  wide in a 10 abreast configuration  compared with the 10 abreast configuration on the 747 400 that typically has seats 44 5 cm  17 5 in  wide  On other aircraft  economy seats range from 41 5 to 52 3 cm  16 3 to 20 6 in  in width',\n",
              "  'The A380 s upper and lower decks are connected by two stairways  one fore and one aft  with both being wide enough to accommodate two passengers side by side  this cabin arrangement allows multiple seat configurations  The maximum certified carrying capacity is 853 passengers in an all economy class layout  Airbus lists the  typical  three class layout as accommodating 525 passengers  with 10 first  76 business  and 439 economy class seats  Airline configurations range from Korean Air s 407 passengers to Emirates  two class 615  and average around 480 490 seats  The Air Austral s proposed 840 passenger layout has not come to fruition  The A380 s interior illumination system uses bulbless LEDs in the cabin  cockpit  and cargo decks  The LEDs in the cabin can be altered to create an ambience simulating daylight  night  or intermediate levels  On the outside of the aircraft  HID lighting is used for brighter illumination',\n",
              "  'Airbus s publicity has stressed the comfort and space of the A380 cabin  and advertised onboard relaxation areas such as bars  beauty salons  duty free shops  and restaurants  Proposed amenities resembled those installed on earlier airliners  particularly 1970s wide body jets  which largely gave way to regular seats for more passenger capacity  Airbus has acknowledged that some cabin proposals were unlikely to be installed  and that it was ultimately the airlines  decision how to configure the interior  Industry analysts suggested that implementing customisation has slowed the production speeds  and raised costs  Due to delivery delays  Singapore Airlines and Air France debuted their seat designs on different aircraft prior to the A380',\n",
              "  'Initial operators typically configured their A380s for three class service  while adding extra features for passengers in premium cabins  Launch customer Singapore Airlines introduced partly enclosed first class suites on its A380s in 2007  each featuring a leather seat with a separate bed  center suites could be joined to create a double bed  A year later  Qantas debuted a new first class seat bed and a sofa lounge at the front of the upper deck on its A380s  and in 2009 Air France unveiled an upper deck electronic art gallery  In late 2008  Emirates introduced  shower spas  in first class on its A380s allowing each first class passenger five minutes of hot water  drawing on 2 5 tonnes of water although only 60  of it was used  Emirates',\n",
              "  'Etihad Airways and Qatar Airways also have a bar lounge and seating area on the upper deck  while Etihad has enclosed areas for two people each  In addition to lounge areas  some A380 operators have installed amenities consistent with other aircraft in their respective fleets  including self serve snack bars  premium economy sections  and redesigned business class seating',\n",
              "  'The Hamburg Aircraft Interiors Expo in April 2015 saw the presentation of an 11 seat row economy cabin for the A380   Airbus is reacting to a changing economy  the recession which began in 2008 saw a drop in market percentage of first class and business seats to six percent and an increase in budget economy travellers  Among other causes is the reluctance of employers to pay for executives to travel in First or Business Class  Airbus  chief of cabin marketing  Ingo Wuggestzer  told Aviation Week and Space Technology that the standard three class cabin no longer reflected market conditions  The 11 seat row on the A380 is accompanied by similar options on other widebodies  nine across on the Airbus A330 and ten across on the A350',\n",
              "  'In the 1990s  aircraft manufacturers were planning to introduce larger planes than the Boeing 747  In a common effort of the International Civil Aviation Organization  ICAO  with manufacturers  airports and its member agencies  the  80 metre box  was created  the airport gates allowing planes up to 80 m  260 ft  wingspan and length to be accommodated  Airbus designed the A380 according to these guidelines  and to operate safely on Group V runways and taxiways with a 60 metres  200 ft  loadbearing width  The US FAA initially opposed this  then in July 2007  the FAA and EASA agreed to let the A380 operate on 45 m  148 ft  runways without restrictions  The A380 800 is approximately 30  larger in overall size than the 747 400  Runway lighting and signage may need changes to provide clearance to the wings and avoid blast damage from the engines  Runways  runway shoulders and taxiway shoulders may be required to be stabilised to reduce the likelihood of foreign object damage caused to  or by  the outboard engines  which are more than 25 m  82 ft  from the centre line of the aircraft  compared to 21 m  69 ft  for the 747 400  and 747 8',\n",
              "  'Airbus measured pavement loads using a 540 tonne  595 short tons  ballasted test rig  designed to replicate the landing gear of the A380  The rig was towed over a section of pavement at Airbus  facilities that had been instrumented with embedded load sensors  It was determined that the pavement of most runways will not need to be reinforced despite the higher weight  as it is distributed on more wheels than in other passenger aircraft with a total of 22 wheels  that is  its ground pressure is lower  The A380 undercarriage consists of four main landing gear legs and one noseleg  a similar layout to the 747  with the two inboard landing gear legs each supporting six wheels',\n",
              "  'The A380 requires service vehicles with lifts capable of reaching the upper deck  as well as tractors capable of handling the A380 s maximum ramp weight  When using two jetway bridges the boarding time is 45 min  and when using an extra jetway to the upper deck it is reduced to 34 min  The A380 has an airport turnaround time of 90 110 minutes  In 2008 the A380 test aircraft were used to trial the modifications made to several airports to accommodate the type',\n",
              "  'In 2005  the ICAO recommended that provisional separation criteria for the A380 on  and landing be substantially greater than for the 747 because preliminary flight test data suggested a stronger wake turbulence  These criteria were in effect while the ICAO s wake vortex steering group  with representatives from the JAA  Eurocontrol  the FAA  and Airbus  refined its 3 year study of the issue with additional flight testing  In September 2006  the working group presented its first conclusions to the ICAO',\n",
              "  'In November 2006  the ICAO issued new interim recommendations  Replacing a blanket 10 nautical miles  19 km  separation for aircraft trailing an A380 during approach  the new distances were 6 nmi  11 km  8 nmi  15 km  and 10 nmi  19 km  respectively for non A380  Heavy   Medium  and  Light  ICAO aircraft categories  These compared with the 4 nmi  7 4 km  5 nmi  9 3 km  and 6 nmi  11 km  spacing applicable to other  Heavy  aircraft  Another A380 following an A380 should maintain a separation of 4 nmi  7 4 km  On departure behind an A380  non A380  Heavy  aircraft are required to wait two minutes  and  Medium Light  aircraft three minutes for time based operations  The ICAO also recommends that pilots append the term  Super  to the aircraft s callsign when initiating communication with air traffic control  to distinguish the A380 from  Heavy  aircraft',\n",
              "  'In August 2008  the ICAO issued revised approach separations of 4 nmi  7 4 km  for Super  another A380  6 nmi  11 km  for Heavy  7 nmi  13 km  for medium small  and 8 nmi  15 km  for light  In November 2008  an incident on a parallel runway during crosswinds made the Australian authorities change procedures for those conditions',\n",
              "  'As the A380 fleet grows older  airworthiness authority rules require certain scheduled inspections from approved aircraft tool shops  The increasing fleet size  to about 286 in 2020  cause expected maintenance and modification to cost  6 8 billion for 2015 2020  of which  2 1 billion are for engines   Emirates performed its first 3C check for 55 days in 2014  During lengthy shop stays  some airlines will use the opportunity to install new interiors',\n",
              "  'Airbus originally accepted orders for the freighter variant  offering the largest payload capacity of any cargo aircraft in production  exceeded only by the single Antonov An 225 Mriya in service  An aerospace consultant estimated that the A380F would have had 7  better payload and better range than the Boeing 747 8F  but also higher trip costs  However  production was suspended until the A380 production lines had settled  with no firm availability date  In 2015  Airbus removed the A380F from the range of freighters on its corporate website  The maximum payload would have been 150 t  330 000 lb  with a 5 600 nmi  10 400 km  range',\n",
              "  'In November 2007  Airbus top sales executive and chief operating officer John Leahy confirmed plans for an enlarged variant the A380 900 with more seating space than the A380 800  The A380 900 would have had a seating capacity for 650 passengers in standard configuration and for approximately 900 passengers in an economy only configuration  Airlines that expressed an interest in the A380 900 included Emirates  Virgin Atlantic  Cathay Pacific  Air France  KLM  Lufthansa  Kingfisher Airlines  and leasing company ILFC  In May 2010  Airbus announced that A380 900 development would be postponed until production of the A380 800 stabilised',\n",
              "  'On 11 December 2014  at the annual Airbus Investor Day forum  Airbus CEO Fabrice Bregier controversially announced    We will one day launch an A380neo and one day launch a stretched A380  This statement followed speculation sparked by Airbus CFO Harald Wilhelm that Airbus could possibly axe the A380 ahead of its time due to softening demand',\n",
              "  'On 15 June 2015  John Leahy  Airbus s chief operating officer for customers  stated that Airbus was again looking at the A380 900 programme  Airbus s newest concept would be a stretch of the A380 800 offering 50 seats more not 100 seats as originally envisaged  This stretch would be tied to a potential re engining of the A380 800  According to Flight Global  an A380 900 would make better use of the A380 s existing wing',\n",
              "  'On 15 June 2015  Reuters reported that Airbus was discussing a stretched version of the A380 with at least six customers   This aircraft  which could also feature new engines  would accommodate an additional fifty passengers   Deliveries to customers were planned for sometime in 2020 or 2021   On 19 July 2015  Airbus CEO Fabrice Br gier stated that the company will build a new version of the A380 featuring new improved wings and new engines  Speculation about the development of a so called A380neo  neo  for  new engine option  had been going on for a few months after earlier press releases in 2014  and in 2015 the company was considering whether to end production of the type prior to  or develop a new A380 variant  Later it was revealed that Airbus was looking at both the possibility of a longer A380 in line of the previously planned A380  and a new engine version  i e  A380neo   Br gier also revealed that the new variant would be ready to enter service by 2020  The engine would most likely be one of a variety of all new options from Rolls Royce  ranging from derivatives of the A350 s XWB 84 97 to the future Advance project due at around 2020',\n",
              "  'On 3 June 2016  Emirates President Tim Clark stated that talks between Emirates and Airbus on the A380neo have  lapsed  On 12 June 2017  Fabrice Br gier confirmed that Airbus would not launch an A380neo  stating  there is no business case to do that  this is absolutely clear  However  Br gier stated it would not stop Airbus from looking at what could be done to improve the performance of the aircraft  One such proposal is a 32 ft  9 8 m  wingspan extension to reduce drag and increase fuel efficiency by 4  though further increase is likely to be seen on the aircraft with new Sharklets like on the A380 Plus',\n",
              "  'At the June 2017 Paris Air Show  Airbus proposed an A380plus enhanced version with 13  lower costs per seat  featuring up to 80 more seats through better use of cabin space  split scimitar winglets and wing refinements allowing a 4  fuel economy improvement  and longer aircraft maintenance intervals with less downtime  Its maximum takeoff weight would have been increased by 3 t  6 600 lb  to 578 t  1 274 000 lb  allowing it to carry more passengers over the same 8 200 nmi range or increase the range by 300 nm',\n",
              "  'Winglet mockups  4 7m  15 1 2ft  high  were displayed on the MSN04 test aircraft at Le Bourget  Wing twist would have been modified and camber changed by increasing its height by 33 mm  1 3 in  between Rib 10 and Rib 30  along with upper belly fairing improvements   The in flight entertainment  the flight management system and the fuel pumps would be from the A350 to reduce weight and improve reliability and fuel economy  Light checks would be required after 1 000 hr instead of 750 hr and heavy check downtime would be reduced to keep the aircraft flying for six days more per year',\n",
              "  'In its 2000 Global Market Forecast  Airbus estimated a demand for 1 235 passenger Very Large Aircraft  VLA  with more than 400 seats  360 up to 2009 and 875 by 2019 In late 2003  Boeing forecast 320  Boeing 747 and larger  passenger aircraft over 20 years  close to the 298 orders actually placed for the A380 and 747 8 passenger airliners as of March 2020',\n",
              "  'In 2007  Airbus estimated a demand for 1 283 VLAs in the following 20 years if airport congestion remains constant  up to 1 771 VLAs if congestion increases  with most deliveries  56  in Asia Pacific  and 415 very large  120 tonne plus freighters  For the same period  Boeing was estimating the demand for 590 large  747 or A380  passenger airliners and 630 freighters Estimates for the total over a twenty year period have varied from 400 to over 1 700',\n",
              "  'In 2013  Cathay Pacific and Singapore Airlines needed to balance frequency and capacity  China Southern struggled for two years to use its A380s from Beijing  and finally received Boeing 787s in its base in Guangzhou  but where it cannot command a premium  unlike Beijing or Shanghai  In 2013  Air France withdrew A380 services to Singapore and Montreal and switched to smaller aircraft',\n",
              "  'In 2014  British Airways replaced three 777 flights between London and Los Angeles with two A380 per day  Emirates  Tim Clark saw a large potential for Asian A380 users  and criticised Airbus  marketing efforts  As many business travellers prefer more choices offered by greater flight frequency achieved by flying any given route multiple times on smaller aircraft  rather than fewer flights on larger planes  United Airlines observed the A380  just doesn t really work for us  It employs Boeing 787s operating at a lower trip cost',\n",
              "  'At the A380 launch  most Europe Asia and transpacific routes used Boeing 747 400s at fairly low frequencies but  since then  routes proliferated with open skies  and most airlines downsized  offering higher frequencies and more routes The huge capacity offered by each flight eroded the yield  North America was viewed as 17  of the market but the A380 never materialised as a 747 replacement  with only 15 747s remaining in passenger service in November 2017 for transpacific routes  where timezones restrict potential frequency  Consolidation changed the networks  and US majors constrained capacity and emphasised daily frequencies for business traffic with midsize widebodies like the 787  to extract higher yields  the focus being on profits  with market share ceded to Asian carriers',\n",
              "  'In 2005  270 sales were necessary to attain break even and with 751 expected deliveries its internal rate of return outlook was at 19  but due to disruptions in the ramp up leading to overcosts and delayed deliveries  it increased to 420 in 2006  In 2010  EADS CFO Hans Peter Ring said that break even could be achieved by 2015 when 200 deliveries were projected  In 2012  Airbus clarified that the aircraft production costs would be less than its sales price',\n",
              "  'On 11 December 2014  Airbus chief financial officer Harald Wilhelm hinted the possibility of ending the programme in 2018  disappointing Emirates president Tim Clark  Airbus shares fell down consequently  Airbus responded to the protests by playing down the possibility the A380 would be abandoned  instead emphasising that enhancing the aeroplane was a likelier scenario  On 22 December 2014  as the jet was about to break even  Airbus CEO Fabrice Br gier ruled out cancelling it',\n",
              "  'Airbus consistently forecast 1 400 VLA demand over 20 year  still in 2017  and aimed to secure a 50  share  up to 700 units  but delivered  215 aircraft in 10 years  achieving three produced per month but not the four per month target after the ramp up to achieve more than 350 and is now declining to 0 5 a month As Boeing see the VLA market as too small to retain in its 2017 forecast  its VP marketing Randy Tinseth does not believe Airbus will deliver the rest of the backlog',\n",
              "  'Richard Aboulafia predicts a 2020 final delivery  with unpleasant losses due to  hubris  shoddy market analysis  nationalism and simple wishful thinking In 2017  the A380 fleet exceeded the number of remaining passenger B747s  which had declined from 740 aircraft when the A380 was launched in 2000 to 550 units when the A380 was introduced in 2007  and around 200 ten years later  However  the market share battle has shifted to large single aisles and 300 seat twin aisles',\n",
              "  'As of  the list price of an A380 was US 432 6 million  Negotiated discounts made the actual prices much lower  and industry experts questioned whether the A380 project would ever pay for itself  The first aircraft was sold and leased back by Singapore Airlines in 2007 to Dr  Peters for  197 million In 2016  IAG s Willie Walsh said he could add a few  but also that he found the price of new aircraft  outrageous  and would source them from the second hand market',\n",
              "  'AirInsight estimates its hourly cost at  26 000  or around  50 per seat hour  for 520 seats  which compares to  44 per seat hour for a Boeing 777 300ER  and  90 per seat hour for a Boeing 747 400 as of November As it has very large wing and tail surfaces to allow a stretch and a high empty weight per seat  its cost per seat advantage eroded  and the A350 1000 and 777 9 will match it',\n",
              "  'As of mid 2015  several airlines have expressed their interest in selling their aircraft  partially coinciding with expiring lease contracts for the aircraft  Several A380s which are in service have been offered for lease to other airlines  The suggestion has prompted concerns on the potential for new sales for Airbus  although these were dismissed by Airbus COO John Leahy who stated that  Used A380s do not compete with new A380s  stating that the second hand market is more interesting for parties otherwise looking to buy smaller aircraft such as the Boeing 777',\n",
              "  'After Malaysia Airlines was unable to sell or lease its six A380s  it decided to refurbish the aircraft with seating for 700 and transfer them to a subsidiary carrier for religious pilgrimage flights  As it started receiving its six A350s to replace its A380s in December 2017  the new subsidiary will serve the Hajj and Umrah market with them  starting in the third quarter of 2018 and could be expanded above six beyond 2020 to 2022  The cabin will have 36 business seats and 600 economy seats  with a 712 seat reconfiguration possible within five days  The fleet could be chartered half the year for the tourism industry like cruise shipping and will be able to operate for the next 40 years if oil prices stay low As they should be parked by June 2018 before reconfiguration  MAS confirmed the plans and will also use them for peak periods to high traffic markets like London',\n",
              "  'In August 2017  it was announced that Hi Fly would lease two used aircraft  The Portuguese ACMI charter airline will use the aircraft for markets where high capacity is needed and airports where slots are scarce  The first aircraft was scheduled to begin commercial operations during the first quarter of   Hi Fly was to receive its A380s from mid 2018 in a 471 seat configuration  399 on the main deck  60 business class and 12 first class seats on the upper deck  the Singapore Airlines layout Hi Fly first used one of their A380s on 1 August 2018 for a one off flight to enable Thomas Cook Airlines to repatriate passengers from Rhodes to Copenhagen following IT problems in the Greek airport  The same aircraft was then wet leased to Norwegian to operate its evening London New York service for several weeks in August 2018  to alleviate availability issues on its Boeing 787s affected by Trent 1000 engine problems  Air Austral also signed a deal to wet lease an A380 from Hi Fly while one of its 787s is grounded for three months of Trent 1000 inspections As of December 2019  Hi Fly have leased one used A380',\n",
              "  'Amedeo  mainly an A380 lessor and the largest with 22  mostly leased to Emirates  wants to find a use for them after their lease expires from 2022  and study if there is a demand to wet lease them Swiss aircraft broker Sparfell   Partners plans to convert for head of state or VVIP transport some of Dr  Peters  four ex SIA A380s for under  300 million apiece  less than a new Boeing 777 or Airbus A330 As of November 2018  Air France was planning to return five of its A380s to lessors by the end of 2019 and refurbish its other five with new interiors by 2020 for  51 million per aircraft  By July 2019  Air France revised this plan and intended to phase out all ten of its A380s by 2022  replacing them with no more than nine twin engined wide body aircraft  The A330 900  A350 900 or 787 9 were being evaluated as potential replacements',\n",
              "  'Following the cancellation of the programme in February 2019  the residual value of existing aircraft is in doubt  While Amedeo argued that cancellation should benefit the value  this will depend on whether any new airlines are prepared to adopt second hand A380s  and how many existing users continue to operate the aircraft  Even the teardown value is questionable  in that the engines  usually the most valuable part of a scrap aircraft  are not used by any other models',\n",
              "  'With four A380s leased to Singapore Airlines having been returned between October 2017 and March 2018  Dr  Peters fears a weak aftermarket and is considering scrapping them  although they are on sale for a business jet conversion  but on the other hand Airbus sees a potential for African airlines and Chinese airlines  Hajj charters and its large Gulf operators An A380 parted out may be worth  30 million to  50 million if it is at half life Teardown specialists have declined offers for several aircraft at part out prices due to high risk as a secondary market is uncertain with  30 to  40 million for the refurbishment  but should be between  20 to  30 million to be viable',\n",
              "  'When the aircraft were proposed to BA  Hi Fly and Iran Air  BA did not want to replace its Boeing 747s until 2021  while Iran Air faced political uncertainty and Hi Fly did not have a convincing business case  Consequently  Dr  Peters recommended to its investors on 28 June 2018 to sell the aircraft parts with VAS Aero Services within two years for US 45 million  quickly for components like the landing gear or the APU Rolls Royce Trent 900 leasing beyond March 2019 should generate US 480 000 monthly for each aircraft before selling the turbofans by 2020  With a total revenue of US 80 million per aircraft  the overall return expected is 145 155  while 72  and 81  of their debt had already been repaid',\n",
              "  'The fifth plane coming back from SIA  owned by Doric  has been leased by Hi Fly Malta with a lease period of  nearly 6 years  Hi Fly Malta became the first operator of second hand A380  Airbus MSN006  SIA 9V SKC  which carries the Maltese registration number  9H MIP  Norwegian Long Haul briefly leased Hi Fly Malta A380 in August 2018  which operated the aircraft following engine problems with their Dreamliner fleet  Norwegian leased the A380 again in late 2018 to help deal with the passenger backlog as a result of the Gatwick Airport drone incident',\n",
              "  'The teardown value includes  32 33 million from the engines in 2020 and  4 million from leasing them until then  while the value of a 2008 A380 would be  78 4 million in 2020 and its monthly lease in 2018 would be  929 000 The two aircraft have returned 3 8 4 2  per year since 2008 but the 145 155  return is lower than the 220  originally forecast Of the nearly 500 made  50 747 400s were sold in the secondary market  including only 25 to new customers These are among the first A380s delivered  lacking the improvements and weight savings of later ones',\n",
              "  'As of September 2019  Emirates initiated its A380 retirement plan  which will see the type remain in service until at least 2035  by retiring two aircraft that were due for a major overhaul  and using them as parts donors for the rest of the fleet  Emirates does not see any demand in the second hand market  but is indifferent in that the retired aircraft have already been fully written down and thus have no residual value  As further aircraft are retired  Emirates owned airframes will continue to be used for parts  while leased airframes will be returned to the lessors',\n",
              "  'Fourteen customers have ordered and taken delivery of the A380 as of April 2019  Total orders for the A380 stand at 251 as of November  The biggest customer is Emirates  which has committed to order a total of 123 A380s as of 14 February 2019  One VIP order was made in  but later cancelled by Airbus  The A380F version attracted 27 orders  before they were either cancelled  20  or converted to A380 800  7  following the production delay and the subsequent suspension of the freighter programme',\n",
              "  'Delivery takes place in Hamburg for customers from Europe and the Middle East and in Toulouse for customers from the rest of the world  EADS explained that deliveries in 2013 were to be slowed temporarily to accommodate replacement of the wing rib brackets where cracks were detected earlier in the existing fleet',\n",
              "  'As of June  Emirates has 48 orders outstanding but due to lack of space in Dubai Airport  it deferred 12 deliveries by one year and will not take any in 2019 20 before replacing its early airliners from 2021  there are open production slots in 2019 and Airbus reduced its production rate at 12 per year for 2017 18  The real backlog is much smaller than the official 107 with 47 uncertain orders  20 commitments for the A380 specialized lessor Amedeo which commits to production only once aircraft are placed  eight for Qantas which wants to keep its fleet at 12  six for Virgin Atlantic which does not want them any more and three ex Transaero for finance vehicle Air Accord',\n",
              "  'At its 100th delivery ceremony  Emirates Airline head Ahmed bin Saeed Al Maktoum was hoping to order new A380s at the November 2017 Dubai Air Show the following week Emirates does not need the small front staircase and eleven abreast economy of the A380plus concept  but wants Airbus to commit to continue production for at least 10 years On 18 January 2018  Airbus secured a preliminary agreement from Emirates for up to 36 A380s  to be delivered from 2020  valued at  16 billion at list prices  The contract was signed in February 2018  comprising a firm order for 20 A380s and options on 16 more',\n",
              "  'In early 2019  Airbus confirmed it was in discussions with Emirates over its A380 contract If the A380 s only stable client were to drop the type  Airbus could cease production of the superjumbo Emirates is at odds with Rolls Royce over shortfalls in fuel savings from the Trent 900s  and could switch its order for 36 A380s to the smaller A350 The A350 could also replace its provisional order for 40 Boeing 787 10s  placed in 2017  as engine margins on the 787 are insufficient for the hot Dubai weather',\n",
              "  'The shortest regular commercial route that the A380 flies is from Dubai to Muscat  349 km or 217 miles  with Emirates  Air France briefly operated the A380 on the shorter Paris Charles de Gaulle to London Heathrow route  344 km or 214 miles  in mid 2010  The longest A380 route is flown by Emirates from Dubai to Auckland at 14 203 kilometres  8 825 mi  It is the fourth longest non stop commercial flight in the world'],\n",
              " ['The Airbus A330 is a wide body airliner made by Airbus In the mid 1970s  Airbus conceived several derivatives of the A300  its first airliner  and developed the A330 twinjet in parallel with the A340 quadjet In June 1987  Airbus launched both designs with their first orders The A330 300  the first variant  took its maiden flight in November 1992 and entered service with Air Inter in January 1994 The slightly shorter A330 200 variant followed in 1998 In 2014  Airbus launched the A330neo  re engined with Trent 7000 turbofans  which entered service in November 2018',\n",
              "  'The A330 shares its airframe with the early A340 variants  having two engines instead of four  two main landing gear legs instead of three  lower weights and slightly different lengths Both airliners have fly by wire controls  which was first introduced on the A320  as well as a similar glass cockpit The A330 was Airbus s first airliner to offer a choice of three engines  the General Electric CF6  Pratt   Whitney PW4000  or the Rolls Royce Trent 700',\n",
              "  'The A330 300 has a range of 11 750 km or 6 350 nmi with 277 passengers  while the shorter A330 200 can cover 13 450 km or 7 250 nmi with 247 passengers Later variants include the A330 200F dedicated freighter  the A330 MRTT military tanker  and the ACJ330 corporate jet The A330 MRTT was proposed as the EADS Northrop Grumman KC 45 for the US Air Force s KC X competition  but lost to the Boeing KC 46 in appeal after an initial win',\n",
              "  'As of December 2019  A330 orders stand at 1 823 of which 1 492 have been delivered and 1 443 remain in operation Its largest operator is Turkish Airlines with 68 aircraft The A330 has allowed Airbus to expand its wide body market share It competes with the Boeing 767 and smaller variants of the 777 and the 787 It is complemented by the larger Airbus A350 XWB which succeeded the A340',\n",
              "  'Airbus s first airliner  the A300  was envisioned as part of a diverse family of commercial aircraft  Pursuing this goal  studies began in the early 1970s into derivatives of the A300  Before introducing the A300  Airbus identified nine possible variations designated B1 through B9  A tenth variant  the A300B10  was conceived in 1973 and developed into the longer range Airbus A310  Airbus then focused its efforts on single aisle  SA  studies  conceiving a family of airliners later known as the Airbus A320 family  the first commercial aircraft with digital fly by wire controls  During these studies Airbus turned its focus back to the wide body aircraft market  simultaneously working on both projects',\n",
              "  'In the mid 1970s  Airbus began development of the A300B9  a larger derivative of the A300  which would eventually become the A330  The B9 was essentially a lengthened A300 with the same wing  coupled with the most powerful turbofan engines available  It was targeted at the growing demand for high capacity  medium range  transcontinental trunk routes  Offering the same range and payload as the McDonnell Douglas DC 10 but with 25 per cent more fuel efficiency  the B9 was seen as a viable replacement for the DC 10 and the Lockheed L 1011 TriStar trijets  It was also considered as a medium ranged successor to the A300',\n",
              "  'At the same time  a 200 seat four engine version  the B11  which would eventually become the A340  was also under development  The B11 was originally planned to take the place of narrow body Boeing 707s and Douglas DC 8s then in commercial use  but would later evolve to target the long range  wide body trijet replacement market  To differentiate from the SA series  the B9 and B11 were re designated as the TA9 and TA11  with TA standing for  twin aisle  Development costs were reduced by the two aircraft using the same fuselage and wing  with projected savings of US 500 million  Another factor was the split preference of those within Airbus and  more importantly  those of prospective customers  twinjets were favoured in North America  quad jets desired in Asia  and operators had mixed views in Europe  Airbus ultimately found that most potential customers favoured four engines due to their exemption from existing twinjet range restrictions and their ability to be ferried with one inactive engine  As a result  development plans prioritised the four engined TA11 ahead of the TA9',\n",
              "  'The first specifications for the TA9 and TA11  aircraft that could accommodate 410 passengers in a one class layout  emerged in 1982  They showed a large underfloor cargo area that could hold five cargo pallets or sixteen LD3 cargo containers in the forward  and four pallets or fourteen LD3s in the aft hold double the capacity of the Lockheed L 1011 TriStar or DC 10  and 8 46 metres  27 8 ft  longer than the Airbus A300  By June 1985  the TA9 and TA11 had received more improvements  including the adoption of the A320 flight deck  digital fly by wire  FBW  control system  and side stick control  Airbus had developed a common cockpit for their aircraft models to allow quick transition by pilots  The flight crews could transition from one type to another after only one week s training  which reduces operator costs  The two TAs would use the vertical stabiliser  rudder  and circular fuselage sections of the A300 600  extended by two barrel sections',\n",
              "  'Airbus briefly considered the variable camber wing  a concept that requires changing the wing profile for a given phase of flight  Studies were carried out by British Aerospace  BAe  now part of BAE Systems  at Hatfield and Bristol  Airbus estimated this would yield a two per cent improvement in aerodynamic efficiency  but the feature was rejected because of cost and difficulty of development  A true laminar flow wing  a low drag shape that improves fuel efficiency  was also considered but rejected',\n",
              "  'With necessary funding available  the Airbus Supervisory Board approved the development of the A330 and A340 with potential customers on 27 January 1986  Its chairman Franz Josef Strauss stated afterwards that  Airbus Industrie is now in a position to finalise the detailed technical definition of the TA9  now officially designated as the A330  and the TA11  now called the A340  with potential launch customer airlines  and to discuss with them the terms and conditions for launch commitments  The designations were originally reversed and were switched so the quad jet airliner would have a  4  in its name  Airbus hoped for five airlines to sign for both the A330 and A340  and on 12 May sent sale proposals to the most likely candidates  including Lufthansa and Swissair',\n",
              "  'From the beginning of the TA9 s development  a choice of engines from the three major engine manufacturers  Rolls Royce  Pratt   Whitney  and GE Aviation  was planned  GE Aviation first offered the CF6 80C2  However  later studies indicated that more thrust was needed to increase the initial power capability from 267 to 289 kN  60 000 to 65 000 lbf  GE enlarged the CF6 80C2 fan from 236 to 244 centimetres  92 9 to 96 1 in  and reduced the number of fan blades from 38 to 34 to create the CF6 80E1 with a thrust of 300 320 kN  67 000 72 000 lbf',\n",
              "  'Rolls Royce initially wanted to use the 267 kN  60 000 lbf  Trent 600 to power Airbus s newest twinjet and the upcoming McDonnell Douglas MD 11  However  the company later agreed to develop an engine solely for the A330  the Trent 700  with a larger diameter and 311 kN  69 900 lbf  of thrust  The A330 became the first Airbus aircraft on which Rolls Royce supplied engines',\n",
              "  'Similarly  Pratt   Whitney signed an agreement that covered the development of the A330 exclusive PW4168  The company increased the fan size from 94 in  2 39 m  to 100 in  2 54 m  enabling the engine to deliver 311 kN  69 900 lbf  of thrust  Like the CF6 80E1  34 blades were used instead of the 38 found on the smaller PW4000 engines',\n",
              "  'In preparation for the production of the A330 and the A340  Airbus s partners invested heavily in new facilities  In England  BAe made a  7 million investment in a three storey technical centre with 15 000 m2  161 000 sq ft  of floor area at Filton  In Wales  BAe also spent  5 million on a new production line at its Broughton wing production plant  In Germany  Messerschmitt B lkow Blohm  MBB  invested DM400 million  225 million  on manufacturing facilities in the Weser estuary  including at Bremen  Einswarden  Varel  and Hamburg  France saw the biggest investments  with A rospatiale constructing a new Fr 2 5 billion  411 million  final assembly plant adjacent to Toulouse Blagnac Airport in Colomiers  by November 1988  the pillars for the new Cl ment Ader assembly hall had been erected  The assembly process featured increased automation  such as robots drilling holes and installing fasteners during the wing to fuselage mating process',\n",
              "  'On 12 March 1987  Airbus received the first orders for the twinjet  Domestic French airline Air Inter placed five firm orders and fifteen options  while Thai Airways International requested eight aircraft  split evenly between firm orders and options  Airbus announced the next day that it would formally launch the A330 and A340 programmes by April 1987  with deliveries of the A340 to begin in May 1992 and A330 deliveries to start in 1993  Northwest Airlines signed a letter of intent for twenty A340s and ten A330s on 31 March',\n",
              "  'BAe eventually received  450 million of funding from the UK government  well short of the  750 million it had originally requested for the design and construction of the wings  The German and French governments also provided funding  Airbus issued subcontracts to companies in Australia  Austria  Canada  China  Greece  Italy  India  Japan  South Korea  Portugal  the United States  and the former Yugoslavia  With funding in place  Airbus launched the A330 and A340 programmes on 5 June 1987  just prior to the Paris Air Show  At that time  the order book stood at 130 aircraft from ten customers  including lessor International Lease Finance Corporation  ILFC  Of the order total  forty one were for A330s  In 1989  Asian carrier Cathay Pacific joined the list of purchasers  ordering nine A330s and later increasing this number to eleven',\n",
              "  'The wing to fuselage mating of the first A330  the tenth airframe of the A330 and A340 line  began in mid February 1992  This aircraft  coated with anti corrosion paint  was rolled out on 31 March without its General Electric CF6 80E1 engines  which were installed by August  During a static test  the wing failed just below requirement  BAe engineers later resolved the problem  At the 1992 Farnborough Airshow  Northwest deferred delivery of sixteen A330s to 1994  following the cancellation of its A340 orders',\n",
              "  'The first completed A330 was rolled out on 14 October 1992  with the maiden flight following on 2 November  Weighing 181 840 kg  401 000 lb  including 20 980 kg  46 300 lb  of test equipment  the A330 became the biggest twinjet to have flown  until the later first flight of the Boeing 777  The flight lasted five hours and fifteen minutes during which speed  height  and other flight configurations were tested  Airbus intended the test flight programme to comprise six aircraft flying a total of 1 800 hours  On 21 October 1993  the Airbus A330 received the European Joint Aviation Authorities  JAA  and the US Federal Aviation Administration  FAA  certifications simultaneously after 1 114 cumulative airborne test hours and 426 test flights  At the same time  weight tests came in favourable  showing the plane was 500 kg  1 100 lb  under weight',\n",
              "  'On 30 June 1994  a fatal crash occurred during certification of the Pratt   Whitney engine when an A330 crashed near Toulouse  Both pilots and the five passengers died  The flight was designed to test autopilot response during a one engine off worst case scenario with the centre of gravity near its aft limit  Shortly after takeoff  the pilots had difficulty setting the autopilot  and the aircraft lost speed and crashed  An investigation by an internal branch of Direction Generale d Aviation concluded that the accident resulted from slow response and incorrect actions by the crew during the recovery  This led to a revision of A330 operating procedures',\n",
              "  'Air Inter became the first operator of the A330  having put the aircraft into service on 17 January 1994 between Orly Airport  Paris  and Marseille  Deliveries to Malaysia Airlines  MAS  and Thai Airways International were postponed to address delamination of the composite materials in the PW4168 engine s thrust reverser assembly  Thai Airways received its first A330 during the second half of the year  operating it on routes from Bangkok to Taipei and Seoul  Cathay Pacific received its Trent 700 A330s following the certification of that engine on 22 December 1994  MAS received its A330 on 1 February 1995 and then rescheduled its other ten orders',\n",
              "  'Airbus intended the A330 to compete in the Extended range Twin engine Operation Performance Standards  ETOPS  market  specifically with the Boeing 767   ETOPS is a standard that allows longer range flights away from a diversion airport for aircraft that have met special design and testing standards  Instead of the  ETOPS out of the box  or  Early ETOPS  approach taken by Boeing with its 777 1  Airbus gradually increased ETOPS approval on the A330 using in service experience  Airbus suggested that the A340 and the A330 were essentially identical except for their engine number  and that the A340 s experience could be applied to the A330 s ETOPS approval  The plans were for all three engine types to enter service with 90 minute approval  before increasing to 120 minutes after the total A330 fleet accumulated 25 000 flight hours  and then to 180 minutes after 50 000 flight hours  in 1995 2  Aer Lingus and Cathay Pacific were two important airlines assisting Airbus in this endeavour by building up in service flight hours on over ocean flights  In November 2009  the A330 became the first aircraft to receive ETOPS 240 approval  which has since been offered by Airbus as an option',\n",
              "  'In response to a decline in A330 300 sales  increased market penetration by the Boeing 767 300ER  and airline requests for increased range and smaller aircraft  Airbus developed the Airbus A330 200  Known as the A329 and A330M10 during development  the A330 200 would offer nine per cent lower operating costs than the Boeing 767 300ER  The plane was aimed at the 11 900 km  6 430 nmi  7 390 mi  sector  where Airbus predicted demand for 800 aircraft between 1995 and 2015  The project  with US 450 million in expected development costs  was approved by the Airbus Industrie Supervisory Board on 24 November 1995',\n",
              "  'As Airbus worked on its A330 200  hydraulic pump problems were reported by both A330 and A340 operators  This issue was the suspected cause of a fire that destroyed an Air France A340 200 in January 1994  On 4 January of that year  a Malaysia Airlines A330 300  while undergoing regular maintenance at Singapore Changi Airport  was consumed by a fire that started in the right hand main undercarriage well  The incident caused US 30 million in damage  and the aircraft took six months to repair  Consequently  operators were advised to disable electrical pumps in January 1997',\n",
              "  'Responding to lagging A300 600F and A310F sales  Airbus began marketing the Airbus A330 200F  a freighter derivative of the A330 200  around 2001  The freighter has a range of 7 400 km  4 000 nmi  4 600 mi  with a 65 tonnes  140 000 lb  payload  or 5 900 km  3 200 nmi  3 700 mi  with 70 tonnes  150 000 lb  The plane utilises the same nosegear as the passenger version  however  it is attached lower in the fuselage and housed in a distinctive bulbous  blister fairing  This raises the aircraft s nose so that the cargo deck is level during loading  as the standard A330 s landing gear results the plane having a nose down attitude while on the ground',\n",
              "  'The A330 200F made its maiden flight on 5 November 2009  This marked the start of a four month  180 hour certification programme  JAA and FAA certifications were expected by March the following year although approval by the JAA was delayed until April  The first delivery was subsequently made to the Etihad Airways cargo division  Etihad Cargo  in July 2010',\n",
              "  'On 25 September 2013 at the Aviation Expo China  Beijing Airshow  Airbus announced a new lower weight A330 300 variant  optimised for use on domestic and regional routes in high growth markets with large populations and concentrated traffic flows  China and India were recognised as prime targets  This variant could carry up to 400 passengers  The increased efficiency  however  comes more from the installation of more seats than any weight reduction  On relatively short  yet congested routes  the A330 competes against single aisle jetliners  While the A330 s operating costs in these conditions are not far above those of the Boeing 737 or Airbus A321  the A320neo and 737 MAX promise more efficiency  Where the frequency of flights cannot be increased  using larger aircraft  such as the A330  is the only available option to increase capacity  The first customer for the A330 Regional was announced as Saudia at the 2015 Paris Air Show',\n",
              "  'The A330neo  neo  for  New Engine Option  is a development from the initial A330  now A330ceo   Current Engine Option  A new version with modern engines developed for the Boeing 787 was called for by owners of the current A330  It was launched in July 2014 at the Farnborough Airshow  promising 14  better fuel economy per seat  It will use the larger Rolls Royce Trent 7000 exclusively  Its two versions are based on the A330 200 and  300  the  800 should cover 8 150 nmi  15 090 km  with 257 passengers while the  900 should cover 7 200 nmi  13 330 km  with 287 passengers  The  900 made its first flight on 19 October 2017  received its EASA type certificate on 26 September 2018  and was first delivered to TAP Air Portugal on 26 November  The  800 made its first flight on 6 November 2018  aiming for a mid 2019 type certification and delivery in the first half of 2020',\n",
              "  'Several in flight shutdowns of Trent 700 powered A330 300s occurred  On 11 November 1996  engine failure on a Cathay Pacific flight forced it back to Ho Chi Minh City  On 17 April 1997  Cathay Pacific s Dragonair subsidiary experienced an engine shutdown on an A330  caused by carbon clogging the oil filter  As a result  Cathay Pacific self suspended its 120 minute ETOPS clearance  Another engine failure occurred on 6 May during climbout with a Cathay Pacific A330  due to a bearing failure in a Hispano Suiza built gearbox  Three days later  a Cathay Pacific A330 on climbout during a Bangkok Hong Kong flight experienced an oil pressure drop and a resultant engine spool down  forcing a return to Bangkok  The cause was traced to metal contamination in the engine s master chip  Following a fifth engine failure on 23 May  Cathay Pacific and Dragonair voluntarily grounded their A330 fleets for two weeks  causing major disruption as Cathay s eleven A330s made up fifteen per cent of its passenger capacity  Rolls Royce and Hispano Suiza developed a redesigned lubrication system to resolve the problem',\n",
              "  'Other engines have issues too  on 14 July 2015  an Asiana PW4000 was shut down in flight  on 15 January 2017  an Air Europa CF6 was shut down in flight  on 28 December 2017  an Aer Lingus CF6 was shut down in flight  on 18 January 2018  a Malaysia Airlines PW4000 was shut down in flight  on 13 February 2018  a Delta Air Lines PW4000 caught fire  on 29 May 2018  a Delta Air Lines PW4000 had engine vibrations  on 1 June 2018  a Qantas CF6 was shut down in flight  on 1 October 2018  a China Airlines CF6 had an engine problem  and on 5 November 2018  a Brussels Airlines PW4000 was shut down in flight',\n",
              "  'Airbus announced in February 2011 that it intended to raise production rates from seven and a half to eight per month to nine per month in 2012  and ten per month in 2013  Production increased to 10 aircraft per month in April 2013  the highest for any Airbus widebody aircraft  In 2012  Airbus expected the A330 to continue selling until at least 2020  with the A350 900 expected to replace the A330 300',\n",
              "  'On 19 July 2013  Airbus delivered its 1000th A330 to Cathay Pacific  The A330 became the first Airbus wide body airliner to reach 1 000 deliveries  and the fourth wide body to achieve the milestone after the Boeing 747  767  and 777  As of January 2019  a total of 1 496 A330ceos had been ordered  with 1 437 delivered',\n",
              "  'In December 2014  Airbus announced that it would reduce A330 production to nine aircraft per month from ten  due to falling orders  Airbus did not rule out any further production cuts  The announcement led to an immediate drop in Airbus Group s stock price because the company derives a significant percentage of its cash flow and net profit from the A330 program  the A330 s financial impact is magnified amid problems in the A350 and A380 programs  In February 2015  Airbus announced that another production rate cut to six aircraft per month would begin in the first quarter of 2016  This would extend A330ceo production to July 2017  allowing for a smooth transition to A330neo production  which was set to start in spring 2017  In February 2016  Airbus announced that it will re increase the production rate from 6 to 7 per month  as response to new A330 orders',\n",
              "  'In April 2018  Airbus announced further rate cuts in response to weakening demand to 50 aircraft a year or 4 5 aircraft a month in 2019 In 2019  Airbus delivered 53 A330s  including 41 A330neos  including some delayed from 2018  and was going to reach a rate of 40 per year  to reflect softer demand for widebodies  as the backlog reached 331  including 293 A330neos    or 8 3 years of production',\n",
              "  'The last A330 200 was delivered to OpenSkies  operating for LEVEL  on October 1  2019 The last A330 300 built was flown to Brussels Airport on February 28  2020  and Aer Lingus took delivery on 4 March 2020  while four completed A330 300s for troubled Hong Kong Airlines were still undelivered The A330 MRTT KC 30B and Beluga XL production continue along the A330neo',\n",
              "  'The A330 is a medium size  wide body aircraft  with two engines suspended on pylons under the wings  A two wheel nose undercarriage and two four wheel bogie main legs built by Messier Dowty support the aeroplane on the ground  Its MTOW grew from 212 tonnes  467 000 lb  at introduction to 242 tonnes  534 000 lb  in 2015  enhancing its payload range performance  John Leahy states that it was intentionally being held down in takeoff weight and performance because Airbus avoided overlapping with the A340',\n",
              "  'The airframe of the A330 features a low wing lever monoplane with a wing virtually identical to that of the A340 200 300  On the A330 300  one engine is installed at the inboard pylon while the outboard pylon position is not used  for the A340 300  both engine pylons are used  which allows the A340 300 wing to sustain a higher  wing limited  MTOW  This is as the A340 s two engines at each wing provide a more equal force distribution  engine weight  over the wing  while also the total engine weight counteracting moment is located more outboard with more engine weight located further outboard on the wing  hence the wing root bending moment with equal TOW is less on the A340 300 than on the A330 300  The wings were designed and manufactured by BAe  which developed a long slender wing with a very high aspect ratio to provide high aerodynamic efficiency 3',\n",
              "  'The wing is swept back at 30 degrees and  along with other design features  allows a maximum operating Mach number of 0 86  To reach a long span and high aspect ratio without a large weight penalty  the wing has relatively high Thickness to chord ratio of 11 8  or 12 8  Jet airliners have Thickness to chord ratios ranging from 9 4   MD 11 or Boeing 747  to 13   Avro RJ or 737 Classic  Each wing also has a 2 74 m  9 ft 0 in  tall winglet instead of the wingtip fences found on earlier Airbus aircraft',\n",
              "  'The shared wing design with the A340 allowed the A330 to incorporate aerodynamic features developed for the former aircraft  The failure of International Aero Engines  radical ultra high bypass V2500  SuperFan  which had promised around 15 per cent fuel burn reduction for the A340  led to multiple enhancements including wing upgrades to compensate  Originally designed with a 56 m  180 ft  span  the wing was later extended to 58 6 m  190 ft  and finally to 60 3 m  200 ft  At 60 3 m  200 ft  the wingspan is similar to that of the larger Boeing 747 200  but with 35 percent less wing area',\n",
              "  'The A330 and A340 fuselage is based on that of the Airbus A300 600  with many common parts  and has the same external and cabin width  5 64 m  19 ft  and 5 26 m  17 ft  Typical seating arrangements are 2 2 2 six abreast in business class and 2 4 2 eight abreast in economy class  The fin  rudder  elevators  horizontal tail plane are used as fuel tank  flaps  ailerons and spoilers  they are made of composite materials  making 10  of the structure weight  When necessary  the A330 uses the Honeywell 331 350C auxiliary power unit  APU  to provide pneumatics and electrical power',\n",
              "  'The A330 shares the same glass cockpit flight deck layout as the A320 and the A340  featuring electronic instrument displays rather than mechanical gauges  Instead of a conventional control yoke  the flight deck features side stick controls  six main displays  and the Electronic Flight Instrument System  EFIS  which covers navigation and flight displays  as well as the Electronic Centralised Aircraft Monitor  ECAM  Apart from the flight deck  the A330 also has the fly by wire system common to the A320 family  the A340  the A350  and the A380  It also features three primary and two secondary flight control systems  as well as a flight envelope limit protection system which prevents maneuvers from exceeding the aircraft s aerodynamic and structural limits',\n",
              "  'Powered by two General Electric CF6 80E1  Pratt   Whitney PW4000  or Rolls Royce Trent 700 engines  the 63 69 m  208 ft 11 in  long  300 has a range of 11 750 km   6 350 nmi  typically carries 277 passengers with a 440 exit limit and 32 LD3 containers  It received European and American certification on 21 October 1993 after 420 test flights over 1 100 hours  The  300 entered service on 16 January 1994  The A330 300 is based on a stretched A300 fuselage but with new wings  stabilisers and fly by wire systems',\n",
              "  'In 2010  Airbus offered a new version of the  300 with the maximum gross weight increased by two tonnes to 235 t  This enabled 120 nmi  220 km  140 mi  extension of the range as well as 1 2 t increase in payload  In mid 2012  Airbus proposed another increase of the maximum gross weight to 240 t  It is planned to be implemented by mid 2015  This  300 version will have the range extended by 400 nmi  740 km  460 mi  and will carry 5 t more payload  It will include engine and aerodynamic improvements reducing its fuel burn by about 2  In November 2012  it was further announced that the gross weight will increase from 235 t to 242 t  and the range will increase by 500 nmi  926 km  575 mi  to 6 100 nmi  11 300 km  7 020 mi  Airbus is also planning to activate the central fuel tank for the first time for the  300 model',\n",
              "  'As of February 2019  a total of 789 of the  300 had been ordered  766 of which had been delivered  with 745 in operation  The 2015 list price is  264 million  The closest competitors have been the Boeing 777 200 200ER  and the now out of production McDonnell Douglas MD 11',\n",
              "  'In 2000  it was reported that Airbus was studying an A330 300 version with a higher gross weight  It was named A330 300HGW and had a takeoff weight of 240 tonnes  530 000 lb  7 tonnes  15 000 lb  greater than the  300 s weight at the time  The version would have a strengthened wing and additional fuel capacity from a 41 600 litre  11 000 US gal  centre section fuel tank  The A330 300HGW s range was increased to over 11 000 km  5 940 nmi  6 840 mi  Among those that showed interest was leasing company ILFC  which sought airliners that could fly from the US West Coast to Europe',\n",
              "  'Power was to be supplied by all three engines offered to A330 200 and A330 300 with lower gross weight  Airbus also considered using the new Engine Alliance GP7000 engine for the A330 300HGW  which would have been the engine s first twinjet application  The  300HGW was to enter airline service in 2004  However  the  300HGW programme was not launched and quietly disappeared',\n",
              "  'The 240 tonne A330 reappeared years later when Airbus announced at the 2012 Farnborough Airshow that it would be an available option for both the A330 300 and the A330 200  In November 2012  the maximum take off weight was further increased to 242 tonnes  The first of these aircraft was delivered to Delta Air Lines on 28 May 2015',\n",
              "  'In September 2013  Airbus announced a version of the A330 300  named A330 Regional or A330 300 Regional  The A330 Regional have seating for up to around 400 passengers  with reduced engine thrust  reduced maximum takeoff weight of 199 t  439 000 lb  and reduced range of 2 700 nautical miles  5 000 km  3 110 mi  It is said that the maximum takeoff weight of these aircraft is an  easy upgrade to 242 t  534 000 lb  which is the extended range version with range of 6 350 nmi  11 800 km  7 310 mi  It is said to provide up to 26  lower operating costs than the longer range version A330 300',\n",
              "  'The A330 200 is a shortened  longer range variant  which entered service in 1998 with Korean Air  Typical range with 253 passengers in a three class configuration is 13 400 km  7 240 nmi  8 330 mi  The A330 200 is ten fuselage frames shorter than the original  300  with a length of 58 82 m  193 ft 0 in  To compensate for the smaller moment arm of the shorter fuselage  the vertical stabiliser height of the  200 was increased by 104 cm  40 9 in  The  200 s wing was also modified  structural strengthening of the wing allowed the maximum takeoff weight of the  200 to be increased to 229 8 tonnes  507 000 lb  The  200 is offered with three engine types similar to those found on the  300  namely the General Electric CF6 80E  Pratt   Whitney PW4000  or Rolls Royce Trent 700  Airbus also boosted fuel capacity to 139 100 L  36 700 US gal  by adding the centre section fuel tank  standard in the A340',\n",
              "  'In 2008  Airbus released plans for a higher gross weight version of the A330 200 to more effectively compete against the Boeing 787 Dreamliner  The new build A330 200HGW had a 5 tonne increase in Maximum Takeoff Weight  allowing a 560 kilometres  302 nmi  348 mi  range increase and a 3 4 tonnes  7 500 lb  payload increase  Korean Air became the first customer on 27 February 2009 with an order for six  200HGWs  Deliveries of the first aircraft started in 2010',\n",
              "  'In mid 2012  Airbus proposed another version of the  200 with the maximum gross weight increased by 2 t to 240 t  This version had its range extended by 270 nmi and carried 2 5 t more payload  It saw engine and aerodynamic improvements reducing its fuel burn by about 2  In November 2012  it was announced that the gross weight was to be further increased to 242 t with the range extended by 350 nmi  650 km  400 mi  over the 238 t version  It was certified by the EASA on 8 September 2015',\n",
              "  'As of February 2019  665 of the  200 had been ordered  634 of which had been delivered  with 619 aircraft in operation  The 2018 list price is  238 5 million  The  200 competes with the Boeing 767 300ER and to a lesser extent the 767  as well as with the new 787 Dreamliner In 1998  a newly delivered A330 200 was valued  94 million  rose over  100 million in 2005 but lowered at almost  75 million in 2019 as the market favours the  300 and the A330neo',\n",
              "  'The A330 200F is an all cargo derivative of the A330 200 capable of carrying 65 t  140 000 lb  over 7 400 km  4 000 nmi  4 600 mi  or 70 t  150 000 lb  up to 5 900 km  3 200 nmi  3 700 mi  To overcome the standard A330 s nose down body angle on the ground  the A330F uses a revised nose undercarriage layout to provide a level deck during cargo loading  The normal A330 200 undercarriage is used  but its attachment points are lower in the fuselage  thus requiring a distinctive blister fairing on the nose to accommodate the retracted nose gear  Power is provided by two Pratt   Whitney PW4000 or Rolls Royce Trent 700 engines  General Electric does not plan to offer an engine for the A330 200F',\n",
              "  'As of February 2019  Airbus had delivered 38 aircraft with four unfilled orders  The list price is  241 7 million  As well as new build freighters  Airbus has proposed passenger to freighter conversions of existing  200 airliners  The A330 200F is sized between the 767 300F and 777F  but trails both Boeing models in orders and deliveries',\n",
              "  'At the February 2012 Singapore Airshow  the A330P2F freighter conversion programme was launched  engineered by ST Aerospace  supported by Airbus  and industrialised and marketed by their Dresden based Elbe Flugzeugwerke joint venture Targeting a 2016 introduction  Airbus then estimated a market requirement for 2 700 freighters over 20 years  half of these mid sized  including 900 conversions',\n",
              "  'The A330 300P2F  adapted for express delivery and e commerce lower densities  can carry up to 62 t  137 000 lb  over 3 650 nmi  6 760 km Following flight tests in October 2017 and EASA Supplemental Type Certificate awarded in November  the first was delivered to DHL on 1 December The A330 200P2F can carry 61 t  134 000 lb  over 4 250 nmi  7 870 km Following June Flight tests and the STC in July  the first was delivered to EgyptAir Cargo on 3 August 2018',\n",
              "  'The Airbus A330 900 mantains the A330 300 s fuselage dimensions with 10 more seats thanks to cabin optimisation  With modern Trent 7000 engines and redesigned winglets  it should burn 14  less fuel per seat than the A330 300 over a distance of 4 000 nmi  It should travel 6 550 nmi  12 130 km  with 287 passengers in a standard configuration',\n",
              "  'Airbus started design of a replacement aircraft for the Beluga in November 2014  The Beluga XL is based on the Airbus A330  and has 30  more space than its predecessor  Like its predecessor  the Airbus Beluga  the Beluga XL features an extension on its fuselage top  and can accommodate two A350 wings instead of one  The new aircraft rolled out of the assembly line on 4 January 2018  and made its maiden flight on 19 July 2018  It commenced operations between different Airbus factories in January 2020',\n",
              "  'The Airbus A330 MRTT is the Multi Role Transport and Tanker  MRTT  version of the A330 200  designed for aerial refuelling and strategic transport  As of November  46 total orders have been placed for the A330 MRTT by the air forces of Australia  France  Saudi Arabia  Singapore  the United Arab Emirates  and the United Kingdom',\n",
              "  'The EADS Northrop Grumman KC 45 was a proposed version of the A330 MRTT for the United States Air Force  USAF s KC X aerial refuelling programme  In February 2008  the USAF selected the aircraft to replace the Boeing KC 135 Stratotanker  The replacement process was mired in controversy  instances of corruption  and allegations of favouritism  In July 2010  EADS submitted a tanker bid to the USAF without Northrop Grumman as a partner  However  on 24 February 2011  the USAF picked the Boeing KC 767 proposal  later named KC 46  as the winner because of its lower cost',\n",
              "  'In February 2000  the 250 seat A330 100 replacement for the A300 A310 could be launched by year end for 2003 deliveries  Shortened and keeping its fly by wire cockpit and systems  with a cleaner A300 600 wing with sealed control surfaces and winglets and at least two new engine types among the GE CF6 80  the PW4000 and the A340 500 600 s Trent 500 aimed for 5  better SFC than the A300 600  Its 44 8 m  147 ft  wing allowed a 173 t  381 000 lb  MTOW and 4 200 nmi  7 770 km  range  In May  the 210 260 seat design had evolved towards keeping the A330 60 3 m  198 ft  span wing and engines for a 195 t MTOW and 4 500 nmi  8 300 km  range  Interested customers included Singapore Airlines  Lufthansa and Hapag Lloyd',\n",
              "  'Announced in July at Farnborough Air Show  the  500 first flight was targeted for early 2003 and introduction in early 2004  ILFC would take 10 if it was launched and CIT was interested too  The eight frame shrink would carry 222 in three classes or 266 in two classes  Its initial 13 000 km  7 000 nmi  range would be followed by derated versions for 8 000 km  4 300 nmi The market was lukewarm as airlines like Lufthansa  Hapag Lloyd and Singapore Airlines were unimpressed by the long range A330 500  favouring a more refined short range design  Lack of airline demand made lessors interest wane and as ILFC would order as 30  500s  it would be with converting rights to larger A330 200 300',\n",
              "  'To compete with Boeing s 7E7  later 787  Airbus offered a minimum change derivative called the A330 200Lite in 2004  As the name indicated  this proposed variant would have had a lower maximum takeoff weight of 202 tonnes  445 000 lb  coupled with de rated engines  giving a range of 7 400 km  4 000 nmi  4 600 mi  It was aimed at Singapore Airlines  who had looked to replace its Airbus A310 300s  The variant was also to be a replacement for Airbus A300 600Rs and early Boeing 767s  Airlines  however  were not satisfied with the compromised aircraft  the company instead proceeded with an entirely new aircraft  the A350 XWB',\n",
              "  'By 2012  the 830 A330 in service with over 90 operators had accumulated five million revenue flights and 20 million flight hours  with a dispatch reliability above 99 In November 2017  1 190 are transporting passengers with 106 airlines  with the top 29 operating two thirds of the fleet  800 aircraft  530  200s and 660 A330 300s  mainly high gross weight with 36 original shorter range A330 300s  half of them built since January 2010 Its average sector is 2 000 nmi  3 700 km  and their longest flight is 6 000 nmi  11 000 km  from Buenos Aires to Rome by Aerol neas Argentinas for the  200  and 5 000 nmi  9 300 km  from Paris to Reunion by Corsair and French Blue for the  300 Of operators of at least five A330s  17 have ordered A350 900s  11 have ordered B787 8 9s  13 both  3 have ordered A330neos and 2 both A330neos and A350s  and 14 haven t yet decided a replacement',\n",
              "  'By February 2019  there were 1 405 examples of all A330 variants in airline service  comprising 619 A330 200s  38  200Fs  745  300s and 3  900s  The largest airline operators were Turkish Airlines  67  Air China  58  China Eastern Airlines  51  China Southern Airlines  50  Delta Air Lines  42  and other operators with fewer aircraft By August 2019  it was operated to over 400 airports in the world by more than 120 operators  while its average dispatch reliability is over 99  and annual utilization is up to 6 000 flight hours As of December 2019  A330 orders stand at 1 823 of which 1 492 have been delivered and 1 443 remain in operation',\n",
              "  'The type s first fatal accident occurred on 30 June 1994 near Toulouse on a test flight when an Airbus owned A330 300 crashed while simulating an engine failure on climbout  killing all seven on board  Airbus subsequently advised A330 operators to disconnect the autopilot and limit pitch attitude in the event of an engine failure at low speed',\n",
              "  'The type s second fatal and deadliest accident  and first while in commercial service  occurred on 1 June 2009 when Air France Flight 447  an A330 200 en route from Rio de Janeiro to Paris with 228 people on board  crashed in the Atlantic Ocean 640 800 km  350 430 nmi  northeast of the islands of Fernando de Noronha  with no survivors  Malfunctioning pitot tubes provided an early focus for the investigation  as the aircraft involved had Thales built  AA  models known to record faulty airspeed data during icing conditions  In July 2009  Airbus advised A330 and A340 operators to replace Thales pitots with equivalents manufactured by Goodrich  Investigators later determined that the inadequate response of the pilots to both a loss of airspeed data from malfunctioning pitot tubes and subsequent autopilot disengagement followed by incorrect reaction by pilot flying resulted in Flight 447 entering into an aerodynamic stall',\n",
              "  'On 12 May 2010  Afriqiyah Airways Flight 771  an A330 200  crashed on approach to Tripoli International Airport  Libya  on a flight from OR Tambo International Airport  Johannesburg  South Africa  Of the 104 people on board  all but one nine year old Dutch boy died  The cause of the crash was determined to be pilot error',\n",
              "  'The two hijackings involving the A330 have resulted in one fatality  namely the hijacker of Philippine Airlines Flight 812 on 25 May 2000  who jumped out of the aircraft to his death  The hijacking of Sabena Flight 689 on 13 October 2000 ended with no casualties when Spanish police took control of the aircraft  On 24 July 2001  two unoccupied SriLankan Airlines A330s were destroyed amid an attack on Bandaranaike International Airport  in Colombo  Sri Lanka  by the Liberation Tigers of Tamil Eelam  On 25 December 2009  passengers and crew subdued a man who attempted to detonate explosives in his underwear on an A330 300 operating Northwest Airlines Flight 253',\n",
              "  'Two A330 incidents due to in flight malfunctions were survived by all on board  On 24 August 2001  Air Transat Flight 236  an A330 200  developed a fuel leak over the Atlantic Ocean due to an incorrectly installed hydraulic part and was forced to glide for over 15 minutes to an emergency landing in the Azores  On 7 October 2008  Qantas Flight 72  an A330 300  suffered a rapid loss of altitude in two sudden uncommanded pitch down manoeuvres while 150 km  81 nmi  from the RAAF Learmonth air base in northwestern Australia  After declaring an emergency  the crew landed the aircraft safely at Learmonth  It was later determined that the incident  which caused 106 injuries  14 of them serious  was the result of a design flaw of the plane s Air Data Inertial Reference Unit and a limitation of the aircraft s flight computer software',\n",
              "  'On 13 April 2010  Cathay Pacific Flight 780 from Surabaya Juanda International Airport to Hong Kong landed safely after both engines failed due to contaminated fuel  57 passengers were injured  Its two pilots received the Polaris Award from the International Federation of Air Line Pilots  Associations  for their heroism and airmanship'],\n",
              " ['The Airbus A320 family are narrow body airliners designed and produced by Airbus The A320 was launched in March 1984  first flew on 22 February 1987  and was introduced in April 1988 by Air France The first member of the family was followed by the longer A321  first delivered in January 1994  the shorter A319  April 1996  and the even shorter A318  July 2003 Final assembly takes place in Toulouse in France  Hamburg in Germany  Tianjin in China since 2009  and in Mobile  Alabama in the United States since April 2016',\n",
              "  'The twinjet has a six abreast cross section and is powered by either CFM56 or IAE V2500 turbofans  except the CFM56 PW6000 powered A318 The family pioneered the use of digital fly by wire and side stick flight controls in airliners Variants offer maximum take off weights from 68 to 93 5 t  150 000 to 206 000 lb  to cover a 5 740 6 940 km  3 100 3 750 nmi  range The 31 4 m  103 ft  long A318 typically accommodates 107 to 132 passengers The 124 156 seats A319 is 33 8 m  111 ft  long The A320 is 37 6 m  123 ft  long and can accommodate 150 to 186 passengers The 44 5 m  146 ft  A321 offers 185 to 230 seats The Airbus Corporate Jets are business jet versions',\n",
              "  'In October 2019  it surpassed the Boeing 737 to become the highest selling airliner As of January 2020  a total of 9 273 aircraft have been delivered to more than 330 operators including low cost carriers  with 8 814 aircraft in service  American Airlines is the largest operator with 414 aircraft  Orders pending were 6 068  for a total of 15 315 orders The A320ceo initially competed with the MD 80 and the 737 Classic  then the MD 90 and the 737 Next Generation  while the 737 MAX is Boeing s response to the A320neo',\n",
              "  'When Airbus designed the Airbus A300 during the late 1960s and early 1970s  it envisaged a broad family of airliners with which to compete against Boeing and Douglas  two established US aerospace manufacturers  From the moment of formation  Airbus had begun studies into derivatives of the Airbus A300B in support of this long term goal  Prior to the service introduction of the first Airbus airliners  engineers within Airbus had identified nine possible variations of the A300 known as A300B1 to B9  A 10th variation  conceived in 1973  later the first to be constructed  was designated the A300B10  It was a smaller aircraft which would be developed into the long range Airbus A310  Airbus then focused its efforts on the single aisle market  which was dominated by the 737 and McDonnell Douglas DC 9',\n",
              "  'Plans from a number of European aircraft manufacturers called for a successor to the relatively successful BAC One Eleven  and to replace the 737 200 and DC 9  Germany s MBB  Messerschmitt B lkow Blohm  British Aircraft Corporation  Sweden s Saab and Spain s CASA worked on the EUROPLANE  a 180  to 200 seat aircraft  It was abandoned after intruding on A310 specifications  VFW Fokker  Dornier and Hawker Siddeley worked on a number of 150 seat designs',\n",
              "  'The design within the JET study that was carried forward was the JET2  163 passengers  which then became the Airbus S A1 2 3 series  Single Aisle  before settling on the A320 name for its launch in 1984  Previously  Hawker Siddeley had produced a design called the HS 134  Airbus  in 1965  an evolution of the HS 121  formerly DH 121  Trident  which shared much of the general arrangement of the later JET3 study design  The name  Airbus  at the time referred to a BEA requirement  rather than to the later international programme',\n",
              "  'In June 1977 a new Joint European Transport  JET  programme was set up  established by BAe  Aerospatiale  Dornier and Fokker  It was based at the then British Aerospace  formerly Vickers  site in Weybridge  Surrey  UK  Although the members were all of Airbus  partners  they regarded the project as a separate collaboration from Airbus  This project was considered the forerunner of Airbus A320  encompassing the 130  to 188 seat market  powered by two CFM56s  It would have a cruise speed of Mach 0 84  faster than the Boeing 737  The programme was later transferred to Airbus  leading up to the creation of the Single Aisle  SA  studies in 1980  led by former leader of JET programme  Derek Brown  The group looked at three different variants  covering the 125  to 180 seat market  called SA1  SA2 and SA3  Although unaware at the time  the consortium was producing the blueprints for the A319  A320 and A321  respectively  The single aisle programme created divisions within Airbus about whether to design a shorter range twinjet rather than a longer range quadjet wanted by the West Germans  particularly Lufthansa  However  works proceeded  and the German carrier would eventually order the twinjet',\n",
              "  'In February 1981 the project was re designated A320  with efforts focused on the former SA2  During the year  Airbus worked with Delta Air Lines on a 150 seat aircraft envisioned and required by the airline  The A320 would carry 150 passengers over 5 280 or 3 440 km  2 850 or 1 860 nmi  using fuel from wing fuel tanks only  The Dash 200 had centre tank activated  increasing fuel capacity from 15 590 to 23 430 L  3 429 to 5 154 imp gal  They would measure 36 04 and 39 24 m  118 ft 3 in and 128 ft 9 in  respectively  Airbus considered a fuselage diameter of  the Boeing 707 and 727  or do something better  and settled on a wider cross section with a 3 7 m  12 ft 2 in  internal width  compared to Boeing s 3 45 m  11 ft 4 in  Although heavier  this allowed to compete more effectively with the 737  The A320 wing went through several stages of design  finally settling on 33 91 m  111 ft 3 in',\n",
              "  'The UK  France and West Germany wanted the responsibility of final assembly and the associated duties  known as  work share arguments  The Germans requested an increased work share of 40  while the British wanted the major responsibilities to be swapped around to give partners production and research and development experience  In the end  British work share was increased from that of the two previous Airbuses',\n",
              "  'France was willing to commit to a launch aid  or subsidies  while the Germans were more cautious  The UK government was unwilling to provide funding for the tooling requested by British Aerospace  BAe  and estimated at  250 million  it was postponed for three years  On 1 March 1984 the government and the manufacturer agreed that  50 million would be paid whether the A320 would fly or not  while the rest would be paid as a levy on each aircraft sold',\n",
              "  'The programme was launched on 2 March 1984  At this time  Airbus had 96 orders 48 Air France was its first customer with a  letter of intent  for 25 A320s and an option for 25 more at the 1981 Paris air show  In October 1983  British Caledonian placed seven firm orders  bringing total orders to more than 80  Cyprus Airways became the first to place order for V2500 powered A320s in November 1984  followed by Pan Am with 16 firm orders and 34 options in January 1985  then Inex Adria 49 One of the most significant orders was when Northwest Airlines placed an order for 100 A320s in October 1986  later confirmed at the 1990 Farnborough Airshow  powered by CFM56 engines 49 50',\n",
              "  'Power on the A320 would be supplied by two CFM56 5 A1s rated at 25 000 lbf  111 2 kN  It was the only available engine at launch until the IAE V2500  offered by International Aero Engines  a group composed of Rolls Royce plc  Pratt   Whitney  Japanese Aero Engine Corporation  Fiat and MTU  The first V2500 variant  the V2500 A1  has a thrust output of 25 000 pounds force  110 kN  hence the name  It is 4  more efficient than the CFM56  with cruise thrust specific fuel consumption for the  A5 at 0 574 and 0 596 lb lbf h  16 3 and 16 9 g kN s  for the CFM56 5A1',\n",
              "  'In presence of then French Prime Minister Jacques Chirac and the Prince and Princess of Wales  the first A320 was rolled out of the final assembly line on 14 February 1987 and made its maiden flight on 22 February in 3 hours and 23 minutes from Toulouse  The flight test programme took 1 200 hours on 530 flights  European Joint Aviation Authorities certification was delivered on 26 February 1988 50 The first A320 was delivered to Air France on 28 March 1988',\n",
              "  'The first derivative of the A320 was the Airbus A321  also known as the Stretched A320  A320 500 and A325  Its launch came on 24 November 1988 after commitments for 183 aircraft from 10 customers were secured  The aircraft would be a minimum changed derivative  apart from a number of minor modifications to the wing  and the fuselage stretch itself  The wing would incorporate double slotted flaps and minor trailing edge modifications  increasing the wing area from 124 m2  1 330 sq ft  to 128 m2  1 380 sq ft  The fuselage was lengthened by four plugs  two ahead and two behind the wings  giving the A321 an overall length of 6 94 metres  22 ft 9 in  longer than the A320  The length increase required the overwing exits of the A320 to be enlarged and repositioned in front of and behind the wings  The centre fuselage and undercarriage were reinforced to accommodate the increase in maximum takeoff weight of 9 600 kg  21 200 lb  taking it to 83 000 kg  183 000 lb',\n",
              "  'Final assembly for the A321 would be  as a first for any Airbus  carried out in Germany  then West Germany  This came after a dispute between the French  who claimed the move would incur  150 million  135 million  in unnecessary expenditure associated with the new plant  and the Germans  arguing it would be more productive for Airbus in the long run  The second production line was located at Hamburg  which would also subsequently produce the smaller Airbus A319 and A318  For the first time  Airbus entered the bond market  through which it raised  480 million  475 million  to finance development costs  An additional  180 million  175 million  was borrowed from European Investment Bank and private investors',\n",
              "  'The maiden flight of the Airbus A321 came on 11 March 1993  when the prototype  registration F WWIA  flew with IAE V2500 engines  the second prototype  equipped with CFM56 5B turbofans  flew in May  Lufthansa and Alitalia were the first to order the stretched Airbuses  with 20 and 40 aircraft requested  respectively  The first of Lufthansa s V2500 A5 powered A321s arrived on 27 January 1994  while Alitalia received its first CFM56 5B powered aircraft on 22 March',\n",
              "  'The A319 is the next derivative of the baseline A320  The design is a  shrink  with its origins in the 130  to 140 seat SA1  part of the Single Aisle studies  The SA1 was shelved as the consortium concentrated on its bigger siblings  After healthy sales of the A320 A321  Airbus re focused on what was then known as the A320M 7  meaning A320 minus seven fuselage frames  It would provide direct competition for the 737 300 700  The shrink was achieved through the removal of four fuselage frames fore and three aft of the wing  cutting the overall length by 3 73 metres  12 ft 3 in  Consequently  the number of overwing exits was reduced from four to two  The bulk cargo door was replaced by an aft container door  which can take in reduced height LD3 45 containers  Minor software changes were made to accommodate the different handling characteristics  otherwise the aircraft is largely unchanged  Power is provided by the CFM56 5A or V2500 A5  derated to 98 kN  22 000 lbf  with option for 105 kN  24 000 lbf  thrust',\n",
              "  'Airbus began offering the new model from 22 May 1992  with the actual launch of the  275 million  250 million  programme occurring on 10 June 1993  the A319 s first customer was ILFC  who signed for six aircraft  On 23 March 1995  the first A319 underwent final assembly at Airbus  German plant in Hamburg  where the A321s are also assembled  It was rolled out on 24 August 1995  with the maiden flight the following day  The certification programme would take 350 airborne hours involving two aircraft  certification for the CFM56 5B6 2 equipped variant was granted in April 1996  after which qualification for the V2524 A5 started the following month',\n",
              "  'Delivery of the first A319  to Swissair  took place on 25 April 1996  entering service by month s end  In January 1997  an A319 broke a record during a delivery flight by flying 3 588 nautical miles  6 645 km  the great circle route to Winnipeg  Manitoba from Hamburg  in 9 hours 5 minutes  The A319 has proved popular with low cost airlines such as EasyJet  who has orders for 172  with 172 delivered',\n",
              "  'The A318 was born out of mid 1990 studies between Aviation Industries of China  AVIC  Singapore Technologies Aerospace  Alenia and Airbus on a 95  to 125 seat aircraft project  The programme was called the AE31X  and covered the 95 seat AE316 and 115  to 125 seat AE317  The former would have had an overall length of 31 3 m  102 ft 8 in  while the AE317 was longer by 3 2 m  10 ft 6 in  at 34 5 m  113 ft 2 in  The engines were to be supplied from two Rolls Royce BR715s  CFM56 9s  or the Pratt   Whitney PW6000s  with the MTOW of 53 3 t  118 000 lb  for the smaller version and 58 t  128 000 lb  for the AE317  the thrust requirement were 77 9 84 6 kN  17 500 19 000 lbf  and 84 6 91 2 kN  19 000 20 500 lbf  respectively  Range was settled at 5 200 km  2 800 nmi  and 5 800 km  3 100 nmi  for the high gross weights of both variants  Both share a wingspan of 31 0 m  101 ft 8 in  and a flight deck similar to that of the A320 family  Costing  2 billion  1 85 billion  to develop  aircraft production was to take place in China',\n",
              "  'Simultaneously  Airbus was developing Airbus A318  In early 1998  Airbus revealed its considerations of designing a 100 seat aircraft based on the A320  The AE31X project was terminated by September 1998  after which Airbus officially announced an aircraft of its own  the A318  at that year s Farnborough Airshow  The aircraft is the smallest product of Airbus s product range  and was developed coincidentally at the same time as the largest commercial aircraft in history  the Airbus A380  First called A319M5 in as early as March 1995  it was shorter by 0 79 metre  2 ft 7 in  ahead of the wing and 1 6 metres  5 ft 3 in  behind  These cuts reduced passenger capacity from 124 on the A319 to 107 passengers in a two class layout  Range was 5 700 kilometres  3 100 nmi  or 5 950 kilometres  3 210 nmi  with upcoming Sharklets',\n",
              "  'The 107 seater was launched on 26 April 1999 with the options and orders count at 109 aircraft  After three years of design  the maiden flight took place at Hamburg on 15 January 2002  Tests on the lead engine  the Pratt   Whitney PW6000  revealed worse than expected fuel consumption  Consequently  Pratt   Whitney abandoned the five stage high pressure compressor  HPC  for the MTU designed six stage HPC  The 129 order book for the A318 shrunk to 80 largely because of switches to other A320 family members  After 17 months of flight certification  during which 850 hours and 350 flights were accumulated  JAA certification was obtained for the CFM56 powered variant on 23 May 2003  On 22 July 2003  first delivery for launch customer Frontier Airlines occurred  entering service before the end of the month',\n",
              "  'The Toulouse Blagnac final assembly line builds A320s  whereas the Hamburg Finkenwerder final assembly line builds A318s  A319s  and A321s  The Airbus factory in Tianjin  China assembles A319s  A320s  and A321s  A320s and A321s are also assembled at the Airbus Americas factory in Mobile  Alabama  Airbus produced a total of 42 A320s per month in 2015  and expects to increase to 50 per month in 2017',\n",
              "  'As Airbus targets a 60 monthly global production rate by mid 2019  the Tianjin line delivered 51 in 2016 and it could assemble six per month from four as it starts producing A320neos in 2017  147 Airbus were delivered in 2016 in China  20  of its production  mostly A320 family  a 47  market share as the country should become the world s largest market ahead of the US before 2027',\n",
              "  'In June 2018  along a larger and modernised delivery centre  Airbus inaugurated its fourth Hamburg production line  with two seven axis robots to drill 80  of fuselage upper side holes  autonomous mobile tooling platforms and following Design Thinking principles  By January 2019  Mobile was outputting 4 5 A320s per month  raising to five by the end of the year',\n",
              "  'In September 2019  Airbus reached a milestone with the delivery of the 9000th A320 family aircraft to Easyjet   In October 2019  Airbus inaugurated a highly automated fuselage structure assembly line for A320 Family aircraft in Hamburg  showcasing an evolution in Airbus  industrial production system  Production rates continue to rise  and Airbus aims to reach a production rate of 63 aircraft per month by 2021  which would result in the 10 000th delivery occurring early that year',\n",
              "  'In 2006  Airbus started the A320 Enhanced  A320E  programme as a series of improvements targeting a 4 5  efficiency gain with large winglets  2  aerodynamic refinements  1  weight savings and a new aircraft cabin Engine improvements reducing fuel consumption by 1  were fitted into the A320 in 2007 with the CFM56 Tech  and in 2008 with the V2500Select  One',\n",
              "  'In 2006  Airbus tested three styles of winglet intended to counteract the wing s induced drag and wingtip vortices more effectively than the previous wingtip fence  The first design type to be tested was developed by Airbus and was based on work done by the AWIATOR programme  The second type of winglet incorporated a more blended design and was designed by Winglet Technology  a company based in Wichita  Kansas  Two aircraft were used in the flight test evaluation campaign  the prototype A320  which had been retained by Airbus for testing  and a new build aircraft which was fitted with both types of winglets before it was delivered to JetBlue needed',\n",
              "  'Despite the anticipated efficiency gains and development work  Airbus announced that the new winglets will not be offered to customers  claiming that the weight of the modifications required would negate any aerodynamic benefits  On 17 December 2008  Airbus announced it was to begin flight testing an existing blended winglet design developed by Aviation Partners Inc  as part of an A320 modernisation programme using the A320 prototype',\n",
              "  'Airbus launched the sharklet blended wingtip device during the November 2009 Dubai Airshow  installation adds 200 kg  440 lb  but offers a 3 5  fuel burn reduction on flights over 2 800 km  1 500 nmi  They save US 220 000 and 700 t of CO2 per aircraft per year  The 2 5 metres  8 ft 2 in  tall devices are manufactured by Korean Air Aerospace Division  The winglets increase efficiency by decreasing lift induced drag',\n",
              "  'In December 2011  Airbus filed suit in the western district of Texas over Aviation Partners  claims of infringement of its patents on winglet design and construction which were granted in 1993  Airbus  lawsuit seeks to reject responsibility to pay royalties to Aviation Partners for using its designs  despite work performed together with both parties to develop advanced winglets for the A320neo',\n",
              "  'In 2007  Airbus introduced a new enhanced  quieter cabin with better luggage storage and a more modern look and feel  and a new galley reduces weight  increases revenue space and improves ergonomics and design for food hygiene and recycling  It offers a new air purifier with filters and a catalytic converter removing unpleasant smells from the air before it is pumped into the cabin and LEDs for ambience lighting and PSU',\n",
              "  'The A320neo  neo for new engine option  is a development launched on 1 December 2010  it made its first flight on 25 September 2014 and it was introduced by Lufthansa on 25 January 2016  Re engined with CFM International LEAP 1A or Pratt   Whitney PW1000G engines and with large sharklets  it should be 15  more fuel efficient  Three variants are based on the previous A319  A320 and A321  Airbus received 6 031 orders by March 2018 and delivered 318 by May 2018  The original family is renamed A320ceo  for current engine option',\n",
              "  'The Airbus A320 family are narrow body  single aisle  aircraft with a retractable tricycle landing gear and are powered by two wing pylon mounted turbofan engines After the oil price rises of the 1970s  Airbus needed to minimise the trip fuel costs of the A320  To that end  it adopted composite primary structures  centre of gravity control using fuel  glass cockpit  EFIS  and a two crew flight deck',\n",
              "  'Airbus claimed the 737 300 burns 35  more fuel and has a 16  higher operating cost per seat than the V2500 powered A320 A 150 seat A320 burns 11 608 kg  25 591 lb  of jet fuel over 3 984 km  2 151 nmi   between Los Angeles and New York City  or 2 43 L 100 km  97 mpg US  per seat with a 0 8 kg L fuel Its wing is long and thin  offering better aerodynamic efficiency because of the higher aspect ratio than the competing 737 and MD 80',\n",
              "  'The Airbus A320 family are low wing cantilever monoplanes with a conventional empennage with a single vertical stabilizer and rudder  Its wing sweep is 25 degrees  Compared to other airliners of the same class  the A320 features a wider single aisle cabin of 3 95 metres  156 in  outside diameter  compared to 3 8 m  148 in  of the Boeing 737 or 757  and larger overhead bins  Its cargo hold can accommodate Unit Load Devices containers',\n",
              "  'It includes a full glass cockpit rather than the hybrid versions found in previous airliners  The A320 s flight deck is equipped with Electronic Flight Instrument System  EFIS  with side stick controllers  The A320 features an Electronic Centralised Aircraft Monitor  ECAM  which gives the flight crew information about all the systems of the aircraft  The only analogue instruments were the radio magnetic indicator and brake pressure indicator',\n",
              "  'The A320 retained the dark cockpit  where an indicator is off when its system is running  useful for drawing attention to dysfunctions when an indicator is lit  from the A310  the first widebody designed to be operated without a flight engineer and influenced by Bernard Ziegler  first Airbus CEO Henri Ziegler s son',\n",
              "  'The A320 is the world s first airliner with digital fly by wire  FBW  flight control system  input commands through the side stick are interpreted by flight control computers and transmitted to flight control surfaces within the flight envelope protection  in the 1980s the computer controlled dynamic system of the Dassault Mirage 2000 fighter cross fertilised the Airbus team which tested FBW on an A300  At its introduction  fly by wire and flight envelope protection was a new experience for many pilots',\n",
              "  'All following Airbuses have similar human machine interface and systems control philosophy to facilitate cross type qualification with minimal training  For Roger B teille  then Airbus president  introducing fly by wire with flight envelope protection was one of the most difficult decisions he had ever made  explaining   Either we were going to be first with new technologies or we could not expect to be in the market',\n",
              "  'The Joint Aviation Authorities  JAA  issued the type certificate for the A320 on 26 February 1988  After entering the market on 18 April 1988 with Air France  Airbus then expanded the A320 family rapidly  launching the 185 seat A321 in 1989 and first delivered it in 1994  launching the 124 seat A319 in 1993 and delivering it in 1996  and launching the 107 seat A318 in 1999 with first deliveries in 2003',\n",
              "  'The A320 family was developed to compete with the Boeing 737 Classics  300 400 500  and the McDonnell Douglas MD 80 90 series  and has since faced challenges from the Boeing 737 Next Generation  600 700 800 900  and the 717 during its two decades in service  As of 2010  as well as the 737  the A320 family faces competition from Embraer s E 195  to the A318  and the CSeries being developed by  to the A318 A319',\n",
              "  'Airbus has delivered 8 605 A320 family aircraft since their certification first delivery in early 1988  with another 6 056 on firm order  as of 31 December 2018  In comparison  Boeing has shipped 10 444 737 series since late 1967  with 8  of those deliveries since March 1988  and has a further 4 763 on firm order  as of 31 December 2018',\n",
              "  'By September 2018  there were 7 251 A320 family ceo aircraft in service versus 6 757 737NGs  while Airbus expected to deliver 3 174 A320neos compared with 2 999 Boeing 737 MAX through 2022 Airbus sold the A320 well to low cost startups and offering a choice of engines could make them more attractive to airlines and lessors than the single sourced 737  but CFM engines are extremely reliable The six month head start of the A320neo allowed Airbus to rack up 1 000 orders before Boeing announced the MAX The A321 has outsold the 737 900 three to one  as the A321neo is again dominating the 737 9 MAX  to be joined by the 737 10 MAX',\n",
              "  'In 2006  Airbus was studying a future replacement for the A320 series  tentatively dubbed NSR  for  New Short Range aircraft  The follow on aircraft to replace the A320 was named A30X  Airbus North America President Barry Eccleston stated that the earliest the aircraft could have been available was 2017  In January 2010  John Leahy  Airbus s chief operating officer customers  stated that an all new single aisle aircraft was unlikely to be constructed before 2024 or 2025',\n",
              "  'The baseline A320 has given rise to a family of aircraft which share a common design but with passenger capacity ranges from 100  on the A318  to 220  on the A321  They compete with the 737  757  and 717  Because the four variants share the same flight deck  all have the same pilot type rating  Today all variants are available as corporate jets  An A319 variant known as A319LR is also developed  Military version like A319 MPA also exists  American Airlines is the world s largest airline operator of the A320 family of aircraft with 392 aircraft in service as of 30 September 2017',\n",
              "  'Technically  the name  A320  only refers to the original mid sized aircraft  but it is often informally used to indicate any of the A318 A319 A320 A321 family  All variants are able to be ETOPS  Extended range Twin engine Operational Performance Standards  certified for 180 minutes since 2004  EASA  and 2006  FAA  With launch of the new Airbus A320neo project  the previous members of the Airbus A320 family received the  current engine option  or  CEO  name',\n",
              "  'The A320 series has two variants  the A320 100 and A320 200   Only 21 A320 100s were produced  These aircraft  the first to be manufactured  were delivered to Air Inter   later acquired by Air France   and British Airways as a result of an order from British Caledonian made prior to its acquisition',\n",
              "  'Powered by two CFM International CFM56 5s or IAE V2500s with thrust ratings of 98 120 kN  22 000 27 000 lbf  its typical range with 150 passengers is 3 300 nmi   6 100 km  A total of 4 512 of the A320ceo model have been delivered  with 220 remaining on order as of 30 September 2017  The closest Boeing competitor is the 737 800',\n",
              "  'In 1988  the value of a new A320 was  30 million  reaching  40 million by the end of the 1990s  a 30  increase lower than the inflation  it dipped to  37 million after 2001  then peaked to  47 million in 2008  and stabilised at  40 42 million until the transition to the A320neo',\n",
              "  'As the A320 began operations in 1988  the A321 was launched as its first derivative  The A321 fuselage is stretched by 6 93 metres  22 ft 9 in  with a 4 27 m  14 ft 0 in  front plug immediately forward of wing and a 2 67 m  8 ft 9 in  rear plug  The A321 100 maximum takeoff weight is increased by 9 600 kg  21 200 lb  to 83 000 kg  183 000 lb  To maintain performance  double slotted flaps were included  in addition to increasing the wing area by 4 m2  43 sq ft  to 128 m2  1 380 sq ft  The maiden flight of the first of two prototypes came on 11 March 1993  The A321 100 entered service in January 1994 with Lufthansa',\n",
              "  'As the A321 100 range was reduced compared to the A320  the heavier and longer range A321 200 development was launched in 1995  This is achieved through higher thrust engines  V2533 A5 or CFM56 5B3  minor structural strengthening  and an increase in fuel capacity with the installation of one or two optional 2 990 L  790 US gal  tanks in the rear underfloor hold  Its fuel capacity is increased to 30 030 L  7 930 US gal  and its maximum takeoff weight to 93 000 kg  205 000 lb  It first flew in December 1996 and entered service with Monarch Airlines in April 1997',\n",
              "  'The A319 is 3 73 m  12 ft 3 in  shorter than the A320   Also known as the A320M 7  it is a shortened  minimum change version of the A320 with four frames fore of the wing and three frames aft of the wing removed  With a similar fuel capacity as the A320 200 and fewer passengers  the range with 124 passengers in a two class configuration extends to 6 650 km  3 590 nmi  or 6 850 km  3 700 nmi  with the  Sharklets  Four propulsion options available on the A319 are the 23 040 24 800 lbf  102 5 110 3 kN  IAE V2500  or the 22 000 27 000 lbf  98 120 kN  CFM56  Although identical to those of the A320  these engines are derated because of the A319 s lower MTOW',\n",
              "  'The A319 was developed at the request of Steven F  Udvar H zy  the former president and CEO of ILFC  The A319 s launch customer  in fact  was ILFC  which had placed an order for six A319s by 1993  Anticipating further orders by Swissair and Alitalia  Airbus decided to launch the programme on 10 June 1993   Final assembly of the first A319 began on 23 March  and it was first introduced with Swissair in April 1996  The direct Boeing competitor is the Boeing 737 700',\n",
              "  'The A319CJ  rebranded ACJ319  is the corporate jet version of the A319  It incorporates removable extra fuel tanks  up to six additional center tanks  which are installed in the cargo compartment  and an increased service ceiling of 12 500 m  41 000 ft  Range with eight passengers  payload and auxiliary fuel tanks  ACTs  is up to 11 000 kilometres  6 000 nmi  Upon resale  the aircraft can be reconfigured as a standard A319 by removing its extra tanks and corporate cabin outfit  thus maximising its resale value  It was formerly also known as the ACJ  or Airbus Corporate Jet  while starting with 2014 it has the marketing designation ACJ319',\n",
              "  'The aircraft seats up to 39 passengers  but may be outfitted by the customers into any configuration  Tyrolean Jet Services Mfg  GmbH   CO KG  MJET and Reliance Industries are among its users  The A319CJ competes with other ultralarge cabin corporate jets such as the Boeing 737 700 based Boeing Business Jet  BBJ  and Embraer Lineage 1000  as well as with large cabin and ultralong range Gulfstream G650  Gulfstream G550 and Bombardier s Global 6000  It is powered by the same engine types as the A320  The A319CJ was used by the Escadron de Transport  d Entra nement et de Calibration which is in charge of transportation for France s officials and also by the Flugbereitschaft of the German Air Force for transportation of Germany s officials  An ACJ serves as a presidential or official aircraft of Armenia  Azerbaijan  Brazil  Bulgaria  Czech Republic  Germany  Italy  Malaysia  Slovakia  Thailand  Turkey  Ukraine  and Venezuela',\n",
              "  'The Airbus A318 is the smallest member of the Airbus A320 family  The A318 carries up to 132 passengers and has a maximum range of 5 700 km  3 100 nmi  The aircraft entered service in July 2003 with Frontier Airlines  and shares a common type rating with all other Airbus A320 family variants  allowing existing A320 family pilots to fly the aircraft without the need for further training  It is the largest commercial aircraft certified by the European Aviation Safety Agency for steep approach operations  allowing flights at airports such as London City Airport  Relative to other Airbus A320 family variants  the A318 has sold in only small numbers with total orders for only 80 aircraft placed as of 31 October',\n",
              "  'A programme to convert A320 and A321 aircraft into freighters was set up by Airbus Freighter Conversion GmbH  Airframes would be converted by EADS EFW in Dresden  Germany  and Zhukovsky  Russia  The launch customer AerCap signed a firm contract on 16 July 2008 to convert 30 of AerCap s passenger A320 A321s into A320 A321P2F  passenger to freighter  However  on 3 June 2011  Airbus announced all partners would end the passenger to freighter programme  citing high demand for used airframes for passenger service',\n",
              "  'On 17 June 2015 ST Aerospace signed agreements with Airbus and EADS EFW for a collaboration to launch the A320 A321 passenger to freighter  P2F  conversion programme In August 2019  Qantas was announced as the launch operator for the A321P2F converted freighter  for Australia Post  with up to three aircraft to be introduced in October 2020 The initial converted aircraft first flew on 22 January 2020  to be delivered to Vallair  and it secured EASA supplementary type certificate in February It should replace older converted Boeing 757s with 14 positions on the main deck and 10 on the lower  lifting up to 27 9 t  62 000 lb  over 4 300 km  2 300 nmi Airbus sees a market for 1 000 narrowbody conversions over the 2020 2040 period',\n",
              "  'As of 31 December 2017  7 630 Airbus A320 family aircraft  all variants  including the A320neo family  remained in commercial service with over 330 airline operators  This includes 67 A318  1 446 A319ceo  4 270 A320ceo  229 A320neo  1 598 A321ceo and 20 A321neo aircraft  Air France and British Airways are the only operators to operate all four variants of the A320ceo family',\n",
              "  'By end of October 2019  the backlog of A320ceo fell to 78  7 A319s  24 A320s and 47 A321s  as Airbus delivered 87 A320ceo variants over the first 10 months of 2019 compared to 394 A320neo variants  With the backlog was over the 6 000 mark again  the A320 family total orders reached 15 193  surpassing the 15 136 Boeing 737 orders amid the Boeing 737 MAX groundings  becoming the highest selling airliner  while 10 563 of the 737 series have been delivered since 1965  nearly 1 500 more than the 9 086 A320 family aircraft delivered since 1988',\n",
              "  'By end of March 2020  the A320ceo backlog fell further to 61  7 A319s  20 A320s and 34 A321s  as Airbus delivered 5 A320ceo variants over the first 3 months of 2020 compared to 91 A320neo variants  The backlog of A320 family was still over the 6 000 mark and the total orders reached 15 563  whilst Boeing 737 s was down to 14 983 aircraft',\n",
              "  'For the entire A320 family  157 major aviation accidents and incidents have occurred  the latest one being Ural Airlines Flight 178 on 15 August 2019  including 45 hull loss accidents  the last one also being Ural Airlines Flight 178  and a total of 1393 fatalities  the last one aboard EgyptAir Flight 804 on 19 May 2016',\n",
              "  'On 26 June 1988  Air France Flight 296 crashed into trees at the end of runway at Mulhouse Habsheim Airport  three out of 130 passengers were killed  In February 1990 another A320  Indian Airlines Flight 605  crash landed short of the airport runway in Bangalore  the ensuing fire contributed to the casualty count of 92 of 146 on board  The press and media later questioned the fly by wire flight control system  but subsequent investigations by commission of inquiry found  no malfunction of the aircraft or its equipment which could have contributed towards a reduction in safety or an increase in the crew s workload during the final flight phase  the response of the engines was normal and in compliance with certification requirement'],\n",
              " ['The Airbus A340 is a long range  wide body commercial passenger jet airliner that was developed and produced by the European aerospace company Airbus In the mid 1970s  Airbus conceived several derivatives of the A300  its first airliner  and developed the A340 quadjet in parallel with the A330 twinjet In June 1987  Airbus launched both designs with their first orders and the A340 300 took its maiden flight on 25 October 1991 It was certified along with the A340 200 on 22 December 1992 and both versions entered service in March 1993 with launch customers Lufthansa and Air France The larger A340 500 600 were launched on 8 December 1997  the A340 600 flew for the first time on 23 April 2001 and entered service on 1 August 2002',\n",
              "  'Keeping the eight abreast economy cross section of the A300  the early A340 200 300 has a similar airframe to the A330 Differences include four 151 kN  34 000 lbf  CFM56s instead of two turbofans to avoid ETOPS restrictions on trans oceanic routes  and a three leg main landing gear instead of two for a heavier 276 t  608 000 lb  MTOW Both airliners have fly by wire controls  which was first introduced on the A320  as well as a similar glass cockpit The later A340 500 600 have a larger wing and are powered by 275 kN  62 000 lbf  Rolls Royce Trent 500 for a heavier 380 t  840 000 lb  MTOW',\n",
              "  'The shortest A340 200 measured 59 4 m  195 ft  and could cover 12 400 km   6 700 nmi with 210 250 seats in 3 class The most common A340 300 reached 63 7 m  209 ft  to accommodate 250 290 passengers and had a 13 500 km   7 300 nmi range The A340 500 was 67 9 m  223 ft  long to seat 270 310 over 16 670 km   9 000 nmi  the longest range airliner at the time The longest A340 600 was stretched to 75 4 m  247 ft  then the longest airliner  to accommodate 320 370 passengers over 14 450 km   7 800 nmi',\n",
              "  'As improving engine reliability allowed ETOPS operations for almost all routes  more economical twinjets have replaced quadjets on many routes On 10 November 2011 Airbus announced the production reached its end  after 380 orders had been placed and 377 were delivered from Toulouse  France The A350 XWB is proposed as a successor   the MD 11 and the Boeing 777 were its main competitors Lufthansa is the largest operator and the largest customer with 62 aircraft in total  and continues to operate 24 aircraft as of April  2020',\n",
              "  'When Airbus designed the Airbus A300 during the 1970s it envisioned a broad family of airliners to compete against Boeing and McDonnell Douglas  two established US aerospace manufacturers  From the moment of formation  Airbus had begun studies into derivatives of the Airbus A300B in support of this long term goal  Prior to the service introduction of the first Airbus airliners  Airbus had identified nine possible variations of the A300 known as A300B1 to B9  A tenth variation  conceived in 1973  later the first to be constructed  was designated the A300B10  It was a smaller aircraft that would be developed into the long range Airbus A310  Airbus then focused its efforts on the single aisle market  which resulted in the Airbus A320 family  which was the first digital fly by wire commercial aircraft  The decision to work on the A320  instead of a four engine aircraft proposed by the Germans  created divisions within Airbus  As the SA or  single aisle  studies  which later became the successful Airbus A320  underwent development to challenge the successful Boeing 737 and Douglas DC 9 in the single aisle  narrow body airliner market  Airbus turned its focus back to the wide body aircraft market',\n",
              "  'The A300B11  a derivative of the A310  was designed upon the availability of  ten ton  thrust engines  Using four engines  it would seat between 180 and 200 passengers  and have a range of 11 000 kilometres  6 000 nmi  It was deemed a replacement for the less efficient Boeing 707s and Douglas DC 8s still in service  The A300B11 was joined by another design  the A300B9  which was a larger derivative of the A300  The B9 was developed by Airbus from the early 1970s at a slow pace until the early 1980s  It was essentially a stretched A300 with the same wing  coupled with the most powerful turbofan engine available at the time  It was targeted at the growing demand for high capacity  medium range  transcontinental trunk routes  The B9 offered the same range and payload as the McDonnell Douglas DC 10  but it used between 25  to 38  less fuel  The B9 was therefore considered a replacement for the DC 10 and the Lockheed L 1011 Tristar',\n",
              "  'To differentiate the programme from the SA studies  the B9 and B11 were redesignated the TA9 and TA11  TA standing for  twin aisle  respectively  In an effort to save development costs  it was decided that the two would share the same wing and airframe  the projected savings were estimated at US 500 million  about  490 million or  495 million  The adoption of a common wing structure also had one technical advantage  the TA11 s outboard engines could counteract the weight of the longer range model by providing bending relief  Another factor was the split preference of those within Airbus and  more importantly  prospective airliner customers  Airbus vice president for strategic planning  Adam Brown  recalled',\n",
              "  'North American operators were clearly in favour of a  while Asians wanted a  In Europe  opinion was split between the two  The majority of potential customers were in favour of a quad despite the fact  in certain conditions  it is more costly to operate than a twin  They liked that it could be ferried with one engine out  and could fly  anywhere  ETOPS  extend range twin engine operations  hadn t begun then',\n",
              "  'The first specifications of the TA9 and TA11 were released in 1982  While the TA9 had a range of 6 100 kilometres  3 300 nmi  the TA11 range was up to 12 650 kilometres  6 830 nmi  At the same time  Airbus also sketched the TA12  a twin engine derivative of the TA11  which was optimised for flights of a 3 700 kilometres  2 000 nmi  lesser range  By the time of the Paris Air Show in June 1985  more refinements had been made to the TA9 and TA11  including the adoption of the A320 flight deck  fly by wire  FBW  flight control system and side stick control  Adopting a common cockpit across the new Airbus series allowed operators to make significant cost savings  flight crews would be able to transition from one to another after one week of training  The TA11 and TA12 would use the front and rear fuselage sections of the A310  Components were modular and also interchangeable with other Airbus aircraft where  to reduce production  maintenance and operating costs',\n",
              "  'Airbus briefly considered a variable camber wing  the concept was that the wing could change its profile to produce the optimum shape for a given phase of flight  Studies were carried out by British Aerospace  BAe  at Hatfield and Bristol  Airbus estimated this would yield a 2  improvement in aerodynamic efficiency  However  the plan was later abandoned on grounds of cost and difficulty of development',\n",
              "  'Airbus had held discussions with McDonnell Douglas to jointly produce the aircraft  which would have been designated as the AM 300  This aeroplane would have combined the wing of the A330 with the fuselage of the McDonnell Douglas MD 11  However  talks were terminated as McDonnell Douglas insisted on the continuation of its trijet heritage  Although from the start it was intended that the A340 would be powered by four CFM56 5 turbofan engines  each capable of 25 000 pounds force  110 kN  Airbus had also considered developing the aircraft as a trijet due to the limited power of engines available at the time  namely the Rolls Royce RB211 535 and Pratt   Whitney JT10D   redesignated PW2000 in December 1980',\n",
              "  'As refinements in the A340 s design proceeded  a radical new engine option was offered by International Aero Engines  a group comprising Rolls Royce  Pratt   Whitney  Japanese Aero Engines Corporation  Fiat and MTU Aero Engines  MTU  The engine nacelles of the superfan engine consisted of provisions to allow a large fan near the rear of the engine  As a result of the superfan cancellation by IAE  the CFM56 5C4 was used as the sole engine choice instead of there being an alternate option as originally envisioned  The longer range versions  namely the A340 500 and  600  are powered by Rolls Royce Trent 500 engines',\n",
              "  'On 27 January 1986  the Airbus Industrie Supervisory Board held a meeting in Munich  West Germany  after which board chairman Franz Josef Strau  released a statement   Airbus Industrie is now in a position to finalise the detailed technical definition of the TA9  which is now officially designated the A330  and the TA11  now called the A340  with potential launch customer airlines  and to discuss with them the terms and conditions for launch commitments  The designations were originally reversed because the airlines believed it illogical for a two engine jet airliner to have a  4  in its name  whilst a quad jet would not  On 12 May 1986  Airbus dispatched fresh sale proposals to five prospective airlines including Lufthansa and Swissair',\n",
              "  'In preparations for production of the A330 A340  Airbus s partners invested heavily in new facilities  Filton was the site of BAE s  7 million investment in a three storey technical centre with an extra 15 000 square metres  160 000 sq ft  of floor area  BAe also spent  5 million expanding the Broughton wing production plant by 14 000 m2  150 000 sq ft  to accommodate a new production line  However  France saw the biggest changes with A rospatiale starting construction of a new Fr 2 5 billion  411 million  assembly plant  adjacent to Toulouse Blagnac Airport  in Colomiers  By November 1988  the first 21 m  69 ft  pillars were erected for the new Cl ment Ader assembly hall  The assembly process  meanwhile  would feature increased automation with holes for the wing fuselage mating process drilled by eight robots  The use of automation for this particular process saved Airbus 20  on labour costs and 5  on time',\n",
              "  'British Aerospace accepted  450 million funding from the UK government  short of the  750 million originally requested  Funds from the French and German governments followed thereafter  Airbus also issued subcontracts to companies in Austria  Australia  Canada  China  Greece  Italy  India  Japan  South Korea  Portugal  the United States  and the former Yugoslavia  The A330 and A340 programmes were jointly launched on 5 June 1987  just prior to the Paris Air Show  The order book then stood at 130 aircraft from 10 customers  apart from the above mentioned Lufthansa and International Lease Finance Corporation  ILFC  Eighty nine of the total orders were A340 models  At McDonnell Douglas  ongoing tests of the MD 11 revealed a significant shortfall in the aircraft s performance  An important carrier  Singapore Airlines  SIA  required a fully laden aircraft that could fly from Singapore to Paris  against strong headwinds during mid winter in the northern hemisphere  The MD 11  according to test results  would experience fuel starvation over the Balkans  Due to the less than expected performance figures  SIA cancelled its 20 aircraft MD 11 order on 2 August 1991  and ordered 20 A340 300s instead  As only 200 units were sold  words  consider the MD 11 a failure and that it could not compete against the A340',\n",
              "  'The first flight of the A340 occurred on 21 October 1991  marking the start of a 2 000 hour test flight programme involving six aircraft  From the start  engineers noticed that the wings were not stiff enough to carry the outboard engines at cruising speed without warping and fluttering  To alleviate this  an underwing bulge called a plastron was developed to correct airflow problems around the engine  and to add stiffness  European JAA certification was obtained on 22 December 1992  the FAA followed on 27 May 1993',\n",
              "  'The first A340  a  200  was delivered to Lufthansa on 2 February 1993 and entered service on 15 March  The 228 seat airliner was named N rnberg  The first A340 300  the 1000th Airbus  was delivered to Air France on 26 February  the first of nine it planned to operate by the end of the year  Air France replaced the Boeing 747 with the A340 on Paris Washington D C  flying four times weekly  Lufthansa intended to replace aging DC 10s with the A340s on Frankfurt New York services',\n",
              "  'On 16 June 1993  an A340 200 dubbed the World Ranger flew from the Paris Air Show to Auckland  New Zealand in 21 hours 32 minutes and back in 21 hours 46 minutes after a five hour stop  this was the first non stop flight between Europe and New Zealand and the longest non stop flight by an airliner at the time  The 19 277 km  10 409 nmi  flight from Paris to Auckland broke six world records with 22 persons and five center tanks  Taking off at 11 58 local time  it arrived back in Paris 48 hours and 22 minutes later  at 12 20  This record held until 1997 when a Boeing 777 200ER flew 20 044 km  10 823 nmi  from Seattle to Kuala Lumpur',\n",
              "  'In 1991  the A340 400X was a simple 12 frame  20 ft 10 in  6 35 m   300 stretch from 295 to 335 passengers with the MTOW bumped from 553 360 to 588 600 lb  251 to 267 t  and the range decreased by 1 390 to 10 930 km  750 to 5 900 nmi CFM International was then set to develop for  1 1 5 billion a new engine between the 150 kN  34 000 lbf  CFM56 and the 315 400 kN  70 90 000 lbf  GE90 In 1994  Airbus was studying a heavier A340 Advanced with a reinforced wing and 178 kN  40 000 lbf  engines  the Pratt   Whitney advanced ducted propulsor  CFM International CFMXX or Rolls Royce plc RB 411  to allow from 1996 a  300 stretch for 50 more passengers over the same range  a  300 with the  200 range and a  200 with more range In 1995  the A340 400 was slated for 2000  seating 380 passengers with a 300 t  660 000 lb  take off weight',\n",
              "  'In April 1996  GE Aviation obtained an exclusivity for the 13 000 km  7 000 nmi  375 passenger  600 stretch with 226 kN  51 000 lbf  engines  above the 225 5 kN  50 700 lbf  limit of the CFM International partnership with SNECMA and dropping the 191 kN  43 000 lbf  CFMXX The  600 would be stretched by 20 22 frames to 75 m  246 ft  unit thrust was raised from 227 kN  51 000 lbf  to 249 kN  56 000 lbf  and maximum takeoff weight would be increased to 330 t  730 000 lb The wing area would increase by 56m   600 ft  to 420 m2  4 500 sq ft  through a larger chord needing a three frame centre fuselage insert and retaining the existing front and rear spars  and a span increased by 3 5 to 63 8 m  11 to 209 ft  along a 25  increase in wing fuel capacity and four wheels replacing the centre twin bogie A  500 with the larger wing and engines and three extra frames for 310 passengers would cover 15 725 km  8 490 nmi  to replace the smaller  14 800 km  8 000 nmi  range  A340 8000 At least  1 billion would be needed to develop the airframe  excluding  2 billion for the engine development supported by its manufacturer A 12 frame  400 simple stretch would cover 11 290 km  6 100 nmi  with 340 passengers in three class',\n",
              "  'It was enlarged by 40  to compete with the then in development 777 300ER 200LR  the wing would be expanded with a tapered wing box insert along the span extension  it would have enlarged horizontal stabilizers and the larger A330 200 fin and it would need 222 267 kN  50 60 000 lbf  of unit thrust The ultra long haul 1 53 m  5 0 ft   500 stretch would seat 316 passengers  a little more than the  300  over 15 355 km  8 290 nmi  while the 10 07 m  33 0 ft   600 stretch would offer a 25  larger cabin for 372 passengers over a range of 13 700 km  7 400 nmi MTOW was increased to 356 t  785 000 lb',\n",
              "  'Unwilling to commit to a  1 Billion development without a good return on investment prospects and a second application  in 1997 GE Aviation stopped exclusivity talks for a scaled down GE90 to 245 290 kN  55 65 000 lbf  leaving Rolls Royce Plc proposing a more cost effective Rolls Royce Trent variant needing less development and Pratt   Whitney  a PW2000 advanced ducted propulsor  a PW4000 derivative or a new geared turbofan In June 1997  the 250 kN  56 000 lbf  Trent 500 was selected  with growth potential to 275 kN  62 000 lbf  derived from the A330 Trent 700 and the B777 Trent 800 with a reduced fan diameter and a new LP turbine  for a 7 7  lower TSFC than the 700 Airbus claims 10  lower operating costs per seat than the  300  3  below those of what Boeing was then proposing  the 777 300X The  2 9 billion program was launched in December 1997 with 100 commitments from seven customers worth  3 billion  aiming to fly the first  600 in January 2001 and deliver it from early 2002 to capture at least half of the 1 500 sales forecast in the category through 2010',\n",
              "  'In 1998  the  600 stretch was stabilised at 20 frames for 10 6 m  35 ft  the MTOW rose to 365 t  805 000 lb  and the unit thrust to 52 000 to 60 000 lbf  230 to 270 kN  keeping the Trent 700 2 47 m  8 1 ft  fan diameter with its scaled IP and HP compressors and the high speed  low loading HP and IP turbines of the Trent 800',\n",
              "  'Despite the  500 600 introduction  sales slowed in the 2000s as the Boeing 777 200LR 300ER dominated the long range 300 400 seats market The A340 500IGW 600HGW high gross weight variants did not arouse much sales interest In January 2006  Airbus confirmed it studied an A340 600E  Enhanced  more fuel efficient than earlier A340s  reducing the per seat 8 9  greater fuel consumption of the  600 with the Boeing 777 300ER with new Trent 1500 engines and technologies from the A350 initial design',\n",
              "  'At 380  the advertised three class seating of the  600 was well above the real world average of 323 seats  while the B777 300ER is advertised for 365 and offers 332  impacting seat costs By 2018  a 2006  600 was worth  18M and a 2003 one  10M  projected to fall to  7M in 2021 with a  200 000 month lease rate falling to  180 000 in 2021  its D check cost  4 5M and its engine overhaul  3 6M',\n",
              "  'On 10 November 2011  Airbus announced the end of the A340 program  At that time  the company indicated that all firm orders had been delivered  The decision to terminate the program came as A340 500 600 orders came to a halt  with analyst Nick Cunningham pointing out that the A340  was too heavy and there was a big fuel burn gap between the A340 and Boeing s 777  Bertrand Grabowski  managing director of aircraft financier DVB Bank SE  noted  in an environment where the fuel price is high  the A340 has had no chance to compete against similar twin engines  and the current lease rates and values of this aircraft reflect the deep resistance of any airlines to continue operating it',\n",
              "  'As a sales incentive amid low customer demand during the Great Recession  Airbus had offered buy back guarantees to airlines that chose to procure the A340  By 2013  the resale value of an A340 declined by 30  over ten years  and both Airbus and Rolls Royce were incurring related charges amounting to hundreds of millions of euros  Some analysts have expected the price of a flight worthy  CFM56 powered A340 to drop below  10 million by 2023',\n",
              "  'In 2013  as ultra long range is a niche  the A340 was less attractive with best usage on long  thin routes  from hot and high airports or as interim air charter A 10 year old A340 300 had a base value of  35m and a market value of  24m  leading to  320 000 mo  240 000 350 000  lease rate  while a  500 is  425 000 and a  600 is leased  450 000 to  500 000 per month  versus  1 3m for a 777 300ER The lighter A340 300 consumes 5  less fuel per trip with 300 passengers than the 312 passengers 777 200ER while the heavier A340 600 uses 12  more fuel than a 777 300ER',\n",
              "  'As an effort to support the A340 s resale value  Airbus has proposed reconfiguring the aircraft s interior for a single class of 475 seats  As the Trent 500 engines are half the maintenance cost of the A340  Rolls Royce proposed a cost reducing maintenance plan similar to the company s existing program that reduced the cost of maintaining the RB211 engine powering Iberia s Boeing 757 freighters  Key to these programs is the salvaging  repair and reuse of serviceable parts from retired older engines',\n",
              "  'The Airbus A340 is a twin aisle passenger airliner  the first long range Airbus  powered by four turbofan jet engines  It was developed upon earlier Airbus aircraft and their features like the A320 glass cockpit  it shares many components with the A330  notably identical fly by wire control systems and similar wings  Its features and improvements were usually shared with the A330 The four engines configuration avoided the ETOPS constraints such as more frequent inspections',\n",
              "  'The A340 has a low cantilever wing  the A340 200 300 wing is virtually identical to that of the A330  with both engine pylons used while only the inboard one is used on the A330  The two engines for each wing provide a more distributed weight  and a more outboard engine weight for a lower wing root bending moment at equal TOW  allowing a higher wing limited MTOW for more range  The wings were designed and manufactured by BAe  which developed a long slender wing with a high aspect ratio for a higher aerodynamic efficiency',\n",
              "  'The wing is swept back at 30 degrees  allowing a maximum operating Mach number of 0 86  To reach a long span and high aspect ratio without a large weight penalty  the wing has relatively high Thickness to chord ratio of 11 8  or 12 8  Jet airliners have Thickness to chord ratios ranging from 9 4   MD 11 or Boeing 747  to 13   Avro RJ or 737 Classic  Each wing also has a 2 74 m  9 0 ft  tall winglet instead of the wingtip fences found on earlier Airbus aircraft  The failure of the ultra high bypass IAE SuperFan  promising around 15  better fuel burn  led to wing upgrades to compensate  Originally designed with a 56 m  184 ft  span  the wing was later extended to 58 6 m  192 ft  and finally to 60 3 m  198 ft  This wingspan is similar to that of the larger Boeing 747 200  but with 35  less wing area',\n",
              "  'The A340 uses a modified A320 glass cockpit  with side stick controls instead of a conventional yoke  The main instrument panel is dominated by six displays  cathode ray tube monitors initially then liquid crystal displays  Flight information is directed via the Electronic Flight Instrument System  EFIS  and systems information through the Electronic Centralised Aircraft Monitor  ECAM',\n",
              "  'The aircraft monitors various sensors and automatically alerts the crew to any parameters outside of their normal range  pilots can also inspect individual systems  Electronic manuals are used instead of paper ones  with optional web based updates  Maintenance difficulty and cost were reduced to half of that of the earlier and smaller Airbus A310  Improved engine control and monitoring improved time on wing  The centralised maintenance computer can transmit real time information to ground facilities via the onboard satellite based ACARS datalink  Heavy maintenance like structural changes remained unchanged  while cabin sophistications  like the in flight entertainment  were increased over preceding airliners',\n",
              "  'The first variant of the A340 to be introduced  the A340 200  entered service with the launch customer  Lufthansa  in 1993  It was followed shortly thereafter by the A340 300 with its operator  Air France  Lufthansa s first A340  which had been dubbed N rnberg  D AIBA  began revenue service on 15 March 1993  Air Lanka  later renamed Sri Lankan Airlines  became the Asian launch customer of the Airbus A340  the airline received its first A340 300  registered  4R ADA  in September 1994  British airline Virgin Atlantic was an early adopter of the A340  in addition to operating several A340 300 aircraft  Virgin Atlantic announced in August 1997 that it was to be the worldwide launch customer for the new A340 600  The first commercial flight of the A340 600 was performed by Virgin in July 2002',\n",
              "  'Singapore Airlines ordered 17 A340 300s and operated them until October 2013  The A340 300s were purchased by Boeing as part of an order for Boeing 777s in 1999  The airline then purchased five long range A340 500s  which joined the fleet in December 2003  In February 2004  the airline s A340 500 performed the longest non stop commercial air service in the world  conducting a non stop flight between Singapore and Los Angeles  In 2004  Singapore Airlines launched an even longer non stop route using the A340 500 between Newark and Singapore  SQ 21  a 15 344 kilometres  8 285 nmi  journey that was the longest scheduled non stop commercial flight in the world  The airline continued to operate this route regularly until the airline decided to retire the type in favour of new A380 and A350 aircraft  its last A340 flight was performed in late 2013',\n",
              "  'The A340 was typically used by airlines as a medium sized long haul aircraft  and was often a replacement for older Boeing 747s as it was more likely profitable  Airbus produced a number of A340s as large private jets for VIP customers  often to replace aging Boeing 747s in this same role  In 2008  Airbus launched a dedicated corporate jetliner version of the A340 200  one key selling point of this aircraft was a range of up to 8 000 nautical miles  15 000 km  Airbus had built up to nine different customized versions of the A340 to private customer s specific demands prior to 2008',\n",
              "  'The A340 has frequently been operated as a dedicated transport for heads of state  A pair of A340 300s were acquired from Lufthansa by the Flugbereitschaft of the German Air Force  they serve as VIP transports for the German Chancellor and other key members of the German government  The A340 is also operated by the air transport division of the French Air Force  where it is used as a strategic transport for troop deployments and supply missions  as well as to transport government officials  A one of a kind aircraft  the A340 8000  was originally built for Prince Jefri Bolkiah  brother of the Sultan of Brunei Hassanal Bolkiah  The aircraft was unused and stored in Hamburg until it was procured by Prince Al Waleed bin Talal of the House of Saud  and later sold to Colonel Muammar Gaddafi  then President of Libya  the aircraft was operated by Afriqiyah Airways and was often referred to as Afriqiyah One',\n",
              "  'In 2008  jet fuel prices doubled compared to the year before  consequently  the A340 s fuel consumption led airlines to reduce flight stages exceeding 15 hours  Thai Airways International cancelled its 17 hour  nonstop Bangkok New York JFK route on 1 July 2008  and placed its four A340 500s for sale  While short flights stress aircraft more than long flights and result in more frequent fuel thirsty take offs and landings  ultra long flights require completely full fuel tanks  The higher weights in turn require a greater proportion of an aircraft s fuel fraction just to take off and to stay airborne  In 2008  Air France KLM SA s chief executive Pierre Henri Gourgeon disparagingly referred to the A340 as a  flying tanker with a few people on board  While Thai Airways consistently filled 80  of the seats on its New York City Bangkok flights  it estimated that  at 2008 fuel prices  it would need an impossible 120  of seats filled just to break even  Other airlines also re examined long haul flights  In August 2008 Cathay Pacific stated that rising fuel costs were hurting its trans Pacific long haul routes disproportionately  and that it would cut the number of such flights and redeploy its aircraft to shorter routes such as between Hong Kong and Australia   We will   our network where necessary to ensure we fly aircraft to where we can cover our costs and also make some money  Aviation Week noted that rapid performance increases of twin engine aircraft has led to the detriment of four engine types of comparable capacity such as the A340 and 747  at this point most 747s had accumulated significant flying hours before retirement in contrast to A340s which were relatively young when grounded',\n",
              "  'By 2014  Singapore Airlines had phased out the type  discontinuing SQ21 and SQ22  which had been the longest non stop scheduled flights in the world  Emirates Airlines decided to accelerate the retirement of its A340 fleet  writing down the value of the A340 500 type to zero despite the oldest  500 only being 10 years old  with president Tim Clark saying they  designed in the late 1990s with fuel at  25 30  They fell over at  60 and at  120 they haven t got a hope in hell',\n",
              "  'International Airlines Group  the parent of Iberia Airlines  which is also the operator of the last production A340 built  is overhauling its A340 600s for continued service for the foreseeable future  while it is retiring its A340 300s  The IAG overhaul featured improved conditions and furnishings in the business and economy classes  the business class capacity was raised slightly while not changing the type s overall operating cost  Lufthansa  which operates both Airbus A340 300s and  600s  concluded that  while it is not possible to make the A340 more fuel efficient  it can respond to increased interest in business class services by replacing first class seats with more business class seats to increase revenue',\n",
              "  'In 2013  Snecma announced that they planned to use the A340 as a flying testbed for the development of a new open rotor engine  This test aircraft is forecast to conduct its first flight in 2019  Open rotor engines are typically more fuel efficient but noisier than conventional turbofan engines  introducing such an engine commercially has been reported as requiring significant legislative changes within engine approval authorities due to its differences from contemporary jet engines  The engine  partly based on the Snecma M88 turbofan engine used on the Dassault Rafale  is being developed under the European Clean Sky research initiative',\n",
              "  'There are four variants of the A340  The A340 200 and A340 300 were launched in 1987 with introduction into service in March 1993 for the  200  The A340 500 and A340 600 were launched in 1997 with introduction into service in 2002  All variants were available in a corporate version',\n",
              "  'The  200 is one of two initial versions of the A340  it has seating for 261 passengers in a three class cabin layout with a range of 13 800 kilometres  7 500 nmi  or seating for 240 passengers also in a three class cabin layout for a range of 15 000 kilometres  8 100 nmi  This is the shortest version of the family and the only version with a wingspan measuring greater than its fuselage length  It is powered by four CFMI CFM56 5C4 engines and uses the Honeywell 331  auxiliary power unit  APU  It initially entered service with Air France in May 1993  Due to its large wingspan  four engines  low capacity and improvements to the larger A340 300  the  200 proved heavy and unpopular with mainstream airlines  Only 28 A340 200s were produced  The closest Boeing competitor is the Boeing 767 400ER',\n",
              "  'One version of this type  referred to by Airbus as the A340 8000  was ordered by the prince Jefri Bolkiah requesting a non stop range of 15 000 kilometres  8 100 nmi  This A340 8000  in the Royal Brunei Airlines livery had an increased fuel capacity  an MTOW of 275 tonnes  606 000 lb  similar to the A340 300  and minor reinforcements to the undercarriage  It is powered by the 150 kilonewtons  34 000 lbf  thrust CFM56 5C4s similar to the  300E  Only one A340 8000 was produced  Besides the  8000  some A340 200s are used for VIP or military use  users include Royal Brunei Airlines  Qatar Amiri Flight  Arab Republic of Egypt Government  Royal Saudi Air Force  Jordan and the French Air Force  Following the  8000  other A340 200s were later given performance improvement packages  PIPs  that helped them achieve similar gains in capability as to the A340 8000  Those aircraft are labeled A340 213X  The range for this version is 15 000 kilometres  8 100 nmi',\n",
              "  'The A340 300 flies 295 passengers in a typical three class cabin layout over 6 700 nautical miles  12 400 km  This is the initial version  having flown on 25 October 1991  and entered service with Lufthansa and Air France in March 1993  It is powered by four CFMI CFM56 5C engines and uses the Honeywell 331  APU  similar to the  200  The A340 300 is superseded by the A350 900  Its closest competitor is the Boeing 777 200ER  A total of 218  300s were delivered',\n",
              "  'The A340 300E  often mislabelled as A340 300X  has an increased MTOW of up to 275 tonnes  606 000 lb  and is powered by the more powerful 34 000 lbf  150 kN  thrust CFMI CFM56 5C4 engines  Typical range with 295 passengers is between 7 200 to 7 400 nautical miles  13 300 to 13 700 km  The largest operator of this type is Lufthansa  who has operated a fleet of 30 aircraft  The A340 300 Enhanced is the latest version of this model and was first delivered to South African Airways in 2003  with Air Mauritius receiving the A340 300 Enhanced into its fleet in 2006  It received newer CFM56 5C4 P engines and improved avionics and fly by wire systems developed for the A340 500 and  600',\n",
              "  'When the A340 500 was introduced  it was the world s longest range commercial airliner  It first flew on 11 February 2002  and was certified on 3 December 2002  Air Canada was supposed to be the launch customer  but filed for bankruptcy in January 2003  delaying delivery to March  This allowed early deliveries to the new launch customer  Emirates  allowing the carrier to launch nonstop service from Dubai to New York its first route in the Americas  The A340 500 can fly 313 passengers in a three class cabin layout over 16020 km  8650 nm  Compared with the A340 300  the  500 features a 4 3 metre  14 1 ft  fuselage stretch  an enlarged wing  significant increase in fuel capacity  around 50  over the  300  slightly higher cruising speed  a larger horizontal stabilizer and a larger vertical tailplane  The centerline main landing gear was changed to a four wheel bogie to support additional weight  The A340 500 is powered by four 240 kN  54 000 lbf  thrust Rolls Royce Trent 553 turbofans and uses the Honeywell 331  APU',\n",
              "  'Designed for ultra long haul routes  the  500 has a range of 9 000 nautical miles  where the Boeing 777 200LR have an 8 555 nmi range  445 fewer  Due to its range  the  500 is capable of travelling non stop from London to Perth  Western Australia  though a return flight requires a fuel stop due to headwinds  Singapore Airlines used this model  initially in a two class 181 passenger layout  later in a 100 passenger business only layout  between early 2004 and late 2013 for its Newark Singapore and Singapore Newark nonstop routes SQ21 and SQ22  The former was an 18 hour  45 minute  westbound   actually a polar route northbound to 130 km  70 nm  abeam the North Pole  then south across Russia  Mongolia and the People s Republic of China  and the latter was an 18 hour  30 minute eastbound  15 344 kilometres  8 285 nmi  journey  At the time  the flight was the longest scheduled non stop commercial flight in the world  Singapore Airlines even added a special compartment to the aircraft to store a corpse if a passenger were to die during the flight  though it was reported it had not been necessary  Singapore Airlines suspended operating the flight from 2013 onwards partly due to high fuel prices then and returned its aircraft to Airbus in exchange for ordering new Airbus A350 aircraft  The SQ21 SQ22 route was eventually resumed  flown by A350 900ULR aircraft',\n",
              "  'The A340 500IGW  Increased Gross Weight  version has a range of 17 000 km  9 200 nmi  and a MTOW of 380 t  840 000 lb  and first flew on 13 October 2006  It uses the strengthened structure and enlarged fuel capacity of the A340 600  The certification aircraft  a de rated A340 541 model  became the first delivery  to Thai Airways International  on 11 April 2007  Nigerian airline Arik Air received a pair of A340 542s in November 2008  using the type to immediately launch two new routes  Lagos London Heathrow and Lagos Johannesburg  a non stop Lagos New York route began in January 2010  The A340 500IGW is powered by four 250 kN  56 000 lbf  thrust Rolls Royce Trent 556 turbofans',\n",
              "  'Like the A340 200  a shortened derivative of the  300  the  500 was unpopular  The  500 series was considered  very inefficient for how few seats they have because they still carry most of the guts of the larger airplanes A340 600  from which they were shrunk  Also the ultra long haul market was a niche that was difficult to profit from  due to the amount of fuel that had to be carried  In addition  the  500 could not meet its maximum range without carrying a reduced load of passengers  so several operators reconfigured their  500s from a mix of business and premium economy to an all business class with 100 seats needed  As of March 2020  there were 2 A340 500s in airline service  both with Azerbaijan Airlines',\n",
              "  'Designed to replace early generation Boeing 747 airliners  the A340 600 is capable of carrying 379 passengers in a three class cabin layout 13 900 km  7 500 nmi  It provides similar passenger capacity to a 747 but with 25 percent more cargo volume  and at lower trip and seat costs  The first flight of the A340 600 was made on 23 April 2001  Virgin Atlantic began commercial services in August 2002  The variant s main competitor is the 777 300ER  The A340 600 was replaced by the A350 1000',\n",
              "  'The A340 600 is 12 m  39 ft 4 4 in  longer than a  300  more than 4 m  13 ft 1 5 in  longer than the Boeing 747 400 and 2 3 m  7 ft 6 6 in  longer than the A380  and has two emergency exit doors added over the wings  It held the record for the world s longest commercial aircraft until the first flight of the Boeing 747 8 in February 2010  The A340 600 is powered by four 250 kN  56 000 lbf  thrust Rolls Royce Trent 556 turbofans and uses the Honeywell 331  APU  As with the  500  it has a four wheel undercarriage bogie on the fuselage centre line to cope with the increased MTOW along with the enlarged wing and rear empennage  Upper deck main cabin space can be optionally increased by locating facilities such as crew rest areas  galleys  and lavatories upon the aircraft s lower deck  In early 2007  Airbus reportedly advised carriers to reduce cargo in the forward section by 5 0 t  11 000 lb  to compensate for overweight first and business class sections  the additional weight caused the aircraft s centre of gravity to move forward thus reducing cruise efficiency  Affected airlines considered filing compensation claims with Airbus',\n",
              "  'The A340 600HGW  High Gross Weight  version first flew on 18 November  and was certified on 14 April 2006  It has an MTOW of 380 t  840 000 lb  and a range of up to 14 630 km  7 900 nmi  made possible by strengthened structure  increased fuel capacity  more powerful engines and new manufacturing techniques like laser beam welding  The A340 600HGW is powered by four 61 900 lbf  275 kN  thrust Rolls Royce Trent 560 turbofans  Emirates became the launch customer for the  600HGW when it ordered 18 at the 2003 Paris Air Show  but postponed its order indefinitely and later cancelled  Rival Qatar Airways  which placed its order at the same airshow  took delivery of only four aircraft with the first aircraft on 11 September 2006  The airline has since let its purchase options expire in favour of orders for the Boeing 777 300ER'],\n",
              " ['The Airbus A220 is a family of narrow body  twin engine  medium range jet airliners  The airliner was designed by Bombardier Aerospace and originally marketed as the Bombardier CSeries  Bombardier sold the CSeries airliner program to Airbus and it is now marketed by Airbus Canada Limited Partnership  a joint venture between Airbus and the Quebec government s investment arm Investissement Qu bec',\n",
              "  'The 108 to 133 seat A220 100  ex CS100  made its maiden flight on 16 September 2013  was awarded an initial type certification by Transport Canada on 18 December 2015  and entered service on 15 July 2016 with Swiss Global Air Lines  The 130  to 160 seat A220 300  ex CS300  first flew on 27 February 2015  received an initial type certification on 11 July 2016  and entered service with launch customer airBaltic on 14 December 2016  Early operators recorded better than expected fuel burn and dispatch reliability  as well as positive feedback from passengers and crew',\n",
              "  'Airbus acquired a 50 01  majority stake in the CSeries program in October 2017  with the deal closing in July 2018  As part of the deal  Bombardier retained a 31  stake in the aircraft and Investissement Qu bec 19  In August 2019  Airbus opened a second assembly line for the aircraft at its Mobile  Alabama factory In February 2020  Bombardier exited the programme  Airbus increased its share to 75  while Investissement Qu bec held the 25  balance',\n",
              "  'On 8 September 1998  Bombardier launched the BRJ X  or  Bombardier Regional Jet eXpansion  a larger regional jet than the Canadair Regional Jet due to enter service in 2003  Instead of 2 2 seating  the BRJ X was to have a wider fuselage with 2 3 seating for 85 to 110 passengers  and underwing engine pods  It was abutting the smallest narrow body jetliners  like the 2 3 DC 9 MD 80 Boeing 717 or the 3 3 A318 and 737 500 737 600  At the end of 2000  the project was shelved by Bombardier in favour of stretching the CRJ700 into the CRJ900',\n",
              "  'Meanwhile  Embraer launched its four abreast  under wing powered E jets for 70 to 122 passengers at the Paris Air Show in June 1999  which made its maiden flight in February 2002 and was introduced in 2004  Airbus launched its 107 117 passengers A318 shrink on 21 April 1999  which made its first flight in January 2002  as Boeing had the 737NG 600 first delivered in September 1998',\n",
              "  'Bombardier appointed Gary Scott on 8 March 2004 to evaluate the creation of a New Commercial Aircraft Program  Bombardier launched a feasibility study for a five seat abreast CSeries at Farnborough Airshow in July 2004 to investigate development of an aircraft to replace rival manufacturers  aging DC 9 MD 80  Fokker 100  Boeing 737 Classic and BAe 146 with 20  lower operating costs  and 15  lower than aircraft produced at the time  The smaller version should carry 110 to 115 passengers and the larger 130 to 135 passengers over 3 200 nautical miles',\n",
              "  'Bombardier s Board of Directors authorized marketing the aircraft on 15 March 2005  seeking firm commitments from potential customers  suppliers and government partners prior to program launch  The C110 was planned to weigh 133 200 lb  60 420 kg  at MTOW and have a length of 114 7 ft  35 0 m  while the C130 should be 125 3 ft  38 2 m  long and have a 146 000 lb  66 224 kg  MTOW  It would have 3 by 2 standard seating and 4 abreast business class  7 ft  2 1 m  stand up headroom  fly by wire and side stick controls  20 percent of the aircraft weight would be in composite materials for the centre and rear fuselages  tail cone  empennage and wings  The first flight was planned for 2008  and its entry into service was planned for 2010',\n",
              "  'In May 2005  the CSeries development was evaluated at US 2 1 billion  shared with suppliers and partner governments for one third each  The Government of Canada would invest US 262 5 million  the Government of Quebec US 87 5 million and the Government of the United Kingdom US 340 million  180 million  repayable on a royalty basis per aircraft  The UK contribution is part of an investment partnership for the location of the development of the wings  engine nacelles and composite empennage structures at the Belfast plant  where Bombardier bought Short Brothers in 1989',\n",
              "  'On 31 January 2006  Bombardier announced that market conditions could not justify the launch of the program  and that the company would reorient CSeries project efforts  team and resources to regional jet and turboprop aircraft  A small team of employees were kept to develop the CSeries business plan and were further tasked to include other risk sharing partners in the program',\n",
              "  'On 31 January 2007  Bombardier announced that work on the aircraft would continue  with entry into service planned for 2013  In November 2007  Bombardier selected the Pratt   Whitney Geared Turbofan  now the PW1000G  already selected to power the Mitsubishi Regional Jet  to be the exclusive powerplant for the CSeries  rated at 23 000 lbf  100 kN',\n",
              "  'On 22 February 2008  the Board of Directors authorized Bombardier to offer formal sales proposals of the CSeries family to airline customers  on the strength of its 20  better fuel burn and up to 15  better cash operating costs compared to similarly sized aircraft produced at the time  This interested Lufthansa  Qatar Airways and ILFC',\n",
              "  'On 13 July 2008  in a press conference on the eve of the opening of the Farnborough Airshow  Bombardier Aerospace formally launched the CSeries  with a letter of interest from Lufthansa for 60 aircraft  including 30 options  at a US 46 7 million list price  The aircraft fuel efficiency would be 2 litres per 100 kilometres  120 mpg US  per passenger in a dense seating  The final assembly of the aircraft would be done at Mirabel  wings would be developed and manufactured at Belfast and the aft fuselage and cockpit would be manufactured in Saint Laurent  Quebec  The fuselage was to be built by China Aviation Industry Corporation  AVIC s affiliate Shenyang Aircraft Corporation',\n",
              "  'The new Pratt   Whitney engine should yield 12 percent better fuel economy than existing jets while being quieter  with further efficiency stemming from enhanced aerodynamics and lightweight materials  Together  the engines and high use of composite materials  like the wide body Boeing 787 Dreamliner and Airbus A350 XWB contribute to the aforementioned 12 15  better cash operating costs',\n",
              "  'Selected in July 2008  the Rockwell Collins Pro Line Fusion avionics incorporates 15 in  380 mm  displays  with comprehensive navigation  communications  surveillance  engine indicating and crew alerting system  EICAS  and aircraft maintenance systems  In March 2009 Bombardier confirmed major suppliers  Alenia Aeronautica for the composite horizontal and vertical stabilisers  Fokker Elmo for the wiring and interconnection systems and Goodrich Corporation Actuation Systems  design and production of the flap and slat actuation systems',\n",
              "  'Nearly one year later  June 2009  96  of billable materials had been allocated  with the company settling on various companies for remaining components and systems  Shenyang Aircraft Corporation for the centre fuselage  Zodiac Aerospace for the interiors  Parker Hannifin for the flight control  fuel and hydraulics systems  Liebherr Aerospace for the air management system  and United Technologies Corporation for the air data system  flap and slat actuation systems  and engine nacelles',\n",
              "  'The composite wings are manufactured and assembled at a purpose built factory at the Bombardier Aerostructures and Engineering Services  BAES  site in Belfast  Northern Ireland  Meanwhile  the aft fuselage and cockpit are built in Bombardier s Saint Laurent Manufacturing Centre in Quebec  with final assembly occurring at Mirabel  Montreal  Quebec',\n",
              "  'While Bombardier itself makes the centre wing box and doors  still many other components are contracted out  namely  Liebherr for the landing gear and pneumatics  UTC Aerospace for the electrical system and lighting  Goodrich for the nacelle  Meggitt for the wheels and brakes  Michelin the tires  Spirit for the pylons  Honeywell for the APU  and PPG supplies the windows',\n",
              "  'In March 2009  Bombardier redesignated the C110 and C130 as CS100 and CS300  respectively  The models were offered in standard  and extended range  ER  variants  and additionally  an extra thrust  XT  variant of the CS300 was also offered  Bombardier subsequently settled on a single variant  with extended range becoming the new standard',\n",
              "  'In January 2010  JP Morgan reported that Bombardier was considering a 150 seat version of the CSeries  Bombardier called the report speculative  noting that the CSeries development program was  in the joint definition phase where we will be able to add greater product definition and that includes the ability to make changes before the final design is frozen',\n",
              "  'In May 2015  The Wall Street Journal reported that Bombardier was considering marketing a CS500 aircraft  being further stretched than the CS300  to compete with the standard 160  to 180 seat versions of the Boeing 737 and A320 airliners  However  development has not yet been committed  The existing wing would be capable of supporting a stretched version  In January 2019  Airbus hinted that a larger variant could be developed  owing to ramped up production and market demand for the currently produced models  An ACJ version of the A220 was also mentioned as a possibility  However  in June 2019  Airbus indicated that it would not consider launching an A220 500 until it has solved its A220 productivity issues  and definitely not in the following 12 months  Speculation about a stretched variant continued in November 2019  with Air France mentioning an A220 500 during an investor briefing on its modernisation strategy',\n",
              "  'In February 2012  the first CS100 delivery remained scheduled for the end of 2013  Reflecting a change of pace in March 2012  Bombardier moved up its target date for the first flight to the second half of 2012  In June 2012  Bombardier reaffirmed the first flight should happen before the end of the year with subsequent entry into service remaining 2013',\n",
              "  'Deviating from the otherwise ahead of schedule timeline  Bombardier announced via conference call in November 2012 a delay of six months which would delay both the first flight to June 2013 and entry into service of the CS100 one year later  The company credited these delays to issues with unspecified suppliers',\n",
              "  'An extensive update on the CSeries program was presented on 7 March 2013  the first  flight test vehicle   FTV  was displayed in an almost completed state  along with three other FTVs in various states of assembly  one such FTV confirmed the presence of the 160 seat  Extra Capacity  version of the CS300  featuring two sets of over wing emergency exits  The electrical system of the first flight test aircraft was successfully powered up in March 2013  and tests on the static test airframe proceeded satisfactorily and on schedule',\n",
              "  'In June 2013  due to upgrades of the aircraft s software and final ground testing  Bombardier again shifted the timeline for the first flight into July 2013  On 24 July 2013  due to a longer than expected system integration process  the first flight was delayed into  the coming weeks  On 30 August 2013  Bombardier received the flight test permit from Transport Canada  granting permission to perform high speed taxi testing and flight testing',\n",
              "  'On 16 September 2013  the CS100 made its maiden flight from Mirabel Airport  Over 14 000 data points were gathered on this first flight  and after some reconfigurations and software upgrades  the aircraft flew for the second time on 1 October 2013  On 16 January 2014  the planned entry into service date was delayed again  by at least 12 months  into the second half of 2015  due to difficulties with certification flight testing  The CS300 was still scheduled to follow approximately six months after the CS100',\n",
              "  'On 29 May 2014  one of the four test aircraft suffered an uncontained engine failure  Consequently  the test program was suspended until an investigation of the incident could be completed  The incident kept Bombardier from showcasing the CSeries at the week long 2014 Farnborough Airshow  one of the most important events for the aerospace and defence industry  In August 2014 and after slashing its workforce  Bombardier changed the management overseeing the still grounded aircraft',\n",
              "  'Flight testing was resumed on 7 September 2014 after the engine problem had been isolated to a fault in the lubrication  where a failure of a Teflon seal resulted in failure of the low pressure turbine  thus causing heat soaking of the oil feed tube to the number four bearing needed  Bombardier chairman Laurent Beaudoin stated that the CSeries was then expected to be in commercial service in 2016',\n",
              "  'The fifth CS100 first flew on 18 March 2015  On 27 March 2015  Bombardier stated that Canadian certification for the CS100 should come in late 2015 with entry into service in 2016  At the 2015 Paris Air Show  Bombardier released updated performance data  showing improvements with respect to the initial specifications',\n",
              "  'On 20 August 2015  Bombardier disclosed it had completed over 80  of the required certification tests for the CS100  On 14 October 2015  the company had completed over 90  of required tests for the CS100  Accordingly  Bombardier announced that the first production CS100 aircraft would soon commence function and reliability tests  The CS100 completed its certification testing program in mid November 2015  On 25 November 2015  Bombardier completed the first phase of its route proving capabilities  with a 100  dispatch reliability',\n",
              "  'After a development process that cost US 5 4 billion to December 2015  including a US 3 2 billion writeoff  the smallest model in the series  the 110  to 125 seat CS100 received initial type certification from Transport Canada on 18 December 2015  At the time  the company had 250 firm orders and letters of intent  plus commitments for another 360  but most of these were for the CS300 model  which was expected to be certified by the summer of 2016  The first CS100 was expected to be in service with Lufthansa s subsidiary Swiss by mid 2016',\n",
              "  'In October 2015 Airbus confirmed that it had turned down Bombardier s offer to sell a majority share of the CSeries to them  Bombardier then said it would explore alternatives  Just days before  the Government of Quebec reiterated that it would be willing to provide Bombardier with financial aid  should the company request it  Bombardier stated that it was fully committed to the CSeries and had the financial resources in place to support the program',\n",
              "  'On 29 October 2015  Bombardier took a CA 3 2 billion writedown on the CSeries  The incoming Trudeau government indicated that it would reply to Bombardier s request for  350 million in assistance after it took power in early November  On the same day  the Quebec government invested CA 1 billion in the company to save the struggling programme',\n",
              "  'In early November 2015  a Scotiabank report indicated that the company and the program would probably need a second bailout  and that even then the CSeries would probably not make money  Scotiabank analyst Turan Quettawala said   we believe that the writedown corroborates our long held view that the CSeries is not going to be value accretive under any scenario',\n",
              "  'In April 2016  the Government of Canada offered an aid package to the company without divulging the amount or conditions it imposed  On that date  some media reported that Bombardier had rejected the offer  but an unnamed source advised Reuters that in fact  negotiations were still under way  On 14 April 2016  Bombardier shares were at a six month high based on then unconfirmed rumours that Delta had ordered CSeries jets',\n",
              "  'The CS300 aircraft was awarded its type certificate by Transport Canada on 11 July 2016  The CS100 and CS300 were awarded a common type rating on 23 November 2016 from EASA and Transport Canada  allowing pilots to qualify on both types interchangeably  The first CS300 was delivered to AirBaltic on 28 November 2016  It was awarded type validation by the FAA on 14 December 2016',\n",
              "  'In March 2017  Bombardier conducted steep 5 5  approach landings tests at London City Airport  LCY  making it the largest aircraft to land there  Bombardier announced that the CS100 received Transport Canada and EASA steep approach certification in April 2017  Swiss completed its first revenue flight to London City on 8 August 2017 from Zurich  replacing the Avro RJ',\n",
              "  'Production was set to ramp from seven CSeries deliveries in 2016 to 30 35 aircraft in 2017 after Pratt   Whitney PW1000G supply and start issues are resolved  Production could increase to 90 120 aircraft per year by 2020  The CSeries delivery goal for 2017 was revised to 20 22  due to Pratt   Whitney delivery delays  but only 17 deliveries were completed in the year',\n",
              "  'After months of engine delays  Korean Air received its first CS300 on 22 December 2017  Its second was scheduled to arrive in Seoul on 1 January 2018  with the type s entry into service planned for 16 January 2018 and the remaining eight aircraft to be delivered later in 2018  among 40 total planned CSeries deliveries',\n",
              "  'The CSeries competed with the smaller A320 variants  Airbus COO Customers  John Leahy  did not ignore the CSeries and allowed it to grow  as Boeing had done with Airbus  but decided to aggressively compete against Bombardier  Airbus dropped the price of the A320 in head to head competition and successfully blocked Bombardier from several deals  The 2010 order for 40 CS300s and 40 options from Republic Airways Holdings  then owner of exclusive A319 320 operator Frontier Airlines   also pushed Airbus into the A320neo re engine',\n",
              "  'By July 2016  Bombardier Aerospace set up the C Series Aircraft Limited Partnership  CSALP  with Investissement Qu bec  On 16 October 2017  Airbus and Bombardier announced that Airbus would acquire a 50 01  majority stake in this partnership  with Bombardier keeping 31  and Investissement Qu bec 19  to expand in an estimated market of more than 6 000 new 100  to 150 seat aircraft over 20 years  Airbus s supply chain expertise should save production costs but headquarters and assembly remain in Qu bec while U S  customers would benefit from a second assembly line in Mobile  Alabama  This transaction was subject to regulatory approvals then expected to be completed in 2018  Airbus did not pay for its share in the program  nor did it assume any debt Leahy considered that by  pressing the Trump Administration for 300  tariffs   forced them into our hands  and Boeing doesn t care about the present cost to  not to have competition   an admission of a weak product line and a weak commercial organization that they say we just can t afford that competition  This competitive position then developed into a concept of partnership as the advantages of this to both sides became apparent when considering joint competition with Boeing needed research',\n",
              "  'Airbus insisted that the company had no plan to buy out Bombardier s stake in the C series program and that Bombardier would remain a strategic partner after 2025  however clauses allow it to buy out Quebec s share in 2023 and Bombardier s 7 years after the deal closes  though it also stipulates production is required to remain in Quebec until at least 2041 While assembling the aircraft in U S  could circumvent the 300  duties proposed in the CSeries dumping petition by Boeing  Airbus CEO Tom Enders and Bombardier CEO Alain Bellemare assured that this factor did not drive the partnership  but negotiations began in August after the April 2017 filing and the June decision to proceed and  as a result  Boeing was suspicious  Leeham News commented that  the Airbus Bombardier partnership  thrusts a big stick up Boeing s tailpipe',\n",
              "  'With the Airbus corporate strength behind it  AirInsight anticipate the CSeries market share of the 100  to 149 seat market over 20 years will increase from 40  of 5 636 aircraft  2254 sales  to 55 60  around 3 010 aircraft  Supplier costs could be cut by 30 40  by Airbus s market power  as a 10  procurement costs decrease would add six gross margin points to the program  Boeing was seriously concerned that it could not match fleet package deals enabled by the partnership  A CS500 stretch would allow Airbus to enlarge its A320 family replacement to better compete with the proposed Boeing New Midsize Airplane  Airbus will assist in marketing and servicing',\n",
              "  'At the Dubai Airshow in November 2017  Embraer assured it will monitor Airbus marketing involvement until antitrust immunity is granted  for dumping pricing after  and that Brazil will sue Canada for its subsidies to Bombardier through the World Trade Organization  Bombardier plans to deliver 40 45 CSeries in 2018 as regulatory clearance would happen likely toward the end of the year  Embraer thinks Airbus will not be able to lower the CSeries supply chain costs enough to make it profitable and view it as heavy  expensive and adapted to long  thin routes exceeding the E jet E2 range  whose operational capabilities would win a majority of the market share as commitments should follow certification and entry into service',\n",
              "  'During competition investigation  the partners were to operate separately and clean teams with privileged access to competitively sensitive data but separated from their management planned the integration  evaluating synergies and preparing communications to regulators  Antitrust approval aimed at finalisation by summer 2018 Farnborough Air Show to allow a marketing push  It was planned to rebrand the CSeries as an Airbus model  with A200 suggested as a family name and A210 A230 for the CS100 and CS300  As the clearances process neared completion  there were hopes that the takeover could have been completed by the end of May 2018  accelerating orders and cost reduction efforts',\n",
              "  'Airbus sought to reduce costs from all suppliers  including Bombardier  wing builder Short Brothers and engine manufacturer Pratt   Whitney  The Mobile facility was scheduled to begin deliveries starting in 2020  It was intended that the CSeries team would be formed by leaders from both Bombardier and Airbus and headed by Philippe Balducchi  then Head of Performance Management at Airbus Commercial Aircraft',\n",
              "  'On 8 June 2018  after regulatory approval  Airbus and Bombardier announced that Airbus would take a majority stake on 1 July 2018  The head office  leadership team and primary final assembly line would stay in Mirabel  with its workforce of 2 200  Bombardier would fund the cash shortfalls if required  up to US 610 million from the second half of 2018 to 2021  The FAL in Mobile will start deliveries in 2020 with a monthly production rate of four  rising to six for a capacity of eight while the main Mirabel FAL can go to ten Bombardier CEO Alain Bellemare predicted that the partnership would significantly accelerate sales   It brings certainty to the future of the program so it increases the level of confidence that the aircraft is there to stay  Combining the CSeries with Airbus s global scale   will take the CSeries program to new heights',\n",
              "  'At the 2008 launch of the program  Bombardier had forecast 315 annual deliveries from 2008 to 2027 for 100  to 150 seat airliners  but in the first 10 5 years  the six models available  B737 700  A318 A319  CS100 CS300 and E195  averaged fewer than 80 per year  The aircraft was renamed the A220 100 300 on 10 July 2018 at Airbus s headquarters in Toulouse  10 days after control of the program was handed over to Airbus  Airbus is targeting over 100 orders in 2018 and 3 000 over 20 years  half of the 100  to 150 seat market  and needs a supply chain cost reduction over 10  In July 2018  Airbus CFO Harald Wilhelm predicted a production potential of more than 100 aircraft per year Airbus wants its suppliers to lower their prices by 20  for more volume  or to switch them  towards 150 yearly deliveries  Airbus logged net orders for 135 A220s in  and 63 net orders in 2019',\n",
              "  'Bombardier had previously received a letter of intent for 31 firm orders and 30 options from an unidentified European carrier  to be finalised before 2017 end  These should be CS100s based on the announced list value  Egyptair announced a letter of interest for 12 CS300s and 12 options at the November 2017 Dubai Air Show  With the two orders planned to be finalised by the end of 2017  the total number of CSeries orders is expected to rise to 403 by the end of the year  in addition to the 115 commitments  90 options and 18 purchase rights already held',\n",
              "  'On 10 July 2018  just hours after the CSeries was rebranded by Airbus  JetBlue ordered 60 A220 300s to replace its 60 Embraer 190s from 2020 with 40  lower fuel burn per seat  a blow to Embraer which was marketing the E195 E2 to the carrier  Priced at  5 4 billion before customary discounts  they should be delivered from Mobile  Alabama  some could be converted to the A220 100 and 60 options are pending from 2025  JetBlue found the two models very close economically  as the A220 300 fuel seat cost is 40  lower than its current E190 and operating cost per seat excluding fuel are 22  lower',\n",
              "  'Since July 2018  Airbus has been promoting the A220 to airlines in Southeast Asia in particular  highlighting low operating costs for regional jet operators and low seat mile costs for the low cost carriers that dominate this very price sensitive market  Airbus also believes that the A220 will have a role to play in the rise of point to point traffic in the region  especially on new routes with thin initial demand',\n",
              "  'In January 2019  confirmation of sales to JetBlue and Moxy pushed the A220 order backlog to more than double that of the slightly larger A319neo  Delta Air Lines ordered 15 further A220s for a total of 90 until 2023  including a conversion of 50 to the larger 130 seat A220 300 from 2020  Airbus acknowledged that competition between the A220 300 and the A319neo was resulting in fewer A319 orders  but confirmed that the A319neo will not be discontinued  In May 2019  a Delta Enhanced Equipment Trust Certificate report indicated the A220 100 mean appraised value was  34 1 million per aircraft  but there was wide variation',\n",
              "  'At the Paris Air Show 2019  Air Lease Corporation signed a letter of intent for 50 A220 300s  thus becoming the first major leasing company to order the type  In July 2019  Air France KLM announced a commitment for 60 A220 300s  plus options and acquisition rights for a further 60 aircraft  to be delivered from September 2021 with the aim of gradually replacing Air France s A318 and A319 fleet  Air France noted that it would be interested in converting some of its orders to a stretched variant of the A220 if Airbus were to develop one  The Air France Memorandum of Understanding  once converted to a firm order  is to bring the backlog to a total of 611 aircraft  However  up to 110 of these are indefinitely deferred  ghost  orders recorded by Bombardier before the Airbus takeover',\n",
              "  'Production is to be ramped up  reaching ten per month in Mirabel and four per month in Alabama by the mid 2020s  The market share is split between 80   300s and 20   100s  The groundbreaking ceremony for the  300 million final assembly line in Mobile  Alabama was held on 16 January 2019  on this occasion Airbus confirmed its confidence that there is enough demand to justify two assembly sites and that the aircraft can be made profitable  On 5 August 2019  production started at Mobile  The first A220 from the new line is to be delivered to Delta in the third quarter of 2020  The Mobile facility will not be finished until 2020  but work started early to ensure that the delivery schedule for Delta can be met  As of 1 June 2019  the CSeries Aircraft Limited Partnership was renamed to Airbus Canada Limited Partnership and adopted the Airbus logo as its sole visual identity',\n",
              "  'In February 2020  Bombardier exited the programme  selling its share to Airbus for  591 million  Airbus owns 75  of the programme  the remaining 25  held by Investissement Qu bec  can be redeemed by Airbus from 2026  The removal of Bombardier s financial constraints gave Airbus greater latitude for further investment in the programme  which will be needed to ramp up production rates  but will push back the break even point of the programme to the mid 2020s  Also in February  start up airline  Green Africa Airways  signed up for 50 A220 300s needed',\n",
              "  'After beating performance promises by 3  performance improvement packages shaving operating costs were studied by Bombardier before Airbus took over and may be announced at the June 2019 Paris Air Show  These could include putting doors on the exposed main wheels to reduce drag but with added weight and complexity  Two to three more seats could be added by moving the aft lavatory  without reducing the seat pitch',\n",
              "  'On 21 May 2019  Airbus announced a 2 268 kg  5 000 lb  MTOW increase from the second half of 2020  from 60 8 to 63 1 t  134 000 to 139 000 lb  for the A220 100 and 67 6 to 69 9 t  149 000 to 154 000 lb  for the A220 300  expanding the range by 450 nmi  830 km  the A220 300 to 3 350 and 3 400 nmi  6 200 and 6 300 km  for the A220 100  With the Airbus ruleset  90 kg passengers with bags  3  enroute reserve  200 nmi alternate and 30 minutes hold  the 108 seat A220 100 could reach 3 800 nmi  7 000 km  and the 130 seat A220 300 would achieve a range of 3 500 nmi  6 500 km  while being limited by its fuel capacity  With a denser economy seating at a 30 inch pitch down from 32  a 116 seat A220 100 would still reach 3 700 nmi  6 900 km  and a 141 seat A220 300 would exceed 3 350 nmi  6 200 km',\n",
              "  'The Airbus A220 was originally designed by Bombardier as the CSeries aircraft incorporating a high proportion of composite materials and larger windows  The CSeries cabin featured large  rotating overhead storage bins  allowing each passenger to stow a sizeable carry on bag overhead  Bombardier claimed that compared to the cabins of current in service narrowbody aircraft  the CSeries would provide airlines with the highest overhead bin volume per passenger and a wider aisle that allows for faster boarding and disembarkation of passengers',\n",
              "  'The aircraft contain 70  advanced materials comprising 46  composite materials and 24  aluminium lithium  Bombardier claimed an overall 15  lower seat mile cost  20  lower fuel burn and a CO2 emissions advantage  a 25  reduction in maintenance costs and four fold reduction in the noise footprint compared to existing production aircraft',\n",
              "  'Bombardier claimed the engine and the wings would save up to 20  fuel compared with the Airbus A320neo and the Boeing 737NG with which it competed at the time  the CS300 was 6 tonnes lighter than the Airbus A319neo and nearly 8 tons lighter than the Boeing 737 MAX 7  helping it to achieve up to 12  operating costs savings and 15  with the current models',\n",
              "  'The CS100  now A220 100  began revenue service on 15 July 2016 with a Swiss International Air Lines flight between Z rich and Paris  The CS300  now A220 300  revenue service began on 14 December 2016 with an airBaltic flight from Riga to Amsterdam in a 145 seat two class configuration',\n",
              "  'Swiss stated in August 2016  one month after the start of CS100  A220 100  service  that  the customer feedback is very positive with the expected remarks concerning the bright cabin  reduced noise  enough leg room and space for hand luggage as well as the comfortable seats  Also  the feedback from our pilots is gratifying  They especially like the intuitive flying experience  AirBaltic lauded lower noise levels for passengers and more space for luggage than its Boeing 737 300s',\n",
              "  'Bombardier targets a 99  dispatch reliability at entry into service  In August 2016  Swiss reported  much higher  reliability than other new aircraft  citing Airbus s A380  A320neo and Boeing s 787  After four months of service with Swiss  this goal seems to have been met based on only three aircraft and 1 500 hours flown   nuisance messages  from the integrated avionics suite and the PW1000G start up delays have been the main griefs  Dispatch reliability rates of 99  were met in April 2017  A year after introduction  launch operators had fewer issues than expected for a new program  Air Baltic have 99 3 99 4  dispatch reliability  similar to the established Q400 but less than the 99 8  Boeing 737 Classic benefiting from its ubiquitous presence  It improved to 99 85  in October 2017',\n",
              "  'Since the PW1500G mount generates less strain on the turbine rotor assembly than the A320neo s PW1100G  it does not suffer from start up and bearing problems but still from premature combustor degradation  After 28 000 engine hours in 14 in service aircraft with a powerplant dispatch reliability of 99 9  Swiss replaced an engine pair in May 2017 after 2 400 h  while AirBaltic replaced another one in June  An updated combustor liner with a 6 000 8 000 hour limit has been developed and a third generation for 2018 will raise it to 20 000 hours in benign environments In July 2018  Pratt   Whitney announced that the PW1500G had been granted 180 minute ETOPS approval by the FAA',\n",
              "  'Upon introduction  both variants are performing above their original specifications and the CS300 range is 2  better than the brochure  as are its per seat and per trip cost  airBaltic reports a 2600 l h fuel consumption against 3000 l h for its Boeing 737 300 with similar capacity  It then claimed 21  better fuel efficiency  Fuel burn is more than 1  lower than the marketing claims and Bombardier will update its performance specifications later in 2017  The CSeries is 25  cheaper to fly than the Avro RJ100 which it replaces at Swiss  On long missions  the CS100 is up to 1  more fuel efficient than the brochure and the CS300 up to 3  The CS300 burns 20  less fuel than the Airbus A319  21  less than the 737 Classic while the CS100 burns 18 to 27  less per seat than the Avro RJ The CS300 is expected to be 15  cheaper to operate per seat than the Embraer E190',\n",
              "  'Swiss initially flew six sectors a day and by July 2017 up to nine a day with an average time of 1 hours 15 minutes  Air Baltic s flight length averages 3 h  and the average fleet daily utilisation is 14 h  In September 2017  over 1 5 million passengers had 16 000 revenue flights in the 18 aircraft in service  making up to 100 revenue flights per day on 100 routes  most used are up to 17 hours per day and up to 10 legs per day  Quick 35 minute turnarounds even allowed 11 legs per day  By June 2018  Air Baltic reached a maximum utilisation of 18 5 hours a day',\n",
              "  'The A Check is scheduled after 850 flight hours  the check originally took 5 hours and has since been reduced to less than 3 hours  within an 8 hour shift  C Check are scheduled after 8 500 hours   translating to about 3 5 years of operation  Based on experience since product launch  A checks intervals could increase to 1 000 hours and C checks to 10 000 hours toward the end of 2019  By September 2017 end  the fleet had undergone 20 A checks with no findings',\n",
              "  'On 25 July 2019  a Swiss International Air Lines A220 300 had an engine inflight shutdown  IFSD  and diverted to Paris Charles de Gaulle   On 16 September 2019  a similar incident happened just before reaching 35 000ft and the crew returned to Geneva On September 26  2019 the FAA issued an Airworthiness Directive mandating borescope inspections on the engines On 15 October 2019  another engine failed and the crew diverted to Paris Charles de Gaulle  Swiss withdrew its fleet for inspection A software update may cause damaging vibrations of fast moving parts  causing the failures After those engine failures  Transport Canada issued an emergency airworthiness directive limiting the power to 94  of N1  Low Pressure Spool rotational speed  above 29 000 ft  8 800 m  disengaging the autothrottle for the climb over this altitude before engaging it again in cruise',\n",
              "  'The effect of stiff competition and production delays was apparent in early 2016  On 20 January  United Continental Holdings ordered 40 Boeing 737 700 aircraft instead  Aside from ready availability of aircraft already in full production  the purchase of Boeing vs  the Bombardier CSeries was financially prudent  Since United already flies 310 of the 737  there will be savings for pilot training and fewer spare parts will need to be stocked  Boeing also reportedly gave United a massive 73  discount on the 737 deal  dropping the price to  22 million per aircraft  well below the CS300 market value at  36 million  In November 2016  United deferred this order to save  1 6Bn in CAPEX or  26 million per 61 aircraft',\n",
              "  'David Tyerman  an analyst with Canaccord Genuity offered the following assessment of the impact of this news to the Toronto Star   This just shows how difficult it is for Bombardier to win orders these days  It s not the end of the world  but this loss illustrates what they are up against  It also raises the question of how profitable the next C Series order they win will be for them',\n",
              "  'On 17 February 2016  Air Canada signed a letter of intent with Bombardier for up to 75 CS300 aircraft as part of its narrowbody fleet renewal plan  This comprised 45 firm orders  plus options for an additional 30 aircraft  It includes substitution rights to CS100 aircraft in certain circumstances  with deliveries to occur from late 2019 to 2022  The  3 8 billion order for 45 CS300 aircraft was finalized on 28 June 2016',\n",
              "  'On 28 April 2016  Bombardier and Delta Air Lines announced a sale for 75 CS100 firm orders and 50 options  the first aircraft should enter service in spring 2018  Delta Air Lines  it was thought  would likely start using more fuel efficient CS100s in 2018 on flights out of Los Angeles  New York and Dallas  Airways News believe that a substantial 65 to 70  discount off the  71 8 million list price was provided making the final sale at  24 6 28 7 million price per aircraft  this large order from a major carrier could help Bombardier to break the Boeing Airbus duopoly on narrowbody aircraft',\n",
              "  'With those 127 firm orders in early 2016  introduction should be with a firm backlog of more than 300 orders and up to 800 aircraft including options  conditional orders  letters of intent and purchase rights  they imply an onerous contract provision of around  500 million   3 9 million per order',\n",
              "  'On 9 June 2017  the US International Trade Commission  USITC  found that the US industry could be threatened On 26 September  the US Department of Commerce  DoC  observed subsidies of 220  and intended to collect deposits accordingly  plus a preliminary 80  anti dumping duty  resulting in a duty of 300 The DoC announced its final ruling  a total duty of 292  on 20 December On 10 January 2018  the Canadian government filed a complaint at the World Trade Organization against the US'],\n",
              " ['The Airbus A350 XWB is a family of long range  wide body airliners developed by Airbus The first A350 design proposed by Airbus in 2004  in response to the Boeing 787 Dreamliner  would have been a development of the A330 with composite wings and new engines As market support was inadequate  in 2006 Airbus switched to a clean sheet  XWB   eXtra Wide Body  design  powered by Rolls Royce Trent XWB turbofan engines The prototype first flew on 14 June 2013 from Toulouse in France Type certification from the European Aviation Safety Agency  EASA  was received in September 2014 and certification from the Federal Aviation Administration  FAA  two months later',\n",
              "  'The A350 XWB is the first Airbus mostly made of carbon fibre reinforced polymer It has a new fuselage designed around a nine abreast economy cross section  up from the eight abreast A330 A340   It has a common type rating with the A330 The A350 XWB has two variants  The A350 900 typically carries 300 to 350 passengers over a 15 000 kilometres  8 100 nautical miles  range and has a 280 ton  617 300 pound  maximum take off weight  MTOW  the longer A350 1000 accommodates 350 to 410 passengers  has a maximum range of 16 100 km  8 700 nmi  and a 319 t  703 200 lb  MTOW  and is supported by two 6 wheel main landing gear trucks  the  900 has four',\n",
              "  'On 15 January 2015  the initial A350 900 entered service with its launch operator Qatar Airways  followed by the A350 1000 on 24 February 2018 with the same airline As of December 2019  A350 XWB orders stand at 926 of which 347 have been delivered and 312 are in operation The largest operator is the airliner s launch customer  Qatar Airways  with 48 A350 XWBs in its fleet It succeeds the A340 and competes with the Boeing 777  777X  and 787 10',\n",
              "  'Airbus initially rejected Boeing s claim that the Boeing 787 Dreamliner would be a serious threat to the Airbus A330  stating that the 787 was just a reaction to the A330 and that no response was needed  When airlines urged Airbus to provide a competitor  Airbus initially proposed the  A330 200Lite  a derivative of the A330 featuring improved aerodynamics and engines similar to those on the 787  The company planned to announce this version at the 2004 Farnborough Airshow  but did not proceed',\n",
              "  'On 16 September 2004  Airbus president and chief executive officer No l Forgeard confirmed the consideration of a new project during a private meeting with prospective customers  Forgeard did not give a project name  and he did not state whether it would be an entirely new design or a modification of an existing product  Airline dissatisfaction with this proposal motivated Airbus to commit  4 billion to a new airliner design',\n",
              "  'On 10 December 2004  Airbus  shareholders  EADS and BAE Systems  approved the  authorisation to offer  for the A350  expecting a 2010 service entry Airbus then expected to win more than half of the 250 300 seat aircraft market  estimated at 3 100 aircraft overall over 20 years Based on the A330  the 245 seat A350 800 was to fly over a 8 600 nmi  15 900 km  range and the 285 seat A350 900 over a 7 500 nmi  13 900 km  range Fuel efficiency would improve by over 10  with a mostly Carbon fibre reinforced polymer wing and initial General Electric GEnx 72A1 engines  before offering a choice of powerplant It had a common fuselage cross section with the A330 and also a new horizontal stabiliser',\n",
              "  'On 13 June 2005 at the Paris Air Show  Middle Eastern carrier Qatar Airways announced that they had placed an order for 60 A350s  In September 2006 the airline signed a memorandum of understanding with General Electric  GE  to launch the GEnx 1A 72 engine for the aircraft  Emirates sought a more improved design and decided against ordering the initial version of the A350',\n",
              "  'On 6 October 2005  the programme s industrial launch was announced with an estimated development cost of around  3 5 billion   The A350 was initially planned to be a 250  to 300 seat twin engine wide body aircraft derived from the existing A330 s design  Under this plan  the A350 would have modified wings and new engines while sharing the A330 s fuselage cross section  As a result of a controversial design  the fuselage was to consist primarily of aluminium lithium rather than the carbon fibre reinforced polymer  CFRP  fuselage on the Boeing 787  The A350 would see entry in two versions  the A350 800 with a 8 800 nmi  16 300 km  range with a typical passenger capacity of 253 in a three class configuration  and the A350 900 with 7 500 nmi  13 900 km  range and a 300 seat 3 class configuration  The A350 was designed to be a direct competitor to the Boeing 787 9 and 777 200ER',\n",
              "  'The original A350 design was publicly criticised by two of Airbus s largest customers  International Lease Finance Corporation  ILFC  and GE Capital Aviation Services  GECAS  On 28 March 2006  ILFC President Steven F  Udvar H zy urged Airbus to pursue a clean sheet design or risk losing market share to Boeing and branded Airbus s strategy as  a Band aid reaction to the 787  a sentiment echoed by GECAS president Henry Hubschman  In April 2006  while reviewing bids for the Boeing 787 and A350  CEO of Singapore Airlines  SIA  Chew Choon Seng  commented that  having gone through the trouble of designing a new wing  tail  cockpit   should have gone the whole hog and designed a new fuselage',\n",
              "  'Airbus responded that they were considering A350 improvements to satisfy customer demands  Airbus s then CEO Gustav Humbert stated   Our strategy isn t driven by the needs of the next one or two campaigns  but rather by a long term view of the market and our ability to deliver on our promises  As major airlines such as Qantas and Singapore Airlines selected the 787 over the A350  Humbert tasked an engineering team to produce new alternative designs  One such proposal  known internally as  1d  formed the basis of the A350 redesign',\n",
              "  'The proposed A350 was a new design  including a wider fuselage cross section  allowing seating arrangements ranging from an eight abreast low density premium economy layout to a ten abreast high density seating configuration for a maximum seating capacity of 440 475 depending on variant  The A330 and previous iterations of the A350 would only be able to accommodate a maximum of eight seats per row  The 787 is typically configured for nine seats per row  The 777 accommodates nine or ten seats per row  with more than half of recent 777s being ten abreast as the 777X will be  The A350 cabin is 12 7 cm  5 0 in  wider at the eye level of a seated passenger than the 787 s cabin  and 28 cm  11 in  narrower than the Boeing 777 s cabin   see the Wide body aircraft comparison of cabin widths and seating  All A350 passenger models have a range of at least 8 000 nmi  14 816 km  The redesigned composite fuselage provides higher cabin pressure and humidity  and lower maintenance costs',\n",
              "  'On 1 December 2006  the Airbus board of directors approved the industrial launch of the A350 800   900  and  1000 variants  The delayed launch decision was a result of delays of the Airbus  and discussions on how to fund development  EADS CEO Thomas Enders stated that the A350 programme was not a certainty  citing EADS Airbus s stretched resources  However  it was decided programme costs are to be borne mainly from cash flow  First delivery for the A350 900 was scheduled for mid 2013  with the  800 and  1000 following on 12 and 24 months later  respectively  New technical details of the A350 XWB were revealed at a press conference in December 2006  Chief operating officer  John Leahy indicated existing A350 contracts were being re negotiated due to price increases compared to the original A350s contracted  On 4 January 2007  Pegasus Aviation Finance Company placed the first firm order for the A350 XWB with an order for two aircraft',\n",
              "  'The design change imposed a two year delay into the original timetable and increased development costs from US 5 3 billion  5 5 billion  to approximately US 10 billion  9 7 billion  The total development cost for the A350 was estimated at US 15 billion by Reuters  12 billion or  10 billion  The original mid 2013 delivery date of the A350 changed  as a longer than anticipated development forced Airbus to delay the final assembly and first flight of the aircraft to the third quarter of 2012 and second quarter of 2013 respectively  As a result  the flight test schedule was compressed from the original 15 months to 12 months  A350 programme chief Didier Evrard stressed that delays only affected the A350 900 while the  800 and  1000 schedules remained unchanged',\n",
              "  'Airbus suggested Boeing s use of composite materials for the 787 fuselage was premature  and that the new A350 XWB was to feature large carbon fibre panels for the main fuselage skin  After facing criticism for maintenance costs  Airbus confirmed in early September 2007 the adoption of composite fuselage frames for the aircraft structure  The composite frames would feature aluminium strips to ensure the electrical continuity of the fuselage  for dissipating lightning strikes  Airbus used a full mock up fuselage to develop the wiring  a different approach from the A380  on which the wiring was all done on computers',\n",
              "  'In 2006  Airbus confirmed development of a full bleed air system on the A350  as opposed to the 787 s bleedless configuration  Rolls Royce agreed with Airbus to supply a new variant of the Trent turbofan engine for the A350 XWB  named Trent XWB  In 2010  after low speed wind tunnel tests  Airbus finalised the static thrust at sea level for all three proposed variants to the 74 000 94 000 lbf  330 420 kN  range',\n",
              "  'GE stated it would not offer the GP7000 engine on the aircraft  and that previous contracts for the GEnx on the original A350 did not apply to the XWB  Engine Alliance partner Pratt   Whitney seemed to be unaligned with GE on this  having publicly stated that it was looking at an advanced derivative of the GP7000  In April 2007  former Airbus CEO Louis Gallois held direct talks with GE management over developing a GEnx variant for the A350 XWB  In June 2007  John Leahy indicated that the A350 XWB would not feature the GEnx engine  saying that Airbus wanted GE to offer a more efficient version for the airliner  Since then  the largest GE engines operators  which include Emirates  US Airways  Hawaiian Airlines and ILFC have selected the Trent XWB for their A350 orders  In May 2009  GE said that if it were to reach a deal with Airbus to offer the current 787 optimised GEnx for the A350  it would only power the  800 and  900 variants  GE believed it can offer a product that outperforms the Trent 1000 and Trent XWB  but was reluctant to support an aircraft competing directly with its GE90 115B powered 777 variants',\n",
              "  'In January 2008  French based Thales Group won a US 2 9 billion  2 billion  20 year contract to supply avionics and navigation equipment for the A350 XWB  beating Honeywell and Rockwell Collins  US based Rockwell Collins and Moog Inc  were chosen to supply the horizontal stabiliser actuator and primary flight control actuation  respectively  The flight management system incorporated several new safety features  Regarding cabin ergonomics and entertainment  in 2006 Airbus signed a firm contract with BMW for development of an interior concept for the original A350  On 4 February 2010  Airbus signed a contract with Panasonic Avionics Corporation to deliver in flight entertainment and communication  IFEC  systems for the Airbus A350 XWB',\n",
              "  'In 2008  Airbus planned to start cabin furnishing early in parallel with final assembly to cut production time in half  The A350 XWB production programme sees extensive international collaboration and investments in new facilities  Airbus constructed 10 new factories in Western Europe and the US  with extensions carried out on 3 further sites',\n",
              "  'Among the new buildings was a  570 million  US 760 million or  745 million  composite facility in Broughton  Wales  which would be responsible for the wings  In June 2009  the National Assembly for Wales announced provision of a  28 million grant to provide a training centre  production jobs and money toward the new production centre',\n",
              "  'Airbus manufactured the first structural component in December 2009  Production of the first fuselage barrel began in late 2010 at its production plant in Illescas  Spain  Construction of the first A350 900 centre wingbox was set to start in August 2010  The new composite rudder plant in China opened in early 2011  The forward fuselage of the first A350 was delivered to the final assembly plant in Toulouse on 29 December 2011  Final assembly of the first A350 static test model was started on 5 April 2012  Final assembly of the first prototype A350 was completed in December 2012',\n",
              "  'The production rate was expected to rise from three aircraft per month in early 2015 to five at the end of 2015  and would ramp to ten aircraft per month by 2018  In 2015  17 planes would be delivered and the initial dispatch reliability was 98  Airbus announced plans to increase its production rate from 10 monthly in 2018 to 13 monthly from 2019  while the Boeing 787 production will increase from 12 to 14 per month in 2019  and six A330 are produced monthly  Around 90 deliveries are expected in 2018  with about 15   1000s  14  That year  93 aircraft were delivered  3 more than expected In 2019  Airbus delivered 112 A350s  87 A350 900s and 25 A350 1000s  at a rate of 10 per month  and were going to keep the rate around 9 to 10 per month  to reflect softer demand for widebodies  as the backlog reached 579   or 5 2 years of production at a constant rate',\n",
              "  'The first Trent engine test was made on 14 June 2010  The Trent XWB s flight test programme began use on the A380 development aircraft in early 2011  ahead of engine certification in late 2011  On 2 June 2013  the Trent XWB engines were powered up on the A350 for the first time  Airbus confirmed that the flight test programme would last 12 months and use five test aircraft',\n",
              "  'The A350 s maiden flight took place on 14 June 2013 from the Toulouse Blagnac Airport  Airbus s chief test pilot said   it just seemed really happy in the air all the things we were testing had no major issues at all  It flew for 4 hours  reaching Mach  8 at 25 000 feet after retracting the landing gear and starting a 2 500 h flight test campaign  Costs for developing the aircraft were estimated at  11 billion  US 15 billion or  9 5 billion  in June 2013',\n",
              "  'The A350 received type certification from the European Aviation Safety Agency  EASA  on 30 September 2014  On 15 October 2014  EASA approved the A350 900 for ETOPS 370  allowing it to fly more than six hours on one engine and making it the first airliner to be approved for  ETOPS Beyond 180 minutes  before entry into service  Later that month Airbus received regulatory approval for a Common Type Rating for pilot training between the A350 XWB and A330  On 12 November 2014  the A350 received certification from the FAA  On 1 August 2017  the EASA issued an airworthiness directive mandating operators to power cycle  reset  early A350 900s before 149 hours of continuous power on time  reissued in July 2019',\n",
              "  'In June 2011  the A350 900 was scheduled to enter service in the first half of 2014  with the  800 to enter service in mid 2016  and the  1000 in 2017  In July 2012  Airbus delayed the  900 s introduction by three months to the second half of 2014  The first delivery to launch customer Qatar Airways took place on 22 December 2014  The first commercial flight was made on 15 January 2015 between Doha and Frankfurt',\n",
              "  'One year after introduction  the A350 fleet had accumulated 3 000 cycles and around 16 000 flight hours  Average daily usage by first customers was 11 4 hours with flights averaging 5 2 hours  which are under the aircraft s capabilities and reflect both short flights within the schedules of Qatar Airways and Vietnam Airlines  as well as flight crew proficiency training that is typical of early use and is accomplished on short haul flights  Finnair was operating the A350 at very high rates  15 flight hours per day for Beijing  18 hours for Shanghai  and more than 20 hours for Bangkok  This may have accelerated its retirement of the Airbus A340',\n",
              "  'In service  problems occurred in three areas  The onboard Maintenance  Repair  Overhaul network needed software improvements  Airbus issued service bulletins regarding onboard equipment and removed galley inserts  coffee makers  toaster ovens  because of leaks  Airbus had to address spurious overheating warnings in the bleed air system by retrofitting an original connector with a gold plated connector  Airbus targeted a 98 5  dependability by the end of 2016 and to match the mature A330 reliability by early 2019',\n",
              "  'By the end of May 2016  the in service fleet had flown 55 200 hours over 9 400 cycles at a 97 8  operational reliability on three months  The longest operated sector was Qatar Airways  Adelaide Doha at 13 8 hours for 6 120 nmi  11 334 km  45  of flights were under 3 000 nmi  5 556 km  16  over 5 000 nmi  9 260 km  and 39  in between  The average flight was 6 8 hours  with the longest average being 9 6 hours by TAM Airlines and the shortest being 2 1 hours by Cathay Pacific s  Aircraft seat configuration ranged from 253 seats for Singapore Airlines to 348 seats for TAM Airlines  with a 30 to 46 seat business class and a 211 to 318 seat economy class  often including a premium economy The first A350 1000 was assembled in 2016  for a first flight on 24 November and entry into service planned for mid 2017',\n",
              "  'In January 2017  two years after introduction  62 aircraft were in service with 10 airlines  They had accumulated 25 000 flights over 154 000 hours with an average daily utilisation of 12 5 hours  and transported six million passengers with a 98 7  operational reliability  Zodiac Aerospace encountered production difficulties with business class seats in their Texas and California factories  After a year  Cathay Pacific experienced cosmetic quality issues and upgraded or replaced the seats for the earliest cabins In 2017  average test flights before delivery decreased to 4 1 from 12 in 2014  with an average delay down to 25 days from 68  Its reliability was 97 2  in 2015  98 3  in 2016  and 98 8  in June 2017  just behind its 99  target for 2017',\n",
              "  'In June 2017 after 30 months in commercial operation  80 A350s were in service with 12 operators  the largest being Qatar Airways with 17 and 13 each at Cathay Pacific and Singapore Airlines  SIA  The fleet average block time  time between pushback and destination gate arrival  was 7 2 hours with 53  below 3 000 nmi  5 556 km  16  over 5 000 nmi  9 260 km  and 31  in between  LATAM Airlines had the longest average sector at 10 7 hours  and Asiana had the shortest at 3 8 hours  Singapore Airlines operated the longest leg  Singapore to San Francisco 7 340 nmi  13 594 km  and the shortest leg  Singapore to Kuala Lumpur 160 nmi  296 km  In 2016  49 aircraft were delivered to customers  It was also planned that the monthly rate would grow to 10 by the end of 2018  which was eventually achieved in 2019 when Airbus delivered 112 aircraft over a period of 11 months  Seating varied from 253 for Singapore Airlines to 389 for Air Cara bes  with most between 280 and 320',\n",
              "  'In October 2017  Airbus was testing extended sharklets  which could offer 100 140 nmi  185 259 km  extra range and reduce fuel burn by 1 4 1 6  The wing twist is being changed for the wider  optimised spanload pressure distribution  and they will be used for the Singapore Airlines A350 900ULR in 2018 before spreading to other variants  Iberia was the first to get the upgraded  900 on 26 June 2018  with a 280 t  617 294 lb  MTOW version for an 8 200 nmi  15 186 km  range with 325 passengers in three classes As of February 2018  142  900s had been delivered  with a dispatch reliability of 99 3',\n",
              "  'By April 2019  Airbus was testing a hybrid laminar flow control  HLFC  on the leading edge of an A350 prototype vertical stabilizer  with passive suction like the boundary layer control on the Boeing 787 9 tail  but unlike the natural laminar flow BLADE  within the same EU Clean Sky program At the November 2019 Dubai Air Show  Emirates finalised an order for 50  900s for  16 Billion at list prices  to be delivered from 2023 to 2028 The order replaced the February agreement for 30 A350s and 40 A330Neos  compensating the cancellation for 39 A380s  causing the end of the double decker production At the end of November 2019  33 operators had received 331 aircraft among 959 orders and 2 6 million hours have been flown  The 2019 earnings report presented by Airbus stated that the A350 XWB program had broken even in 2019 source needed',\n",
              "  'The A350 XWB airframe is made out of 53  composites  carbon fibre reinforced plastic for the outer and centre wing box  covers  stringers  spars  fuselage  skin  frame  keel beam  and rear fuselage  and the empennage  horizontal and vertical tailplanes  19  aluminium and aluminium lithium alloy for ribs  floor beams  and gear bays  14  titanium for landing gears  pylons  and attachments  6  steel  and 8  miscellaneous  The A350 s competitor  the Boeing 787  is 50  composites  20  aluminium  15  titanium  10  steel  and 5  other',\n",
              "  'The A350 XWB fuselage has a constant width from door 1 to door 4  unlike previous Airbus aircraft  to provide maximum usable volume  The double lobe  ovoid  fuselage cross section has a maximum outer diameter of 5 97 m  19 6 ft  compared to 5 64 m  18 5 ft  for the A330 A340  The cabin s internal width is 5 61 m  18 4 ft  at armrest level compared to 5 49 m  18 0 ft  in the Boeing  and 5 87 m  19 3 ft  in the Boeing 777  It allows for an eight abreast 2 4 2 arrangement in a premium economy layout  with the seats being 49 5 cm  19 5 in  wide between 5 cm  2 0 in  wide arm rests  Airbus states that the seat will be 1 3 cm  0 5 in  wider than a 787 seat in the equivalent configuration',\n",
              "  'In the nine abreast  3 3 3 standard economy layout  the A350 seat will be 45 cm  18 in  wide  1 27 cm  0 5 in  wider than a seat in the equivalent layout in the 787  and 3 9 cm  1 5 in  wider than a seat in the equivalent A330 layout  The current 777 and future derivatives have 1 27 cm  0 5 in  greater seat width than the A350 in a nine abreast configuration  The 10 abreast seating on the A350 is similar to a 9 abreast configuration on the A330  with a seat width of 41 65 cm  16 4 in  Overall  the A350 gives passengers more headroom  larger overhead storage space  and wider panoramic windows than current Airbus models',\n",
              "  'The A350 nose section has a configuration derived from the A380 with a forward mounted nosegear bay and a six panel flightdeck windscreen  This differs substantially from the four window arrangement in the original design  The new nose  made of aluminium  improves aerodynamics and enables overhead crew rest areas to be installed further forward and eliminate any encroachment in the passenger cabin  The new windscreen has been revised to improve vision by reducing the width of the centre post  The upper shell radius of the nose section has been increased',\n",
              "  'Airbus adopted a new philosophy for the attachment of the A350 s main undercarriage as part of the switch to a composite wing structure  Each main undercarriage leg is attached to the rear wing spar forward and to a gear beam aft  which itself is attached to the wing and the fuselage  To help reduce the loads further into the wing  a double side stay configuration has been adopted  This solution resembles the design of the Vickers VC10',\n",
              "  'Airbus devised a three pronged main undercarriage design philosophy encompassing both four  and six wheel bogies to stay within pavement loading limits  The A350 900 has four wheel bogies in a 4 1 m  13 ft  long bay  The higher weight variant  the A350 1000 uses a six wheel bogie  with a 4 7 m  15 ft  undercarriage bay  French based Messier Dowty provides the main undercarriage for the  900 variant  and UTC Aerospace Systems supplies the  1000 variant  The nose gear is supplied by Liebherr Aerospace',\n",
              "  'The A350 features new composite wings with a wingspan that is common to the proposed variants  Its 64 75 m  212 4 ft  wingspan stays within the same ICAO Aerodrome Reference Code E 65m limit as the A330  and the Boeing 777   The A350 s wing has a 31 9  sweep angle for a Mach 0 85 cruise speed and has a maximum operating speed of Mach 0 89',\n",
              "  'The  900 wing covers a 442 m2  4 760 sq ft  area  This is between the 436 8 m2  4 702 sq ft  wing of the current Boeing 777 200LR 300ER and the 466 8 m2  5 025 sq ft  wing of the in development Boeing 777X  However  Boeing and Airbus do not use the same measurement  The A350 1000 wing is 22 3 m2  240 sq ft  larger through a 30 cm  12 in  extension to the inboard sections of the fixed trailing edge',\n",
              "  'A new trailing edge high lift device has been adopted with an advanced dropped hinge flap similar to that of the Airbus A380  which permits the gap between the trailing edge and the flap to be closed with the spoiler  It is a limited morphing wing with adaptive features for continuously optimising the wing loading to reduce fuel burn  variable camber for longitudinal load control where inboard   outboard flaps deflect together and differential flaps setting for lateral load control where inboard   outboard flaps deflect differentially',\n",
              "  'The manufacturer has extensively used computational fluid dynamics and also carried out more than 4 000 hours of low  and high speed windtunnel testing to refine the aerodynamic design  The final configuration of wing and winglet was achieved for the  Maturity Gate 5  on 17 December 2008  The wingtip device curves upwards over the final 4 4 m  14 ft  The wings are produced in the new  400 million  US 645M  46 000 m2  500 000 sq ft  North Factory at Airbus Broughton  employing 650 workers  in a specialist facility constructed with  29M of support from the Welsh Government',\n",
              "  'The revised design of the A350 XWB s glass cockpit dropped the A380 sized display and adopted 38 cm  15 in  liquid crystal display screens  The new six screen configuration includes two central displays mounted one above the other  the lower one above the thrust levers  and a single  for each pilot  primary flight navigation display  with an adjacent on board information system screen  Airbus says the cockpit design allows for future advances in navigation technology to be placed on the displays plus gives flexibility and capacity to upload new software and to combine data from multiple sources and sensors for flight management and aircraft systems control  A head up display is also present in the cockpit',\n",
              "  'Avionics are a further development of the integrated modular avionics  IMA  concept found on the A380  The A350 s IMA will manage up to 40 functions  versus 23 functions for the A380  such as undercarriage  fuel  pneumatics  cabin environmental systems  and fire detection  Airbus stated that the benefits includes reduced maintenance and lower weight because as the IMA replaces multiple processors and LRUs with around 50  fewer standard computer modules known as line replaceable modules  The IMA runs on a 100 Mbit s network based on the AFDX standard  as employed in the A380  in place of the architecture used on the A330 A340',\n",
              "  'In 2005  GE was the launch engine of the original A350  aiming for 2010 deliveries  while Rolls Royce offered its Trent 1700 For the updated A350 XWB  GE offered a 87 000 lbf  390 kN  GEnx 3A87 for the A350 800 900  but not a higher thrust version needed for the A350 1000  which competes with the longer range 777 powered exclusively with the GE90 115B In December 2006  Rolls Royce was selected for the A350 XWB launch engine',\n",
              "  'The Rolls Royce Trent XWB features a 118 in  300 cm  fan disk diameter and the design is based on the advanced developments of the Airbus A380 Trent 900 and the Boeing 787 Trent 1000  It has four thrust levels to power the A350 variants  a 75 000 lbf  330 kN  and 79 000 lbf  350 kN  for the regional variants of the A350 900 while the baseline A350 900 has the standard 84 000 lbf  370 kN  and a 97 000 lbf  430 kN  for the A350 1000  The higher thrust version will have some modifications to the fan module it will be the same diameter but will run slightly faster and have a new fan blade design and run at increased temperatures allowed by new materials technologies from Rolls Royce s research',\n",
              "  'The Trent XWB may also benefit from the next generation reduced acoustic mode scattering engine duct system  RAMSES  an acoustic quieting engine nacelle intake  and a carry on design of the Airbus s  zero splice  intake liner developed for the A380  A  hot and high  rating option for Middle Eastern customers Qatar Airways  Emirates  and Etihad Airways keep its thrust available at higher temperatures and altitudes',\n",
              "  'Airbus aimed to certify the A350 with 350 minute ETOPS capability on entry into service  That could reach 420 min later  although Airbus achieved a 370 minute ETOPS rating on 15 October 2014 which covers 99 7  of the Earth s surface  Engine thrust reversers and nacelles are supplied by US based UTC Aerospace Systems',\n",
              "  'Honeywell supplies its 1 700 horsepower  1 300 kW  HGT1700 auxiliary power unit with 10  greater power density than the TPE331 from which it is developed  and the air management system  the bleed air  environmental control  cabin pressure control and supplemental cooling systems  Airbus says that the new design provides a better cabin atmosphere with 20  humidity  a typical cabin altitude at or below 6 000 ft  1 800 m  and an airflow management system that adapts cabin airflow to passenger load with draught free air circulation',\n",
              "  'The ram air turbine  capable of generating 100 kilovolt ampere  is supplied by Hamilton Sundstrand and located in the lower surface of the fuselage  In light of the Boeing 787 Dreamliner battery problems  in February 2013 Airbus decided to revert from lithium ion to the proven nickel cadmium technology although the flight test programme will continue with the lithium ion battery systems  In late 2015  A350 XWB msn  24 was delivered with 80 kg  176 lb  lighter Saft Li ion batteries and in June 2017  fifty A350s were flying with them and benefiting from a two year maintenance schedule instead of NiCd s 4 6 months',\n",
              "  'Parker Hannifin supplies the complete fuel package  inerting system  fuel measurement and management systems  mechanical equipment and fuel pumps  The fuel tank inerting system features air separation modules to generate nitrogen enriched air to reduce the flammability of fuel vapour in the tanks  Parker also provides hydraulic power generation and distribution system  reservoirs  manifolds  accumulators  thermal control  isolation  software and new engine  and electric motor driven pump designs  Parker estimates the contracts will generate more than US 2 billion in revenues over the life of the programme',\n",
              "  'The three main variants of the A350 were launched in 2006  with entry into service planned for 2013  At the 2011 Paris Air Show  Airbus postponed the entry into service of the A350 1000 by two years to mid 2017  In July 2012  the A350 s entry into service was delayed to the second half of 2014  before the  900 began service on 15 January 2015  In October 2012  the  800 was due to enter service in mid 2016  but its development has been cancelled since September 2014  The A350 is also offered as the ACJ350 corporate jet by Airbus Corporate Jets  ACJ  offering a 20 000 km  10 800 nmi  range for 25 passengers for the  900 derivative',\n",
              "  'The A350 900 is the first A350 model  it has a MTOW of 280 tonnes  typically seats 325 passengers  and has a range of 8 100 nmi  15 000 km  Airbus says that per seat  the Boeing 777 200ER should have a 16  heavier manufacturer s empty weight  a 30  higher block fuel consumption  and 25  higher cash operating costs than the A350 900  The  900 is designed to compete with the Boeing 777 and   777 200ER LR  and Boeing 787 10  while replacing the Airbus A340 300 and A340 500',\n",
              "  'A proposed A350 900R extended range variant was to feature the higher engine thrust  strengthened structure  and landing gear of the 308 tonnes MTOW  1000 to give a further 800 nmi  1 500 km  range   An A350 900F freighter with a 5 000 nmi  9 300 km  range and a similar payload and volume to the 91 7 tonne and 440 m3  16 000 cu ft  McDonnell Douglas MD 11F should be studied after the  1000 is done  depending on market demand',\n",
              "  'Philippine Airlines  PAL  will replace its A340 300 with an A350 900HGW  high gross weight  variant available from 2017  It will enable non stop Manila New York City flights without payload limitations in either direction  a 7 404 nmi  13 712 km  flight  The PAL version will have a 278 tonne MTOW  and from 2020  the  900 will be proposed with the ULR s 280 tonne MTOW  up from the 268 tonnes for the original weight variant and the certified 260  272  and 275 tonne variants  with the large fuel capacity  This will enable a 8 100 nmi  15 000 km  range with 325 seats in a three class layout',\n",
              "  'In early November 2017  Emirates committed to purchase 40 Boeing 787 10 aircraft before Airbus presented an updated A350 900 layout with the rear pressure bulkhead pushed back by 2 5 ft  1 m  After Emirates  Tim Clark was shown a ten abreast economy cabin and galley changes  he said the  900 is  more marketable  as a result',\n",
              "  'The average lease rates of the first A350 900s produced in 2014 were  1 1 million per month  not including maintenance reserves amounting to  18 million after 10 12 years  and falling to  940 000 per month in 2018 while a new A350 900 is leased for  1 2 million per month and its interior can cost  12 million  10  of the aircraft By 2018  a 2014 build was valued  108M falling to  74 5M by 2022 while a new build was valued for  148M  a 6 12year check cost  3M and an engine overhaul  4 6 5M',\n",
              "  'The MTOW of the ultra long range  900ULR has been increased to 280 t  620 000 lb  and its fuel capacity increased from 141 000 to 165 000 l  37 000 to 44 000 US gal  within existing fuel tanks  enabling up to 19 hour flights with a 9 700 nmi  18 000 km  range  The MTOW is increased by 5 tonnes from the previously certified 275 tonnes variant  Because of the A350 900 s fuel consumption of 5 8 tonnes hour  it needs an additional 24 tonnes of fuel to fly 19 hours instead of the standard 15 hours  the increased MTOW and lower payloads will enable the larger fuel capacity  Non stop flights could last more than 20 hours  The first  900ULR was rolled out without its engines in February 2018 for ground testing  Flight tests after engine installation checked the larger fuel capacity and measured the performance improvements from the extended winglets  It made its first flight on 23 April 2018',\n",
              "  'Singapore Airlines  the launch customer  used its seven  900ULR aircraft on non stop flights between Singapore and New York City and cities on the U S  west coast  Singapore Airlines  seating is to be from 170 in largely business class seating up to over 250 in mixed seating  The planes can be reconfigured  They will have two seating classes  The airline received its first  900ULR on 23 September 2018  with 67 business class seats and 94 premium economy seats',\n",
              "  'On 12 October 2018  it landed the world s longest flight at Newark Liberty International Airport from Singapore Changi after 17 hours and 52 minutes  covering 16 561 kilometres  8 942 nmi  for a 15 353 kilometres  8 290 nmi  orthodromic distance  It burned 101 4 t  224 000 lb  of fuel to cover the route in 17 h 22 min  an average of 5 8 tonnes per hour  1 6 kg s',\n",
              "  'At the 2015 Dubai Air Show  John Leahy noted the demand of the Middle Eastern Gulf airlines for this variant  In February 2018  Qatar Airways stated its preference for the larger  1000  having no need for the extra range of the  900ULR  Compared to the standard  900  the  900ULR additional value is likely around  2 million',\n",
              "  'Airbus Corporate Jet version of the A350  the ACJ350  is derived from the A350 900ULR  As a result of the increased fuel capacity from the  900ULR  the ACJ350 has a maximum range of 20 000 km  10 800 nmi  The German Air Force is to be the first to receive the ACJ350 having ordered 3 aircraft which will replace its 2 A340 300',\n",
              "  'After the Boeing 787 10 launch at the 2013 Paris Air Show  Airbus discussed with airlines a possible A350 900 Regional with a reduced MTOW of 250 t  550 000 lb  Engine thrust would have been reduced to 70 000 75 000 lbf  310 330 kN  from the standard 85 000 lbf  380 kN  and the variant would have been optimised for routes up to 6 800 nmi  12 600 km  with seating for up to 360 passengers in a single class layout  The A350 Regional was expected to be ordered by Etihad  and Singapore Airlines  Since 2013  there has been no further announcement about this variant',\n",
              "  'Singapore Airlines selected an A350 900 version for medium haul use  Japan Airlines took delivery of a 369 seat A350 900 with a 217 t  478 000 lb  MTOW for its domestic market  The A350 Type Certificate Data Sheet includes MTOWs of 217  235  240  250  255  260  268  272  275  277  278 and 280 t',\n",
              "  'The A350 1000 is the largest variant of the A350 family at just under 74 metres  243 ft  in length  It seats 350 410 passengers in a typical three class layout with a range of 8 700 nmi  16 100 km  With a 9 abreast configuration  it is designed to replace the A340 600 and compete with the Boeing 777 300ER and 777 8  Airbus estimates a 366 seat  1000 should have a 35 tonne lighter operating empty weight than a 398 seat 777 9  a 15  lower trip cost  a 7  lower seat cost  and a 400 nmi  740 km  greater range  Compared to a Boeing 777 300ER with 360 seats  Airbus claims a 25  fuel burn per seat advantage for an A350 1000 with 369 seats  The 7 m  23 ft  extension seats 40 more passengers with 40  more premium area The  1000 can match the 40 more seats of the 777 9 by going 10 abreast but with diminished comfort',\n",
              "  'The A350 1000 has an 11 frame stretch over the  900 and a slightly larger wing than the  800 900 models with trailing edge extension increasing its area by 4  This will extend the high lift devices and the ailerons  making the chord bigger by around 400 mm  optimising flap lift performance as well as cruise performance  The main landing gear is a 6 wheel bogie instead of a 4 wheel bogie  put in a one frame longer bay   The Rolls Royce Trent XWB engine s thrust is augmented to 97 000 lbf  430 kN  These and other engineering upgrades are necessary so that the  1000 model maintains range',\n",
              "  'In 2011  Airbus redesigned the A350 1000 with higher weights and a more powerful engine variant for more range for trans Pacific operations which will boost its appeal to Cathay Pacific and Singapore Airlines  which committed to 20 777 9  and United Airlines  which could turn to 777 300ERs to replace its 747 400s  Emirates was disappointed with the changes and cancelled its order for 50 A350 900s and 20 A350 1000s instead of changing the whole order to the larger variant',\n",
              "  'Assembly of the first fuselage major components started in September 2015  In February 2016  final assembly started at the A350 Final Assembly Line in Toulouse  Three flight test aircraft was planned with entry into service scheduled for mid 2017  The first aircraft completed its body join on 15 April 2016  Its maiden flight took place on 24 November 2016',\n",
              "  'The A350 1000 flight test programme planned for 1 600 flight hours  600 hours on the first aircraft  MSN59  for the flight envelope  systems and powerplant checks  500 hours on MSN71 for cold and warm campaigns  landing gear checks and high altitude tests  and 500 hours on MSN65 for route proving and ETOPS assessment  with an interior layout for cabin development and certification  In cruise at Mach 0 854  911 901 km h  492 3871 kn  and 35 000 ft  its fuel flow at 259 t  571 000 lb  is 6 8 t  15 000 lb  per hour within a 5 400 nautical miles  10 000 km  11 1 2 hours early long test flight  Flight tests allowed raising the MTOW from 308 to 316 t  679 000 to 697 000 lb  the 8 t  18 000 lb  increase giving 450 nmi  830 km  more range  Airbus then completed functional and reliability testing',\n",
              "  'Type Certification was awarded by EASA on 21 November 2017  along FAA certification  The first serial unit was on the final assembly line in early December  After its maiden flight on 7 December  delivery to launch customer Qatar Airways slipped to early 2018  The delay was due to issues with the business class seat installation  It was delivered on 20  and entered commercial service on Qatar Airways  Doha to London Heathrow route on 24 February',\n",
              "  'It features an automatic emergency descent function to around 10 000 ft  3 000 m  and notifies air traffic control if the crew fails to respond to an alert  indicating possible incapacitation from depressurisation  The avionics software adaptation is activated by a push and pull button to avoid mistakes and could be retrofitted in the smaller  900  All performance targets have been met or exceeded  and it remains within its weight specification  unlike early  900s',\n",
              "  'Its basic 308 t  679 000 lb  MTOW was increased to 311 t  686 000 lb  before offering a possible 316 t  697 000 lb  version  Its 316 t MTOW appeared in 29 May 2018 update of its type certificate data sheet  This raised its range from 7 950 to 8 400 nmi  14 720 to 15 560 km  A further MTOW increase by 3 t to 319 t is under study to be available from 2020 and could be a response to Qantas  Project Sunrise  Initial speculation suggested that the variant might be marketed as the A350 1000ULR  However  the  1000 is not expected to share the  900ULR s larger fuel tanks and other fuel system modifications  and Airbus has stopped short of describing the largest MTOW variant as a ULR model  despite the 8 700 nmi  16 100 km  range',\n",
              "  'Airbus has explored the possibility of a further stretch offering 45 more seats  A potential 4 m stretch would remain within the exit limit of four door pairs  and a modest MTOW increase from 308 t to 319 t would need only 3  more thrust  within the Rolls Royce Trent XWB 97 capabilities  and would allow a 14 100 km  7 600 nmi  range to compete with the Boeing 777 9 capabilities',\n",
              "  'This variant was to be a replacement for the Boeing 747 400  tentatively called the A350 8000    or  1100  Within the June 2016 Airbus Innovation Days  chief commercial officer John Leahy was concerned about the size of a 400 seat market besides the Boeing 747 8 and the 777 9 and chief executive Fabrice Br gier feared such an aircraft could cannibalise demand for the  1000',\n",
              "  'The potential 79 m long  258 ft  aeroplane was competing against a hypothetical 777 10X for Singapore Airlines  At the 2017 Paris Air Show  the concept was shelved for lacking market appeal and in January 2018 Fabrice Br gier focused on enhancing the A350 900 1000 to capture potential before 2022 2023  when it will be possible to stretch the A350 with a new engine generation',\n",
              "  'In January 2010 Airbus opted to develop the  800 as a shrink of the baseline  900  avoid a specific development and increasing its payload by 3 t  6 600 lb  or its range by 250 nmi  460 km  but leading to a fuel burn penalty by  a couple of  according to John Leahy  The previously planned optimisation to the structure and landing gear was not beneficial enough against better commonality and maximum takeoff weight increase by 11t from 248t  The  800 s fuselage is 10 frames shorter  six forward and four aft of wing  than the  900 aircraft  It was designed to supplement the Airbus A330 200 long range twin  Airbus planned to decrease structural weight in the  800 as development continued  which should have been around airframe 20',\n",
              "  'While its backlog reached 182 in mid 2008  it diminished since 2010 as customers switched to the larger  900  After launching the Airbus A330neo at the 2014 Farnborough Airshow  Airbus dropped the A350 800  with its CEO Fabrice Br gier saying  I believe all of our customers will either convert to the A350 900 or the A330neo  He later confirmed at a September 2014 press conference that development of the A350 800 had been  cancelled  There were 16 orders left for the  800 since Yemenia switched to the  900 and Hawaiian Airlines moved to the A330neo in December 2014  8 for Aeroflot and 8 for Asiana Airlines  both also having orders for the  900  In January 2017  Aeroflot and Airbus announced the cancellation of its  800 order  leaving Asiana Airlines as the only customer for the variant  After the negotiation between Airbus and Asiana Airlines  Asiana converted orders of eight A350 800s and one A350 1000 to nine A350 900s',\n",
              "  'By November 2018  Airbus was hiring in Toulouse and Madrid to develop a re engined A350neo  Although its launch is not guaranteed  it would be delivered in the mid 2020s  after the A321XLR and a stretched A320neo  plus  potentially competing with the Boeing New Midsize Airplane  Service entry would be determined by ultra high bypass ratio engine developments pursued by Pratt   Whitney  testing its Geared Turbofan upgrade  Safran Aircraft Engines  ground testing a demonstrator from 2021  and Rolls Royce  targeting a 2025 Ultrafan service entry  The production target is a monthly rate of 20 A350neos  up from 10'],\n",
              " ['The Airbus A321 is a member of the Airbus A320 family of short to medium range  narrow body  commercial passenger twin engine jet  and carries 185 to 236 passengers  It has a stretched fuselage which was the first derivative of the baseline A320 and entered service in 1994 about six years after the original A320  The aircraft shares a common type rating with all other Airbus A320 family variants  allowing previous A320 family pilots to fly the aircraft without the need for further training',\n",
              "  'In December 2010  Airbus announced a new generation of the A320 family  the A320neo  new engine option  The similarly lengthened fuselage A321neo variant offers new  more efficient  engines  combined with airframe improvements and the addition of winglets  called Sharklets by Airbus  The aircraft delivers fuel savings of up to 15  The A321neo carries up to 240 passengers  with a maximum range of 4 000 nmi  7 400 km  4 600 mi  for the long range version when carrying no more than 206 passengers',\n",
              "  'Final assembly of the aircraft takes place in Hamburg  Germany  or Mobile  Alabama  As of 31 December 2019  a total of 2 043 A321 aircraft have been delivered  of which 2 015 are in service  In addition  another 3 003 airliners are on firm order  comprising 38 A321ceo and 2 965 A321neo  As of December 2019  American Airlines was the largest operator of the Airbus A321  operating 231 aircraft',\n",
              "  'The maiden flight of the Airbus A321 came on 11 March 1993  when the prototype  registration F WWIA  flew with IAE V2500 engines  the second prototype  equipped with CFM56 5B turbofans  flew in May 1993  Lufthansa and Alitalia were the first to order the stretched Airbuses  with 20 and 40 aircraft requested  respectively  The first of Lufthansa s V2500 A5 powered A321s arrived on 27 January 1994  while Alitalia received its first CFM56 5B powered aircraft on 22 March 1994  The A321 100 entered service in January 1994 with Lufthansa',\n",
              "  'Final assembly for the A321 was carried out in Germany  then West Germany  a first for any Airbus  This came after a dispute between the French  who claimed that the move would incur  150 million  135 million  in unnecessary expenditure associated with the new plant  and the Germans  who claimed that it would be more productive for Airbus in the long run  The second production line was located in Hamburg  which later produced the smaller Airbus A319 and A318  For the first time  Airbus entered the bond market  through which it raised  480 million  475 million  to finance development costs  An additional  180 million  175 million  was borrowed from European Investment Bank and private investors',\n",
              "  'The A321 is the largest variant of the A320 family  The A321 200 s length exceeds 44 5m  increasing maximum takeoff weight to 93 000 kg  205 000 lb  Wingspan remained unchanged  supplementing various wingtip devices  Two suppliers provided turbofan engines for the A321  CFM International with its CFM56 and International Aero Engines with the V2500 engine  both in the thrust range of 133 147 kN  30 000 33 000 lbf',\n",
              "  'Over 30 years since launch  the A321 Maximum takeoff weight  MTOW  grew by 20  from the 83t  100 until the 101t A321XLR  seating is 10  more dense with 244 seats  up by 24  and range doubled from 2 300 nmi to 4 700 nmi By 2019  4 200 have been ordered one quarter of all Airbus single aisles including 2 400 neos  one third of all A320neo orders',\n",
              "  'The Airbus A321 is a narrow body  single aisle  aircraft with a retractable tricycle landing gear and is powered by two wing pylon mounted turbofan engines  It is a low wing cantilever monoplane with a conventional tail unit having a single vertical stabilizer and rudder  Changes from the A320 include a fuselage stretch and some modifications to the wing  The fuselage was lengthened by a 4 27 m  14 ft 0 in  plug ahead of the wing and a 2 67 m  8 ft 9 in  plug behind it  so that the A321 is 6 94 metres  22 ft 9 in  longer than the A320  The length increase required the overwing window exits of the A320 to be converted into door exits and repositioned in front of and behind the wings  To maintain performance  double slotted flaps and minor trailing edge modifications were included  increasing the wing area from 124 m2  1 330 sq ft  to 128 m2  1 380 sq ft  The centre fuselage and undercarriage were reinforced to accommodate the increase in maximum takeoff weight of 9 600 kg  21 200 lb  taking it to 83 000 kg  183 000 lb',\n",
              "  'The original derivative of the A321  the A321 100  had a shorter range compared to the A320 as extra fuel tankage was not added to the initial design to compensate for the extra weight  The MTOW of the A321 100 is 83 000 kg  183 000 lb  The A321 100 entered service with Lufthansa in 1994  Only about 90 were produced',\n",
              "  'Airbus launched the heavier and longer range A321 200 development in 1995 which has a full passenger transcontinental US range  This is achieved through higher thrust engines  V2533 A5 or CFM56 5B3  minor structural strengthening  and an increase in fuel capacity with the installation of one or two optional 2 990 L  790 US gal  tanks in the rear underfloor hold  The additional fuel tankage increases the total capacity of this model to 30 030 L  7 930 US gal  These modifications also increased the maximum takeoff weight of the A321 200 to 93 000 kg  205 000 lb  This variant first flew in December 1996  and entered service with Monarch Airlines in April 1997  Its direct competitors include the 757 200 and the 737 900 900ER',\n",
              "  'On 1 December 2010  Airbus launched the A320neo family  neo for New Engine Option  with 500 nmi  930 km  more range and 15  better fuel efficiency thanks to new CFM International LEAP 1A or Pratt   Whitney PW1000G engines and large sharklets The lengthened A321neo prototype made its first flight on 9 February 2016 It received its type certification on 15 December 2016   The first entered service in May 2017 with Virgin America',\n",
              "  'In October 2014  Airbus started marketing a longer range 97 t  214 000 lb  maximum takeoff weight variant with three auxiliary fuel tanks with 100 nmi  190 km  more operational range than a Boeing 757 200 Airbus launched the A321LR  Long Range  on 13 January 2015 with a range of 4 000 nmi  7 400 km  with 206 seats in two classes On 31 January 2018  it completed its first flight Airbus announced its certification on 2 October 2018 On 13 November 2018  Arkia received the first A321LR',\n",
              "  'In January 2018  Airbus was studying an A321LR variant with a further increased MTOW The proposed A321XLR with a range extended to 4 500 nmi  8 300 km  would be launched in 2019 to enter service in 2021 or 2022 to compete with the Boeing NMA In November  Airbus indicated that the A321XLR would have an MTOW over 100 t  220 000 lb  and 700 nmi  1 300 km  more range than the A321LR The A321XLR was launched at the June 2019 Paris Air Show  with 4 700 nmi of range from 2023  including a new permanent Rear Centre Tank  RCT  for more fuel  a strengthened landing gear for a 101 t  223 000 lb  MTOW  and an optimised wing trailing edge flap configuration to preserve take off performance'],\n",
              " ['The Airbus A310 is a wide body airliner developed and manufactured by Airbus  then a consortium of European aerospace manufacturers Airbus had demand for an aircraft smaller than the A300  the first Twinjet wide body On 7 July 1978  the A310  initially the A300B10  was launched with orders from Swissair and Lufthansa On 3 April 1982  the first prototype conducted its maiden flight and it received its type certification on 11 March 1983',\n",
              "  'Keeping the same eight abreast cross section  the A310 is 6 95 m  22 8 ft  shorter than the initial A300 variants  and has a smaller 219 m2  2 360 sq ft  wing  down from 260 m2  2 800 sq ft The A310 introduced a two crew glass cockpit  later adopted for the A300 600 with a common type rating It was powered by the same General Electric CF6 80 or Pratt   Whitney JT9D then PW4000 turbofans It can seat 220 passengers in two classes  or 240 in all economy  and can fly up to 5 150 nmi  9 540 km It has overwing exits between the two main front and rear door pairs',\n",
              "  'In April 1983  the aircraft entered revenue service with Swissair and competed with the Boeing 767 200  introduced six months before Its longer range and ETOPS regulations allowed it to be operated transatlantic flights Until the last delivery in June 1998  255 aircraft were produced  as it was succeeded by the larger Airbus A330 200 It has cargo aircraft versions  and was derived into the Airbus A310 MRTT military tanker transport',\n",
              "  'On 26 September 1967  the British  French  and West German governments signed a Memorandum of Understanding to commence the joint development of the 300 seat Airbus A300  This collaborative effort resulted in the production of the consortium s first airliner  known as the Airbus A300  The A300 was a wide body medium to long range passenger liner  it holds the distinction of being the first twin engine wide body aircraft in the world  The design was relatively revolutionary for its time and featured a number of industry firsts  making the first use of composite materials on a commercial aircraft  during 1977  the A300 became the first ETOPS compliant aircraft  which was made possible due to its high performance and safety standards  The A300 would be produced in a range of models and sold relatively well to airlines across the world  eventually reaching a total of 816 delivered aircraft during its production life',\n",
              "  'During the development of the earlier A300  a range of different aircraft size and capacity were studied by the consortium  the resulting Airbus A300B proposal was one of the smaller options  When the A300B1 prototypes emerged  a number of airlines issued requests for an aircraft with greater capacity  which resulted in the initial production A300B2 version  As the A300 entered service  it became increasingly apparent that there was also a sizable market for a smaller aircraft  some operators did not have enough traffic to justify the relatively large A300  while others wanted more frequency or lower aircraft mile costs at the expense of higher seat mile cost  specifically Swissair and Lufthansa  At the same time  there was great pressure for Airbus to validate itself beyond the design and manufacture of a single airliner  In response to these desires  Airbus explored the options for producing a smaller derivative of the A300B2',\n",
              "  'In order to minimise the associated research   development costs for the tentative project  Airbus chose to examine several early design studies performed during the A300 program  The company ultimately chose to prioritise its focus on one option  which became known as the A300B10MC  standing for Minimum Change  As envisioned  the airliner s capacity was reduced to a maximum of 220 passengers  which was viewed at the time as being a desired capacity amongst many airlines  However  such a design would have resulted in a relatively small fuselage being mated to a comparatively large wing and oversized undercarriage  such an arrangement would have  amongst other things  made the aircraft consume an unnecessarily larger amount of fuel as it carried heavier weight than what was otherwise required',\n",
              "  'Another problem for the program was presented in the form of inflation  the rate of which in the United Kingdom  one of the early members of the Airbus consortium  was around 35 per cent during 1979 80  This factor was responsible for significantly raising the program s development costs and  as a knock on effect  increase the per unit cost of the resulting airliner  During the development of the A300  British manufacturer Hawker Siddeley Aviation  HSA  had been appointed as the subcontractor to perform the manufacturing of the wing of the aircraft  shortly afterwards  the British government chose to withdraw from the newly formed venture during 1969  During 1977  HSA subsequently merged with three other British aircraft companies  resulting in the formation of British Aerospace  BAe  By this point  the British government had publicly indicated its intentions to rejoin the Airbus program  During May 1976  the French government entered into a series of discussions on cooperation  during which its representatives stated that the placing of an order by British Airways  BA  was a condition for the re admission of the United Kingdom into Airbus Industrie as a full partner',\n",
              "  'However  both BA and Rolls Royce had not relinquished their will to collaborate with the Americans in future aircraft endeavours and  in BA s case  procure American aircraft  During the late 1970s  BA sought to purchase two separate types of aircraft in development by American company Boeing  initially known as the 7N7 and 7X7  which would develop into the 757 and 767  the latter of which being an intended rival to the upcoming A310  as well as the existing Boeing 747  Independent of the British government  BAe commenced its own dialogue between itself and American aircraft manufacturers Boeing and McDonnell Douglas for the purpose of assessing if BAe could participate any of their future programs  although the company s chairman  Lord Beswick  publicly stated that the overall aim of the firm was to pursue collaboration in Europe  At the 1978 Farnborough Air Show  Eric Varley  the British Secretary of State for Industry  announced that BAe was to rejoin Airbus Industrie and participate as a full partner from 1 January 1979 onwards  Under the negotiated arrangement  BAe would be allocated a 20 per cent shareholding in Airbus Industrie and would perform  a full part in the development and manufacturing of the A310',\n",
              "  'From late 1977  prior to the Varley announcement  BAe had already commenced work on the design of the new wing at its facility in Hatfield  However  due to negotiations with Britain on its return to the Airbus consortium being protracted  alternative options were explored  including potentially manufacturing the wing elsewhere  At the same time as the British efforts  French aerospace firm A rospatiale  German aircraft manufacturer Messerschmitt B lkow Blohm  MBB  and Dutch German joint venture company VFW Fokker were also conducting their individual studies into possible options for the wing of the prospective airliner needed',\n",
              "  'At the April 1978 Hanover Air Show  Airbus exhibited a model of the proposed A310  Its wing area  at 219 25 m2  2 360 0 sq ft  was slightly larger than that studied  at 209 m2  2 250 sq ft  its passenger cabin was 12 frames shorter than the A300 Note 2 accommodating typical passenger loads of 195 in two class  or 245 in economy  However  during the next 12 months  almost every aspect was further refined  On 9 June 1978  Swissair and Lufthansa developed a joint specification for the aircraft  and within a month  announced that they would place the launch orders  On 15 March  Swissair became the first airline to place a firm order for the type  announcing that it would acquire 10 with a further 10 under option to replace its McDonnell Douglas DC 9s on its major intra European routes  Lufthansa was quick to place a  240 million 10 aircraft order  additional orders from French operator Air France and Spanish airline Iberia shortly followed',\n",
              "  'As a consequence of increasingly strong interest in the tentative airliner  coupled with the recovery of the industry during the late 1970s  contributed to Airbus deciding to launch the A300B10  which was now known as the A310  into production on 7 July 1978 needed  During the latter half of 1978  an order for 10 A300s was placed by independent British airline Laker Airways  satisfying Airbus s demand for the placing of a British order for their aircraft  On 1 April 1979  Lufthansa decided to raise its commitment for the type to 25 orders  along with 25 options  Two days later  Dutch operator KLM signed its order for 10 orders and 10 options at  238 million  On 6 July 1979  Air France announced that it had raised its order from 4 to 35 airliners needed  Other airlines announcing orders for the A310 during 1979 included Martinair  Sabena and Air Afrique',\n",
              "  'Initially  a pair of distinct versions of the A310 had been planned by Airbus  the regional A310 100 and the transcontinental A310 200  The A310 100 featured a range of 2 000 nmi  3 700 km  with 200 passengers  whilst the A310 200 possessed a higher MTOW and centre section fuel  being able to carry the same load a further 1 000 nmi  1 900 km  Basic engines offered for the type included the General Electric CF6 45B2 and Pratt   Whitney JT9D 7R4  At one point  British engine manufacturer Rolls Royce was openly considering offering an engine for the A310  the Rolls Royce RB 207  however  it ultimately chose to discard such efforts in favour of a smaller three spool design  the RB 211',\n",
              "  'The range of the A310 exceeds that of the A300 series with the exception of the A300 600R  which in turn surpasses that of the A310 200  The greater range of the A310 contributed to the airliner being used extensively by operators on transatlantic routes  The A300 and A310 introduced the concept of commonality  A300 600 and A310 pilots can cross qualify for the other aircraft with one day of training needed',\n",
              "  'Sales of the A310 continued through the early 1980s  On 3 April 1982  the prototype A310 200 airliner conducted its maiden flight  by this point  the type had accumulated a combined orders and options for 181 aircraft  which had been placed by 15 airlines worldwide  which had been a relatively superior start than that of the original A300  Over time  it had become clear that the longer range series  200 aircraft was the more popular of the two models on offer  During 1979  in response to the lack of demand for the A310 100  Airbus decided stop offering the lower gross weight model which had been originally proposed for Lufthansa  as a consequence  none of this variant were ultimately manufactured',\n",
              "  'During the early 1990s  demand for the aircraft began to slacken  there were no new A310 passenger orders placed during the late 1990s  in part due to the introduction of the newer and more advanced Airbus A330 during this time  As a result  during June 1998  the last delivery of the A310 was completed  The A310  along with its A300 stablemate  officially ceased production during July 2007  though an order from Iraqi Airways for five A310s had remained on the books until July 2008  The remaining freighter sales were to be instead fulfilled by the new A330 200F derivative',\n",
              "  'The A310 has been commonly marketed as an introduction to wide body operations for airlines based in developing countries  The airliner was replaced in Airbus  lineup by the highly successful A330 200  which shares its fuselage cross section  Between 1983 and the last aircraft produced in 1998  255 A310s were delivered  The A300 and A310 established Airbus as a competitor to Boeing and allowed it to go ahead with the more ambitious A320 and A330 A340 families needed',\n",
              "  'The Royal Canadian Air Force currently operates a fleet of 5 Airbus CC 150 Polaris  civilian Airbus A310 300s  originally owned by Wardair  and subsequently Canadian Airlines International  after the airlines merged  The aircraft were then sold to the Canadian Government and have been converted for use as the primary long distance transport aircraft as part of the Royal Canadian Air Force s fleet of Royal Canadian Air Force VIP aircraft',\n",
              "  'The Airbus A310 was a medium  to long range twin engined wide body airliner  Initially a derivative of the A300  the aircraft had originally been designated the A300B10  It was essentially a shortened variant of the earlier aircraft  however  there were considerable differences between the two aircraft  Specifically  the fuselage possessed the same cross section but being shorter than the A300  it provided capacity for a typical maximum of 200 passengers  The rear fuselage was heavily re designed  featuring altered tapering  while involved a move aft of the rear bulkhead to create additional capacity  this same design change was later transferred back to later variants of the A300  such as the A300 600 and A330 A340 fuselages  The A310 also had a different emergency exit configuration  consisting of four main doors  two at the front and two at the rear of the aircraft  and two smaller doors over the wings needed',\n",
              "  'The wing of the A310 was redesigned  possessing a reduced span and wing area and incorporating simpler single slotted Fowler flaps designed by British Aerospace shortly following its decision to join the Airbus consortium  Other changes to the wing included the elimination of the outer ailerons  which were occasionally referred to by the manufacturer as being  low speed ailerons  and the addition of electrically actuated spoilers  The wing also featured common pylons  which were able to support all types of engines that were offered to customers to power the airliner  From 1985 onwards  later built production A310s were equipped with wingtip fences for the purpose of reducing lift induced drag  A limited number of alternations were also performed to the airliner s tail unit  such as the adoption of smaller horizontal tail surfaces',\n",
              "  'The A310 was furnished with a two crew glass cockpit configuration as standard  removing the requirement for a flight engineer  Airbus referred to this concept as the Forward Facing Crew Cockpit  The company had developed the cockpit to significantly enhance the aircraft s man machine interface  thereby improving operational safety  It was outfitted with an array of six computer based CRT displays to provide the flight crew with centralised navigational  warning  monitoring  and general flight information in place of the more traditional analogue instrumentation and dials  which were used in conjunction with a range of modern electronic systems  The same flight deck had been incorporated into the A300 600  a move which increased commonality between the two types and enabled a dual type rating to be achieved  this same approach was later used on many future Airbus aircraft  In addition to the two flying crew  provisions for third and fourth crew seats were present upon the flight deck',\n",
              "  'The A310 was initially launched with a choice of three engines   the General Electric CF6 80A  originally the CF6 45B2  the Pratt   Whitney JT9D 7R4D1 and the Rolls Royce RB211 524B4 needed  The specific Rolls Royce RB211 524B4 engine intended for this initial application was not developed  General Electric powered A310 200s were originally offered with the CF6 80A3  A310 203  but with the introduction of the A310 300  the CF6 80C2 became available for both variants needed  The initial offering was for the 53 000 pounds force  240 kN  CF6 80C2A2  A310 204 A310 304  engine and later on the higher thrust 59 000 pounds force  260 kN  80C2A8  A310 308  Similarly Pratt   Whitney powered A310s were first offered with versions of the JT9D engines  both  22s and  300s  but when the PW4000 powered A310 became available in 1987  the aircraft was offered with the 52 000 pounds force  230 kN  PW4152  A310 324  From April 1992 the higher thrust PW4156A 56 000 pounds force  250 kN  was offered for the A310  A310 325  with the PW4158A 58 000 pounds force  260 kN   326 becoming available from 1996 needed',\n",
              "  'The A310 was equipped with a modified undercarriage  derived from the A300  the landing gear were outfitted with carbon brakes  which were fitted as standard  The structure of the airliner featured a high level of composite materials throughout both primary and secondary structures  increased beyond that of the earlier A300  The A310 is outfitted with integrated drive electrical generators along with auxiliary power unit  which were improved versions of those used on the A300',\n",
              "  'The A310 is available in two basic versions  the medium range  200 and the longer range  300  The first version of the aircraft to be developed was the  200 but this was later joined by the  300 which then became the standard production version of the aircraft  The short range  100 variant was never developed due to low demand'],\n",
              " ['Airbus Helicopters SAS  formerly Eurocopter Group  is the helicopter manufacturing division of Airbus  It is the largest in the industry in terms of revenues and turbine helicopter deliveries  Its head office is located at Marseille Provence Airport in Marignane  France  near Marseille  The main facilities of Airbus Helicopters are at its headquarters in Marignane  France and in Donauw rth  Germany  with additional production plants in Brazil  Helibras  Australia  Spain  Romania and the United States  The company was renamed from Eurocopter to Airbus Helicopters on 2 January 2014 In 2018  Airbus delivered 356 helicopters  a 54  share of the civil or parapublic market over five seats party source needed',\n",
              "  'Airbus Helicopters and its predecessor companies have established a wide range of helicopter firsts  including the first production turboshaft powered helicopter  the A rospatiale Alouette II of 1955  the introduction of the Fenestron shrouded tail rotor  on the Gazelle of 1968  the first helicopter certified for full flight in icing conditions  the AS332 Super Puma  in 1984  the first production helicopter with a Fly by wire control system  the NHIndustries NH90  first flown in full FBW mode in 2003  the first helicopter to use a Fly by light primary control system  an EC135 testbed  first flown in 2003  and the first ever landing of a helicopter on Mt  Everest  achieved by an AS350 B3 in 2005',\n",
              "  'As a consequence of the merger of Airbus Helicopters  former parents in 2000  the firm is now a wholly owned subsidiary of Airbus   The creation of what was then called EADS in 2000 also incorporated CASA of Spain  which itself had a history of helicopter related activities dating back to Talleres Loring  including local assembly of the Bo105',\n",
              "  'Some of the helicopters were renamed in 2015  resembling Airbus airplane naming When the division changed its name from Eurocopter Group to Airbus Helicopters in 2014 the trade names of the products were changed  applied by 1 January 2016  to reflect this  Suffixes  as well as the differentiation for single or twin engines  were no longer to be used  Military versions were to be symbolized by the letter M  The only exceptions to this new branding were the AS365  the AS565  the Tiger and the NH90  which will keep their current names'],\n",
              " ['The Airbus A300 600ST  Super Transporter  or Beluga  is a version of the standard A300 600 wide body airliner modified to carry aircraft parts and oversized cargo  It received the official name of Super Transporter early on  however  the name Beluga  a whale it resembles  gained popularity and has since been officially adopted  The Beluga XL  based on the Airbus A330 with similar modifications and dimensions  was developed by Airbus to replace the type in January 2020',\n",
              "  'Several major aircraft manufacturers are multinational  and it is not unusual for them to have plants in widely separated locations  Airbus is unique in that although it is today a standalone multinational corporation  it was originally a consortium formed by the major British  French  German  and Spanish aerospace companies  The geographic location of Airbus manufacturing is not only influenced by cost and convenience  it is also a matter of aviation history and national interest  Historically  each of the Airbus partners makes an entire aircraft section  which would then be transported to a central location for final assembly  even after the integration of Airbus into a single firm  the arrangement remained largely the same  with Airbus partners becoming subsidiaries or contractors of the multinational pan European company  The details vary from one model to another  but the general arrangement is for the wings and landing gear to be made in the UK  the tail and doors in Spain  the fuselage in Germany  and the nose and centre section in France  with final assembly in either Toulouse  France  Hamburg  Germany  or Seville  Spain',\n",
              "  'When Airbus started in 1970  road vehicles were initially used for the movement of components and sections  however  growth in production volume soon necessitated a switch to air transport  From 1972 onwards  a fleet of four highly modified  Super Guppies  took over  These were former Boeing Stratocruisers from the 1940s that had been converted with custom fuselages and the adoption of turbine engines to carry large volume loads for NASA s space program in the 1960s  Airbus  use of the Super Guppies led to the jest that  every Airbus is delivered on the wings of a Boeing  As time went on  the Super Guppies grew increasingly unsatisfactory for Airbus s ferrying needs  their age meant that operating expenses were high and ever increasing  and growing Airbus production required greater capacity than could be provided by the existing fleet',\n",
              "  'Various options were studied to serve as a replacement transport medium for the Super Guppies  including methods of surface transportation by road  rail  and sea  these alternatives were discarded in favor of a principally air based solution as they were considered to have reliability concerns and were time consuming in operation  in addition  the assembly line in Toulouse was not conveniently accessible by any of the surface methods  A key requirement of the new air transporter was the need to accommodate every major component being manufactured by Airbus  including the then heaviest planned part  that being the wing of the larger variants of the Airbus A340  A speedy development program was also necessitated in order to begin introducing the prospective type in time to take over duties from the Super Guppy fleet  which was scheduled to draw down in the mid 1990s',\n",
              "  'Several different types of aircraft were examined for potential use  including the Antonov An 124  Antonov An 225  Ilyushin Il 86  Boeing 747  Boeing 767  Lockheed C 5 Galaxy  and McDonnell Douglas C 17 Globemaster III  the use of any existing aircraft was eventually discounted due to a lack of internal space to accommodate the desired components  the use of a piggyback arrangement was also dismissed as impractical  Boeing made their own offer to convert several Boeing 767s for the requirement  but this was viewed as inferior to developing a purpose built aircraft using Airbus  existing wide body twin engined Airbus A300 600R instead',\n",
              "  'In August 1991  A rospatiale and DASA  two of the major Airbus partners  formed a 50 50 joint venture company  Super Airbus Transport International  SATIC  based in Toulouse  France  to develop a new build replacement for the Super Guppy fleet  The selected starting point for the design was the Airbus A300  leading to the new airframe being designated as the A300 600ST Super Transporter  Following a pre design period by SATIC  detailed design work was performed by A rospatiale and DASA while subcontractors were selected to complete the 15 separate work packages  amongst these subcontractors  CASA was selected to produce the upper fuselage  Dornier provided the hydraulic systems  and Sogerma performed the final assembly work  The A300 600ST was not a like for like replacement  being larger  faster  and more efficient than the preceding Super Guppies  Airbus Industries elected to invest  1 billion into the program  this sum included the aircraft themselves  the cargo loading system  and program management',\n",
              "  'In September 1992  construction work began on the first aircraft  the maiden flight of which took place in September 1994  Following a total of 335 flight hours being performed during the test program  restricted certification of the type was awarded by the European Aviation Safety Agency  EASA  in October 1995  enabling the A300 600ST  Beluga  to enter service shortly thereafter  In addition to the first aircraft  four more Belugas were constructed at a rate of roughly one per year  from start to finish  each airframe reportedly took roughly three years to complete  Modification work was performed at Toulouse using components provided by the Airbus assembly line  Originally a total of four aircraft were to be built along with an option for a fifth aircraft being available  which was later firmed up',\n",
              "  'The fleet s primary task is to carry Airbus components ready for final assembly across Europe between Toulouse  Hamburg and nine other sites  and they do so 60 times per week  The Beluga fleet is owned by Airbus Transport International  ATI  a wholly owned subsidiary of Airbus Group that was established specifically to operate the type  through this organisation  the fleet is made available for hire by third parties for charter flight  In May 1998  ATI reportedly had an annual revenue target of  15 million to be achieved via leasing spare capacity  Over time  the Beluga has been used to carry a variety of special loads  including space station components  large and delicate artwork  industrial machinery  and intact helicopters  The A300 600ST s freight compartment is 7 4 m  24 ft  in diameter and 37 7 m  124 ft  long  maximum payload is 47 tonnes',\n",
              "  'In late 1997  in response to the positive performance of the A300 600ST Super Transporter program  SATIC announced that they were in the process of evaluating several different prospective outsize freighter conversions  company chairman Udo Dr ger indicated that a larger freighter based on the Airbus A340 could be developed in a similar manner to that of the A300 based Beluga  At the time  derivatives of both the Airbus A330 and the A340 were being studied  including combining the upward swinging hinged door of the Beluga with a conventional upper deck as an alternative to a side mounted cargo door in traditional freighter missions  During the 1990s  as a result of reported inquiries to Airbus regarding the type  a niche market for selling Beluga type aircraft to military customers and freight operators was also examined  but sales were considered  unlikely  to take place by the late 1990s',\n",
              "  'In November 2014  Airbus announced that it was proceeding with the development of a larger replacement based on the Airbus A330 200  five of which will start operating from 2019  replacing the last old Beluga in 2025  Airbus previously considered the A330 300 and A340 500  but each require too much of the limited 1 663 m  5 456 ft  runway 04 at Hawarden Airport near Broughton in Wales  In May 2015  Airbus confirmed that the new aircraft will have a 1 m  3 ft 3 in  wider cross section than its predecessor and provide a 12  increase in payload  The Beluga XL is intended primarily for A350 work  and is designed with capacity to ship two A350 wings simultaneously  Five aircraft will be progressively assembled  the first two are considered essential to ramping up production of the A350  the remaining three are to be introduced as the A300 600 Beluga fleet retires',\n",
              "  'The A300 600ST Beluga shares many design similarities  although substantially differing in appearance  to the Airbus A300 it was based upon  The wings  engines  landing gear  and the lower part of the fuselage remain identical to those used on the conventional A300  while the upper part of the fuselage forms an enormous horseshoe shaped structure 7 7 m  25 ft  in diameter  In comparison with the Super Guppy  the payload was more than doubled and the volume increased by more than 30 per cent  The General Electric CF6 80C2 turbofan engines used are slightly uprated from those used on the standard A300 as well  The vertical stabilizer uses a modified Airbus A340 fin with a 1 12 m  3 ft 8 in  base extension while the tailplane was strengthened and fitted with auxiliary fins to maintain directional stability  The tailplane trim tank was also deleted',\n",
              "  'To provide access to the cargo area from the front without having to disconnect all electrical  hydraulic and flight control connections  and also avoiding the lengthy recalibrations before each flight that reconnection entailed  the standard A300 cockpit was relocated down below the cargo floor level  By relocating the cockpit in this manner  loading times were reportedly halved from those encountered using the Super Guppy  which had needed to disconnect and reconnect such systems  Another reason for faster loading times was the adoption of a roll on roll off loading system  as well as the ability to unload the aircraft in winds of up to 40 knots  The qualities and improved capabilities of the Beluga resulted in the costs associated with transporting Airbus components dropping to only one third of those achieved by the Super Guppy',\n",
              "  'The cockpit of the Beluga is pressurized but the cargo deck is not  making it inaccessible during flight and unsuitable for cargoes that require a pressurized environment  such as live animals  However  the cargo deck is fitted with a heating module to keep the cargo within an appropriate temperature range  On at least one occasion  a pressurized container has been used for cargo  see Operational history  The aircraft is operated by a crew of three   two pilots and a loadmaster',\n",
              "  'The main deck cargo volume of the Beluga is greater than that of the C 5 Galaxy or the Antonov An 124 but still smaller than Antonov An 225  However  it is restricted by cargo weight capacity of 47 tonnes  compared to 122 5 tonnes for the C 5 Galaxy and 150 tonnes for the An 124  Despite this width  the Beluga cannot carry most fuselage parts of the Airbus A380  which are instead normally transported by ship and road  The Beluga has been used to transport some A380 components',\n",
              "  'In January 1996  the Beluga was formally placed into dedicated service  ferrying components from various aerospace sites to the final assembly lines in Toulouse  France and Hamburg  Germany  On 24 October 1997  the last of Airbus Industrie s Super Guppy freighters was retired and its outsize cargo mission from that point onwards being exclusively performed by the new A300 600ST fleet  In 1997  the second year of Beluga operations  the fleet accumulated in excess of 2 500 flight hours across more than 1 400 flights  By 2012  the fleet was performing roughly 5 000 flight hours per year  Airbus expected this figure to double by 2017',\n",
              "  'Since entering service  the Beluga has been subject to several infrastructure upgrades  In 2011  Pau Pyr n es Airport  a site routinely visited by Belugas  became the first airport in Europe to deploy the European Geostationary Navigation Overlay Service  which accurately guides the Beluga and other aircraft during landing  In 2015  a dedicated Beluga loading station was opened at Hawarden Airport  preventing high winds from disrupting future operations',\n",
              "  'In addition to its primary supply duties to Airbus  production facilities  Belugas have often performed charter flights for various purposes  In 1997  ATI claimed that it had to reject eight out of ten requests for commercial Beluga flights  the fleet being able to spare only 130 flight hours for such duties that year  But as more Beluga aircraft were put into service  availability increased drastically  rising to 600 flight hours in 1998 and around 1 000 flight hours in 1999  this effectively enabled one of the five Beluga aircraft to spend much of its operating hours performing charter flights  Amongst the early customers chartering Beluga flights was Boeing',\n",
              "  'In June 1997  a world record was set for the most voluminous payload to be carried by an aircraft when a Beluga was used to transport a chemical tank for a merchant vessel from Clermont Ferrand to Le Havre  France  In February 2003  a single Beluga performed the farthest distance charter flight ever  having flown for 25 hours  not including refueling stops  to transport two complete NHI NH90 helicopters along with a single Eurocopter Tiger attack helicopter from Marseille  France to Melbourne  Australia  for the Avalon Airshow',\n",
              "  'In 1999  a Beluga carried a large painting  Liberty Leading the People by Eug ne Delacroix  which had hung in the Louvre in Paris since 1874  It was flown from Paris to Tokyo via Bahrain and Kolkata in about 20 hours  The large canvas  measuring 2 99 metres  9 81 ft  high by 3 62 metres  11 88 ft  long  was too large to fit into a Boeing 747  It was transported in the vertical position inside a special pressurized container provided with isothermal protection and an anti vibration device',\n",
              "  'In 2004  a Beluga was used to deliver relief supplies to the Indian Ocean region following widespread devastation of coastal areas by a major tsunami  In 2005  the Beluga was employed to transport humanitarian aid and medical supplies from the United Kingdom and France to the Gulf Coast of the United States  in support of disaster relief operations in the aftermath of Hurricane Katrina',\n",
              "  'The Beluga has seen recurrent use to transport bulky objects  including vehicles  for various different space programs  In 2001  sections of the unmanned Automated Transfer Vehicle  ATV  space vehicle were transported by a Beluga from Turin  Italy to Amsterdam  Netherlands  In 2004  multiple Beluga flights were made to Baikonur Cosmodrome  Kazakhstan  to deliver Astrium built satellites  In 2009  a Beluga was used to convey the Tranquility module of the International Space Station from Turin to Kennedy Space Center  United States',\n",
              "  'A two bay loading dock was opened in Toulouse in 2019  receiving 85 100 flights a week  as the five A300 600STs are operated 7 600 hours a year together It encloses the forward section including the open large cargo door for less weather restrictions and faster 1h 20min turnaround down from 2h 30min'],\n",
              " ['The Airbus A318 is the smallest airliner in the Airbus A320 family  The A318 carries 107 to 132 passengers and has a maximum range of 5 700 km  3 100 nmi  Final assembly of the aircraft took place in Hamburg  Germany It is intended primarily for short range service  although British Airways uses the aircraft on a London City Airport to New York JFK Airport transatlantic route  albeit with a stopover in Shannon for refueling on the westbound leg  as it is too heavy to clear the short runway at LCY with a full load of fuel',\n",
              "  'The aircraft shares a common type rating with all other Airbus A320 family variants  allowing existing A320 family pilots to fly the aircraft without the need for further training  It is the largest commercial aircraft certified by the European Aviation Safety Agency for steep approach operations  allowing flights at airports such as London City',\n",
              "  'The A318 entered service in July 2003 with Frontier Airlines  Relative to other Airbus A320 family variants  it has sold in only small numbers with total orders for 80 aircraft placed  with the order book currently being empty  It also has an excellent safety record with zero accidents as of 2018  As of January 2019  Air France was the largest operator of the Airbus A318',\n",
              "  'The first member of the A320 aircraft family was the A320  which first flew on 22 February 1987 after the program was launched in March 1984  The family was soon extended to include the stretched A321  first delivery 1994  the shortened A319  first delivery 1996  and the further shortened A318  first delivery 2003  The A320 family pioneered the use in commercial aircraft of digital fly by wire flight control systems  as well as side stick controls',\n",
              "  'The Airbus A318 project had its origins in the collaboration among Chinese  Singaporean and European manufacturers  In May 1997  during the visit of French President Jacques Chirac to China  Aviation Industries of China  AVIC  Singapore Technologies Aerospace  STAe  Airbus and Alenia signed a framework agreement that outlined the development of aircraft in the 100 seat range  The AE31X programme  as it was tentatively dubbed  besides being a global industrial programme would have significantly deepened Sino European commercial ties 24 With development costs estimated to be upwards of  2 billion  AVIC would have a 46 percent stake in the project  STAe 15 percent  and Airbus Industrie Asia 39 percent  the latter of which comprised Airbus and Alenia 24 Final assembly would have taken place in China',\n",
              "  'The project never went past the exploratory phase 56 It comprised two clean sheet designs   the AE316 and the AE317  The AE316 would have had a length of 31 3 metres  102 ft 8 in  and the AE317  34 5 metres  113 ft 2 in   39 The standard versions of both variants had a maximum take off weight of 49 9 t  110 000 lb  for the smaller version and 54 2 t  119 000 lb  for the AE317  and would have been powered by either BMW Rolls Royce  CFM International  or Pratt   Whitney turbofan engines 39 Range was settled at 3 700 kilometres  2 000 nmi  for both standard variants  although there was a higher gross weight version which had greater range and engine power 39 The AE316 and AE317 would have seated a maximum of 105 and 125 passengers in five abreast seating  respectively  Both would share a flight deck and fly by wire flight control system similar to that of the A320 family',\n",
              "  'Market research conducted during 1997 revealed that airlines wanted a smaller aircraft in the 70 80 seat range  As the project proceeded  there were increasing disagreements between the Chinese side and Airbus  China wanted a larger aircraft than originally envisioned  In addition  there were difficulties arising out of negotiations about technology transfer and production workshare  and a weak business case 56 STAe  having previously expressed doubts about returns on the project  in 1998 withdrew from the project out of the failure between AIA and AVIC to reach an agreement  Airbus and AVIC would cancel the project in July that year  The A318 is believed to have emerged from the AE31X  though an Airbus only project  named the A319M5 in March 1998  began before the AE31X cancellation',\n",
              "  'The internal corporate designation  A319M5  was used as early as March 1998  as an A319 derivative with fuselage shortening of 0 79 metres  2 ft 7 in  ahead of the wing and 1 6 metres  5 ft 3 in  behind  The final proposal was for an aircraft seating 107 passengers in a two class layout with a range of 3 350 kilometres  1 810 nmi  The aircraft s production took advantage of laser welding  eliminating the necessity for heavy rivets and bolts',\n",
              "  'During the design process  the A318 encountered several problems  The first one was the decline in demand for new aircraft following the September 11 attacks  Another was the new Pratt   Whitney turbofan engines  which burned more fuel than expected  By the time CFM International  CFM  had a more efficient engine ready for market  many A318 customers had already backed out  including Air China and British Airways  America West Airlines  which had selected the Pratt   Whitney engines  amended its A318 orders  opting instead for A319 or A320 aircraft  Trans World Airlines cancelled a significant order for fifty A318s after being acquired by American Airlines  which did not operate any A320 family aircraft at the time  although neither did TWA when the order was originally placed  While Airbus was hoping to market the A318 as a regional jet alternative  laws in both the U S  and Europe have kept it in the same class as larger aircraft for calculating charges such as landing fees  limiting the type s market potential',\n",
              "  'The aircraft is powered by two CFM56 5 or Pratt   Whitney PW6000 engines with maximum thrust ratings of between 96 and 106 kilonewtons  21 600 and 23 800 lbf  Launch customers Frontier Airlines and Air France took deliveries in 2003  with Frontier receiving its aircraft in July of that year  The list price of an A318 ranges from  56 to  62 million  and operating costs are between  2 500 and  3 000 for each flight hour',\n",
              "  'Orders for the A318 have been relatively slow  but slightly better than for its direct competitor the Boeing 737 600  At 30 September 2017  Airbus had received 80 orders for this  compared to 69 for the 737 600  The sales pace has been influenced by the strong sales of the Bombardier CRJ900 and Embraer E Jets series  The biggest A318 customers at 30 September 2017 were Governments  Executive and Private Jets  20  Air France  18  Avianca Holdings  15  GECAS  12  and Frontier Airlines  9',\n",
              "  'On 10 November 2005 Airbus announced the A318 Elite  The Airbus A318 Elite is aimed at the medium range market for flights of up to 4 000 nautical mile  7 400 km  range  with a choice of two cabin layouts seating up to 18 passengers  and powered by CFM engines  Comlux Aviation became the launch customer by ordering three A318 Elite aircraft',\n",
              "  'In September 2010  Airbus confirmed that from 2013 the Airbus A318 would become available with Sharklets  wingtip devices which reduce lift induced drag and improve efficiency through reduced fuel consumption  The optional devices  which will also be available on other Airbus A320 family models and are manufactured by Korean Air Aerospace Division  will increase the range of the aircraft to 5 930 kilometres  3 200 nmi    an increase of 185 kilometres  100 nmi  over a standard A318 with 107 seats in a two class configuration',\n",
              "  'The Airbus A318 is a small commercial  narrow body  single aisle  aircraft with a retractable tricycle landing gear and is powered by two wing pylon mounted turbofan engines  Two suppliers provide turbofan engines for the A318  CFM International with the CFM56 5B engine and Pratt   Whitney with the PW6000 engine  It is a low wing cantilever monoplane with a conventional tail unit having a single vertical stabilizer and rudder',\n",
              "  'Overall  the A318 is over six metres shorter and around 3 t  6 600 lb  lighter than the A320  To compensate for the reduced moment arm  it has a larger vertical stabiliser  While initial concepts depicted the aircraft with a Boeing 737 300 style dorsal fin extension  the final design incorporated a fin tip extension  making it 75 centimetres  30 in  taller than the other A320 variants  Pilots who are trained on the other variants may fly the A318 with no further certification  since it features a common flight deck and the same type rating as its sister aircraft  The A318 is also referred to as the A318',\n",
              "  'The A318 is available with a variety of different maximum take off weights  MTOW  ranging from a 59 tonnes  58 long tons  65 short tons  2 750 kilometres  1 480 nmi  base model to a 68 tonnes  67 long tons  75 short tons  6 000 kilometres  3 200 nmi  version  When equipped with CFM56 5B8 P engines  the A318 is available with a 123 000 lb  MTOW or a 150 000 lb  MTOW  When equipped with CFM56 5B9 P engines  the A318 is available with a 130 000 lb  MTOW or a 150 000 lb  MTOW  The lower MTOW enables it to operate regional routes economically while sacrificing range and the higher MTOW allows it to complement other members of the A320 family on marginal routes  The lighter weight of the A318 gives it an operating range 10  greater than the A320  allowing it to serve some routes that the A320 would be unable to  London   New York  Perth Auckland and Singapore Tokyo  for instance  Its main use for airlines  however  is on short  low density hops between medium sized cities',\n",
              "  'In March 2006  the European Aviation Safety Agency  EASA  certified a modified control software enhancement to the Airbus A318 designed to allow the aircraft to perform steep approaches  The aircraft is the largest commercial aircraft certified by EASA for steep approach operations  The software modifies the control laws of the aircraft when the steep approach function is selected by the crew  by automatically deploying some of the spoiler panels to provide additional drag when the aircraft is in the landing configuration  It also provides alternative aural alerts to the crew and modifies spoiler deployment automatically below 120 feet  37 m  on landing  The A318 steep approach procedure allows the aircraft to perform approaches at descent angles of up to 5 5  as opposed to the standard 3  for a normal approach',\n",
              "  'A test flight was conducted in May 2006 to prove the aircraft s steep approach and short runway performance by landing at London City Airport  where such steep approaches are required  The test flight also confirmed the aircraft s compatibility with the limited manoeuvring and parking space at that airport  Subsequently  in August  Airbus delivered the first A318 with steep approach capability to British Airways  which began operating the route the following month  eventually having two such aircraft capable of flights between London City Airport and John F  Kennedy International Airport in New York  On the westbound leg from London  a stopover is necessary for refueling  which occurs at Shannon Airport  Ireland because weight restrictions are necessary in order to take off within the existing short runway length of London City Airport  On the eastbound leg from New York this limitation is not present and the aircraft can take all the fuel needed for the transatlantic route to London  As of November 2017  only one aircraft is serving the route  operated in a 32 seat all business class configuration',\n",
              "  'Although final assembly of A320 family aircraft takes place in Toulouse  France  Hamburg  Germany  Tianjin  China  and Mobile  Alabama  USA  final assembly of the Airbus A318 was in Hamburg  Germany  The maiden flight of the Airbus A318 took place from Finkenwerder airfield in Hamburg on 15 January 2002  The first customer delivery was on 22 July 2003 to Frontier Airlines As of 30 September 2017  67 A318s remained in service with five airlines  in addition to governments  executive and private jets and undisclosed operators  Most A318 aircraft retired from airline service have been scrapped due to the engine and components being more valuable than whole aircraft  Frontier Airlines  the launch customer that acquired A318 aircraft between 2003 and 2007  had retired their last A318 by 2013']]"
            ]
          },
          "metadata": {
            "tags": []
          },
          "execution_count": 17
        }
      ]
    },
    {
      "cell_type": "code",
      "metadata": {
        "id": "9WycNLvyJHTt",
        "colab_type": "code",
        "colab": {
          "base_uri": "https://localhost:8080/",
          "height": 54
        },
        "outputId": "9437ae45-e803-4032-8548-24a9feafc496"
      },
      "source": [
        "download_model(model=\"bert-squad_1.1\",dir=\"./model\")"
      ],
      "execution_count": 18,
      "outputs": [
        {
          "output_type": "stream",
          "text": [
            "\n",
            "Downloading trained model...\n"
          ],
          "name": "stdout"
        }
      ]
    },
    {
      "cell_type": "code",
      "metadata": {
        "id": "7pU_KCgJJZO2",
        "colab_type": "code",
        "colab": {
          "base_uri": "https://localhost:8080/",
          "height": 206
        },
        "outputId": "e9915a9d-bffb-45ed-fc87-5fe3c5a899d7"
      },
      "source": [
        "oo.head()"
      ],
      "execution_count": 19,
      "outputs": [
        {
          "output_type": "execute_result",
          "data": {
            "text/html": [
              "<div>\n",
              "<style scoped>\n",
              "    .dataframe tbody tr th:only-of-type {\n",
              "        vertical-align: middle;\n",
              "    }\n",
              "\n",
              "    .dataframe tbody tr th {\n",
              "        vertical-align: top;\n",
              "    }\n",
              "\n",
              "    .dataframe thead th {\n",
              "        text-align: right;\n",
              "    }\n",
              "</style>\n",
              "<table border=\"1\" class=\"dataframe\">\n",
              "  <thead>\n",
              "    <tr style=\"text-align: right;\">\n",
              "      <th></th>\n",
              "      <th>Unnamed: 0</th>\n",
              "      <th>title</th>\n",
              "      <th>num_paras</th>\n",
              "      <th>string_para</th>\n",
              "      <th>paragraphs</th>\n",
              "    </tr>\n",
              "  </thead>\n",
              "  <tbody>\n",
              "    <tr>\n",
              "      <th>0</th>\n",
              "      <td>0</td>\n",
              "      <td>Aircraft</td>\n",
              "      <td>71</td>\n",
              "      <td>['', 'An aircraft is a vehicle that is able to...</td>\n",
              "      <td>[An aircraft is a vehicle that is able to fly ...</td>\n",
              "    </tr>\n",
              "    <tr>\n",
              "      <th>1</th>\n",
              "      <td>1</td>\n",
              "      <td>Powered aircraft</td>\n",
              "      <td>29</td>\n",
              "      <td>['A powered aircraft is an aircraft that uses ...</td>\n",
              "      <td>[A propeller or airscrew comprises a set of sm...</td>\n",
              "    </tr>\n",
              "    <tr>\n",
              "      <th>2</th>\n",
              "      <td>2</td>\n",
              "      <td>Helicopter</td>\n",
              "      <td>85</td>\n",
              "      <td>['', '', '', 'A helicopter  sometimes referred...</td>\n",
              "      <td>[A helicopter  sometimes referred to in slang ...</td>\n",
              "    </tr>\n",
              "    <tr>\n",
              "      <th>3</th>\n",
              "      <td>3</td>\n",
              "      <td>Airbus A380</td>\n",
              "      <td>133</td>\n",
              "      <td>['', 'The Airbus A380 is the world s largest p...</td>\n",
              "      <td>[The Airbus A380 is the world s largest passen...</td>\n",
              "    </tr>\n",
              "    <tr>\n",
              "      <th>4</th>\n",
              "      <td>4</td>\n",
              "      <td>Airbus A330</td>\n",
              "      <td>92</td>\n",
              "      <td>['', 'The Airbus A330 is a wide body airliner ...</td>\n",
              "      <td>[The Airbus A330 is a wide body airliner made ...</td>\n",
              "    </tr>\n",
              "  </tbody>\n",
              "</table>\n",
              "</div>"
            ],
            "text/plain": [
              "   Unnamed: 0  ...                                         paragraphs\n",
              "0           0  ...  [An aircraft is a vehicle that is able to fly ...\n",
              "1           1  ...  [A propeller or airscrew comprises a set of sm...\n",
              "2           2  ...  [A helicopter  sometimes referred to in slang ...\n",
              "3           3  ...  [The Airbus A380 is the world s largest passen...\n",
              "4           4  ...  [The Airbus A330 is a wide body airliner made ...\n",
              "\n",
              "[5 rows x 5 columns]"
            ]
          },
          "metadata": {
            "tags": []
          },
          "execution_count": 19
        }
      ]
    },
    {
      "cell_type": "code",
      "metadata": {
        "id": "lHAyxQHgJae7",
        "colab_type": "code",
        "colab": {}
      },
      "source": [
        "from cdqa.pipeline.cdqa_sklearn import QAPipeline"
      ],
      "execution_count": 0,
      "outputs": []
    },
    {
      "cell_type": "code",
      "metadata": {
        "id": "ImqmEDuIJwuJ",
        "colab_type": "code",
        "colab": {
          "base_uri": "https://localhost:8080/",
          "height": 35
        },
        "outputId": "c5caaebe-926a-4d32-b7c8-1a32f97ec225"
      },
      "source": [
        "cdqa_pipeline=QAPipeline(reader='./model/bert_qa.joblib')"
      ],
      "execution_count": 21,
      "outputs": [
        {
          "output_type": "stream",
          "text": [
            "100%|██████████| 231508/231508 [00:00<00:00, 317723.02B/s]\n"
          ],
          "name": "stderr"
        }
      ]
    },
    {
      "cell_type": "code",
      "metadata": {
        "id": "puDkfpehJ60y",
        "colab_type": "code",
        "colab": {
          "base_uri": "https://localhost:8080/",
          "height": 331
        },
        "outputId": "210482b1-7aff-4285-8ec0-baa4c34c03e8"
      },
      "source": [
        "cdqa_pipeline.fit_retriever(oo)"
      ],
      "execution_count": 22,
      "outputs": [
        {
          "output_type": "execute_result",
          "data": {
            "text/plain": [
              "QAPipeline(reader=BertQA(adam_epsilon=1e-08, bert_model='bert-base-uncased',\n",
              "                         do_lower_case=True, fp16=False,\n",
              "                         gradient_accumulation_steps=1, learning_rate=5e-05,\n",
              "                         local_rank=-1, loss_scale=0, max_answer_length=30,\n",
              "                         n_best_size=20, no_cuda=False,\n",
              "                         null_score_diff_threshold=0.0, num_train_epochs=3.0,\n",
              "                         output_dir=None, predict_batch_size=8, seed=42,\n",
              "                         server_ip='', server_po...size=8,\n",
              "                         verbose_logging=False, version_2_with_negative=False,\n",
              "                         warmup_proportion=0.1, warmup_steps=0),\n",
              "           retrieve_by_doc=False,\n",
              "           retriever=BM25Retriever(b=0.75, floor=None, k1=2.0, lowercase=True,\n",
              "                                   max_df=0.85, min_df=2, ngram_range=(1, 2),\n",
              "                                   preprocessor=None, stop_words='english',\n",
              "                                   token_pattern='(?u)\\\\b\\\\w\\\\w+\\\\b',\n",
              "                                   tokenizer=None, top_n=20, verbose=False,\n",
              "                                   vocabulary=None))"
            ]
          },
          "metadata": {
            "tags": []
          },
          "execution_count": 22
        }
      ]
    },
    {
      "cell_type": "markdown",
      "metadata": {
        "id": "Y4XuLn1RO9-p",
        "colab_type": "text"
      },
      "source": [
        "## Evaluating model 1"
      ]
    },
    {
      "cell_type": "code",
      "metadata": {
        "id": "FQ_smL78Kijg",
        "colab_type": "code",
        "colab": {
          "base_uri": "https://localhost:8080/",
          "height": 35
        },
        "outputId": "69c5a014-92e5-4b5b-cd3a-3044de9593f1"
      },
      "source": [
        "query=\"What is Airbus A320?\"\n",
        "cdqa_pipeline.predict(query)[0]"
      ],
      "execution_count": 24,
      "outputs": [
        {
          "output_type": "execute_result",
          "data": {
            "text/plain": [
              "'narrow body airliners'"
            ]
          },
          "metadata": {
            "tags": []
          },
          "execution_count": 24
        }
      ]
    },
    {
      "cell_type": "code",
      "metadata": {
        "id": "DNRGOhmDKp-W",
        "colab_type": "code",
        "colab": {
          "base_uri": "https://localhost:8080/",
          "height": 35
        },
        "outputId": "c340bb0a-3517-4218-f610-9a95d7c29a09"
      },
      "source": [
        "query=\"What is the Beluga?\"\n",
        "cdqa_pipeline.predict(query)[0]"
      ],
      "execution_count": 26,
      "outputs": [
        {
          "output_type": "execute_result",
          "data": {
            "text/plain": [
              "'a version of the standard A300 600 wide body airliner'"
            ]
          },
          "metadata": {
            "tags": []
          },
          "execution_count": 26
        }
      ]
    },
    {
      "cell_type": "code",
      "metadata": {
        "id": "3AFvI7K5LMte",
        "colab_type": "code",
        "colab": {
          "base_uri": "https://localhost:8080/",
          "height": 35
        },
        "outputId": "88ab3fdd-bd0f-4a4e-e382-1175bf4f8d4a"
      },
      "source": [
        "query=\"When was the Airbus A300 designed?\"\n",
        "cdqa_pipeline.predict(query)[0]"
      ],
      "execution_count": 27,
      "outputs": [
        {
          "output_type": "execute_result",
          "data": {
            "text/plain": [
              "'26 September 1967'"
            ]
          },
          "metadata": {
            "tags": []
          },
          "execution_count": 27
        }
      ]
    },
    {
      "cell_type": "markdown",
      "metadata": {
        "id": "eb5zhn1QPEhU",
        "colab_type": "text"
      },
      "source": [
        "## Training on Dataset 2"
      ]
    },
    {
      "cell_type": "code",
      "metadata": {
        "id": "T4GHfF6kLnjh",
        "colab_type": "code",
        "colab": {}
      },
      "source": [
        "oo=pd.read_csv('airbusMegaData.csv')"
      ],
      "execution_count": 0,
      "outputs": []
    },
    {
      "cell_type": "code",
      "metadata": {
        "id": "4J9D5MD6PK36",
        "colab_type": "code",
        "colab": {
          "base_uri": "https://localhost:8080/",
          "height": 1000
        },
        "outputId": "97c86b10-a56a-4f19-dfe3-b9e765303f79"
      },
      "source": [
        "oo"
      ],
      "execution_count": 29,
      "outputs": [
        {
          "output_type": "execute_result",
          "data": {
            "text/html": [
              "<div>\n",
              "<style scoped>\n",
              "    .dataframe tbody tr th:only-of-type {\n",
              "        vertical-align: middle;\n",
              "    }\n",
              "\n",
              "    .dataframe tbody tr th {\n",
              "        vertical-align: top;\n",
              "    }\n",
              "\n",
              "    .dataframe thead th {\n",
              "        text-align: right;\n",
              "    }\n",
              "</style>\n",
              "<table border=\"1\" class=\"dataframe\">\n",
              "  <thead>\n",
              "    <tr style=\"text-align: right;\">\n",
              "      <th></th>\n",
              "      <th>Unnamed: 0</th>\n",
              "      <th>title</th>\n",
              "      <th>num_paras</th>\n",
              "      <th>string_para</th>\n",
              "    </tr>\n",
              "  </thead>\n",
              "  <tbody>\n",
              "    <tr>\n",
              "      <th>0</th>\n",
              "      <td>0</td>\n",
              "      <td>Aircraft</td>\n",
              "      <td>71</td>\n",
              "      <td>['', 'An aircraft is a vehicle that is able to...</td>\n",
              "    </tr>\n",
              "    <tr>\n",
              "      <th>1</th>\n",
              "      <td>1</td>\n",
              "      <td>Powered aircraft</td>\n",
              "      <td>29</td>\n",
              "      <td>['A powered aircraft is an aircraft that uses ...</td>\n",
              "    </tr>\n",
              "    <tr>\n",
              "      <th>2</th>\n",
              "      <td>2</td>\n",
              "      <td>Helicopter</td>\n",
              "      <td>85</td>\n",
              "      <td>['', '', '', 'A helicopter  sometimes referred...</td>\n",
              "    </tr>\n",
              "    <tr>\n",
              "      <th>3</th>\n",
              "      <td>3</td>\n",
              "      <td>Airbus A380</td>\n",
              "      <td>133</td>\n",
              "      <td>['', 'The Airbus A380 is the world s largest p...</td>\n",
              "    </tr>\n",
              "    <tr>\n",
              "      <th>4</th>\n",
              "      <td>4</td>\n",
              "      <td>Airbus A330</td>\n",
              "      <td>92</td>\n",
              "      <td>['', 'The Airbus A330 is a wide body airliner ...</td>\n",
              "    </tr>\n",
              "    <tr>\n",
              "      <th>5</th>\n",
              "      <td>5</td>\n",
              "      <td>Airbus A320 family</td>\n",
              "      <td>88</td>\n",
              "      <td>['', 'The Airbus A320 family are narrow body a...</td>\n",
              "    </tr>\n",
              "    <tr>\n",
              "      <th>6</th>\n",
              "      <td>6</td>\n",
              "      <td>Airbus A340</td>\n",
              "      <td>72</td>\n",
              "      <td>['', 'The Airbus A340 is a long range  wide bo...</td>\n",
              "    </tr>\n",
              "    <tr>\n",
              "      <th>7</th>\n",
              "      <td>7</td>\n",
              "      <td>Airbus A220</td>\n",
              "      <td>108</td>\n",
              "      <td>['', 'The Airbus A220 is a family of narrow bo...</td>\n",
              "    </tr>\n",
              "    <tr>\n",
              "      <th>8</th>\n",
              "      <td>8</td>\n",
              "      <td>Airbus A350 XWB</td>\n",
              "      <td>99</td>\n",
              "      <td>['', 'The Airbus A350 XWB is a family of long ...</td>\n",
              "    </tr>\n",
              "    <tr>\n",
              "      <th>9</th>\n",
              "      <td>9</td>\n",
              "      <td>Airbus A321</td>\n",
              "      <td>22</td>\n",
              "      <td>['The Airbus A321 is a member of the Airbus A3...</td>\n",
              "    </tr>\n",
              "    <tr>\n",
              "      <th>10</th>\n",
              "      <td>10</td>\n",
              "      <td>Airbus A310</td>\n",
              "      <td>37</td>\n",
              "      <td>['', 'The Airbus A310 is a wide body airliner ...</td>\n",
              "    </tr>\n",
              "    <tr>\n",
              "      <th>11</th>\n",
              "      <td>11</td>\n",
              "      <td>Airbus Helicopters</td>\n",
              "      <td>30</td>\n",
              "      <td>['', 'Airbus Helicopters SAS  formerly Eurocop...</td>\n",
              "    </tr>\n",
              "    <tr>\n",
              "      <th>12</th>\n",
              "      <td>12</td>\n",
              "      <td>Airbus Beluga</td>\n",
              "      <td>29</td>\n",
              "      <td>['The Airbus A300 600ST  Super Transporter  or...</td>\n",
              "    </tr>\n",
              "    <tr>\n",
              "      <th>13</th>\n",
              "      <td>13</td>\n",
              "      <td>Airbus A318</td>\n",
              "      <td>29</td>\n",
              "      <td>['', 'The Airbus A318 is the smallest airliner...</td>\n",
              "    </tr>\n",
              "    <tr>\n",
              "      <th>14</th>\n",
              "      <td>14</td>\n",
              "      <td>Airbus A300</td>\n",
              "      <td>51</td>\n",
              "      <td>['', 'The Airbus A300 is a wide body airliner ...</td>\n",
              "    </tr>\n",
              "    <tr>\n",
              "      <th>15</th>\n",
              "      <td>15</td>\n",
              "      <td>Airbus A319</td>\n",
              "      <td>29</td>\n",
              "      <td>['The Airbus A319 is a member of the Airbus A3...</td>\n",
              "    </tr>\n",
              "    <tr>\n",
              "      <th>16</th>\n",
              "      <td>16</td>\n",
              "      <td>Airbus A320neo family</td>\n",
              "      <td>90</td>\n",
              "      <td>['', 'The Airbus A320neo family  neo for new e...</td>\n",
              "    </tr>\n",
              "    <tr>\n",
              "      <th>17</th>\n",
              "      <td>17</td>\n",
              "      <td>Airbus A330neo</td>\n",
              "      <td>60</td>\n",
              "      <td>['', 'The Airbus A330neo  neo  for  New Engine...</td>\n",
              "    </tr>\n",
              "    <tr>\n",
              "      <th>18</th>\n",
              "      <td>18</td>\n",
              "      <td>Airbus CityAirbus</td>\n",
              "      <td>9</td>\n",
              "      <td>['The Airbus CityAirbus is a multinational pro...</td>\n",
              "    </tr>\n",
              "    <tr>\n",
              "      <th>19</th>\n",
              "      <td>19</td>\n",
              "      <td>Airbus E-Fan</td>\n",
              "      <td>13</td>\n",
              "      <td>['The Airbus E Fan is a prototype two seater e...</td>\n",
              "    </tr>\n",
              "    <tr>\n",
              "      <th>20</th>\n",
              "      <td>20</td>\n",
              "      <td>Airbus E-Fan X</td>\n",
              "      <td>8</td>\n",
              "      <td>['The Airbus Rolls Royce Siemens E Fan X was a...</td>\n",
              "    </tr>\n",
              "    <tr>\n",
              "      <th>21</th>\n",
              "      <td>21</td>\n",
              "      <td>Airbus Helicopters VSR700</td>\n",
              "      <td>7</td>\n",
              "      <td>['The Airbus Helicopters VSR700 in an unmanned...</td>\n",
              "    </tr>\n",
              "    <tr>\n",
              "      <th>22</th>\n",
              "      <td>22</td>\n",
              "      <td>Airbus Helicopters X6</td>\n",
              "      <td>4</td>\n",
              "      <td>['The Airbus Helicopters X6 is a design concep...</td>\n",
              "    </tr>\n",
              "    <tr>\n",
              "      <th>23</th>\n",
              "      <td>23</td>\n",
              "      <td>Airbus THOR</td>\n",
              "      <td>3</td>\n",
              "      <td>['The Airbus THOR  Test of Hi tech Objectives ...</td>\n",
              "    </tr>\n",
              "    <tr>\n",
              "      <th>24</th>\n",
              "      <td>24</td>\n",
              "      <td>Airbus Beluga XL</td>\n",
              "      <td>25</td>\n",
              "      <td>['The Airbus Beluga XL  Airbus A330 743L  is a...</td>\n",
              "    </tr>\n",
              "    <tr>\n",
              "      <th>25</th>\n",
              "      <td>25</td>\n",
              "      <td>Eurocopter AS532 Cougar</td>\n",
              "      <td>11</td>\n",
              "      <td>['', 'The  Eurocopter AS532 Cougar  now Airbus...</td>\n",
              "    </tr>\n",
              "    <tr>\n",
              "      <th>26</th>\n",
              "      <td>26</td>\n",
              "      <td>Eurocopter AS565 Panther</td>\n",
              "      <td>23</td>\n",
              "      <td>['', 'The Eurocopter  now Airbus Helicopters  ...</td>\n",
              "    </tr>\n",
              "    <tr>\n",
              "      <th>27</th>\n",
              "      <td>27</td>\n",
              "      <td>Eurocopter EC725</td>\n",
              "      <td>25</td>\n",
              "      <td>['', 'The Eurocopter EC725 Caracal  now called...</td>\n",
              "    </tr>\n",
              "    <tr>\n",
              "      <th>28</th>\n",
              "      <td>28</td>\n",
              "      <td>Eurocopter Fennec</td>\n",
              "      <td>18</td>\n",
              "      <td>['', 'The Eurocopter  now Airbus Helicopters  ...</td>\n",
              "    </tr>\n",
              "    <tr>\n",
              "      <th>29</th>\n",
              "      <td>29</td>\n",
              "      <td>Eurocopter X%C2%B3</td>\n",
              "      <td>20</td>\n",
              "      <td>['', 'The Eurocopter X   X Cubed  is an experi...</td>\n",
              "    </tr>\n",
              "    <tr>\n",
              "      <th>30</th>\n",
              "      <td>30</td>\n",
              "      <td>Northrop Grumman KC-45</td>\n",
              "      <td>21</td>\n",
              "      <td>['', 'The EADS Northrop Grumman KC 45 was a pr...</td>\n",
              "    </tr>\n",
              "    <tr>\n",
              "      <th>31</th>\n",
              "      <td>31</td>\n",
              "      <td>Airbus NSR</td>\n",
              "      <td>4</td>\n",
              "      <td>['Airbus NSR  New Short Range  was discussed a...</td>\n",
              "    </tr>\n",
              "    <tr>\n",
              "      <th>32</th>\n",
              "      <td>32</td>\n",
              "      <td>Guillaume Faury</td>\n",
              "      <td>5</td>\n",
              "      <td>['Guillaume Faury  born February 22  1968  is ...</td>\n",
              "    </tr>\n",
              "    <tr>\n",
              "      <th>33</th>\n",
              "      <td>33</td>\n",
              "      <td>Airbus A320 family</td>\n",
              "      <td>88</td>\n",
              "      <td>['', 'The Airbus A320 family are narrow body a...</td>\n",
              "    </tr>\n",
              "    <tr>\n",
              "      <th>34</th>\n",
              "      <td>34</td>\n",
              "      <td>Airbus Group, Inc.</td>\n",
              "      <td>19</td>\n",
              "      <td>['', 'Airbus Group  Inc   formerly EADS North ...</td>\n",
              "    </tr>\n",
              "    <tr>\n",
              "      <th>35</th>\n",
              "      <td>35</td>\n",
              "      <td>Airbus Corporate Jets</td>\n",
              "      <td>20</td>\n",
              "      <td>['Airbus Corporate Jets  a business unit of Ai...</td>\n",
              "    </tr>\n",
              "    <tr>\n",
              "      <th>36</th>\n",
              "      <td>36</td>\n",
              "      <td>Airbus Operations S.A.S.</td>\n",
              "      <td>87</td>\n",
              "      <td>['', 'Coordinates  43 36 26 N 1 21 51 E     43...</td>\n",
              "    </tr>\n",
              "    <tr>\n",
              "      <th>37</th>\n",
              "      <td>37</td>\n",
              "      <td>Navblue</td>\n",
              "      <td>13</td>\n",
              "      <td>['NAVBLUE  an amalgamation of Navtech  Airbus ...</td>\n",
              "    </tr>\n",
              "  </tbody>\n",
              "</table>\n",
              "</div>"
            ],
            "text/plain": [
              "    Unnamed: 0  ...                                        string_para\n",
              "0            0  ...  ['', 'An aircraft is a vehicle that is able to...\n",
              "1            1  ...  ['A powered aircraft is an aircraft that uses ...\n",
              "2            2  ...  ['', '', '', 'A helicopter  sometimes referred...\n",
              "3            3  ...  ['', 'The Airbus A380 is the world s largest p...\n",
              "4            4  ...  ['', 'The Airbus A330 is a wide body airliner ...\n",
              "5            5  ...  ['', 'The Airbus A320 family are narrow body a...\n",
              "6            6  ...  ['', 'The Airbus A340 is a long range  wide bo...\n",
              "7            7  ...  ['', 'The Airbus A220 is a family of narrow bo...\n",
              "8            8  ...  ['', 'The Airbus A350 XWB is a family of long ...\n",
              "9            9  ...  ['The Airbus A321 is a member of the Airbus A3...\n",
              "10          10  ...  ['', 'The Airbus A310 is a wide body airliner ...\n",
              "11          11  ...  ['', 'Airbus Helicopters SAS  formerly Eurocop...\n",
              "12          12  ...  ['The Airbus A300 600ST  Super Transporter  or...\n",
              "13          13  ...  ['', 'The Airbus A318 is the smallest airliner...\n",
              "14          14  ...  ['', 'The Airbus A300 is a wide body airliner ...\n",
              "15          15  ...  ['The Airbus A319 is a member of the Airbus A3...\n",
              "16          16  ...  ['', 'The Airbus A320neo family  neo for new e...\n",
              "17          17  ...  ['', 'The Airbus A330neo  neo  for  New Engine...\n",
              "18          18  ...  ['The Airbus CityAirbus is a multinational pro...\n",
              "19          19  ...  ['The Airbus E Fan is a prototype two seater e...\n",
              "20          20  ...  ['The Airbus Rolls Royce Siemens E Fan X was a...\n",
              "21          21  ...  ['The Airbus Helicopters VSR700 in an unmanned...\n",
              "22          22  ...  ['The Airbus Helicopters X6 is a design concep...\n",
              "23          23  ...  ['The Airbus THOR  Test of Hi tech Objectives ...\n",
              "24          24  ...  ['The Airbus Beluga XL  Airbus A330 743L  is a...\n",
              "25          25  ...  ['', 'The  Eurocopter AS532 Cougar  now Airbus...\n",
              "26          26  ...  ['', 'The Eurocopter  now Airbus Helicopters  ...\n",
              "27          27  ...  ['', 'The Eurocopter EC725 Caracal  now called...\n",
              "28          28  ...  ['', 'The Eurocopter  now Airbus Helicopters  ...\n",
              "29          29  ...  ['', 'The Eurocopter X   X Cubed  is an experi...\n",
              "30          30  ...  ['', 'The EADS Northrop Grumman KC 45 was a pr...\n",
              "31          31  ...  ['Airbus NSR  New Short Range  was discussed a...\n",
              "32          32  ...  ['Guillaume Faury  born February 22  1968  is ...\n",
              "33          33  ...  ['', 'The Airbus A320 family are narrow body a...\n",
              "34          34  ...  ['', 'Airbus Group  Inc   formerly EADS North ...\n",
              "35          35  ...  ['Airbus Corporate Jets  a business unit of Ai...\n",
              "36          36  ...  ['', 'Coordinates  43 36 26 N 1 21 51 E     43...\n",
              "37          37  ...  ['NAVBLUE  an amalgamation of Navtech  Airbus ...\n",
              "\n",
              "[38 rows x 4 columns]"
            ]
          },
          "metadata": {
            "tags": []
          },
          "execution_count": 29
        }
      ]
    },
    {
      "cell_type": "code",
      "metadata": {
        "id": "OUO_Oa2lPS-i",
        "colab_type": "code",
        "colab": {}
      },
      "source": [
        "oo['paragraphs']=oo.string_para.apply(literal_eval)"
      ],
      "execution_count": 0,
      "outputs": []
    },
    {
      "cell_type": "code",
      "metadata": {
        "id": "WV5SlGdyPbVP",
        "colab_type": "code",
        "colab": {}
      },
      "source": [
        "oo=filter_paragraphs(oo)"
      ],
      "execution_count": 0,
      "outputs": []
    },
    {
      "cell_type": "code",
      "metadata": {
        "id": "wBFeUD7mPdV-",
        "colab_type": "code",
        "colab": {
          "base_uri": "https://localhost:8080/",
          "height": 331
        },
        "outputId": "23eee9c6-9889-4ee3-9687-4bc9e7e2246b"
      },
      "source": [
        "cdqa_pipeline2=QAPipeline(reader='./model/bert_qa.joblib')\n",
        "cdqa_pipeline2.fit_retriever(oo)"
      ],
      "execution_count": 34,
      "outputs": [
        {
          "output_type": "execute_result",
          "data": {
            "text/plain": [
              "QAPipeline(reader=BertQA(adam_epsilon=1e-08, bert_model='bert-base-uncased',\n",
              "                         do_lower_case=True, fp16=False,\n",
              "                         gradient_accumulation_steps=1, learning_rate=5e-05,\n",
              "                         local_rank=-1, loss_scale=0, max_answer_length=30,\n",
              "                         n_best_size=20, no_cuda=False,\n",
              "                         null_score_diff_threshold=0.0, num_train_epochs=3.0,\n",
              "                         output_dir=None, predict_batch_size=8, seed=42,\n",
              "                         server_ip='', server_po...size=8,\n",
              "                         verbose_logging=False, version_2_with_negative=False,\n",
              "                         warmup_proportion=0.1, warmup_steps=0),\n",
              "           retrieve_by_doc=False,\n",
              "           retriever=BM25Retriever(b=0.75, floor=None, k1=2.0, lowercase=True,\n",
              "                                   max_df=0.85, min_df=2, ngram_range=(1, 2),\n",
              "                                   preprocessor=None, stop_words='english',\n",
              "                                   token_pattern='(?u)\\\\b\\\\w\\\\w+\\\\b',\n",
              "                                   tokenizer=None, top_n=20, verbose=False,\n",
              "                                   vocabulary=None))"
            ]
          },
          "metadata": {
            "tags": []
          },
          "execution_count": 34
        }
      ]
    },
    {
      "cell_type": "markdown",
      "metadata": {
        "id": "uM0T9BS0PubO",
        "colab_type": "text"
      },
      "source": [
        "## Evaluating model 2"
      ]
    },
    {
      "cell_type": "code",
      "metadata": {
        "id": "jts4JLtALGdV",
        "colab_type": "code",
        "colab": {
          "base_uri": "https://localhost:8080/",
          "height": 35
        },
        "outputId": "d7bdb5bc-27df-4820-b0d3-7ed45db2f792"
      },
      "source": [
        "query=\"What is Navblue?\"\n",
        "cdqa_pipeline2.predict(query)[0]"
      ],
      "execution_count": 36,
      "outputs": [
        {
          "output_type": "execute_result",
          "data": {
            "text/plain": [
              "'Airbus flight operations software subsidiary'"
            ]
          },
          "metadata": {
            "tags": []
          },
          "execution_count": 36
        }
      ]
    },
    {
      "cell_type": "code",
      "metadata": {
        "id": "4b7nwdhGQAj5",
        "colab_type": "code",
        "colab": {
          "base_uri": "https://localhost:8080/",
          "height": 35
        },
        "outputId": "91f15930-257e-4e2a-b707-1b0cc22aee3e"
      },
      "source": [
        "query=\"What is the Beluga XL?\"\n",
        "cdqa_pipeline2.predict(query)[0]"
      ],
      "execution_count": 37,
      "outputs": [
        {
          "output_type": "execute_result",
          "data": {
            "text/plain": [
              "'the second aircraft built'"
            ]
          },
          "metadata": {
            "tags": []
          },
          "execution_count": 37
        }
      ]
    },
    {
      "cell_type": "code",
      "metadata": {
        "id": "nokhXi3wQKvA",
        "colab_type": "code",
        "colab": {
          "base_uri": "https://localhost:8080/",
          "height": 35
        },
        "outputId": "ddb3c65d-b7f7-43e6-d5a7-3c040992a6b7"
      },
      "source": [
        "query=\"When was Airbus E-Fan designed?\"\n",
        "cdqa_pipeline2.predict(query)[0]"
      ],
      "execution_count": 43,
      "outputs": [
        {
          "output_type": "execute_result",
          "data": {
            "text/plain": [
              "'2014'"
            ]
          },
          "metadata": {
            "tags": []
          },
          "execution_count": 43
        }
      ]
    },
    {
      "cell_type": "code",
      "metadata": {
        "id": "8znVsTkoQVOP",
        "colab_type": "code",
        "colab": {
          "base_uri": "https://localhost:8080/",
          "height": 35
        },
        "outputId": "3c7929c9-9938-4faf-8726-226f6b7ed30a"
      },
      "source": [
        "query=\"What was Airbus THOR?\"\n",
        "cdqa_pipeline2.predict(query)[0]"
      ],
      "execution_count": 44,
      "outputs": [
        {
          "output_type": "execute_result",
          "data": {
            "text/plain": [
              "'hybrid blimp'"
            ]
          },
          "metadata": {
            "tags": []
          },
          "execution_count": 44
        }
      ]
    },
    {
      "cell_type": "code",
      "metadata": {
        "id": "rHPmTlc5QZ7x",
        "colab_type": "code",
        "colab": {
          "base_uri": "https://localhost:8080/",
          "height": 35
        },
        "outputId": "1fdba256-91c8-46e1-93d6-a4dfcfee5b58"
      },
      "source": [
        "query=\"What is the Airbus Beluga?\"\n",
        "cdqa_pipeline2.predict(query)[0]"
      ],
      "execution_count": 42,
      "outputs": [
        {
          "output_type": "execute_result",
          "data": {
            "text/plain": [
              "'a modified cargo aircraft capable of carrying entire sections of fuselage'"
            ]
          },
          "metadata": {
            "tags": []
          },
          "execution_count": 42
        }
      ]
    },
    {
      "cell_type": "code",
      "metadata": {
        "id": "ecKH7v_ZIZgr",
        "colab_type": "code",
        "colab": {
          "base_uri": "https://localhost:8080/",
          "height": 35
        },
        "outputId": "d41b1f3f-ea2d-4391-dfc0-7678d2b2dfe1"
      },
      "source": [
        "query=\"How is Airbus A380 different from Airbus A220?\"\n",
        "cdqa_pipeline2.predict(query)[0]"
      ],
      "execution_count": 45,
      "outputs": [
        {
          "output_type": "execute_result",
          "data": {
            "text/plain": [
              "'tallest'"
            ]
          },
          "metadata": {
            "tags": []
          },
          "execution_count": 45
        }
      ]
    },
    {
      "cell_type": "code",
      "metadata": {
        "id": "oFtdPFd1RNTf",
        "colab_type": "code",
        "colab": {
          "base_uri": "https://localhost:8080/",
          "height": 240
        },
        "outputId": "c8585ab3-5ccd-44c2-9d36-d283a1003977"
      },
      "source": [
        "while True:\n",
        "  q=input('User\\'s Question >')\n",
        "  result=cdqa_pipeline2.predict(q)\n",
        "  print(f'Bot response: {result[0]}')"
      ],
      "execution_count": 0,
      "outputs": [
        {
          "output_type": "stream",
          "text": [
            "User's Question >When was the Airbus Beluga designed?\n",
            "Bot response: November 2014\n",
            "User's Question > What is the Airbus Beluga?\n",
            "Bot response: a modified cargo aircraft capable of carrying entire sections of fuselage\n",
            "User's Question >How many helicopters has Airbus made?\n",
            "Bot response: 24 4\n",
            "User's Question >What is Navblue?\n",
            "Bot response: Airbus flight operations software subsidiary\n",
            "User's Question >What does Navblue do?\n",
            "Bot response: create aerodrome and en route navigation charts\n"
          ],
          "name": "stdout"
        }
      ]
    },
    {
      "cell_type": "code",
      "metadata": {
        "id": "W0KxmKPqRtiV",
        "colab_type": "code",
        "colab": {}
      },
      "source": [
        ""
      ],
      "execution_count": 0,
      "outputs": []
    }
  ]
}