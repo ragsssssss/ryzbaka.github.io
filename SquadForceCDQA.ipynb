{
  "nbformat": 4,
  "nbformat_minor": 0,
  "metadata": {
    "colab": {
      "name": "SquadForceCDQA.ipynb",
      "provenance": []
    },
    "kernelspec": {
      "name": "python3",
      "display_name": "Python 3"
    }
  },
  "cells": [
    {
      "cell_type": "code",
      "metadata": {
        "id": "TcrBgb8xt5ak",
        "colab_type": "code",
        "colab": {}
      },
      "source": [
        "from ast import literal_eval"
      ],
      "execution_count": 0,
      "outputs": []
    },
    {
      "cell_type": "code",
      "metadata": {
        "id": "RAAoyyzausQg",
        "colab_type": "code",
        "colab": {}
      },
      "source": [
        "from cdqa.utils.download import download_squad"
      ],
      "execution_count": 0,
      "outputs": []
    },
    {
      "cell_type": "code",
      "metadata": {
        "id": "mL4txZhPuw-O",
        "colab_type": "code",
        "colab": {}
      },
      "source": [
        "from cdqa.utils.download import download_model"
      ],
      "execution_count": 0,
      "outputs": []
    },
    {
      "cell_type": "code",
      "metadata": {
        "id": "CcmQqi3fu_96",
        "colab_type": "code",
        "colab": {
          "base_uri": "https://localhost:8080/",
          "height": 111
        },
        "outputId": "687cda84-120f-4d05-e0cc-f2b19d111c50"
      },
      "source": [
        "download_squad(dir=\"./data/squad_dataset\")\n",
        "download_model(model='bert-squad_1.1',dir='./models')"
      ],
      "execution_count": 4,
      "outputs": [
        {
          "output_type": "stream",
          "text": [
            "Downloading SQuAD v1.1 data...\n",
            "\n",
            "Downloading SQuAD v2.0 data...\n",
            "\n",
            "Downloading trained model...\n"
          ],
          "name": "stdout"
        }
      ]
    },
    {
      "cell_type": "code",
      "metadata": {
        "id": "yoYZCuxrvb6r",
        "colab_type": "code",
        "colab": {}
      },
      "source": [
        "import json\n",
        "f=open('./data/squad_dataset/SQuAD_1.1/train-v1.1.json')"
      ],
      "execution_count": 0,
      "outputs": []
    },
    {
      "cell_type": "code",
      "metadata": {
        "id": "LY0Tt-DZwNei",
        "colab_type": "code",
        "colab": {}
      },
      "source": [
        "data=json.load(f)"
      ],
      "execution_count": 0,
      "outputs": []
    },
    {
      "cell_type": "code",
      "metadata": {
        "id": "iK0w9xhRwPmT",
        "colab_type": "code",
        "colab": {
          "base_uri": "https://localhost:8080/",
          "height": 36
        },
        "outputId": "117c30ac-ce2d-4d13-929b-4a3f78080e8d"
      },
      "source": [
        "data.keys()"
      ],
      "execution_count": 67,
      "outputs": [
        {
          "output_type": "execute_result",
          "data": {
            "text/plain": [
              "dict_keys(['data', 'version'])"
            ]
          },
          "metadata": {
            "tags": []
          },
          "execution_count": 67
        }
      ]
    },
    {
      "cell_type": "code",
      "metadata": {
        "id": "XrhYXqLvwSEC",
        "colab_type": "code",
        "colab": {
          "base_uri": "https://localhost:8080/",
          "height": 36
        },
        "outputId": "77c0c523-0d9b-463c-826b-a32a82c5fa0d"
      },
      "source": [
        "data['data'][1].keys()"
      ],
      "execution_count": 68,
      "outputs": [
        {
          "output_type": "execute_result",
          "data": {
            "text/plain": [
              "dict_keys(['title', 'paragraphs'])"
            ]
          },
          "metadata": {
            "tags": []
          },
          "execution_count": 68
        }
      ]
    },
    {
      "cell_type": "code",
      "metadata": {
        "id": "Axdug8BTxLbB",
        "colab_type": "code",
        "colab": {
          "base_uri": "https://localhost:8080/",
          "height": 36
        },
        "outputId": "62ffdb8c-1173-47c9-9b19-302d2054b6d0"
      },
      "source": [
        "data['data'][1]['title']"
      ],
      "execution_count": 69,
      "outputs": [
        {
          "output_type": "execute_result",
          "data": {
            "text/plain": [
              "'Beyoncé'"
            ]
          },
          "metadata": {
            "tags": []
          },
          "execution_count": 69
        }
      ]
    },
    {
      "cell_type": "code",
      "metadata": {
        "id": "BMFbYVn5wXN5",
        "colab_type": "code",
        "colab": {
          "base_uri": "https://localhost:8080/",
          "height": 1000
        },
        "outputId": "ede0ddb6-8ac0-4e54-d128-2917a83f31a7"
      },
      "source": [
        "for i in range(len(data['data'])):\n",
        "  print(i,'\\t',data['data'][i]['title'])"
      ],
      "execution_count": 70,
      "outputs": [
        {
          "output_type": "stream",
          "text": [
            "0 \t University_of_Notre_Dame\n",
            "1 \t Beyoncé\n",
            "2 \t Montana\n",
            "3 \t Genocide\n",
            "4 \t Antibiotics\n",
            "5 \t Frédéric_Chopin\n",
            "6 \t Sino-Tibetan_relations_during_the_Ming_dynasty\n",
            "7 \t IPod\n",
            "8 \t The_Legend_of_Zelda:_Twilight_Princess\n",
            "9 \t Spectre_(2015_film)\n",
            "10 \t 2008_Sichuan_earthquake\n",
            "11 \t New_York_City\n",
            "12 \t To_Kill_a_Mockingbird\n",
            "13 \t Solar_energy\n",
            "14 \t Tajikistan\n",
            "15 \t Anthropology\n",
            "16 \t Portugal\n",
            "17 \t Kanye_West\n",
            "18 \t Buddhism\n",
            "19 \t American_Idol\n",
            "20 \t Dog\n",
            "21 \t 2008_Summer_Olympics_torch_relay\n",
            "22 \t Alfred_North_Whitehead\n",
            "23 \t Financial_crisis_of_2007%E2%80%9308\n",
            "24 \t Saint_Barth%C3%A9lemy\n",
            "25 \t Genome\n",
            "26 \t Comprehensive_school\n",
            "27 \t Republic_of_the_Congo\n",
            "28 \t Prime_minister\n",
            "29 \t Institute_of_technology\n",
            "30 \t Wayback_Machine\n",
            "31 \t Dutch_Republic\n",
            "32 \t Symbiosis\n",
            "33 \t Canadian_Armed_Forces\n",
            "34 \t Cardinal_(Catholicism)\n",
            "35 \t Iranian_languages\n",
            "36 \t Lighting\n",
            "37 \t Separation_of_powers_under_the_United_States_Constitution\n",
            "38 \t Architecture\n",
            "39 \t Human_Development_Index\n",
            "40 \t Southern_Europe\n",
            "41 \t BBC_Television\n",
            "42 \t Arnold_Schwarzenegger\n",
            "43 \t Plymouth\n",
            "44 \t Heresy\n",
            "45 \t Warsaw_Pact\n",
            "46 \t Materialism\n",
            "47 \t Space_Race\n",
            "48 \t Pub\n",
            "49 \t Christian\n",
            "50 \t Sony_Music_Entertainment\n",
            "51 \t Oklahoma_City\n",
            "52 \t Hunter-gatherer\n",
            "53 \t United_Nations_Population_Fund\n",
            "54 \t Russian_Soviet_Federative_Socialist_Republic\n",
            "55 \t Universal_Studios\n",
            "56 \t Alexander_Graham_Bell\n",
            "57 \t Internet_service_provider\n",
            "58 \t Comics\n",
            "59 \t Saint_Helena\n",
            "60 \t Aspirated_consonant\n",
            "61 \t Hydrogen\n",
            "62 \t Web_browser\n",
            "63 \t Boston\n",
            "64 \t BeiDou_Navigation_Satellite_System\n",
            "65 \t Canon_law\n",
            "66 \t Communications_in_Somalia\n",
            "67 \t Catalan_language\n",
            "68 \t Estonian_language\n",
            "69 \t Paper\n",
            "70 \t Arena_Football_League\n",
            "71 \t Adult_contemporary_music\n",
            "72 \t Matter\n",
            "73 \t Westminster_Abbey\n",
            "74 \t Nanjing\n",
            "75 \t Bern\n",
            "76 \t Daylight_saving_time\n",
            "77 \t Royal_Institute_of_British_Architects\n",
            "78 \t National_Archives_and_Records_Administration\n",
            "79 \t Tristan_da_Cunha\n",
            "80 \t University_of_Kansas\n",
            "81 \t Political_corruption\n",
            "82 \t Dialect\n",
            "83 \t Classical_music\n",
            "84 \t Slavs\n",
            "85 \t Southampton\n",
            "86 \t Treaty\n",
            "87 \t Josip_Broz_Tito\n",
            "88 \t Marshall_Islands\n",
            "89 \t Szlachta\n",
            "90 \t Virgil\n",
            "91 \t Alps\n",
            "92 \t Gene\n",
            "93 \t Guinea-Bissau\n",
            "94 \t List_of_numbered_streets_in_Manhattan\n",
            "95 \t Brain\n",
            "96 \t Near_East\n",
            "97 \t Zhejiang\n",
            "98 \t Ministry_of_Defence_(United_Kingdom)\n",
            "99 \t High-definition_television\n",
            "100 \t Wood\n",
            "101 \t Somalis\n",
            "102 \t Middle_Ages\n",
            "103 \t Phonology\n",
            "104 \t Computer\n",
            "105 \t Black_people\n",
            "106 \t The_Times\n",
            "107 \t New_Delhi\n",
            "108 \t Imamah_(Shia_doctrine)\n",
            "109 \t Bird_migration\n",
            "110 \t Atlantic_City,_New_Jersey\n",
            "111 \t Immunology\n",
            "112 \t MP3\n",
            "113 \t House_music\n",
            "114 \t Letter_case\n",
            "115 \t Chihuahua_(state)\n",
            "116 \t Pitch_(music)\n",
            "117 \t England_national_football_team\n",
            "118 \t Houston\n",
            "119 \t Copper\n",
            "120 \t Identity_(social_science)\n",
            "121 \t Himachal_Pradesh\n",
            "122 \t Communication\n",
            "123 \t Grape\n",
            "124 \t Computer_security\n",
            "125 \t Orthodox_Judaism\n",
            "126 \t Animal\n",
            "127 \t Beer\n",
            "128 \t Race_and_ethnicity_in_the_United_States_Census\n",
            "129 \t United_States_dollar\n",
            "130 \t Imperial_College_London\n",
            "131 \t Gymnastics\n",
            "132 \t Hanover\n",
            "133 \t Emotion\n",
            "134 \t FC_Barcelona\n",
            "135 \t Everton_F.C.\n",
            "136 \t Old_English\n",
            "137 \t Aircraft_carrier\n",
            "138 \t Federal_Aviation_Administration\n",
            "139 \t Lancashire\n",
            "140 \t Mesozoic\n",
            "141 \t Videoconferencing\n",
            "142 \t Gregorian_calendar\n",
            "143 \t Xbox_360\n",
            "144 \t Military_history_of_the_United_States\n",
            "145 \t Hard_rock\n",
            "146 \t Great_Plains\n",
            "147 \t Infrared\n",
            "148 \t Biodiversity\n",
            "149 \t ASCII\n",
            "150 \t Digestion\n",
            "151 \t Federal_Bureau_of_Investigation\n",
            "152 \t Adolescence\n",
            "153 \t Antarctica\n",
            "154 \t Mary_(mother_of_Jesus)\n",
            "155 \t Melbourne\n",
            "156 \t John,_King_of_England\n",
            "157 \t Macintosh\n",
            "158 \t Anti-aircraft_warfare\n",
            "159 \t Sanskrit\n",
            "160 \t Valencia\n",
            "161 \t General_Electric\n",
            "162 \t United_States_Army\n",
            "163 \t Franco-Prussian_War\n",
            "164 \t Eritrea\n",
            "165 \t Uranium\n",
            "166 \t Order_of_the_British_Empire\n",
            "167 \t Age_of_Enlightenment\n",
            "168 \t Circadian_rhythm\n",
            "169 \t Elizabeth_II\n",
            "170 \t Sexual_orientation\n",
            "171 \t Dell\n",
            "172 \t Capital_punishment_in_the_United_States\n",
            "173 \t Nintendo_Entertainment_System\n",
            "174 \t Ashkenazi_Jews\n",
            "175 \t Athanasius_of_Alexandria\n",
            "176 \t Seattle\n",
            "177 \t Memory\n",
            "178 \t Multiracial_American\n",
            "179 \t Pharmaceutical_industry\n",
            "180 \t Umayyad_Caliphate\n",
            "181 \t Asphalt\n",
            "182 \t Queen_Victoria\n",
            "183 \t Freemasonry\n",
            "184 \t Israel\n",
            "185 \t Hellenistic_period\n",
            "186 \t Napoleon\n",
            "187 \t Bill_%26_Melinda_Gates_Foundation\n",
            "188 \t Northwestern_University\n",
            "189 \t Hokkien\n",
            "190 \t Montevideo\n",
            "191 \t Poultry\n",
            "192 \t Arsenal_F.C.\n",
            "193 \t Dutch_language\n",
            "194 \t Buckingham_Palace\n",
            "195 \t Incandescent_light_bulb\n",
            "196 \t Clothing\n",
            "197 \t Chicago_Cubs\n",
            "198 \t States_of_Germany\n",
            "199 \t Korean_War\n",
            "200 \t Royal_Dutch_Shell\n",
            "201 \t Copyright_infringement\n",
            "202 \t Greece\n",
            "203 \t Mammal\n",
            "204 \t East_India_Company\n",
            "205 \t Southeast_Asia\n",
            "206 \t Professional_wrestling\n",
            "207 \t Film_speed\n",
            "208 \t Mexico_City\n",
            "209 \t Germans\n",
            "210 \t New_Haven,_Connecticut\n",
            "211 \t Brigham_Young_University\n",
            "212 \t Myocardial_infarction\n",
            "213 \t Department_store\n",
            "214 \t Intellectual_property\n",
            "215 \t Florida\n",
            "216 \t Queen_(band)\n",
            "217 \t Presbyterianism\n",
            "218 \t Thuringia\n",
            "219 \t Predation\n",
            "220 \t Marvel_Comics\n",
            "221 \t British_Empire\n",
            "222 \t Botany\n",
            "223 \t Madonna_(entertainer)\n",
            "224 \t London\n",
            "225 \t Law_of_the_United_States\n",
            "226 \t Myanmar\n",
            "227 \t Jews\n",
            "228 \t Cotton\n",
            "229 \t Data_compression\n",
            "230 \t The_Sun_(United_Kingdom)\n",
            "231 \t Carnival\n",
            "232 \t Pesticide\n",
            "233 \t Somerset\n",
            "234 \t Yale_University\n",
            "235 \t Late_Middle_Ages\n",
            "236 \t Ann_Arbor,_Michigan\n",
            "237 \t Gothic_architecture\n",
            "238 \t Cubism\n",
            "239 \t Political_philosophy\n",
            "240 \t Alloy\n",
            "241 \t Norfolk_Island\n",
            "242 \t Edmund_Burke\n",
            "243 \t Samoa\n",
            "244 \t Pope_Paul_VI\n",
            "245 \t George_VI\n",
            "246 \t Electric_motor\n",
            "247 \t Switzerland\n",
            "248 \t Mali\n",
            "249 \t Nonprofit_organization\n",
            "250 \t Raleigh,_North_Carolina\n",
            "251 \t Nutrition\n",
            "252 \t Crimean_War\n",
            "253 \t Literature\n",
            "254 \t Avicenna\n",
            "255 \t Chinese_characters\n",
            "256 \t Bermuda\n",
            "257 \t Nigeria\n",
            "258 \t Utrecht\n",
            "259 \t John_von_Neumann\n",
            "260 \t Molotov%E2%80%93Ribbentrop_Pact\n",
            "261 \t Capacitor\n",
            "262 \t History_of_science\n",
            "263 \t Czech_language\n",
            "264 \t Digimon\n",
            "265 \t Glacier\n",
            "266 \t Planck_constant\n",
            "267 \t Comcast\n",
            "268 \t Tuberculosis\n",
            "269 \t Affirmative_action_in_the_United_States\n",
            "270 \t FA_Cup\n",
            "271 \t Alsace\n",
            "272 \t Baptists\n",
            "273 \t Child_labour\n",
            "274 \t North_Carolina\n",
            "275 \t Heian_period\n",
            "276 \t On_the_Origin_of_Species\n",
            "277 \t Dissolution_of_the_Soviet_Union\n",
            "278 \t Crucifixion_of_Jesus\n",
            "279 \t Miami\n",
            "280 \t Supreme_court\n",
            "281 \t Textual_criticism\n",
            "282 \t Gramophone_record\n",
            "283 \t Turner_Classic_Movies\n",
            "284 \t Hindu_philosophy\n",
            "285 \t Political_party\n",
            "286 \t A_cappella\n",
            "287 \t Dominican_Order\n",
            "288 \t Eton_College\n",
            "289 \t Cork_(city)\n",
            "290 \t Federalism\n",
            "291 \t Galicia_(Spain)\n",
            "292 \t Green\n",
            "293 \t USB\n",
            "294 \t Sichuan\n",
            "295 \t Unicode\n",
            "296 \t Detroit\n",
            "297 \t Culture\n",
            "298 \t Sahara\n",
            "299 \t Rule_of_law\n",
            "300 \t Tibet\n",
            "301 \t Exhibition_game\n",
            "302 \t Strasbourg\n",
            "303 \t Oklahoma\n",
            "304 \t History_of_India\n",
            "305 \t Gamal_Abdel_Nasser\n",
            "306 \t Pope_John_XXIII\n",
            "307 \t Time\n",
            "308 \t European_Central_Bank\n",
            "309 \t St._John%27s,_Newfoundland_and_Labrador\n",
            "310 \t PlayStation_3\n",
            "311 \t Royal_assent\n",
            "312 \t Group_(mathematics)\n",
            "313 \t Central_African_Republic\n",
            "314 \t Asthma\n",
            "315 \t LaserDisc\n",
            "316 \t Annelid\n",
            "317 \t God\n",
            "318 \t War_on_Terror\n",
            "319 \t Labour_Party_(UK)\n",
            "320 \t Estonia\n",
            "321 \t Serbo-Croatian\n",
            "322 \t Alaska\n",
            "323 \t Karl_Popper\n",
            "324 \t Mandolin\n",
            "325 \t Insect\n",
            "326 \t Race_(human_categorization)\n",
            "327 \t Paris\n",
            "328 \t Apollo\n",
            "329 \t United_States_presidential_election,_2004\n",
            "330 \t IBM\n",
            "331 \t Liberal_Party_of_Australia\n",
            "332 \t Samurai\n",
            "333 \t Software_testing\n",
            "334 \t Glass\n",
            "335 \t Renewable_energy_commercialization\n",
            "336 \t Palermo\n",
            "337 \t Zinc\n",
            "338 \t Neoclassical_architecture\n",
            "339 \t CBC_Television\n",
            "340 \t Appalachian_Mountains\n",
            "341 \t Energy\n",
            "342 \t East_Prussia\n",
            "343 \t Ottoman_Empire\n",
            "344 \t Philosophy_of_space_and_time\n",
            "345 \t Neolithic\n",
            "346 \t Friedrich_Hayek\n",
            "347 \t Diarrhea\n",
            "348 \t Madrasa\n",
            "349 \t Philadelphia\n",
            "350 \t John_Kerry\n",
            "351 \t Rajasthan\n",
            "352 \t Guam\n",
            "353 \t Empiricism\n",
            "354 \t Idealism\n",
            "355 \t Education\n",
            "356 \t Tennessee\n",
            "357 \t Post-punk\n",
            "358 \t Canadian_football\n",
            "359 \t Seven_Years%27_War\n",
            "360 \t Richard_Feynman\n",
            "361 \t Muammar_Gaddafi\n",
            "362 \t Cyprus\n",
            "363 \t Steven_Spielberg\n",
            "364 \t Elevator\n",
            "365 \t Neptune\n",
            "366 \t Railway_electrification_system\n",
            "367 \t Spanish_language_in_the_United_States\n",
            "368 \t Charleston,_South_Carolina\n",
            "369 \t Red\n",
            "370 \t The_Blitz\n",
            "371 \t Endangered_Species_Act\n",
            "372 \t Vacuum\n",
            "373 \t Han_dynasty\n",
            "374 \t Greeks\n",
            "375 \t Quran\n",
            "376 \t Great_power\n",
            "377 \t Geography_of_the_United_States\n",
            "378 \t Compact_disc\n",
            "379 \t Transistor\n",
            "380 \t Modern_history\n",
            "381 \t 51st_state\n",
            "382 \t Antenna_(radio)\n",
            "383 \t Flowering_plant\n",
            "384 \t Hyderabad\n",
            "385 \t Santa_Monica,_California\n",
            "386 \t Washington_University_in_St._Louis\n",
            "387 \t Central_Intelligence_Agency\n",
            "388 \t Pain\n",
            "389 \t Database\n",
            "390 \t Tucson,_Arizona\n",
            "391 \t Armenia\n",
            "392 \t Bacteria\n",
            "393 \t Printed_circuit_board\n",
            "394 \t Premier_League\n",
            "395 \t Roman_Republic\n",
            "396 \t Pacific_War\n",
            "397 \t Richmond,_Virginia\n",
            "398 \t San_Diego\n",
            "399 \t Muslim_world\n",
            "400 \t Iran\n",
            "401 \t British_Isles\n",
            "402 \t Association_football\n",
            "403 \t Georgian_architecture\n",
            "404 \t Liberia\n",
            "405 \t Windows_8\n",
            "406 \t Swaziland\n",
            "407 \t Translation\n",
            "408 \t Airport\n",
            "409 \t Kievan_Rus%27\n",
            "410 \t Super_Nintendo_Entertainment_System\n",
            "411 \t Sumer\n",
            "412 \t Tuvalu\n",
            "413 \t Immaculate_Conception\n",
            "414 \t Namibia\n",
            "415 \t Russian_language\n",
            "416 \t United_States_Air_Force\n",
            "417 \t Light-emitting_diode\n",
            "418 \t Bird\n",
            "419 \t Qing_dynasty\n",
            "420 \t Indigenous_peoples_of_the_Americas\n",
            "421 \t Egypt\n",
            "422 \t Mosaic\n",
            "423 \t University\n",
            "424 \t Religion_in_ancient_Rome\n",
            "425 \t YouTube\n",
            "426 \t Separation_of_church_and_state_in_the_United_States\n",
            "427 \t Protestantism\n",
            "428 \t Bras%C3%ADlia\n",
            "429 \t Economy_of_Greece\n",
            "430 \t Party_leaders_of_the_United_States_House_of_Representatives\n",
            "431 \t Armenians\n",
            "432 \t Jehovah%27s_Witnesses\n",
            "433 \t Dwight_D._Eisenhower\n",
            "434 \t The_Bronx\n",
            "435 \t Humanism\n",
            "436 \t Geological_history_of_Earth\n",
            "437 \t Police\n",
            "438 \t Punjab,_Pakistan\n",
            "439 \t Infection\n",
            "440 \t Hunting\n",
            "441 \t Kathmandu\n"
          ],
          "name": "stdout"
        }
      ]
    },
    {
      "cell_type": "code",
      "metadata": {
        "id": "wi0iwFyCxu1k",
        "colab_type": "code",
        "colab": {}
      },
      "source": [
        "data={\"Anti-aircraft_warfare\":data['data'][158],\n",
        "      \"United_States_Air_Force\":data['data'][416]}"
      ],
      "execution_count": 0,
      "outputs": []
    },
    {
      "cell_type": "code",
      "metadata": {
        "id": "20yFdqFAyaiM",
        "colab_type": "code",
        "colab": {
          "base_uri": "https://localhost:8080/",
          "height": 36
        },
        "outputId": "1c3381c7-fbcb-4325-fb77-b9102a524cf7"
      },
      "source": [
        "data['Anti-aircraft_warfare'].keys()"
      ],
      "execution_count": 72,
      "outputs": [
        {
          "output_type": "execute_result",
          "data": {
            "text/plain": [
              "dict_keys(['title', 'paragraphs'])"
            ]
          },
          "metadata": {
            "tags": []
          },
          "execution_count": 72
        }
      ]
    },
    {
      "cell_type": "code",
      "metadata": {
        "id": "VLLifE6dydk5",
        "colab_type": "code",
        "colab": {
          "base_uri": "https://localhost:8080/",
          "height": 36
        },
        "outputId": "54fdf8d4-2150-4149-c9d5-f18263af4d7e"
      },
      "source": [
        "data['Anti-aircraft_warfare']['title']"
      ],
      "execution_count": 73,
      "outputs": [
        {
          "output_type": "execute_result",
          "data": {
            "text/plain": [
              "'Anti-aircraft_warfare'"
            ]
          },
          "metadata": {
            "tags": []
          },
          "execution_count": 73
        }
      ]
    },
    {
      "cell_type": "code",
      "metadata": {
        "id": "SyuN6uJaymuU",
        "colab_type": "code",
        "colab": {
          "base_uri": "https://localhost:8080/",
          "height": 56
        },
        "outputId": "15e9d56e-50fb-428c-af09-1ed1a06519a0"
      },
      "source": [
        "data['Anti-aircraft_warfare']['paragraphs'][1]['context']"
      ],
      "execution_count": 74,
      "outputs": [
        {
          "output_type": "execute_result",
          "data": {
            "text/plain": [
              "'Non-English terms for air defence include the German Flak (Fliegerabwehrkanone, \"aircraft defence cannon\", also cited as Flugabwehrkanone), whence English flak, and the Russian term Protivovozdushnaya oborona (Cyrillic: Противовозду́шная оборо́на), a literal translation of \"anti-air defence\", abbreviated as PVO. In Russian the AA systems are called zenitnye (i.e. \"pointing to zenith\") systems (guns, missiles etc.). In French, air defence is called DCA (Défense contre les aéronefs, \"aéronef\" being the generic term for all kind of airborne device (airplane, airship, balloon, missile, rocket, etc.)).'"
            ]
          },
          "metadata": {
            "tags": []
          },
          "execution_count": 74
        }
      ]
    },
    {
      "cell_type": "code",
      "metadata": {
        "id": "RLw6rhxfzXa_",
        "colab_type": "code",
        "colab": {}
      },
      "source": [
        "paragraph1=[]\n",
        "for i in range(len(data['Anti-aircraft_warfare']['paragraphs'])):\n",
        "  paragraph1.append(data['Anti-aircraft_warfare']['paragraphs'][i]['context'])"
      ],
      "execution_count": 0,
      "outputs": []
    },
    {
      "cell_type": "code",
      "metadata": {
        "id": "-3QqR88E7R-_",
        "colab_type": "code",
        "colab": {}
      },
      "source": [
        "paragraph2=[]\n",
        "for i in range(len(data['United_States_Air_Force']['paragraphs'])):\n",
        "  paragraph2.append(data['United_States_Air_Force']['paragraphs'][i]['context'])"
      ],
      "execution_count": 0,
      "outputs": []
    },
    {
      "cell_type": "code",
      "metadata": {
        "id": "3-fUq6JtzwVb",
        "colab_type": "code",
        "colab": {}
      },
      "source": [
        "from cdqa.utils.filters import filter_paragraphs"
      ],
      "execution_count": 0,
      "outputs": []
    },
    {
      "cell_type": "code",
      "metadata": {
        "id": "-z2YKIka0k_-",
        "colab_type": "code",
        "colab": {
          "base_uri": "https://localhost:8080/",
          "height": 36
        },
        "outputId": "90131693-5a3f-4644-c6ff-48ff9deb0cf6"
      },
      "source": [
        "data['Anti-aircraft_warfare']['title']"
      ],
      "execution_count": 34,
      "outputs": [
        {
          "output_type": "execute_result",
          "data": {
            "text/plain": [
              "'Anti-aircraft_warfare'"
            ]
          },
          "metadata": {
            "tags": []
          },
          "execution_count": 34
        }
      ]
    },
    {
      "cell_type": "code",
      "metadata": {
        "id": "4LVb4K7s0zxW",
        "colab_type": "code",
        "colab": {
          "base_uri": "https://localhost:8080/",
          "height": 36
        },
        "outputId": "aae00263-0867-4257-a5bf-c7774ff598a0"
      },
      "source": [
        "data[\"United_States_Air_Force\"]['title']"
      ],
      "execution_count": 35,
      "outputs": [
        {
          "output_type": "execute_result",
          "data": {
            "text/plain": [
              "'United_States_Air_Force'"
            ]
          },
          "metadata": {
            "tags": []
          },
          "execution_count": 35
        }
      ]
    },
    {
      "cell_type": "code",
      "metadata": {
        "id": "oIo7pWX901m3",
        "colab_type": "code",
        "colab": {
          "base_uri": "https://localhost:8080/",
          "height": 36
        },
        "outputId": "2e66b8ad-2aed-4632-dcef-e21aa7e8a400"
      },
      "source": [
        "list(data.keys())"
      ],
      "execution_count": 77,
      "outputs": [
        {
          "output_type": "execute_result",
          "data": {
            "text/plain": [
              "['Anti-aircraft_warfare', 'United_States_Air_Force']"
            ]
          },
          "metadata": {
            "tags": []
          },
          "execution_count": 77
        }
      ]
    },
    {
      "cell_type": "code",
      "metadata": {
        "id": "Q1G3dYwM1Qcy",
        "colab_type": "code",
        "colab": {}
      },
      "source": [
        "datadict={\n",
        "    'title':list(data.keys()),\n",
        "    'literal_par':[str(paragraph1),str(paragraph2)]\n",
        "}"
      ],
      "execution_count": 0,
      "outputs": []
    },
    {
      "cell_type": "code",
      "metadata": {
        "id": "sGizpUxY1hO1",
        "colab_type": "code",
        "colab": {}
      },
      "source": [
        "import pandas as pd\n",
        "oo=pd.DataFrame(datadict)"
      ],
      "execution_count": 0,
      "outputs": []
    },
    {
      "cell_type": "code",
      "metadata": {
        "id": "DpjET7u71yHJ",
        "colab_type": "code",
        "colab": {
          "base_uri": "https://localhost:8080/",
          "height": 112
        },
        "outputId": "383a8463-c63f-4740-8147-3df6a9389982"
      },
      "source": [
        "oo.head()"
      ],
      "execution_count": 90,
      "outputs": [
        {
          "output_type": "execute_result",
          "data": {
            "text/html": [
              "<div>\n",
              "<style scoped>\n",
              "    .dataframe tbody tr th:only-of-type {\n",
              "        vertical-align: middle;\n",
              "    }\n",
              "\n",
              "    .dataframe tbody tr th {\n",
              "        vertical-align: top;\n",
              "    }\n",
              "\n",
              "    .dataframe thead th {\n",
              "        text-align: right;\n",
              "    }\n",
              "</style>\n",
              "<table border=\"1\" class=\"dataframe\">\n",
              "  <thead>\n",
              "    <tr style=\"text-align: right;\">\n",
              "      <th></th>\n",
              "      <th>title</th>\n",
              "      <th>literal_par</th>\n",
              "    </tr>\n",
              "  </thead>\n",
              "  <tbody>\n",
              "    <tr>\n",
              "      <th>0</th>\n",
              "      <td>Anti-aircraft_warfare</td>\n",
              "      <td>['Anti-aircraft warfare or counter-air defence...</td>\n",
              "    </tr>\n",
              "    <tr>\n",
              "      <th>1</th>\n",
              "      <td>United_States_Air_Force</td>\n",
              "      <td>[\"The United States Air Force (USAF) is the ae...</td>\n",
              "    </tr>\n",
              "  </tbody>\n",
              "</table>\n",
              "</div>"
            ],
            "text/plain": [
              "                     title                                        literal_par\n",
              "0    Anti-aircraft_warfare  ['Anti-aircraft warfare or counter-air defence...\n",
              "1  United_States_Air_Force  [\"The United States Air Force (USAF) is the ae..."
            ]
          },
          "metadata": {
            "tags": []
          },
          "execution_count": 90
        }
      ]
    },
    {
      "cell_type": "code",
      "metadata": {
        "id": "GSmPmn1l10V6",
        "colab_type": "code",
        "colab": {}
      },
      "source": [
        "oo['paragraphs']=oo.literal_par.apply(literal_eval)"
      ],
      "execution_count": 0,
      "outputs": []
    },
    {
      "cell_type": "code",
      "metadata": {
        "id": "i9QVpdW217eO",
        "colab_type": "code",
        "colab": {
          "base_uri": "https://localhost:8080/",
          "height": 112
        },
        "outputId": "53fcb783-5664-4f18-dcda-3d7002dee0d5"
      },
      "source": [
        "oo.head()"
      ],
      "execution_count": 92,
      "outputs": [
        {
          "output_type": "execute_result",
          "data": {
            "text/html": [
              "<div>\n",
              "<style scoped>\n",
              "    .dataframe tbody tr th:only-of-type {\n",
              "        vertical-align: middle;\n",
              "    }\n",
              "\n",
              "    .dataframe tbody tr th {\n",
              "        vertical-align: top;\n",
              "    }\n",
              "\n",
              "    .dataframe thead th {\n",
              "        text-align: right;\n",
              "    }\n",
              "</style>\n",
              "<table border=\"1\" class=\"dataframe\">\n",
              "  <thead>\n",
              "    <tr style=\"text-align: right;\">\n",
              "      <th></th>\n",
              "      <th>title</th>\n",
              "      <th>literal_par</th>\n",
              "      <th>paragraphs</th>\n",
              "    </tr>\n",
              "  </thead>\n",
              "  <tbody>\n",
              "    <tr>\n",
              "      <th>0</th>\n",
              "      <td>Anti-aircraft_warfare</td>\n",
              "      <td>['Anti-aircraft warfare or counter-air defence...</td>\n",
              "      <td>[Anti-aircraft warfare or counter-air defence ...</td>\n",
              "    </tr>\n",
              "    <tr>\n",
              "      <th>1</th>\n",
              "      <td>United_States_Air_Force</td>\n",
              "      <td>[\"The United States Air Force (USAF) is the ae...</td>\n",
              "      <td>[The United States Air Force (USAF) is the aer...</td>\n",
              "    </tr>\n",
              "  </tbody>\n",
              "</table>\n",
              "</div>"
            ],
            "text/plain": [
              "                     title  ...                                         paragraphs\n",
              "0    Anti-aircraft_warfare  ...  [Anti-aircraft warfare or counter-air defence ...\n",
              "1  United_States_Air_Force  ...  [The United States Air Force (USAF) is the aer...\n",
              "\n",
              "[2 rows x 3 columns]"
            ]
          },
          "metadata": {
            "tags": []
          },
          "execution_count": 92
        }
      ]
    },
    {
      "cell_type": "code",
      "metadata": {
        "id": "b-UJOSdl180y",
        "colab_type": "code",
        "colab": {}
      },
      "source": [
        "from cdqa.utils.filters import filter_paragraphs"
      ],
      "execution_count": 0,
      "outputs": []
    },
    {
      "cell_type": "code",
      "metadata": {
        "id": "qlIe6l4I2Lxk",
        "colab_type": "code",
        "colab": {}
      },
      "source": [
        "oo=oo.drop(labels='literal_par',axis=1)"
      ],
      "execution_count": 0,
      "outputs": []
    },
    {
      "cell_type": "code",
      "metadata": {
        "id": "u7p2ULWc2-Es",
        "colab_type": "code",
        "colab": {
          "base_uri": "https://localhost:8080/",
          "height": 112
        },
        "outputId": "d428e19e-ea16-4137-cbd8-fe2bf45b07e3"
      },
      "source": [
        "oo.head()"
      ],
      "execution_count": 95,
      "outputs": [
        {
          "output_type": "execute_result",
          "data": {
            "text/html": [
              "<div>\n",
              "<style scoped>\n",
              "    .dataframe tbody tr th:only-of-type {\n",
              "        vertical-align: middle;\n",
              "    }\n",
              "\n",
              "    .dataframe tbody tr th {\n",
              "        vertical-align: top;\n",
              "    }\n",
              "\n",
              "    .dataframe thead th {\n",
              "        text-align: right;\n",
              "    }\n",
              "</style>\n",
              "<table border=\"1\" class=\"dataframe\">\n",
              "  <thead>\n",
              "    <tr style=\"text-align: right;\">\n",
              "      <th></th>\n",
              "      <th>title</th>\n",
              "      <th>paragraphs</th>\n",
              "    </tr>\n",
              "  </thead>\n",
              "  <tbody>\n",
              "    <tr>\n",
              "      <th>0</th>\n",
              "      <td>Anti-aircraft_warfare</td>\n",
              "      <td>[Anti-aircraft warfare or counter-air defence ...</td>\n",
              "    </tr>\n",
              "    <tr>\n",
              "      <th>1</th>\n",
              "      <td>United_States_Air_Force</td>\n",
              "      <td>[The United States Air Force (USAF) is the aer...</td>\n",
              "    </tr>\n",
              "  </tbody>\n",
              "</table>\n",
              "</div>"
            ],
            "text/plain": [
              "                     title                                         paragraphs\n",
              "0    Anti-aircraft_warfare  [Anti-aircraft warfare or counter-air defence ...\n",
              "1  United_States_Air_Force  [The United States Air Force (USAF) is the aer..."
            ]
          },
          "metadata": {
            "tags": []
          },
          "execution_count": 95
        }
      ]
    },
    {
      "cell_type": "code",
      "metadata": {
        "id": "zv9hMkjD2_7Q",
        "colab_type": "code",
        "colab": {
          "base_uri": "https://localhost:8080/",
          "height": 1000
        },
        "outputId": "3be47d53-09ee-4e74-928c-d18afe49b201"
      },
      "source": [
        "oo.iloc[1].paragraphs"
      ],
      "execution_count": 105,
      "outputs": [
        {
          "output_type": "execute_result",
          "data": {
            "text/plain": [
              "[\"The United States Air Force (USAF) is the aerial warfare service branch of the United States Armed Forces and one of the seven American uniformed services. Initially part of the United States Army, the USAF was formed as a separate branch of the military on 18 September 1947 under the National Security Act of 1947. It is the most recent branch of the U.S. military to be formed, and is the largest and one of the world's most technologically advanced air forces. The USAF articulates its core functions as Nuclear Deterrence Operations, Special Operations, Air Superiority, Global Integrated ISR, Space Superiority, Command and Control, Cyberspace Superiority, Personnel Recovery, Global Precision Attack, Building Partnerships, Rapid Global Mobility and Agile Combat Support.\",\n",
              " 'The U.S. Air Force is a military service organized within the Department of the Air Force, one of the three military departments of the Department of Defense. The Air Force is headed by the civilian Secretary of the Air Force, who reports to the Secretary of Defense, and is appointed by the President with Senate confirmation. The highest-ranking military officer in the Department of the Air Force is the Chief of Staff of the Air Force, who exercises supervision over Air Force units, and serves as a member of the Joint Chiefs of Staff. Air Force combat and mobility forces are assigned, as directed by the Secretary of Defense, to the Combatant Commanders, and neither the Secretary of the Air Force nor the Chief of Staff have operational command authority over them.',\n",
              " 'Recently, the Air Force refined its understanding of the core duties and responsibilities it performs as a Military Service Branch, streamlining what previously were six distinctive capabilities and seventeen operational functions into twelve core functions to be used across the doctrine, organization, training, equipment, leadership, and education, personnel, and facilities spectrum. These core functions express the ways in which the Air Force is particularly and appropriately suited to contribute to national security, but they do not necessarily express every aspect of what the Air Force contributes to the nation. It should be emphasized that the core functions, by themselves, are not doctrinal constructs.',\n",
              " \"Assure/Dissuade/Deter is a mission set derived from the Air Force's readiness to carry out the nuclear strike operations mission as well as from specific actions taken to assure allies as a part of extended deterrence. Dissuading others from acquiring or proliferating WMD, and the means to deliver them, contributes to promoting security and is also an integral part of this mission. Moreover, different deterrence strategies are required to deter various adversaries, whether they are a nation state, or non-state/transnational actor. The Air Force maintains and presents credible deterrent capabilities through successful visible demonstrations and exercises which assure allies, dissuade proliferation, deter potential adversaries from actions that threaten US national security or the populations and deployed military forces of the US, its allies and friends.\",\n",
              " 'Nuclear strike is the ability of nuclear forces to rapidly and accurately strike targets which the enemy holds dear in a devastating manner. If a crisis occurs, rapid generation and, if necessary, deployment of nuclear strike capabilities will demonstrate US resolve and may prompt an adversary to alter the course of action deemed threatening to our national interest. Should deterrence fail, the President may authorize a precise, tailored response to terminate the conflict at the lowest possible level and lead to a rapid cessation of hostilities. Post-conflict, regeneration of a credible nuclear deterrent capability will deter further aggression. The Air Force may present a credible force posture in either the Continental United States, within a theater of operations, or both to effectively deter the range of potential adversaries envisioned in the 21st century. This requires the ability to engage targets globally using a variety of methods; therefore, the Air Force should possess the ability to induct, train, assign, educate and exercise individuals and units to rapidly and effectively execute missions that support US NDO objectives. Finally, the Air Force regularly exercises and evaluates all aspects of nuclear operations to ensure high levels of performance.',\n",
              " \"Nuclear surety ensures the safety, security and effectiveness of nuclear operations. Because of their political and military importance, destructive power, and the potential consequences of an accident or unauthorized act, nuclear weapons and nuclear weapon systems require special consideration and protection against risks and threats inherent in their peacetime and wartime environments. The Air Force, in conjunction with other entities within the Departments of Defense or Energy, achieves a high standard of protection through a stringent nuclear surety program. This program applies to materiel, personnel, and procedures that contribute to the safety, security, and control of nuclear weapons, thus assuring no nuclear accidents, incidents, loss, or unauthorized or accidental use (a Broken Arrow incident). The Air Force continues to pursue safe, secure and effective nuclear weapons consistent with operational requirements. Adversaries, allies, and the American people must be highly confident of the Air Force's ability to secure nuclear weapons from accidents, theft, loss, and accidental or unauthorized use. This day-to-day commitment to precise and reliable nuclear operations is the cornerstone of the credibility of the NDO mission. Positive nuclear command, control, communications; effective nuclear weapons security; and robust combat support are essential to the overall NDO function.\",\n",
              " 'Offensive Counterair (OCA) is defined as \"offensive operations to destroy, disrupt, or neutralize enemy aircraft, missiles, launch platforms, and their supporting structures and systems both before and after launch, but as close to their source as possible\" (JP 1-02). OCA is the preferred method of countering air and missile threats, since it attempts to defeat the enemy closer to its source and typically enjoys the initiative. OCA comprises attack operations, sweep, escort, and suppression/destruction of enemy air defense.',\n",
              " 'Defensive Counterair (DCA) is defined as \"all the defensive measures designed to detect, identify, intercept, and destroy or negate enemy forces attempting to penetrate or attack through friendly airspace\" (JP 1-02). A major goal of DCA operations, in concert with OCA operations, is to provide an area from which forces can operate, secure from air and missile threats. The DCA mission comprises both active and passive defense measures. Active defense is \"the employment of limited offensive action and counterattacks to deny a contested area or position to the enemy\" (JP 1-02). It includes both ballistic missile defense and air breathing threat defense, and encompasses point defense, area defense, and high value airborne asset defense. Passive defense is \"measures taken to reduce the probability of and to minimize the effects of damage caused by hostile action without the intention of taking the initiative\" (JP 1-02). It includes detection and warning; chemical, biological, radiological, and nuclear defense; camouflage, concealment, and deception; hardening; reconstitution; dispersion; redundancy; and mobility, counter-measures, and stealth.',\n",
              " 'Space superiority is \"the degree of dominance in space of one force over another that permits the conduct of operations by the former and its related land, sea, air, space, and special operations forces at a given time and place without prohibitive interference by the opposing force\" (JP 1-02). Space superiority may be localized in time and space, or it may be broad and enduring. Space superiority provides freedom of action in space for friendly forces and, when directed, denies the same freedom to the adversary.',\n",
              " 'Space Control is defined as \"operations to ensure freedom of action in space for the US and its allies and, when directed, deny an adversary freedom of action in space. This mission area includes: operations conducted to protect friendly space capabilities from attack, interference, or unintentional hazards (defensive space control); operations to deny an adversary\\'s use of space capabilities (offensive space control); and the requisite current and predictive knowledge of the space environment and the operational environment upon which space operations depend (space situational awareness)\" (JP 1-02).',\n",
              " \"This is the passive, active, and dynamic employment of capabilities to respond to imminent or on-going actions against Air Force or Air Force-protected networks, the Air Force's portion of the Global Information Grid, or expeditionary communications assigned to the Air Force. Cyberspace defense incorporates CNE, computer network defense (CND), and CNA techniques and may be a contributor to influence operations. It is highly dependent upon ISR, fused all-source intelligence, automated indications and warning, sophisticated attribution/characterization, situational awareness, assessment, and responsive C2.\",\n",
              " 'Cyberspace Support is foundational, continuous, or responsive operations ensuring information integrity and availability in, through, and from Air Force-controlled infrastructure and its interconnected analog and digital portion of the battle space. Inherent in this mission is the ability to establish, extend, secure, protect, and defend in order to sustain assigned networks and missions. This includes protection measures against supply chain components plus critical C2 networks/communications links and nuclear C2 networks. The cyberspace support mission incorporates CNE and CND techniques. It incorporates all elements of Air Force Network Operations, information transport, enterprise management, and information assurance, and is dependent on ISR and all-source intelligence.',\n",
              " 'Command and control is \"the exercise of authority and direction by a properly designated commander over assigned and attached forces in the accomplishment of the mission. Command and control functions are performed through an arrangement of personnel, equipment, communications, facilities, and procedures employed by a commander in planning, directing, coordinating, and controlling forces and operations in the accomplishment of the mission\" (JP 1-02). This core function includes all of the C2-related capabilities and activities associated with air, space, cyberspace, nuclear, and agile combat support operations to achieve strategic, operational, and tactical objectives.',\n",
              " 'Planning and Directing is \"the determination of intelligence requirements, development of appropriate intelligence architecture, preparation of a collection plan, and issuance of orders and requests to information collection agencies\" (JP 2-01, Joint and National Intelligence Support to Military Operations). These activities enable the synchronization and integration of collection, processing, exploitation, analysis, and dissemination activities/resources to meet information requirements of national and military decision makers.',\n",
              " 'Special Operations are \"operations conducted in hostile, denied, or politically sensitive environments to achieve military, diplomatic, informational, and/or economic objectives employing military capabilities for which there is no broad conventional force requirement. These operations may require covert, clandestine, or low-visibility capabilities. Special operations are applicable across the ROMO. They can be conducted independently or in conjunction with operations of conventional forces or other government agencies and may include operations through, with, or by indigenous or surrogate forces. Special operations differ from conventional operations in degree of physical and political risk, operational techniques, mode of employment, independence from friendly support, and dependence on detailed operational intelligence and indigenous assets\" (JP 1-02).',\n",
              " 'Airlift is \"operations to transport and deliver forces and materiel through the air in support of strategic, operational, or tactical objectives\" (AFDD 3–17, Air Mobility Operations). The rapid and flexible options afforded by airlift allow military forces and national leaders the ability to respond and operate in a variety of situations and time frames. The global reach capability of airlift provides the ability to apply US power worldwide by delivering forces to crisis locations. It serves as a US presence that demonstrates resolve and compassion in humanitarian crisis.',\n",
              " 'Aeromedical Evacuation is \"the movement of patients under medical supervision to and between medical treatment facilities by air transportation\" (JP 1-02). JP 4-02, Health Service Support, further defines it as \"the fixed wing movement of regulated casualties to and between medical treatment facilities, using organic and/or contracted mobility airframes, with aircrew trained explicitly for this mission.\" Aeromedical evacuation forces can operate as far forward as fixed-wing aircraft are able to conduct airland operations.',\n",
              " 'Personnel Recovery (PR) is defined as \"the sum of military, diplomatic, and civil efforts to prepare for and execute the recovery and reintegration of isolated personnel\" (JP 1-02). It is the ability of the US government and its international partners to effect the recovery of isolated personnel across the ROMO and return those personnel to duty. PR also enhances the development of an effective, global capacity to protect and recover isolated personnel wherever they are placed at risk; deny an adversary\\'s ability to exploit a nation through propaganda; and develop joint, interagency, and international capabilities that contribute to crisis response and regional stability.',\n",
              " 'Humanitarian Assistance Operations are \"programs conducted to relieve or reduce the results of natural or manmade disasters or other endemic conditions such as human pain, disease, hunger, or privation that might present a serious threat to life or that can result in great damage to or loss of property. Humanitarian assistance provided by US forces is limited in scope and duration. The assistance provided is designed to supplement or complement the efforts of the host nation civil authorities or agencies that may have the primary responsibility for providing humanitarian assistance\" (JP 1-02).',\n",
              " 'Building Partnerships is described as airmen interacting with international airmen and other relevant actors to develop, guide, and sustain relationships for mutual benefit and security. Building Partnerships is about interacting with others and is therefore an inherently inter-personal and cross-cultural undertaking. Through both words and deeds, the majority of interaction is devoted to building trust-based relationships for mutual benefit. It includes both foreign partners as well as domestic partners and emphasizes collaboration with foreign governments, militaries and populations as well as US government departments, agencies, industry, and NGOs. To better facilitate partnering efforts, Airmen should be competent in the relevant language, region, and culture.',\n",
              " 'The U.S. War Department created the first antecedent of the U.S. Air Force in 1907, which through a succession of changes of organization, titles, and missions advanced toward eventual separation 40 years later. In World War II, almost 68,000 U.S airmen died helping to win the war; only the infantry suffered more enlisted casualties. In practice, the U.S. Army Air Forces (USAAF) was virtually independent of the Army during World War II, but officials wanted formal independence. The National Security Act of 1947 was signed on on 26 July 1947 by President Harry S Truman, which established the Department of the Air Force, but it was not not until 18 September 1947, when the first secretary of the Air Force, W. Stuart Symington was sworn into office that the Air Force was officially formed.',\n",
              " 'The act created the National Military Establishment (renamed Department of Defense in 1949), which was composed of three subordinate Military Departments, namely the Department of the Army, the Department of the Navy, and the newly created Department of the Air Force. Prior to 1947, the responsibility for military aviation was shared between the Army (for land-based operations), the Navy (for sea-based operations from aircraft carriers and amphibious aircraft), and the Marine Corps (for close air support of infantry operations). The 1940s proved to be important in other ways as well. In 1947, Captain Chuck Yeager broke the sound barrier in his X-1 rocket-powered aircraft, beginning a new era of aeronautics in America.',\n",
              " 'During the early 2000s, the USAF fumbled several high profile aircraft procurement projects, such as the missteps on the KC-X program. Winslow Wheeler has written that this pattern represents \"failures of intellect and – much more importantly – ethics.\" As a result, the USAF fleet is setting new records for average aircraft age and needs to replace its fleets of fighters, bombers, airborne tankers, and airborne warning aircraft, in an age of restrictive defense budgets. Finally in the midst of scandal and failure in maintaining its nuclear arsenal, the civilian and military leaders of the air force were replaced in 2008.',\n",
              " 'Since 2005, the USAF has placed a strong focus on the improvement of Basic Military Training (BMT) for enlisted personnel. While the intense training has become longer, it also has shifted to include a deployment phase. This deployment phase, now called the BEAST, places the trainees in a surreal environment that they may experience once they deploy. While the trainees do tackle the massive obstacle courses along with the BEAST, the other portions include defending and protecting their base of operations, forming a structure of leadership, directing search and recovery, and basic self aid buddy care. During this event, the Military Training Instructors (MTI) act as mentors and enemy forces in a deployment exercise.',\n",
              " \"In 2007, the USAF undertook a Reduction-in-Force (RIF). Because of budget constraints, the USAF planned to reduce the service's size from 360,000 active duty personnel to 316,000. The size of the active duty force in 2007 was roughly 64% of that of what the USAF was at the end of the first Gulf War in 1991. However, the reduction was ended at approximately 330,000 personnel in 2008 in order to meet the demand signal of combatant commanders and associated mission requirements. These same constraints have seen a sharp reduction in flight hours for crew training since 2005 and the Deputy Chief of Staff for Manpower and Personnel directing Airmen's Time Assessments.\",\n",
              " 'On 5 June 2008, Secretary of Defense Robert Gates, accepted the resignations of both the Secretary of the Air Force, Michael Wynne, and the Chief of Staff of the United States Air Force, General T. Michael Moseley. Gates in effect fired both men for \"systemic issues associated with declining Air Force nuclear mission focus and performance.\" This followed an investigation into two embarrassing incidents involving mishandling of nuclear weapons: specifically a nuclear weapons incident aboard a B-52 flight between Minot AFB and Barksdale AFB, and an accidental shipment of nuclear weapons components to Taiwan. The resignations were also the culmination of disputes between the Air Force leadership, populated primarily by non-nuclear background fighter pilots, versus Gates. To put more emphasis on nuclear assets, the USAF established the nuclear-focused Air Force Global Strike Command on 24 October 2008.',\n",
              " 'Due to the Budget sequestration in 2013, the USAF was forced to ground many of its squadrons. The Commander of Air Combat Command, General Mike Hostage indicated that the USAF must reduce its F-15 and F-16 fleets and eliminate platforms like the A-10 in order to focus on a fifth-generation jet fighter future. In response to squadron groundings and flight time reductions, many Air Force pilots have opted to resign from active duty and enter the Air Force Reserve and Air National Guard while pursuing careers in the commercial airlines where they can find flight hours on more modern aircraft.',\n",
              " 'Specific concerns include a compounded inability for the Air Force to replace its aging fleet, and an overall reduction of strength and readiness. The USAF attempted to make these adjustments by primarily cutting the Air National Guard and Air Force Reserve aircraft fleets and their associated manpower, but Congress reversed this initiative and the majority of the lost manpower will come from the active forces. However, Congress did allow for $208 million of reprogramming from fleet modernization to enable some portion of the third of the grounded fleet to resume operations.',\n",
              " 'The Department of the Air Force is one of three military departments within the Department of Defense, and is managed by the civilian Secretary of the Air Force, under the authority, direction, and control of the Secretary of Defense. The senior officials in the Office of the Secretary are the Under Secretary of the Air Force, four Assistant Secretaries of the Air Force and the General Counsel, all of whom are appointed by the President with the advice and consent of the Senate. The senior uniformed leadership in the Air Staff is made up of the Chief of Staff of the Air Force and the Vice Chief of Staff of the Air Force.',\n",
              " 'The organizational structure as shown above is responsible for the peacetime organization, equipping, and training of aerospace units for operational missions. When required to support operational missions, the Secretary of Defense (SECDEF) directs the Secretary of the Air Force (SECAF) to execute a Change in Operational Control (CHOP) of these units from their administrative alignment to the operational command of a Regional Combatant Commander (CCDR). In the case of AFSPC, AFSOC, PACAF, and USAFE units, forces are normally employed in-place under their existing CCDR. Likewise, AMC forces operating in support roles retain their componency to USTRANSCOM unless chopped to a Regional CCDR.',\n",
              " '\"Chopped\" units are referred to as forces. The top-level structure of these forces is the Air and Space Expeditionary Task Force (AETF). The AETF is the Air Force presentation of forces to a CCDR for the employment of Air Power. Each CCDR is supported by a standing Component Numbered Air Force (C-NAF) to provide planning and execution of aerospace forces in support of CCDR requirements. Each C-NAF consists of a Commander, Air Force Forces (COMAFFOR) and AFFOR/A-staff, and an Air Operations Center (AOC). As needed to support multiple Joint Force Commanders (JFC) in the COCOM\\'s Area of Responsibility (AOR), the C-NAF may deploy Air Component Coordinate Elements (ACCE) to liaise with the JFC. If the Air Force possesses the preponderance of air forces in a JFC\\'s area of operations, the COMAFFOR will also serve as the Joint Forces Air Component Commander (JFACC).',\n",
              " 'AFSCs range from officer specialties such as pilot, combat systems officer, missile launch officer, intelligence officer, aircraft maintenance officer, judge advocate general (JAG), medical doctor, nurse or other fields, to various enlisted specialties. The latter range from flight combat operations such as a gunner, to working in a dining facility to ensure that members are properly fed. There are additional occupational fields such as computer specialties, mechanic specialties, enlisted aircrew, communication systems, cyberspace operations, avionics technicians, medical specialties, civil engineering, public affairs, hospitality, law, drug counseling, mail operations, security forces, and search and rescue specialties.',\n",
              " 'Beyond combat flight crew personnel, perhaps the most dangerous USAF jobs are Explosive Ordnance Disposal (EOD), Combat rescue officer, Pararescue, Security Forces, Combat Control, Combat Weather, Tactical Air Control Party, and AFOSI agents, who deploy with infantry and special operations units who disarm bombs, rescue downed or isolated personnel, call in air strikes and set up landing zones in forward locations. Most of these are enlisted positions augmented by a smaller number of commissioned officers. Other career fields that have seen increasing exposure to combat include civil engineers, vehicle operators, and Air Force Office of Special Investigations (AFOSI) personnel.',\n",
              " \"Training programs vary in length; for example, 3M0X1 (Services) has 31 days of tech school training, while 3E8X1 (Explosive Ordnance Disposal) is one year of training with a preliminary school and a main school consisting of over 10 separate divisions, sometimes taking students close to two years to complete. Officer technical training conducted by Second Air Force can also vary by AFSC, while flight training for aeronautically-rated officers conducted by AETC's Nineteenth Air Force can last well in excess of one year.\",\n",
              " 'USAF rank is divided between enlisted airmen, non-commissioned officers, and commissioned officers, and ranges from the enlisted Airman Basic (E-1) to the commissioned officer rank of General (O-10). Enlisted promotions are granted based on a combination of test scores, years of experience, and selection board approval while officer promotions are based on time-in-grade and a promotion selection board. Promotions among enlisted personnel and non-commissioned officers are generally designated by increasing numbers of insignia chevrons. Commissioned officer rank is designated by bars, oak leaves, a silver eagle, and anywhere from one to four stars (one to five stars in war-time).[citation needed]',\n",
              " 'Air Force officer promotions are governed by the Defense Officer Personnel Management Act of 1980 and its companion Reserve Officer Personnel Management Act (ROPMA) for officers in the Air Force Reserve and the Air National Guard. DOPMA also establishes limits on the number of officers that can serve at any given time in the Air Force. Currently, promotion from second lieutenant to first lieutenant is virtually guaranteed after two years of satisfactory service. The promotion from first lieutenant to captain is competitive after successfully completing another two years of service, with a selection rate varying between 99% and 100%. Promotion to major through major general is through a formal selection board process, while promotions to lieutenant general and general are contingent upon nomination to specific general officer positions and subject to U.S. Senate approval.',\n",
              " 'During the board process an officer\\'s record is reviewed by a selection board at the Air Force Personnel Center at Randolph Air Force Base in San Antonio, Texas. At the 10 to 11 year mark, captains will take part in a selection board to major. If not selected, they will meet a follow-on board to determine if they will be allowed to remain in the Air Force. Promotion from major to lieutenant colonel is similar and occurs approximately between the thirteen year (for officers who were promoted to major early \"below the zone\") and the fifteen year mark, where a certain percentage of majors will be selected below zone (i.e., \"early\"), in zone (i.e., \"on time\") or above zone (i.e., \"late\") for promotion to lieutenant colonel. This process will repeat at the 16 year mark (for officers previously promoted early to major and lieutenant colonel) to the 21 year mark for promotion to full colonel.',\n",
              " 'Although provision is made in Title 10 of the United States Code for the Secretary of the Air Force to appoint warrant officers, the Air Force does not currently use warrant officer grades, and is the only one of the U.S. Armed Services not to do so. The Air Force inherited warrant officer ranks from the Army at its inception in 1947, but their place in the Air Force structure was never made clear.[citation needed] When the Congress authorized the creation of two new senior enlisted ranks in 1958, Air Force officials privately concluded that these two new \"super grades\" could fill all Air Force needs then performed at the warrant officer level, although this was not publicly acknowledged until years later.[citation needed] The Air Force stopped appointing warrant officers in 1959, the same year the first promotions were made to the new top enlisted grade, Chief Master Sergeant. Most of the existing Air Force warrant officers entered the commissioned officer ranks during the 1960s, but small numbers continued to exist in the warrant officer grades for the next 21 years.',\n",
              " 'Enlisted members of the USAF have pay grades from E-1 (entry level) to E-9 (senior enlisted). While all USAF military personnel are referred to as Airmen, the term also refers to the pay grades of E-1 through E-4, which are below the level of non-commissioned officers (NCOs). Above the pay grade of E-4 (i.e., pay grades E-5 through E-9) all ranks fall into the category of NCO and are further subdivided into \"NCOs\" (pay grades E-5 and E-6) and \"Senior NCOs\" (pay grades E-7 through E-9); the term \"Junior NCO\" is sometimes used to refer to staff sergeants and technical sergeants (pay grades E-5 and E-6).',\n",
              " 'The USAF is the only branch of the U.S. military where NCO status is achieved when an enlisted person reaches the pay grade of E-5. In all other branches, NCO status is generally achieved at the pay grade of E-4 (e.g., a Corporal in the Army and Marine Corps, Petty Officer Third Class in the Navy and Coast Guard). The Air Force mirrored the Army from 1976 to 1991 with an E-4 being either a Senior Airman wearing three stripes without a star or a Sergeant (referred to as \"Buck Sergeant\"), which was noted by the presence of the central star and considered an NCO. Despite not being an NCO, a Senior Airman who has completed Airman Leadership School can be a supervisor according to the AFI 36-2618.',\n",
              " 'The first USAF dress uniform, in 1947, was dubbed and patented \"Uxbridge Blue\" after \"Uxbridge 1683 Blue\", developed at the former Bachman-Uxbridge Worsted Company. The current Service Dress Uniform, which was adopted in 1993 and standardized in 1995, consists of a three-button, pocketless coat, similar to that of a men\\'s \"sport jacket\" (with silver \"U.S.\" pins on the lapels, with a silver ring surrounding on those of enlisted members), matching trousers, and either a service cap or flight cap, all in Shade 1620, \"Air Force Blue\" (a darker purplish-blue). This is worn with a light blue shirt (Shade 1550) and Shade 1620 herringbone patterned necktie. Enlisted members wear sleeve insignia on both the jacket and shirt, while officers wear metal rank insignia pinned onto the coat, and Air Force Blue slide-on epaulet loops on the shirt. USAF personnel assigned to Base Honor Guard duties wear, for certain occasions, a modified version of the standard service dress uniform, but with silver trim on the sleeves and trousers, with the addition of a ceremonial belt (if necessary), wheel cap with silver trim and Hap Arnold Device, and a silver aiguillette placed on the left shoulder seam and all devices and accoutrement.',\n",
              " 'In addition to basic uniform clothing, various badges are used by the USAF to indicate a billet assignment or qualification-level for a given assignment. Badges can also be used as merit-based or service-based awards. Over time, various badges have been discontinued and are no longer distributed. Authorized badges include the Shields of USAF Fire Protection, and Security Forces, and the Missile Badge (or \"pocket rocket\"), which is earned after working in a missile system maintenance or missile operations capacity for at least one year.',\n",
              " 'Officers may be commissioned upon graduation from the United States Air Force Academy, upon graduation from another college or university through the Air Force Reserve Officer Training Corps (AFROTC) program, or through the Air Force Officer Training School (OTS). OTS, previously located at Lackland AFB, Texas until 1993 and located at Maxwell Air Force Base in Montgomery, Alabama since 1993, in turn encompasses two separate commissioning programs: Basic Officer Training (BOT), which is for line-officer candidates of the active-duty Air Force and the U.S. Air Force Reserve; and the Academy of Military Science (AMS), which is for line-officer candidates of the Air National Guard. (The term \"line officer\" derives from the concept of the line of battle and refers to an officer whose role falls somewhere within the \"Line of the Air\", meaning combat or combat-support operations within the scope of legitimate combatants as defined by the Geneva Conventions.)',\n",
              " 'The Air Force also provides Commissioned Officer Training (COT) for officers of all three components who are direct-commissioned to non-line positions due to their credentials in medicine, law, religion, biological sciences, or healthcare administration. Originally viewed as a \"knife and fork school\" that covered little beyond basic wear of the uniform, COT in recent years has been fully integrated into the OTS program and today encompasses extensive coursework as well as field exercises in leadership, confidence, fitness, and deployed-environment operations.',\n",
              " 'The US Air Force Fitness Test (AFFT) is designed to test the abdominal circumference, muscular strength/endurance and cardiovascular respiratory fitness of airmen in the USAF. As part of the Fit to Fight program, the USAF adopted a more stringent physical fitness assessment; the new fitness program was put into effect on 1 June 2010. The annual ergo-cycle test which the USAF had used for several years had been replaced in 2004. In the AFFT, Airmen are given a score based on performance consisting of four components: waist circumference, the sit-up, the push-up, and a 1.5-mile (2.4 km) run. Airmen can potentially earn a score of 100, with the run counting as 60%, waist circumference as 20%, and both strength test counting as 10% each. A passing score is 75 points. Effective 1 July 2010, the AFFT is administered by the base Fitness Assessment Cell (FAC), and is required twice a year. Personnel may test once a year if he or she earns a score above a 90%. Additionally, only meeting the minimum standards on each one of these tests will not get you a passing score of 75%, and failing any one component will result in a failure for the entire test.',\n",
              " \"The ground-attack aircraft of the USAF are designed to attack targets on the ground and are often deployed as close air support for, and in proximity to, U.S. ground forces. The proximity to friendly forces require precision strikes from these aircraft that are not possible with bomber aircraft listed below. They are typically deployed as close air support to ground forces, their role is tactical rather than strategic, operating at the front of the battle rather than against targets deeper in the enemy's rear.\",\n",
              " \"In the US Air Force, the distinction between bombers, fighters that are actually fighter-bombers, and attack aircraft has become blurred. Many attack aircraft, even ones that look like fighters, are optimized to drop bombs, with very little ability to engage in aerial combat. Many fighter aircraft, such as the F-16, are often used as 'bomb trucks', despite being designed for aerial combat. Perhaps the one meaningful distinction at present is the question of range: a bomber is generally a long-range aircraft capable of striking targets deep within enemy territory, whereas fighter bombers and attack aircraft are limited to 'theater' missions in and around the immediate area of battlefield combat. Even that distinction is muddied by the availability of aerial refueling, which greatly increases the potential radius of combat operations. The US, Russia, and the People's Republic of China operate strategic bombers.\",\n",
              " \"The service's B-2A aircraft entered service in the 1990s, its B-1B aircraft in the 1980s and its current B-52H aircraft in the early 1960s. The B-52 Stratofortress airframe design is over 60 years old and the B-52H aircraft currently in the active inventory were all built between 1960 and 1962. The B-52H is scheduled to remain in service for another 30 years, which would keep the airframe in service for nearly 90 years, an unprecedented length of service for any aircraft. The B-21 is projected to replace the B-52 and parts of the B-1B force by the mid-2020s.\",\n",
              " 'Cargo and transport aircraft are typically used to deliver troops, weapons and other military equipment by a variety of methods to any area of military operations around the world, usually outside of the commercial flight routes in uncontrolled airspace. The workhorses of the USAF Air Mobility Command are the C-130 Hercules, C-17 Globemaster III, and C-5 Galaxy. These aircraft are largely defined in terms of their range capability as strategic airlift (C-5), strategic/tactical (C-17), and tactical (C-130) airlift to reflect the needs of the land forces they most often support. The CV-22 is used by the Air Force for the U.S. Special Operations Command (USSOCOM). It conducts long-range, special operations missions, and is equipped with extra fuel tanks and terrain-following radar. Some aircraft serve specialized transportation roles such as executive/embassy support (C-12), Antarctic Support (LC-130H), and USSOCOM support (C-27J, C-145A, and C-146A). The WC-130H aircraft are former weather reconnaissance aircraft, now reverted to the transport mission.',\n",
              " 'The purpose of electronic warfare is to deny the opponent an advantage in the EMS and ensure friendly, unimpeded access to the EM spectrum portion of the information environment. Electronic warfare aircraft are used to keep airspaces friendly, and send critical information to anyone who needs it. They are often called \"The Eye in the Sky.\" The roles of the aircraft vary greatly among the different variants to include Electronic Warfare/Jamming (EC-130H), Psychological Operations/Communications (EC-130J), Airborne Early Warning and Control (E-3), Airborne Command Post (E-4B), ground targeting radar (E-8C), range control (E-9A), and communications relay (E-11A)',\n",
              " 'The fighter aircraft of the USAF are small, fast, and maneuverable military aircraft primarily used for air-to-air combat. Many of these fighters have secondary ground-attack capabilities, and some are dual-roled as fighter-bombers (e.g., the F-16 Fighting Falcon); the term \"fighter\" is also sometimes used colloquially for dedicated ground-attack aircraft. Other missions include interception of bombers and other fighters, reconnaissance, and patrol. The F-16 is currently used by the USAF Air Demonstration squadron, the Thunderbirds, while a small number of both man-rated and non-man-rated F-4 Phantom II are retained as QF-4 aircraft for use as Full Scale Aerial Targets (FSAT) or as part of the USAF Heritage Flight program. These extant QF-4 aircraft are being replaced in the FSAT role by early model F-16 aircraft converted to QF-16 configuration. The USAF has 2,025 fighters in service as of September 2012.',\n",
              " 'The USAF\\'s KC-135 and KC-10 aerial refueling aircraft are based on civilian jets. The USAF aircraft are equipped primarily for providing the fuel via a tail-mounted refueling boom, and can be equipped with \"probe and drogue\" refueling systems. Air-to-air refueling is extensively used in large-scale operations and also used in normal operations; fighters, bombers, and cargo aircraft rely heavily on the lesser-known \"tanker\" aircraft. This makes these aircraft an essential part of the Air Force\\'s global mobility and the U.S. force projection. The KC-46A Pegasus is undergoing testing and is projected to be delivered to USAF units starting in 2017.',\n",
              " \"In response to the 2007 United States Air Force nuclear weapons incident, Secretary of Defense Robert Gates accepted in June 2009 the resignations of Secretary of the Air Force Michael Wynne and the Chief of Staff of the Air Force General T. Michael Moseley. Moseley's successor, General Norton A. Schwartz, a former tactical airlift and special operations pilot was the first officer appointed to that position who did not have a background as a fighter or bomber pilot. The Washington Post reported in 2010 that General Schwartz began to dismantle the rigid class system of the USAF, particularly in the officer corps.\",\n",
              " 'Daniel L. Magruder, Jr defines USAF culture as a combination of the rigorous application of advanced technology, individualism and progressive airpower theory. Major General Charles J. Dunlap, Jr. adds that the U.S. Air Force\\'s culture also includes an egalitarianism bred from officers perceiving themselves as their service\\'s principal \"warriors\" working with small groups of enlisted airmen either as the service crew or the onboard crew of their aircraft. Air Force officers have never felt they needed the formal social \"distance\" from their enlisted force that is common in the other U.S. armed services. Although the paradigm is changing, for most of its history, the Air Force, completely unlike its sister services, has been an organization in which mostly its officers fought, not its enlisted force, the latter being primarily a rear echelon support force. When the enlisted force did go into harm\\'s way, such as members of multi-crewed aircraft, the close comradeship of shared risk in tight quarters created traditions that shaped a somewhat different kind of officer/enlisted relationship than exists elsewhere in the military.',\n",
              " \"Cultural and career issues in the U.S. Air Force have been cited as one of the reasons for the shortfall in needed UAV operators. In spite of an urgent need for UAVs or drones to provide round the clock coverage for American troops during the Iraq War, the USAF did not establish a new career field for piloting them until the last year of that war and in 2014 changed its RPA training syllabus again, in the face of large aircraft losses in training, and in response to a GAO report critical of handling of drone programs. Paul Scharre has reported that the cultural divide between the USAF and US Army has kept both services from adopting each other's drone handing innovations.\",\n",
              " 'Many of the U.S. Air Force\\'s formal and informal traditions are an amalgamation of those taken from the Royal Air Force (e.g., dining-ins/mess nights) or the experiences of its predecessor organizations such as the U.S. Army Air Service, U.S. Army Air Corps and the U.S. Army Air Forces. Some of these traditions range from \"Friday Name Tags\" in flying units to an annual \"Mustache Month.\" The use of \"challenge coins\" is a recent innovation that was adopted from the U.S. Army while another cultural tradition unique to the Air Force is the \"roof stomp\", practiced by Air Force members to welcome a new commander or to commemorate another event, such as a retirement.',\n",
              " 'The United States Air Force has had numerous recruiting slogans including \"No One Comes Close\" and Uno Ab Alto (\"One From On High\"). For many years, the U.S. Air Force used \"Aim High\" as its recruiting slogan; more recently, they have used \"Cross into the Blue\", \"We\\'ve been waiting for you\" and \"Do Something Amazing\", \"Above All\", and the newest one, as of 7 October 2010, considered a call and response, \"Aim high\" followed with the response, \"Fly-Fight-Win\" Each wing, group, or squadron usually has its own slogan(s). Information and logos can usually be found on the wing, group, or squadron websites.']"
            ]
          },
          "metadata": {
            "tags": []
          },
          "execution_count": 105
        }
      ]
    },
    {
      "cell_type": "code",
      "metadata": {
        "id": "wP73y2h13G8d",
        "colab_type": "code",
        "colab": {}
      },
      "source": [
        "oo=filter_paragraphs(oo)"
      ],
      "execution_count": 0,
      "outputs": []
    },
    {
      "cell_type": "code",
      "metadata": {
        "id": "_mn4-IHu3QYK",
        "colab_type": "code",
        "colab": {}
      },
      "source": [
        "from cdqa.pipeline.cdqa_sklearn import QAPipeline"
      ],
      "execution_count": 0,
      "outputs": []
    },
    {
      "cell_type": "code",
      "metadata": {
        "id": "XR1zsjJa3bVX",
        "colab_type": "code",
        "colab": {}
      },
      "source": [
        "cdqa_pipeline=QAPipeline(reader='./models/bert_qa.joblib')"
      ],
      "execution_count": 0,
      "outputs": []
    },
    {
      "cell_type": "code",
      "metadata": {
        "id": "AfKeymC83sBl",
        "colab_type": "code",
        "colab": {
          "base_uri": "https://localhost:8080/",
          "height": 335
        },
        "outputId": "960a31f4-3494-4d6f-a289-007763fcec78"
      },
      "source": [
        "cdqa_pipeline.fit_retriever(oo)"
      ],
      "execution_count": 100,
      "outputs": [
        {
          "output_type": "execute_result",
          "data": {
            "text/plain": [
              "QAPipeline(reader=BertQA(adam_epsilon=1e-08, bert_model='bert-base-uncased',\n",
              "                         do_lower_case=True, fp16=False,\n",
              "                         gradient_accumulation_steps=1, learning_rate=5e-05,\n",
              "                         local_rank=-1, loss_scale=0, max_answer_length=30,\n",
              "                         n_best_size=20, no_cuda=False,\n",
              "                         null_score_diff_threshold=0.0, num_train_epochs=3.0,\n",
              "                         output_dir=None, predict_batch_size=8, seed=42,\n",
              "                         server_ip='', server_po...size=8,\n",
              "                         verbose_logging=False, version_2_with_negative=False,\n",
              "                         warmup_proportion=0.1, warmup_steps=0),\n",
              "           retrieve_by_doc=False,\n",
              "           retriever=BM25Retriever(b=0.75, floor=None, k1=2.0, lowercase=True,\n",
              "                                   max_df=0.85, min_df=2, ngram_range=(1, 2),\n",
              "                                   preprocessor=None, stop_words='english',\n",
              "                                   token_pattern='(?u)\\\\b\\\\w\\\\w+\\\\b',\n",
              "                                   tokenizer=None, top_n=20, verbose=False,\n",
              "                                   vocabulary=None))"
            ]
          },
          "metadata": {
            "tags": []
          },
          "execution_count": 100
        }
      ]
    },
    {
      "cell_type": "code",
      "metadata": {
        "id": "W4xsrmXI5FIT",
        "colab_type": "code",
        "colab": {}
      },
      "source": [
        "query=\"What is anti-aircraft warfare?\"\n",
        "prediction=cdqa_pipeline.predict(query)"
      ],
      "execution_count": 0,
      "outputs": []
    },
    {
      "cell_type": "code",
      "metadata": {
        "id": "oFZ-tKui5X9c",
        "colab_type": "code",
        "colab": {
          "base_uri": "https://localhost:8080/",
          "height": 36
        },
        "outputId": "40a04005-f31a-4a0b-d0c7-5aaef6aa686a"
      },
      "source": [
        "prediction[0]"
      ],
      "execution_count": 102,
      "outputs": [
        {
          "output_type": "execute_result",
          "data": {
            "text/plain": [
              "'measures taken to defend a maritime force'"
            ]
          },
          "metadata": {
            "tags": []
          },
          "execution_count": 102
        }
      ]
    },
    {
      "cell_type": "code",
      "metadata": {
        "id": "WeALMTUc5jTc",
        "colab_type": "code",
        "colab": {
          "base_uri": "https://localhost:8080/",
          "height": 56
        },
        "outputId": "c85cae1d-1462-484d-ae1c-fa9e5164654b"
      },
      "source": [
        "query=\"what is Offensive Counterair\"\n",
        "prediction=cdqa_pipeline.predict(query)\n",
        "prediction[0]"
      ],
      "execution_count": 106,
      "outputs": [
        {
          "output_type": "execute_result",
          "data": {
            "text/plain": [
              "'all the defensive measures designed to detect, identify, intercept, and destroy or negate enemy forces attempting to penetrate or attack through friendly airspace'"
            ]
          },
          "metadata": {
            "tags": []
          },
          "execution_count": 106
        }
      ]
    },
    {
      "cell_type": "code",
      "metadata": {
        "id": "lSNmz3i16nIp",
        "colab_type": "code",
        "colab": {}
      },
      "source": [
        ""
      ],
      "execution_count": 0,
      "outputs": []
    }
  ]
}